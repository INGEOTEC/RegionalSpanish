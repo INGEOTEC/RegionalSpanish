{
 "cells": [
  {
   "cell_type": "code",
   "execution_count": 1,
   "metadata": {},
   "outputs": [
    {
     "name": "stderr",
     "output_type": "stream",
     "text": [
      "\u001b[32m\u001b[1m  Activating\u001b[22m\u001b[39m project at `~/Research/RegionalSpanish/notebooks`\n"
     ]
    }
   ],
   "source": [
    "using Pkg\n",
    "Pkg.activate(\".\")\n"
   ]
  },
  {
   "cell_type": "code",
   "execution_count": 2,
   "metadata": {},
   "outputs": [],
   "source": [
    "using Plots, StatsBase, CodecZlib, CSV, DataFrames, LinearAlgebra, Formatting, Latexify, JLD2\n"
   ]
  },
  {
   "cell_type": "code",
   "execution_count": 3,
   "metadata": {},
   "outputs": [
    {
     "name": "stderr",
     "output_type": "stream",
     "text": [
      "┌ Info: [\"token\", \"country_code\", \"ndocs\", \"idf\"]\n",
      "└ @ Main In[3]:2\n"
     ]
    }
   ],
   "source": [
    "VOC = CSV.read(\"../data/SpanishLang/voc.tsv.gz\", DataFrame, delim='\\t')\n",
    "@info names(VOC)"
   ]
  },
  {
   "cell_type": "code",
   "execution_count": 4,
   "metadata": {},
   "outputs": [],
   "source": [
    "#VOC |> @filter(_.token == \"cantina\") |> DataFrame\n",
    "#=\n",
    "subset(VOC, :token => t -> t .== \"zopilote\") |> display\n",
    "subset(VOC, :token => t -> t .== \"xoloescuincle\") |> display\n",
    "subset(VOC, :token => arr -> [t in (\"guajolote\", \"pavo\") for t in arr]) |> display\n",
    "=#"
   ]
  },
  {
   "cell_type": "code",
   "execution_count": 5,
   "metadata": {},
   "outputs": [
    {
     "data": {
      "text/html": [
       "<div><div style = \"float: left;\"><span>1268420×4 DataFrame</span></div><div style = \"float: right;\"><span style = \"font-style: italic;\">1268395 rows omitted</span></div><div style = \"clear: both;\"></div></div><div class = \"data-frame\" style = \"overflow-x: scroll;\"><table class = \"data-frame\" style = \"margin-bottom: 6px;\"><thead><tr class = \"header\"><th class = \"rowNumber\" style = \"font-weight: bold; text-align: right;\">Row</th><th style = \"text-align: left;\">token</th><th style = \"text-align: left;\">n_regions</th><th style = \"text-align: left;\">idf</th><th style = \"text-align: left;\">country_codes</th></tr><tr class = \"subheader headerLastRow\"><th class = \"rowNumber\" style = \"font-weight: bold; text-align: right;\"></th><th title = \"String\" style = \"text-align: left;\">String</th><th title = \"Int64\" style = \"text-align: left;\">Int64</th><th title = \"Float64\" style = \"text-align: left;\">Float64</th><th title = \"Any\" style = \"text-align: left;\">Any</th></tr></thead><tbody><tr><td class = \"rowNumber\" style = \"font-weight: bold; text-align: right;\">1</td><td style = \"text-align: left;\">!</td><td style = \"text-align: right;\">26</td><td style = \"text-align: right;\">2.69968</td><td style = \"text-align: left;\">AR,BO,BR,CA,CL,CO,CR,CU,DO,EC,ES,FR,GB,GQ,GT,HN,MX,NI,PA,PE,PR,PY,SV,US,UY,VE,ALL</td></tr><tr><td class = \"rowNumber\" style = \"font-weight: bold; text-align: right;\">2</td><td style = \"text-align: left;\">!!</td><td style = \"text-align: right;\">26</td><td style = \"text-align: right;\">3.19267</td><td style = \"text-align: left;\">AR,BO,BR,CA,CL,CO,CR,CU,DO,EC,ES,FR,GB,GQ,GT,HN,MX,NI,PA,PE,PR,PY,SV,US,UY,VE,ALL</td></tr><tr><td class = \"rowNumber\" style = \"font-weight: bold; text-align: right;\">3</td><td style = \"text-align: left;\">!!&quot;</td><td style = \"text-align: right;\">24</td><td style = \"text-align: right;\">9.63197</td><td style = \"text-align: left;\">AR,BO,BR,CA,CL,CO,CR,DO,EC,ES,FR,GB,GT,HN,MX,NI,PA,PE,PR,PY,SV,US,UY,VE,ALL</td></tr><tr><td class = \"rowNumber\" style = \"font-weight: bold; text-align: right;\">4</td><td style = \"text-align: left;\">!!#</td><td style = \"text-align: right;\">14</td><td style = \"text-align: right;\">12.7775</td><td style = \"text-align: left;\">AR,CA,CL,CO,ES,GT,MX,PA,PE,PY,SV,US,UY,VE,ALL</td></tr><tr><td class = \"rowNumber\" style = \"font-weight: bold; text-align: right;\">5</td><td style = \"text-align: left;\">!!$</td><td style = \"text-align: right;\">12</td><td style = \"text-align: right;\">13.3454</td><td style = \"text-align: left;\">AR,BR,CL,CO,EC,ES,MX,PE,PY,US,UY,VE,ALL</td></tr><tr><td class = \"rowNumber\" style = \"font-weight: bold; text-align: right;\">6</td><td style = \"text-align: left;\">!!%</td><td style = \"text-align: right;\">2</td><td style = \"text-align: right;\">16.1646</td><td style = \"text-align: left;\">AR,MX,ALL</td></tr><tr><td class = \"rowNumber\" style = \"font-weight: bold; text-align: right;\">7</td><td style = \"text-align: left;\">!!&amp;</td><td style = \"text-align: right;\">8</td><td style = \"text-align: right;\">14.4336</td><td style = \"text-align: left;\">AR,CL,CO,ES,MX,US,UY,VE,ALL</td></tr><tr><td class = \"rowNumber\" style = \"font-weight: bold; text-align: right;\">8</td><td style = \"text-align: left;\">!!&apos;</td><td style = \"text-align: right;\">24</td><td style = \"text-align: right;\">11.1774</td><td style = \"text-align: left;\">AR,BO,BR,CA,CL,CO,CR,DO,EC,ES,FR,GB,GT,HN,MX,NI,PA,PE,PR,PY,SV,US,UY,VE,ALL</td></tr><tr><td class = \"rowNumber\" style = \"font-weight: bold; text-align: right;\">9</td><td style = \"text-align: left;\">!!(</td><td style = \"text-align: right;\">21</td><td style = \"text-align: right;\">11.7663</td><td style = \"text-align: left;\">AR,BO,BR,CA,CL,CO,CR,DO,EC,ES,FR,GB,GT,MX,PA,PE,PY,SV,US,UY,VE,ALL</td></tr><tr><td class = \"rowNumber\" style = \"font-weight: bold; text-align: right;\">10</td><td style = \"text-align: left;\">!!)</td><td style = \"text-align: right;\">23</td><td style = \"text-align: right;\">10.6483</td><td style = \"text-align: left;\">AR,BO,BR,CA,CL,CO,CR,DO,EC,ES,FR,GB,GT,HN,MX,NI,PA,PE,PY,SV,US,UY,VE,ALL</td></tr><tr><td class = \"rowNumber\" style = \"font-weight: bold; text-align: right;\">11</td><td style = \"text-align: left;\">!!*</td><td style = \"text-align: right;\">18</td><td style = \"text-align: right;\">12.0275</td><td style = \"text-align: left;\">AR,BR,CL,CO,CR,DO,EC,ES,GT,HN,MX,PA,PE,PY,SV,US,UY,VE,ALL</td></tr><tr><td class = \"rowNumber\" style = \"font-weight: bold; text-align: right;\">12</td><td style = \"text-align: left;\">!!+</td><td style = \"text-align: right;\">14</td><td style = \"text-align: right;\">12.8268</td><td style = \"text-align: left;\">AR,BR,CL,CO,EC,ES,GT,HN,MX,PE,PY,US,UY,VE,ALL</td></tr><tr><td class = \"rowNumber\" style = \"font-weight: bold; text-align: right;\">13</td><td style = \"text-align: left;\">!!,</td><td style = \"text-align: right;\">25</td><td style = \"text-align: right;\">8.72965</td><td style = \"text-align: left;\">AR,BO,BR,CA,CL,CO,CR,CU,DO,EC,ES,FR,GB,GT,HN,MX,NI,PA,PE,PR,PY,SV,US,UY,VE,ALL</td></tr><tr><td style = \"text-align: right;\">&vellip;</td><td style = \"text-align: right;\">&vellip;</td><td style = \"text-align: right;\">&vellip;</td><td style = \"text-align: right;\">&vellip;</td><td style = \"text-align: right;\">&vellip;</td></tr><tr><td class = \"rowNumber\" style = \"font-weight: bold; text-align: right;\">1268409</td><td style = \"text-align: left;\">\\Ufe835</td><td style = \"text-align: right;\">1</td><td style = \"text-align: right;\">16.1609</td><td style = \"text-align: left;\">ES,ALL</td></tr><tr><td class = \"rowNumber\" style = \"font-weight: bold; text-align: right;\">1268410</td><td style = \"text-align: left;\">\\Ufe836</td><td style = \"text-align: right;\">1</td><td style = \"text-align: right;\">15.9087</td><td style = \"text-align: left;\">AR,ALL</td></tr><tr><td class = \"rowNumber\" style = \"font-weight: bold; text-align: right;\">1268411</td><td style = \"text-align: left;\">\\Ufe836\\Ufe82e\\Ufe82e</td><td style = \"text-align: right;\">1</td><td style = \"text-align: right;\">16.0458</td><td style = \"text-align: left;\">MX,ALL</td></tr><tr><td class = \"rowNumber\" style = \"font-weight: bold; text-align: right;\">1268412</td><td style = \"text-align: left;\">\\Ufe837</td><td style = \"text-align: right;\">1</td><td style = \"text-align: right;\">15.9087</td><td style = \"text-align: left;\">AR,ALL</td></tr><tr><td class = \"rowNumber\" style = \"font-weight: bold; text-align: right;\">1268413</td><td style = \"text-align: left;\">\\Ufeb9d</td><td style = \"text-align: right;\">1</td><td style = \"text-align: right;\">14.7465</td><td style = \"text-align: left;\">MX,ALL</td></tr><tr><td class = \"rowNumber\" style = \"font-weight: bold; text-align: right;\">1268414</td><td style = \"text-align: left;\">\\Ufeb9e</td><td style = \"text-align: right;\">1</td><td style = \"text-align: right;\">16.6019</td><td style = \"text-align: left;\">AR,ALL</td></tr><tr><td class = \"rowNumber\" style = \"font-weight: bold; text-align: right;\">1268415</td><td style = \"text-align: left;\">\\Ufeb9f</td><td style = \"text-align: right;\">1</td><td style = \"text-align: right;\">15.6856</td><td style = \"text-align: left;\">AR,ALL</td></tr><tr><td class = \"rowNumber\" style = \"font-weight: bold; text-align: right;\">1268416</td><td style = \"text-align: left;\">\\Ufeb9f\\Ufeb0f</td><td style = \"text-align: right;\">1</td><td style = \"text-align: right;\">13.4187</td><td style = \"text-align: left;\">MX,ALL</td></tr><tr><td class = \"rowNumber\" style = \"font-weight: bold; text-align: right;\">1268417</td><td style = \"text-align: left;\">\\Ufeba0</td><td style = \"text-align: right;\">1</td><td style = \"text-align: right;\">16.8895</td><td style = \"text-align: left;\">AR,ALL</td></tr><tr><td class = \"rowNumber\" style = \"font-weight: bold; text-align: right;\">1268418</td><td style = \"text-align: left;\">\\Ufec1b\\Ufeb12</td><td style = \"text-align: right;\">1</td><td style = \"text-align: right;\">16.8895</td><td style = \"text-align: left;\">AR,ALL</td></tr><tr><td class = \"rowNumber\" style = \"font-weight: bold; text-align: right;\">1268419</td><td style = \"text-align: left;\">\\U10ec51𘁨ttps</td><td style = \"text-align: right;\">1</td><td style = \"text-align: right;\">14.7399</td><td style = \"text-align: left;\">VE,ALL</td></tr><tr><td class = \"rowNumber\" style = \"font-weight: bold; text-align: right;\">1268420</td><td style = \"text-align: left;\">\\U10f83d\\U2f03c\\U0010f864ejo</td><td style = \"text-align: right;\">1</td><td style = \"text-align: right;\">15.6368</td><td style = \"text-align: left;\">AR,ALL</td></tr></tbody></table></div>"
      ],
      "text/latex": [
       "\\begin{tabular}{r|cccc}\n",
       "\t& token & n\\_regions & idf & country\\_codes\\\\\n",
       "\t\\hline\n",
       "\t& String & Int64 & Float64 & Any\\\\\n",
       "\t\\hline\n",
       "\t1 & ! & 26 & 2.69968 & AR,BO,BR,CA,CL,CO,CR,CU,DO,EC,ES,FR,GB,GQ,GT,HN,MX,NI,PA,PE,PR,PY,SV,US,UY,VE,ALL \\\\\n",
       "\t2 & !! & 26 & 3.19267 & AR,BO,BR,CA,CL,CO,CR,CU,DO,EC,ES,FR,GB,GQ,GT,HN,MX,NI,PA,PE,PR,PY,SV,US,UY,VE,ALL \\\\\n",
       "\t3 & !!\" & 24 & 9.63197 & AR,BO,BR,CA,CL,CO,CR,DO,EC,ES,FR,GB,GT,HN,MX,NI,PA,PE,PR,PY,SV,US,UY,VE,ALL \\\\\n",
       "\t4 & !!\\# & 14 & 12.7775 & AR,CA,CL,CO,ES,GT,MX,PA,PE,PY,SV,US,UY,VE,ALL \\\\\n",
       "\t5 & !!\\$ & 12 & 13.3454 & AR,BR,CL,CO,EC,ES,MX,PE,PY,US,UY,VE,ALL \\\\\n",
       "\t6 & !!\\% & 2 & 16.1646 & AR,MX,ALL \\\\\n",
       "\t7 & !!\\& & 8 & 14.4336 & AR,CL,CO,ES,MX,US,UY,VE,ALL \\\\\n",
       "\t8 & !!' & 24 & 11.1774 & AR,BO,BR,CA,CL,CO,CR,DO,EC,ES,FR,GB,GT,HN,MX,NI,PA,PE,PR,PY,SV,US,UY,VE,ALL \\\\\n",
       "\t9 & !!( & 21 & 11.7663 & AR,BO,BR,CA,CL,CO,CR,DO,EC,ES,FR,GB,GT,MX,PA,PE,PY,SV,US,UY,VE,ALL \\\\\n",
       "\t10 & !!) & 23 & 10.6483 & AR,BO,BR,CA,CL,CO,CR,DO,EC,ES,FR,GB,GT,HN,MX,NI,PA,PE,PY,SV,US,UY,VE,ALL \\\\\n",
       "\t11 & !!* & 18 & 12.0275 & AR,BR,CL,CO,CR,DO,EC,ES,GT,HN,MX,PA,PE,PY,SV,US,UY,VE,ALL \\\\\n",
       "\t12 & !!+ & 14 & 12.8268 & AR,BR,CL,CO,EC,ES,GT,HN,MX,PE,PY,US,UY,VE,ALL \\\\\n",
       "\t13 & !!, & 25 & 8.72965 & AR,BO,BR,CA,CL,CO,CR,CU,DO,EC,ES,FR,GB,GT,HN,MX,NI,PA,PE,PR,PY,SV,US,UY,VE,ALL \\\\\n",
       "\t14 & !!- & 17 & 12.3213 & AR,BR,CL,CO,CR,DO,EC,ES,GT,HN,MX,PA,PE,PY,US,UY,VE,ALL \\\\\n",
       "\t15 & !!. & 25 & 7.8998 & AR,BO,BR,CA,CL,CO,CR,CU,DO,EC,ES,FR,GB,GT,HN,MX,NI,PA,PE,PR,PY,SV,US,UY,VE,ALL \\\\\n",
       "\t16 & !!/ & 12 & 12.9222 & AR,BR,CL,CO,EC,ES,MX,PE,PY,US,UY,VE,ALL \\\\\n",
       "\t17 & !!: & 21 & 11.6438 & AR,BR,CA,CL,CO,CR,DO,EC,ES,FR,GB,GT,MX,NI,PA,PE,PY,SV,US,UY,VE,ALL \\\\\n",
       "\t18 & !!; & 21 & 11.6152 & AR,BO,BR,CA,CL,CO,CR,DO,EC,ES,FR,GB,GT,MX,PA,PE,PY,SV,US,UY,VE,ALL \\\\\n",
       "\t19 & !!< & 12 & 12.8177 & AR,CL,CO,CR,EC,ES,GB,MX,PE,US,UY,VE,ALL \\\\\n",
       "\t20 & !!> & 6 & 14.1802 & AR,CL,ES,MX,US,VE,ALL \\\\\n",
       "\t21 & !!? & 25 & 8.59713 & AR,BO,BR,CA,CL,CO,CR,CU,DO,EC,ES,FR,GB,GT,HN,MX,NI,PA,PE,PR,PY,SV,US,UY,VE,ALL \\\\\n",
       "\t22 & !!@ & 15 & 12.5791 & AR,BR,CL,CO,CR,EC,ES,FR,GB,MX,PE,PY,US,UY,VE,ALL \\\\\n",
       "\t23 & !![ & 3 & 15.6093 & AR,MX,VE,ALL \\\\\n",
       "\t24 & !!\\textbackslash{}\\textbackslash{} & 1 & 15.1312 & CL,ALL \\\\\n",
       "\t25 & !!] & 3 & 15.0047 & AR,CL,ES,ALL \\\\\n",
       "\t26 & !!\\^ & 6 & 13.8535 & AR,CL,CO,ES,MX,US,ALL \\\\\n",
       "\t27 & !!| & 4 & 15.583 & AR,ES,MX,VE,ALL \\\\\n",
       "\t28 & !!\\} & 3 & 15.5208 & AR,CL,MX,ALL \\\\\n",
       "\t29 & !!\\textasciitilde{} & 8 & 14.3523 & AR,CL,CO,ES,MX,PE,US,VE,ALL \\\\\n",
       "\t30 & !!¡ & 23 & 10.7129 & AR,BO,BR,CA,CL,CO,CR,DO,EC,ES,FR,GB,GT,HN,MX,NI,PA,PE,PY,SV,US,UY,VE,ALL \\\\\n",
       "\t$\\dots$ & $\\dots$ & $\\dots$ & $\\dots$ & $\\dots$ \\\\\n",
       "\\end{tabular}\n"
      ],
      "text/plain": [
       "\u001b[1m1268420×4 DataFrame\u001b[0m\n",
       "\u001b[1m     Row \u001b[0m│\u001b[1m token                        \u001b[0m\u001b[1m n_regions \u001b[0m\u001b[1m idf      \u001b[0m\u001b[1m country_codes   \u001b[0m ⋯\n",
       "         │\u001b[90m String                       \u001b[0m\u001b[90m Int64     \u001b[0m\u001b[90m Float64  \u001b[0m\u001b[90m Any             \u001b[0m ⋯\n",
       "─────────┼──────────────────────────────────────────────────────────────────────\n",
       "       1 │ !                                    26   2.69968  AR,BO,BR,CA,CL,C ⋯\n",
       "       2 │ !!                                   26   3.19267  AR,BO,BR,CA,CL,C\n",
       "       3 │ !!\"                                  24   9.63197  AR,BO,BR,CA,CL,C\n",
       "       4 │ !!#                                  14  12.7775   AR,CA,CL,CO,ES,G\n",
       "       5 │ !!$                                  12  13.3454   AR,BR,CL,CO,EC,E ⋯\n",
       "       6 │ !!%                                   2  16.1646   AR,MX,ALL\n",
       "       7 │ !!&                                   8  14.4336   AR,CL,CO,ES,MX,U\n",
       "       8 │ !!'                                  24  11.1774   AR,BO,BR,CA,CL,C\n",
       "       9 │ !!(                                  21  11.7663   AR,BO,BR,CA,CL,C ⋯\n",
       "      10 │ !!)                                  23  10.6483   AR,BO,BR,CA,CL,C\n",
       "      11 │ !!*                                  18  12.0275   AR,BR,CL,CO,CR,D\n",
       "    ⋮    │              ⋮                    ⋮         ⋮                       ⋱\n",
       " 1268411 │ \\Ufe836\\Ufe82e\\Ufe82e                 1  16.0458   MX,ALL\n",
       " 1268412 │ \\Ufe837                               1  15.9087   AR,ALL           ⋯\n",
       " 1268413 │ \\Ufeb9d                               1  14.7465   MX,ALL\n",
       " 1268414 │ \\Ufeb9e                               1  16.6019   AR,ALL\n",
       " 1268415 │ \\Ufeb9f                               1  15.6856   AR,ALL\n",
       " 1268416 │ \\Ufeb9f\\Ufeb0f                        1  13.4187   MX,ALL           ⋯\n",
       " 1268417 │ \\Ufeba0                               1  16.8895   AR,ALL\n",
       " 1268418 │ \\Ufec1b\\Ufeb12                        1  16.8895   AR,ALL\n",
       " 1268419 │ \\U10ec51𘁨ttps                        1  14.7399   VE,ALL\n",
       " 1268420 │ \\U10f83d\\U2f03c\\U0010f864ejo          1  15.6368   AR,ALL           ⋯\n",
       "\u001b[36m                                               1 column and 1268399 rows omitted\u001b[0m"
      ]
     },
     "execution_count": 5,
     "metadata": {},
     "output_type": "execute_result"
    }
   ],
   "source": [
    "common = DataFrame(token=String[], n_regions=Int[], idf=Float64[], country_codes=[])\n",
    "\n",
    "for g in groupby(VOC, :token)\n",
    "    n_regions = length(g.token) - 1\n",
    "    idf = sum(row.idf for row in eachrow(g) if row.country_code != \"ALL\") / n_regions\n",
    "    regions = join(g.country_code, ',')\n",
    "    push!(common, (first(g.token), n_regions, idf, regions))\n",
    "end\n",
    "\n",
    "open(\"../data/SpanishLang/common-tokens-per-region.tsv.gz\", \"w\") do f\n",
    "    gz = GzipCompressorStream(f)\n",
    "    CSV.write(gz, common, delim='\\t')\n",
    "    close(gz)\n",
    "end\n",
    "\n",
    "common"
   ]
  },
  {
   "cell_type": "code",
   "execution_count": 6,
   "metadata": {},
   "outputs": [],
   "source": [
    "X = [1]\n",
    "Y = [size(common, 1)]\n",
    "\n",
    "C = common\n",
    "\n",
    "for min_count in 2:26\n",
    "    C = subset(C, :n_regions => c -> c .> min_count)\n",
    "    push!(X, min_count)\n",
    "    push!(Y, size(C, 1))\n",
    "end\n"
   ]
  },
  {
   "cell_type": "code",
   "execution_count": 7,
   "metadata": {},
   "outputs": [
    {
     "name": "stderr",
     "output_type": "stream",
     "text": [
      "┌ Info: [(1, 1268420), (2, 379143), (3, 302612), (4, 253685), (5, 218203), (6, 190432), (7, 167613), (8, 148445), (9, 131798), (10, 117963), (11, 105880), (12, 95728), (13, 86902), (14, 79079), (15, 72110), (16, 65710), (17, 59680), (18, 53992), (19, 48822), (20, 43609), (21, 38319), (22, 31882), (23, 20811), (24, 11718), (25, 1056), (26, 0)]\n",
      "└ @ Main In[7]:1\n",
      "┌ Warning: Skipped marker arg o.\n",
      "└ @ Plots /home/sadit/.julia/packages/Plots/gzYVM/src/args.jl:1206\n"
     ]
    },
    {
     "data": {
      "image/png": "[encoded data removed]"
     },
     "execution_count": 7,
     "metadata": {},
     "output_type": "execute_result"
    }
   ],
   "source": [
    "@info collect(zip(X, Y))\n",
    "plot(X, Y, ylabel=\"common tokens\", xlabel=\"# regions\", m='o', label=\"\")\n",
    "savefig(\"../figs/fig-common-tokens-per-region.pdf\")\n",
    "savefig(\"../figs/fig-common-tokens-per-region.png\")\n",
    "plot!(fmt=:png, xticks=:all)"
   ]
  },
  {
   "cell_type": "code",
   "execution_count": null,
   "metadata": {},
   "outputs": [],
   "source": []
  },
  {
   "cell_type": "code",
   "execution_count": 8,
   "metadata": {},
   "outputs": [
    {
     "data": {
      "text/html": [
       "<div><div style = \"float: left;\"><span>10×4 DataFrame</span></div><div style = \"clear: both;\"></div></div><div class = \"data-frame\" style = \"overflow-x: scroll;\"><table class = \"data-frame\" style = \"margin-bottom: 6px;\"><thead><tr class = \"header\"><th class = \"rowNumber\" style = \"font-weight: bold; text-align: right;\">Row</th><th style = \"text-align: left;\">token</th><th style = \"text-align: left;\">n_regions</th><th style = \"text-align: left;\">idf</th><th style = \"text-align: left;\">country_codes</th></tr><tr class = \"subheader headerLastRow\"><th class = \"rowNumber\" style = \"font-weight: bold; text-align: right;\"></th><th title = \"String\" style = \"text-align: left;\">String</th><th title = \"Int64\" style = \"text-align: left;\">Int64</th><th title = \"Float64\" style = \"text-align: left;\">Float64</th><th title = \"Any\" style = \"text-align: left;\">Any</th></tr></thead><tbody><tr><td class = \"rowNumber\" style = \"font-weight: bold; text-align: right;\">1</td><td style = \"text-align: left;\">!</td><td style = \"text-align: right;\">26</td><td style = \"text-align: right;\">2.69968</td><td style = \"text-align: left;\">AR,BO,BR,CA,CL,CO,CR,CU,DO,EC,ES,FR,GB,GQ,GT,HN,MX,NI,PA,PE,PR,PY,SV,US,UY,VE,ALL</td></tr><tr><td class = \"rowNumber\" style = \"font-weight: bold; text-align: right;\">2</td><td style = \"text-align: left;\">!!</td><td style = \"text-align: right;\">26</td><td style = \"text-align: right;\">3.19267</td><td style = \"text-align: left;\">AR,BO,BR,CA,CL,CO,CR,CU,DO,EC,ES,FR,GB,GQ,GT,HN,MX,NI,PA,PE,PR,PY,SV,US,UY,VE,ALL</td></tr><tr><td class = \"rowNumber\" style = \"font-weight: bold; text-align: right;\">3</td><td style = \"text-align: left;\">&quot;</td><td style = \"text-align: right;\">26</td><td style = \"text-align: right;\">3.28405</td><td style = \"text-align: left;\">AR,BO,BR,CA,CL,CO,CR,CU,DO,EC,ES,FR,GB,GQ,GT,HN,MX,NI,PA,PE,PR,PY,SV,US,UY,VE,ALL</td></tr><tr><td class = \"rowNumber\" style = \"font-weight: bold; text-align: right;\">4</td><td style = \"text-align: left;\">&quot;,</td><td style = \"text-align: right;\">26</td><td style = \"text-align: right;\">6.05476</td><td style = \"text-align: left;\">AR,BO,BR,CA,CL,CO,CR,CU,DO,EC,ES,FR,GB,GQ,GT,HN,MX,NI,PA,PE,PR,PY,SV,US,UY,VE,ALL</td></tr><tr><td class = \"rowNumber\" style = \"font-weight: bold; text-align: right;\">5</td><td style = \"text-align: left;\">&quot;.</td><td style = \"text-align: right;\">26</td><td style = \"text-align: right;\">5.48773</td><td style = \"text-align: left;\">AR,BO,BR,CA,CL,CO,CR,CU,DO,EC,ES,FR,GB,GQ,GT,HN,MX,NI,PA,PE,PR,PY,SV,US,UY,VE,ALL</td></tr><tr><td class = \"rowNumber\" style = \"font-weight: bold; text-align: right;\">6</td><td style = \"text-align: left;\">&quot;..</td><td style = \"text-align: right;\">26</td><td style = \"text-align: right;\">7.0065</td><td style = \"text-align: left;\">AR,BO,BR,CA,CL,CO,CR,CU,DO,EC,ES,FR,GB,GQ,GT,HN,MX,NI,PA,PE,PR,PY,SV,US,UY,VE,ALL</td></tr><tr><td class = \"rowNumber\" style = \"font-weight: bold; text-align: right;\">7</td><td style = \"text-align: left;\">&quot;?</td><td style = \"text-align: right;\">26</td><td style = \"text-align: right;\">7.59475</td><td style = \"text-align: left;\">AR,BO,BR,CA,CL,CO,CR,CU,DO,EC,ES,FR,GB,GQ,GT,HN,MX,NI,PA,PE,PR,PY,SV,US,UY,VE,ALL</td></tr><tr><td class = \"rowNumber\" style = \"font-weight: bold; text-align: right;\">8</td><td style = \"text-align: left;\">%</td><td style = \"text-align: right;\">26</td><td style = \"text-align: right;\">5.45701</td><td style = \"text-align: left;\">AR,BO,BR,CA,CL,CO,CR,CU,DO,EC,ES,FR,GB,GQ,GT,HN,MX,NI,PA,PE,PR,PY,SV,US,UY,VE,ALL</td></tr><tr><td class = \"rowNumber\" style = \"font-weight: bold; text-align: right;\">9</td><td style = \"text-align: left;\">&amp;</td><td style = \"text-align: right;\">26</td><td style = \"text-align: right;\">6.37904</td><td style = \"text-align: left;\">AR,BO,BR,CA,CL,CO,CR,CU,DO,EC,ES,FR,GB,GQ,GT,HN,MX,NI,PA,PE,PR,PY,SV,US,UY,VE,ALL</td></tr><tr><td class = \"rowNumber\" style = \"font-weight: bold; text-align: right;\">10</td><td style = \"text-align: left;\">&apos;</td><td style = \"text-align: right;\">26</td><td style = \"text-align: right;\">4.82253</td><td style = \"text-align: left;\">AR,BO,BR,CA,CL,CO,CR,CU,DO,EC,ES,FR,GB,GQ,GT,HN,MX,NI,PA,PE,PR,PY,SV,US,UY,VE,ALL</td></tr></tbody></table></div>"
      ],
      "text/latex": [
       "\\begin{tabular}{r|cccc}\n",
       "\t& token & n\\_regions & idf & country\\_codes\\\\\n",
       "\t\\hline\n",
       "\t& String & Int64 & Float64 & Any\\\\\n",
       "\t\\hline\n",
       "\t1 & ! & 26 & 2.69968 & AR,BO,BR,CA,CL,CO,CR,CU,DO,EC,ES,FR,GB,GQ,GT,HN,MX,NI,PA,PE,PR,PY,SV,US,UY,VE,ALL \\\\\n",
       "\t2 & !! & 26 & 3.19267 & AR,BO,BR,CA,CL,CO,CR,CU,DO,EC,ES,FR,GB,GQ,GT,HN,MX,NI,PA,PE,PR,PY,SV,US,UY,VE,ALL \\\\\n",
       "\t3 & \" & 26 & 3.28405 & AR,BO,BR,CA,CL,CO,CR,CU,DO,EC,ES,FR,GB,GQ,GT,HN,MX,NI,PA,PE,PR,PY,SV,US,UY,VE,ALL \\\\\n",
       "\t4 & \", & 26 & 6.05476 & AR,BO,BR,CA,CL,CO,CR,CU,DO,EC,ES,FR,GB,GQ,GT,HN,MX,NI,PA,PE,PR,PY,SV,US,UY,VE,ALL \\\\\n",
       "\t5 & \". & 26 & 5.48773 & AR,BO,BR,CA,CL,CO,CR,CU,DO,EC,ES,FR,GB,GQ,GT,HN,MX,NI,PA,PE,PR,PY,SV,US,UY,VE,ALL \\\\\n",
       "\t6 & \".. & 26 & 7.0065 & AR,BO,BR,CA,CL,CO,CR,CU,DO,EC,ES,FR,GB,GQ,GT,HN,MX,NI,PA,PE,PR,PY,SV,US,UY,VE,ALL \\\\\n",
       "\t7 & \"? & 26 & 7.59475 & AR,BO,BR,CA,CL,CO,CR,CU,DO,EC,ES,FR,GB,GQ,GT,HN,MX,NI,PA,PE,PR,PY,SV,US,UY,VE,ALL \\\\\n",
       "\t8 & \\% & 26 & 5.45701 & AR,BO,BR,CA,CL,CO,CR,CU,DO,EC,ES,FR,GB,GQ,GT,HN,MX,NI,PA,PE,PR,PY,SV,US,UY,VE,ALL \\\\\n",
       "\t9 & \\& & 26 & 6.37904 & AR,BO,BR,CA,CL,CO,CR,CU,DO,EC,ES,FR,GB,GQ,GT,HN,MX,NI,PA,PE,PR,PY,SV,US,UY,VE,ALL \\\\\n",
       "\t10 & ' & 26 & 4.82253 & AR,BO,BR,CA,CL,CO,CR,CU,DO,EC,ES,FR,GB,GQ,GT,HN,MX,NI,PA,PE,PR,PY,SV,US,UY,VE,ALL \\\\\n",
       "\\end{tabular}\n"
      ],
      "text/plain": [
       "\u001b[1m10×4 DataFrame\u001b[0m\n",
       "\u001b[1m Row \u001b[0m│\u001b[1m token  \u001b[0m\u001b[1m n_regions \u001b[0m\u001b[1m idf     \u001b[0m\u001b[1m country_codes                     \u001b[0m\n",
       "     │\u001b[90m String \u001b[0m\u001b[90m Int64     \u001b[0m\u001b[90m Float64 \u001b[0m\u001b[90m Any                               \u001b[0m\n",
       "─────┼───────────────────────────────────────────────────────────────\n",
       "   1 │ !              26  2.69968  AR,BO,BR,CA,CL,CO,CR,CU,DO,EC,ES…\n",
       "   2 │ !!             26  3.19267  AR,BO,BR,CA,CL,CO,CR,CU,DO,EC,ES…\n",
       "   3 │ \"              26  3.28405  AR,BO,BR,CA,CL,CO,CR,CU,DO,EC,ES…\n",
       "   4 │ \",             26  6.05476  AR,BO,BR,CA,CL,CO,CR,CU,DO,EC,ES…\n",
       "   5 │ \".             26  5.48773  AR,BO,BR,CA,CL,CO,CR,CU,DO,EC,ES…\n",
       "   6 │ \"..            26  7.0065   AR,BO,BR,CA,CL,CO,CR,CU,DO,EC,ES…\n",
       "   7 │ \"?             26  7.59475  AR,BO,BR,CA,CL,CO,CR,CU,DO,EC,ES…\n",
       "   8 │ %              26  5.45701  AR,BO,BR,CA,CL,CO,CR,CU,DO,EC,ES…\n",
       "   9 │ &              26  6.37904  AR,BO,BR,CA,CL,CO,CR,CU,DO,EC,ES…\n",
       "  10 │ '              26  4.82253  AR,BO,BR,CA,CL,CO,CR,CU,DO,EC,ES…"
      ]
     },
     "metadata": {},
     "output_type": "display_data"
    },
    {
     "data": {
      "text/html": [
       "<div><div style = \"float: left;\"><span>10×4 DataFrame</span></div><div style = \"clear: both;\"></div></div><div class = \"data-frame\" style = \"overflow-x: scroll;\"><table class = \"data-frame\" style = \"margin-bottom: 6px;\"><thead><tr class = \"header\"><th class = \"rowNumber\" style = \"font-weight: bold; text-align: right;\">Row</th><th style = \"text-align: left;\">token</th><th style = \"text-align: left;\">n_regions</th><th style = \"text-align: left;\">idf</th><th style = \"text-align: left;\">country_codes</th></tr><tr class = \"subheader headerLastRow\"><th class = \"rowNumber\" style = \"font-weight: bold; text-align: right;\"></th><th title = \"String\" style = \"text-align: left;\">String</th><th title = \"Int64\" style = \"text-align: left;\">Int64</th><th title = \"Float64\" style = \"text-align: left;\">Float64</th><th title = \"Any\" style = \"text-align: left;\">Any</th></tr></thead><tbody><tr><td class = \"rowNumber\" style = \"font-weight: bold; text-align: right;\">1</td><td style = \"text-align: left;\">🕋</td><td style = \"text-align: right;\">10</td><td style = \"text-align: right;\">13.6664</td><td style = \"text-align: left;\">AR,CL,CO,EC,ES,HN,MX,PE,US,VE,ALL</td></tr><tr><td class = \"rowNumber\" style = \"font-weight: bold; text-align: right;\">2</td><td style = \"text-align: left;\">🖨</td><td style = \"text-align: right;\">10</td><td style = \"text-align: right;\">13.4959</td><td style = \"text-align: left;\">AR,CL,CO,EC,ES,GT,MX,PE,US,VE,ALL</td></tr><tr><td class = \"rowNumber\" style = \"font-weight: bold; text-align: right;\">3</td><td style = \"text-align: left;\">🖲</td><td style = \"text-align: right;\">10</td><td style = \"text-align: right;\">14.2037</td><td style = \"text-align: left;\">AR,CL,CO,EC,ES,MX,PE,US,UY,VE,ALL</td></tr><tr><td class = \"rowNumber\" style = \"font-weight: bold; text-align: right;\">4</td><td style = \"text-align: left;\">🗄</td><td style = \"text-align: right;\">10</td><td style = \"text-align: right;\">14.0817</td><td style = \"text-align: left;\">AR,CL,CO,EC,ES,HN,MX,PY,US,UY,ALL</td></tr><tr><td class = \"rowNumber\" style = \"font-weight: bold; text-align: right;\">5</td><td style = \"text-align: left;\">🛅</td><td style = \"text-align: right;\">10</td><td style = \"text-align: right;\">13.9273</td><td style = \"text-align: left;\">AR,BR,CL,CO,DO,EC,ES,MX,PE,US,ALL</td></tr><tr><td class = \"rowNumber\" style = \"font-weight: bold; text-align: right;\">6</td><td style = \"text-align: left;\">🥠</td><td style = \"text-align: right;\">10</td><td style = \"text-align: right;\">13.9888</td><td style = \"text-align: left;\">AR,CL,CO,CR,ES,MX,PA,PE,US,VE,ALL</td></tr><tr><td class = \"rowNumber\" style = \"font-weight: bold; text-align: right;\">7</td><td style = \"text-align: left;\">🥼</td><td style = \"text-align: right;\">10</td><td style = \"text-align: right;\">13.9269</td><td style = \"text-align: left;\">AR,CO,CR,EC,ES,HN,MX,US,UY,VE,ALL</td></tr><tr><td class = \"rowNumber\" style = \"font-weight: bold; text-align: right;\">8</td><td style = \"text-align: left;\">🥾</td><td style = \"text-align: right;\">10</td><td style = \"text-align: right;\">13.5012</td><td style = \"text-align: left;\">AR,BO,CL,CO,EC,ES,MX,PE,SV,US,ALL</td></tr><tr><td class = \"rowNumber\" style = \"font-weight: bold; text-align: right;\">9</td><td style = \"text-align: left;\">🧕</td><td style = \"text-align: right;\">10</td><td style = \"text-align: right;\">13.5994</td><td style = \"text-align: left;\">AR,CL,CO,ES,MX,PA,PE,US,UY,VE,ALL</td></tr><tr><td class = \"rowNumber\" style = \"font-weight: bold; text-align: right;\">10</td><td style = \"text-align: left;\">🧮</td><td style = \"text-align: right;\">10</td><td style = \"text-align: right;\">14.1397</td><td style = \"text-align: left;\">AR,CL,CO,EC,ES,MX,PA,PY,US,UY,ALL</td></tr></tbody></table></div>"
      ],
      "text/latex": [
       "\\begin{tabular}{r|cccc}\n",
       "\t& token & n\\_regions & idf & country\\_codes\\\\\n",
       "\t\\hline\n",
       "\t& String & Int64 & Float64 & Any\\\\\n",
       "\t\\hline\n",
       "\t1 & 🕋 & 10 & 13.6664 & AR,CL,CO,EC,ES,HN,MX,PE,US,VE,ALL \\\\\n",
       "\t2 & 🖨 & 10 & 13.4959 & AR,CL,CO,EC,ES,GT,MX,PE,US,VE,ALL \\\\\n",
       "\t3 & 🖲 & 10 & 14.2037 & AR,CL,CO,EC,ES,MX,PE,US,UY,VE,ALL \\\\\n",
       "\t4 & 🗄 & 10 & 14.0817 & AR,CL,CO,EC,ES,HN,MX,PY,US,UY,ALL \\\\\n",
       "\t5 & 🛅 & 10 & 13.9273 & AR,BR,CL,CO,DO,EC,ES,MX,PE,US,ALL \\\\\n",
       "\t6 & 🥠 & 10 & 13.9888 & AR,CL,CO,CR,ES,MX,PA,PE,US,VE,ALL \\\\\n",
       "\t7 & 🥼 & 10 & 13.9269 & AR,CO,CR,EC,ES,HN,MX,US,UY,VE,ALL \\\\\n",
       "\t8 & 🥾 & 10 & 13.5012 & AR,BO,CL,CO,EC,ES,MX,PE,SV,US,ALL \\\\\n",
       "\t9 & 🧕 & 10 & 13.5994 & AR,CL,CO,ES,MX,PA,PE,US,UY,VE,ALL \\\\\n",
       "\t10 & 🧮 & 10 & 14.1397 & AR,CL,CO,EC,ES,MX,PA,PY,US,UY,ALL \\\\\n",
       "\\end{tabular}\n"
      ],
      "text/plain": [
       "\u001b[1m10×4 DataFrame\u001b[0m\n",
       "\u001b[1m Row \u001b[0m│\u001b[1m token  \u001b[0m\u001b[1m n_regions \u001b[0m\u001b[1m idf     \u001b[0m\u001b[1m country_codes                     \u001b[0m\n",
       "     │\u001b[90m String \u001b[0m\u001b[90m Int64     \u001b[0m\u001b[90m Float64 \u001b[0m\u001b[90m Any                               \u001b[0m\n",
       "─────┼───────────────────────────────────────────────────────────────\n",
       "   1 │ 🕋             10  13.6664  AR,CL,CO,EC,ES,HN,MX,PE,US,VE,ALL\n",
       "   2 │ 🖨              10  13.4959  AR,CL,CO,EC,ES,GT,MX,PE,US,VE,ALL\n",
       "   3 │ 🖲              10  14.2037  AR,CL,CO,EC,ES,MX,PE,US,UY,VE,ALL\n",
       "   4 │ 🗄              10  14.0817  AR,CL,CO,EC,ES,HN,MX,PY,US,UY,ALL\n",
       "   5 │ 🛅             10  13.9273  AR,BR,CL,CO,DO,EC,ES,MX,PE,US,ALL\n",
       "   6 │ 🥠             10  13.9888  AR,CL,CO,CR,ES,MX,PA,PE,US,VE,ALL\n",
       "   7 │ 🥼             10  13.9269  AR,CO,CR,EC,ES,HN,MX,US,UY,VE,ALL\n",
       "   8 │ 🥾             10  13.5012  AR,BO,CL,CO,EC,ES,MX,PE,SV,US,ALL\n",
       "   9 │ 🧕             10  13.5994  AR,CL,CO,ES,MX,PA,PE,US,UY,VE,ALL\n",
       "  10 │ 🧮             10  14.1397  AR,CL,CO,EC,ES,MX,PA,PY,US,UY,ALL"
      ]
     },
     "metadata": {},
     "output_type": "display_data"
    }
   ],
   "source": [
    "C = subset(common, :n_regions => c -> c .>= 10)\n",
    "sort!(C, :n_regions, by=last, rev=true)\n",
    "first(C, 10) |> display\n",
    "last(C, 10) |> display"
   ]
  }
 ],
 "metadata": {
  "kernelspec": {
   "display_name": "Julia 1.8.0",
   "language": "julia",
   "name": "julia-1.8"
  },
  "language_info": {
   "file_extension": ".jl",
   "mimetype": "application/julia",
   "name": "julia",
   "version": "1.8.0"
  }
 },
 "nbformat": 4,
 "nbformat_minor": 4
}
