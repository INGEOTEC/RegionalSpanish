{
 "cells": [
  {
   "cell_type": "code",
   "execution_count": 1,
   "metadata": {},
   "outputs": [
    {
     "name": "stderr",
     "output_type": "stream",
     "text": [
      "\u001b[32m\u001b[1m  Activating\u001b[22m\u001b[39m project at `~/Research/RegionalSpanish/notebooks`\n"
     ]
    }
   ],
   "source": [
    "using Pkg\n",
    "Pkg.activate(\".\")\n",
    "using Plots, StatsBase, CodecZlib, CSV, DataFrames, LinearAlgebra, TextSearch, Formatting, Latexify, UMAP, SimilaritySearch, JLD2\n"
   ]
  },
  {
   "cell_type": "code",
   "execution_count": 2,
   "metadata": {},
   "outputs": [
    {
     "name": "stderr",
     "output_type": "stream",
     "text": [
      "┌ Info: [\"token\", \"country_code\", \"ndocs\", \"idf\"]\n",
      "└ @ Main In[2]:2\n"
     ]
    }
   ],
   "source": [
    "VOC = CSV.read(\"../data/SpanishLang/voc.tsv.gz\", DataFrame, delim='\\t')\n",
    "@info names(VOC)"
   ]
  },
  {
   "cell_type": "code",
   "execution_count": 3,
   "metadata": {},
   "outputs": [
    {
     "data": {
      "text/html": [
       "<div class=\"data-frame\"><p>16 rows × 4 columns</p><table class=\"data-frame\"><thead><tr><th></th><th>token</th><th>country_code</th><th>ndocs</th><th>idf</th></tr><tr><th></th><th title=\"String\">String</th><th title=\"String3\">String3</th><th title=\"Int64\">Int64</th><th title=\"Float64\">Float64</th></tr></thead><tbody><tr><th>1</th><td>zopilote</td><td>AR</td><td>12</td><td>16.1164</td></tr><tr><th>2</th><td>zopilote</td><td>CL</td><td>6</td><td>14.9771</td></tr><tr><th>3</th><td>zopilote</td><td>CO</td><td>11</td><td>14.8183</td></tr><tr><th>4</th><td>zopilote</td><td>CR</td><td>51</td><td>11.2022</td></tr><tr><th>5</th><td>zopilote</td><td>EC</td><td>6</td><td>13.7061</td></tr><tr><th>6</th><td>zopilote</td><td>ES</td><td>20</td><td>14.9082</td></tr><tr><th>7</th><td>zopilote</td><td>GT</td><td>25</td><td>11.5421</td></tr><tr><th>8</th><td>zopilote</td><td>HN</td><td>12</td><td>11.3633</td></tr><tr><th>9</th><td>zopilote</td><td>MX</td><td>417</td><td>11.8021</td></tr><tr><th>10</th><td>zopilote</td><td>NI</td><td>33</td><td>10.8418</td></tr><tr><th>11</th><td>zopilote</td><td>PA</td><td>5</td><td>13.1835</td></tr><tr><th>12</th><td>zopilote</td><td>PE</td><td>7</td><td>13.8215</td></tr><tr><th>13</th><td>zopilote</td><td>SV</td><td>18</td><td>11.2193</td></tr><tr><th>14</th><td>zopilote</td><td>US</td><td>53</td><td>12.6683</td></tr><tr><th>15</th><td>zopilote</td><td>VE</td><td>22</td><td>13.5503</td></tr><tr><th>16</th><td>zopilote</td><td>ALL</td><td>698</td><td>13.2514</td></tr></tbody></table></div>"
      ],
      "text/latex": [
       "\\begin{tabular}{r|cccc}\n",
       "\t& token & country\\_code & ndocs & idf\\\\\n",
       "\t\\hline\n",
       "\t& String & String3 & Int64 & Float64\\\\\n",
       "\t\\hline\n",
       "\t1 & zopilote & AR & 12 & 16.1164 \\\\\n",
       "\t2 & zopilote & CL & 6 & 14.9771 \\\\\n",
       "\t3 & zopilote & CO & 11 & 14.8183 \\\\\n",
       "\t4 & zopilote & CR & 51 & 11.2022 \\\\\n",
       "\t5 & zopilote & EC & 6 & 13.7061 \\\\\n",
       "\t6 & zopilote & ES & 20 & 14.9082 \\\\\n",
       "\t7 & zopilote & GT & 25 & 11.5421 \\\\\n",
       "\t8 & zopilote & HN & 12 & 11.3633 \\\\\n",
       "\t9 & zopilote & MX & 417 & 11.8021 \\\\\n",
       "\t10 & zopilote & NI & 33 & 10.8418 \\\\\n",
       "\t11 & zopilote & PA & 5 & 13.1835 \\\\\n",
       "\t12 & zopilote & PE & 7 & 13.8215 \\\\\n",
       "\t13 & zopilote & SV & 18 & 11.2193 \\\\\n",
       "\t14 & zopilote & US & 53 & 12.6683 \\\\\n",
       "\t15 & zopilote & VE & 22 & 13.5503 \\\\\n",
       "\t16 & zopilote & ALL & 698 & 13.2514 \\\\\n",
       "\\end{tabular}\n"
      ],
      "text/plain": [
       "\u001b[1m16×4 DataFrame\u001b[0m\n",
       "\u001b[1m Row \u001b[0m│\u001b[1m token    \u001b[0m\u001b[1m country_code \u001b[0m\u001b[1m ndocs \u001b[0m\u001b[1m idf     \u001b[0m\n",
       "\u001b[1m     \u001b[0m│\u001b[90m String   \u001b[0m\u001b[90m String3      \u001b[0m\u001b[90m Int64 \u001b[0m\u001b[90m Float64 \u001b[0m\n",
       "─────┼────────────────────────────────────────\n",
       "   1 │ zopilote  AR               12  16.1164\n",
       "   2 │ zopilote  CL                6  14.9771\n",
       "   3 │ zopilote  CO               11  14.8183\n",
       "   4 │ zopilote  CR               51  11.2022\n",
       "   5 │ zopilote  EC                6  13.7061\n",
       "   6 │ zopilote  ES               20  14.9082\n",
       "   7 │ zopilote  GT               25  11.5421\n",
       "   8 │ zopilote  HN               12  11.3633\n",
       "   9 │ zopilote  MX              417  11.8021\n",
       "  10 │ zopilote  NI               33  10.8418\n",
       "  11 │ zopilote  PA                5  13.1835\n",
       "  12 │ zopilote  PE                7  13.8215\n",
       "  13 │ zopilote  SV               18  11.2193\n",
       "  14 │ zopilote  US               53  12.6683\n",
       "  15 │ zopilote  VE               22  13.5503\n",
       "  16 │ zopilote  ALL             698  13.2514"
      ]
     },
     "metadata": {},
     "output_type": "display_data"
    },
    {
     "data": {
      "text/html": [
       "<div class=\"data-frame\"><p>2 rows × 4 columns</p><table class=\"data-frame\"><thead><tr><th></th><th>token</th><th>country_code</th><th>ndocs</th><th>idf</th></tr><tr><th></th><th title=\"String\">String</th><th title=\"String3\">String3</th><th title=\"Int64\">Int64</th><th title=\"Float64\">Float64</th></tr></thead><tbody><tr><th>1</th><td>xoloescuincle</td><td>MX</td><td>30</td><td>14.4036</td></tr><tr><th>2</th><td>xoloescuincle</td><td>ALL</td><td>30</td><td>16.3671</td></tr></tbody></table></div>"
      ],
      "text/latex": [
       "\\begin{tabular}{r|cccc}\n",
       "\t& token & country\\_code & ndocs & idf\\\\\n",
       "\t\\hline\n",
       "\t& String & String3 & Int64 & Float64\\\\\n",
       "\t\\hline\n",
       "\t1 & xoloescuincle & MX & 30 & 14.4036 \\\\\n",
       "\t2 & xoloescuincle & ALL & 30 & 16.3671 \\\\\n",
       "\\end{tabular}\n"
      ],
      "text/plain": [
       "\u001b[1m2×4 DataFrame\u001b[0m\n",
       "\u001b[1m Row \u001b[0m│\u001b[1m token         \u001b[0m\u001b[1m country_code \u001b[0m\u001b[1m ndocs \u001b[0m\u001b[1m idf     \u001b[0m\n",
       "\u001b[1m     \u001b[0m│\u001b[90m String        \u001b[0m\u001b[90m String3      \u001b[0m\u001b[90m Int64 \u001b[0m\u001b[90m Float64 \u001b[0m\n",
       "─────┼─────────────────────────────────────────────\n",
       "   1 │ xoloescuincle  MX               30  14.4036\n",
       "   2 │ xoloescuincle  ALL              30  16.3671"
      ]
     },
     "metadata": {},
     "output_type": "display_data"
    },
    {
     "data": {
      "text/html": [
       "<div class=\"data-frame\"><p>29 rows × 4 columns</p><table class=\"data-frame\"><thead><tr><th></th><th>token</th><th>country_code</th><th>ndocs</th><th>idf</th></tr><tr><th></th><th title=\"String\">String</th><th title=\"String3\">String3</th><th title=\"Int64\">Int64</th><th title=\"Float64\">Float64</th></tr></thead><tbody><tr><th>1</th><td>guajolote</td><td>AR</td><td>9</td><td>16.3787</td></tr><tr><th>2</th><td>guajolote</td><td>MX</td><td>802</td><td>11.1492</td></tr><tr><th>3</th><td>guajolote</td><td>US</td><td>83</td><td>12.2264</td></tr><tr><th>4</th><td>guajolote</td><td>ALL</td><td>894</td><td>13.0042</td></tr><tr><th>5</th><td>pavo</td><td>AR</td><td>12905</td><td>9.21586</td></tr><tr><th>6</th><td>pavo</td><td>BO</td><td>19</td><td>10.1017</td></tr><tr><th>7</th><td>pavo</td><td>BR</td><td>76</td><td>10.8129</td></tr><tr><th>8</th><td>pavo</td><td>CA</td><td>101</td><td>8.91048</td></tr><tr><th>9</th><td>pavo</td><td>CL</td><td>3466</td><td>8.77195</td></tr><tr><th>10</th><td>pavo</td><td>CO</td><td>1089</td><td>10.3093</td></tr><tr><th>11</th><td>pavo</td><td>CR</td><td>221</td><td>9.75073</td></tr><tr><th>12</th><td>pavo</td><td>DO</td><td>253</td><td>9.42801</td></tr><tr><th>13</th><td>pavo</td><td>EC</td><td>2257</td><td>7.92977</td></tr><tr><th>14</th><td>pavo</td><td>ES</td><td>19751</td><td>8.06166</td></tr><tr><th>15</th><td>pavo</td><td>FR</td><td>161</td><td>8.58928</td></tr><tr><th>16</th><td>pavo</td><td>GB</td><td>563</td><td>7.67464</td></tr><tr><th>17</th><td>pavo</td><td>GT</td><td>246</td><td>9.2908</td></tr><tr><th>18</th><td>pavo</td><td>HN</td><td>62</td><td>9.78516</td></tr><tr><th>19</th><td>pavo</td><td>MX</td><td>4717</td><td>9.37843</td></tr><tr><th>20</th><td>pavo</td><td>NI</td><td>44</td><td>10.5615</td></tr><tr><th>21</th><td>pavo</td><td>PA</td><td>617</td><td>8.54876</td></tr><tr><th>22</th><td>pavo</td><td>PE</td><td>2547</td><td>8.05784</td></tr><tr><th>23</th><td>pavo</td><td>PR</td><td>25</td><td>9.03262</td></tr><tr><th>24</th><td>pavo</td><td>PY</td><td>172</td><td>10.2223</td></tr><tr><th>25</th><td>pavo</td><td>SV</td><td>151</td><td>9.1399</td></tr><tr><th>26</th><td>pavo</td><td>US</td><td>3189</td><td>8.58949</td></tr><tr><th>27</th><td>pavo</td><td>UY</td><td>490</td><td>10.385</td></tr><tr><th>28</th><td>pavo</td><td>VE</td><td>1739</td><td>9.22413</td></tr><tr><th>29</th><td>pavo</td><td>ALL</td><td>54861</td><td>8.88848</td></tr></tbody></table></div>"
      ],
      "text/latex": [
       "\\begin{tabular}{r|cccc}\n",
       "\t& token & country\\_code & ndocs & idf\\\\\n",
       "\t\\hline\n",
       "\t& String & String3 & Int64 & Float64\\\\\n",
       "\t\\hline\n",
       "\t1 & guajolote & AR & 9 & 16.3787 \\\\\n",
       "\t2 & guajolote & MX & 802 & 11.1492 \\\\\n",
       "\t3 & guajolote & US & 83 & 12.2264 \\\\\n",
       "\t4 & guajolote & ALL & 894 & 13.0042 \\\\\n",
       "\t5 & pavo & AR & 12905 & 9.21586 \\\\\n",
       "\t6 & pavo & BO & 19 & 10.1017 \\\\\n",
       "\t7 & pavo & BR & 76 & 10.8129 \\\\\n",
       "\t8 & pavo & CA & 101 & 8.91048 \\\\\n",
       "\t9 & pavo & CL & 3466 & 8.77195 \\\\\n",
       "\t10 & pavo & CO & 1089 & 10.3093 \\\\\n",
       "\t11 & pavo & CR & 221 & 9.75073 \\\\\n",
       "\t12 & pavo & DO & 253 & 9.42801 \\\\\n",
       "\t13 & pavo & EC & 2257 & 7.92977 \\\\\n",
       "\t14 & pavo & ES & 19751 & 8.06166 \\\\\n",
       "\t15 & pavo & FR & 161 & 8.58928 \\\\\n",
       "\t16 & pavo & GB & 563 & 7.67464 \\\\\n",
       "\t17 & pavo & GT & 246 & 9.2908 \\\\\n",
       "\t18 & pavo & HN & 62 & 9.78516 \\\\\n",
       "\t19 & pavo & MX & 4717 & 9.37843 \\\\\n",
       "\t20 & pavo & NI & 44 & 10.5615 \\\\\n",
       "\t21 & pavo & PA & 617 & 8.54876 \\\\\n",
       "\t22 & pavo & PE & 2547 & 8.05784 \\\\\n",
       "\t23 & pavo & PR & 25 & 9.03262 \\\\\n",
       "\t24 & pavo & PY & 172 & 10.2223 \\\\\n",
       "\t25 & pavo & SV & 151 & 9.1399 \\\\\n",
       "\t26 & pavo & US & 3189 & 8.58949 \\\\\n",
       "\t27 & pavo & UY & 490 & 10.385 \\\\\n",
       "\t28 & pavo & VE & 1739 & 9.22413 \\\\\n",
       "\t29 & pavo & ALL & 54861 & 8.88848 \\\\\n",
       "\\end{tabular}\n"
      ],
      "text/plain": [
       "\u001b[1m29×4 DataFrame\u001b[0m\n",
       "\u001b[1m Row \u001b[0m│\u001b[1m token     \u001b[0m\u001b[1m country_code \u001b[0m\u001b[1m ndocs \u001b[0m\u001b[1m idf      \u001b[0m\n",
       "\u001b[1m     \u001b[0m│\u001b[90m String    \u001b[0m\u001b[90m String3      \u001b[0m\u001b[90m Int64 \u001b[0m\u001b[90m Float64  \u001b[0m\n",
       "─────┼──────────────────────────────────────────\n",
       "   1 │ guajolote  AR                9  16.3787\n",
       "   2 │ guajolote  MX              802  11.1492\n",
       "   3 │ guajolote  US               83  12.2264\n",
       "   4 │ guajolote  ALL             894  13.0042\n",
       "   5 │ pavo       AR            12905   9.21586\n",
       "   6 │ pavo       BO               19  10.1017\n",
       "   7 │ pavo       BR               76  10.8129\n",
       "   8 │ pavo       CA              101   8.91048\n",
       "   9 │ pavo       CL             3466   8.77195\n",
       "  10 │ pavo       CO             1089  10.3093\n",
       "  11 │ pavo       CR              221   9.75073\n",
       "  ⋮  │     ⋮           ⋮          ⋮       ⋮\n",
       "  20 │ pavo       NI               44  10.5615\n",
       "  21 │ pavo       PA              617   8.54876\n",
       "  22 │ pavo       PE             2547   8.05784\n",
       "  23 │ pavo       PR               25   9.03262\n",
       "  24 │ pavo       PY              172  10.2223\n",
       "  25 │ pavo       SV              151   9.1399\n",
       "  26 │ pavo       US             3189   8.58949\n",
       "  27 │ pavo       UY              490  10.385\n",
       "  28 │ pavo       VE             1739   9.22413\n",
       "  29 │ pavo       ALL           54861   8.88848\n",
       "\u001b[36m                                  8 rows omitted\u001b[0m"
      ]
     },
     "metadata": {},
     "output_type": "display_data"
    }
   ],
   "source": [
    "#VOC |> @filter(_.token == \"cantina\") |> DataFrame\n",
    "subset(VOC, :token => t -> t .== \"zopilote\") |> display\n",
    "subset(VOC, :token => t -> t .== \"xoloescuincle\") |> display\n",
    "subset(VOC, :token => arr -> [t in (\"guajolote\", \"pavo\") for t in arr]) |> display\n"
   ]
  },
  {
   "cell_type": "code",
   "execution_count": 4,
   "metadata": {},
   "outputs": [
    {
     "data": {
      "text/html": [
       "<div class=\"data-frame\"><p>1,268,420 rows × 4 columns</p><table class=\"data-frame\"><thead><tr><th></th><th>token</th><th>n_regions</th><th>idf</th><th>country_codes</th></tr><tr><th></th><th title=\"String\">String</th><th title=\"Int64\">Int64</th><th title=\"Float64\">Float64</th><th title=\"Any\">Any</th></tr></thead><tbody><tr><th>1</th><td>!</td><td>26</td><td>2.69968</td><td>AR,BO,BR,CA,CL,CO,CR,CU,DO,EC,ES,FR,GB,GQ,GT,HN,MX,NI,PA,PE,PR,PY,SV,US,UY,VE,ALL</td></tr><tr><th>2</th><td>!!</td><td>26</td><td>3.19267</td><td>AR,BO,BR,CA,CL,CO,CR,CU,DO,EC,ES,FR,GB,GQ,GT,HN,MX,NI,PA,PE,PR,PY,SV,US,UY,VE,ALL</td></tr><tr><th>3</th><td>!!&quot;</td><td>24</td><td>9.63197</td><td>AR,BO,BR,CA,CL,CO,CR,DO,EC,ES,FR,GB,GT,HN,MX,NI,PA,PE,PR,PY,SV,US,UY,VE,ALL</td></tr><tr><th>4</th><td>!!#</td><td>14</td><td>12.7775</td><td>AR,CA,CL,CO,ES,GT,MX,PA,PE,PY,SV,US,UY,VE,ALL</td></tr><tr><th>5</th><td>!!$</td><td>12</td><td>13.3454</td><td>AR,BR,CL,CO,EC,ES,MX,PE,PY,US,UY,VE,ALL</td></tr><tr><th>6</th><td>!!%</td><td>2</td><td>16.1646</td><td>AR,MX,ALL</td></tr><tr><th>7</th><td>!!&amp;</td><td>8</td><td>14.4336</td><td>AR,CL,CO,ES,MX,US,UY,VE,ALL</td></tr><tr><th>8</th><td>!!&apos;</td><td>24</td><td>11.1774</td><td>AR,BO,BR,CA,CL,CO,CR,DO,EC,ES,FR,GB,GT,HN,MX,NI,PA,PE,PR,PY,SV,US,UY,VE,ALL</td></tr><tr><th>9</th><td>!!(</td><td>21</td><td>11.7663</td><td>AR,BO,BR,CA,CL,CO,CR,DO,EC,ES,FR,GB,GT,MX,PA,PE,PY,SV,US,UY,VE,ALL</td></tr><tr><th>10</th><td>!!)</td><td>23</td><td>10.6483</td><td>AR,BO,BR,CA,CL,CO,CR,DO,EC,ES,FR,GB,GT,HN,MX,NI,PA,PE,PY,SV,US,UY,VE,ALL</td></tr><tr><th>11</th><td>!!*</td><td>18</td><td>12.0275</td><td>AR,BR,CL,CO,CR,DO,EC,ES,GT,HN,MX,PA,PE,PY,SV,US,UY,VE,ALL</td></tr><tr><th>12</th><td>!!+</td><td>14</td><td>12.8268</td><td>AR,BR,CL,CO,EC,ES,GT,HN,MX,PE,PY,US,UY,VE,ALL</td></tr><tr><th>13</th><td>!!,</td><td>25</td><td>8.72965</td><td>AR,BO,BR,CA,CL,CO,CR,CU,DO,EC,ES,FR,GB,GT,HN,MX,NI,PA,PE,PR,PY,SV,US,UY,VE,ALL</td></tr><tr><th>14</th><td>!!-</td><td>17</td><td>12.3213</td><td>AR,BR,CL,CO,CR,DO,EC,ES,GT,HN,MX,PA,PE,PY,US,UY,VE,ALL</td></tr><tr><th>15</th><td>!!.</td><td>25</td><td>7.8998</td><td>AR,BO,BR,CA,CL,CO,CR,CU,DO,EC,ES,FR,GB,GT,HN,MX,NI,PA,PE,PR,PY,SV,US,UY,VE,ALL</td></tr><tr><th>16</th><td>!!/</td><td>12</td><td>12.9222</td><td>AR,BR,CL,CO,EC,ES,MX,PE,PY,US,UY,VE,ALL</td></tr><tr><th>17</th><td>!!:</td><td>21</td><td>11.6438</td><td>AR,BR,CA,CL,CO,CR,DO,EC,ES,FR,GB,GT,MX,NI,PA,PE,PY,SV,US,UY,VE,ALL</td></tr><tr><th>18</th><td>!!;</td><td>21</td><td>11.6152</td><td>AR,BO,BR,CA,CL,CO,CR,DO,EC,ES,FR,GB,GT,MX,PA,PE,PY,SV,US,UY,VE,ALL</td></tr><tr><th>19</th><td>!!&lt;</td><td>12</td><td>12.8177</td><td>AR,CL,CO,CR,EC,ES,GB,MX,PE,US,UY,VE,ALL</td></tr><tr><th>20</th><td>!!&gt;</td><td>6</td><td>14.1802</td><td>AR,CL,ES,MX,US,VE,ALL</td></tr><tr><th>21</th><td>!!?</td><td>25</td><td>8.59713</td><td>AR,BO,BR,CA,CL,CO,CR,CU,DO,EC,ES,FR,GB,GT,HN,MX,NI,PA,PE,PR,PY,SV,US,UY,VE,ALL</td></tr><tr><th>22</th><td>!!@</td><td>15</td><td>12.5791</td><td>AR,BR,CL,CO,CR,EC,ES,FR,GB,MX,PE,PY,US,UY,VE,ALL</td></tr><tr><th>23</th><td>!![</td><td>3</td><td>15.6093</td><td>AR,MX,VE,ALL</td></tr><tr><th>24</th><td>!!\\\\</td><td>1</td><td>15.1312</td><td>CL,ALL</td></tr><tr><th>25</th><td>!!]</td><td>3</td><td>15.0047</td><td>AR,CL,ES,ALL</td></tr><tr><th>26</th><td>!!^</td><td>6</td><td>13.8535</td><td>AR,CL,CO,ES,MX,US,ALL</td></tr><tr><th>27</th><td>!!|</td><td>4</td><td>15.583</td><td>AR,ES,MX,VE,ALL</td></tr><tr><th>28</th><td>!!}</td><td>3</td><td>15.5208</td><td>AR,CL,MX,ALL</td></tr><tr><th>29</th><td>!!~</td><td>8</td><td>14.3523</td><td>AR,CL,CO,ES,MX,PE,US,VE,ALL</td></tr><tr><th>30</th><td>!!¡</td><td>23</td><td>10.7129</td><td>AR,BO,BR,CA,CL,CO,CR,DO,EC,ES,FR,GB,GT,HN,MX,NI,PA,PE,PY,SV,US,UY,VE,ALL</td></tr><tr><th>&vellip;</th><td>&vellip;</td><td>&vellip;</td><td>&vellip;</td><td>&vellip;</td></tr></tbody></table></div>"
      ],
      "text/latex": [
       "\\begin{tabular}{r|cccc}\n",
       "\t& token & n\\_regions & idf & country\\_codes\\\\\n",
       "\t\\hline\n",
       "\t& String & Int64 & Float64 & Any\\\\\n",
       "\t\\hline\n",
       "\t1 & ! & 26 & 2.69968 & AR,BO,BR,CA,CL,CO,CR,CU,DO,EC,ES,FR,GB,GQ,GT,HN,MX,NI,PA,PE,PR,PY,SV,US,UY,VE,ALL \\\\\n",
       "\t2 & !! & 26 & 3.19267 & AR,BO,BR,CA,CL,CO,CR,CU,DO,EC,ES,FR,GB,GQ,GT,HN,MX,NI,PA,PE,PR,PY,SV,US,UY,VE,ALL \\\\\n",
       "\t3 & !!\" & 24 & 9.63197 & AR,BO,BR,CA,CL,CO,CR,DO,EC,ES,FR,GB,GT,HN,MX,NI,PA,PE,PR,PY,SV,US,UY,VE,ALL \\\\\n",
       "\t4 & !!\\# & 14 & 12.7775 & AR,CA,CL,CO,ES,GT,MX,PA,PE,PY,SV,US,UY,VE,ALL \\\\\n",
       "\t5 & !!\\$ & 12 & 13.3454 & AR,BR,CL,CO,EC,ES,MX,PE,PY,US,UY,VE,ALL \\\\\n",
       "\t6 & !!\\% & 2 & 16.1646 & AR,MX,ALL \\\\\n",
       "\t7 & !!\\& & 8 & 14.4336 & AR,CL,CO,ES,MX,US,UY,VE,ALL \\\\\n",
       "\t8 & !!' & 24 & 11.1774 & AR,BO,BR,CA,CL,CO,CR,DO,EC,ES,FR,GB,GT,HN,MX,NI,PA,PE,PR,PY,SV,US,UY,VE,ALL \\\\\n",
       "\t9 & !!( & 21 & 11.7663 & AR,BO,BR,CA,CL,CO,CR,DO,EC,ES,FR,GB,GT,MX,PA,PE,PY,SV,US,UY,VE,ALL \\\\\n",
       "\t10 & !!) & 23 & 10.6483 & AR,BO,BR,CA,CL,CO,CR,DO,EC,ES,FR,GB,GT,HN,MX,NI,PA,PE,PY,SV,US,UY,VE,ALL \\\\\n",
       "\t11 & !!* & 18 & 12.0275 & AR,BR,CL,CO,CR,DO,EC,ES,GT,HN,MX,PA,PE,PY,SV,US,UY,VE,ALL \\\\\n",
       "\t12 & !!+ & 14 & 12.8268 & AR,BR,CL,CO,EC,ES,GT,HN,MX,PE,PY,US,UY,VE,ALL \\\\\n",
       "\t13 & !!, & 25 & 8.72965 & AR,BO,BR,CA,CL,CO,CR,CU,DO,EC,ES,FR,GB,GT,HN,MX,NI,PA,PE,PR,PY,SV,US,UY,VE,ALL \\\\\n",
       "\t14 & !!- & 17 & 12.3213 & AR,BR,CL,CO,CR,DO,EC,ES,GT,HN,MX,PA,PE,PY,US,UY,VE,ALL \\\\\n",
       "\t15 & !!. & 25 & 7.8998 & AR,BO,BR,CA,CL,CO,CR,CU,DO,EC,ES,FR,GB,GT,HN,MX,NI,PA,PE,PR,PY,SV,US,UY,VE,ALL \\\\\n",
       "\t16 & !!/ & 12 & 12.9222 & AR,BR,CL,CO,EC,ES,MX,PE,PY,US,UY,VE,ALL \\\\\n",
       "\t17 & !!: & 21 & 11.6438 & AR,BR,CA,CL,CO,CR,DO,EC,ES,FR,GB,GT,MX,NI,PA,PE,PY,SV,US,UY,VE,ALL \\\\\n",
       "\t18 & !!; & 21 & 11.6152 & AR,BO,BR,CA,CL,CO,CR,DO,EC,ES,FR,GB,GT,MX,PA,PE,PY,SV,US,UY,VE,ALL \\\\\n",
       "\t19 & !!< & 12 & 12.8177 & AR,CL,CO,CR,EC,ES,GB,MX,PE,US,UY,VE,ALL \\\\\n",
       "\t20 & !!> & 6 & 14.1802 & AR,CL,ES,MX,US,VE,ALL \\\\\n",
       "\t21 & !!? & 25 & 8.59713 & AR,BO,BR,CA,CL,CO,CR,CU,DO,EC,ES,FR,GB,GT,HN,MX,NI,PA,PE,PR,PY,SV,US,UY,VE,ALL \\\\\n",
       "\t22 & !!@ & 15 & 12.5791 & AR,BR,CL,CO,CR,EC,ES,FR,GB,MX,PE,PY,US,UY,VE,ALL \\\\\n",
       "\t23 & !![ & 3 & 15.6093 & AR,MX,VE,ALL \\\\\n",
       "\t24 & !!\\textbackslash{}\\textbackslash{} & 1 & 15.1312 & CL,ALL \\\\\n",
       "\t25 & !!] & 3 & 15.0047 & AR,CL,ES,ALL \\\\\n",
       "\t26 & !!\\^ & 6 & 13.8535 & AR,CL,CO,ES,MX,US,ALL \\\\\n",
       "\t27 & !!| & 4 & 15.583 & AR,ES,MX,VE,ALL \\\\\n",
       "\t28 & !!\\} & 3 & 15.5208 & AR,CL,MX,ALL \\\\\n",
       "\t29 & !!\\textasciitilde{} & 8 & 14.3523 & AR,CL,CO,ES,MX,PE,US,VE,ALL \\\\\n",
       "\t30 & !!¡ & 23 & 10.7129 & AR,BO,BR,CA,CL,CO,CR,DO,EC,ES,FR,GB,GT,HN,MX,NI,PA,PE,PY,SV,US,UY,VE,ALL \\\\\n",
       "\t$\\dots$ & $\\dots$ & $\\dots$ & $\\dots$ & $\\dots$ \\\\\n",
       "\\end{tabular}\n"
      ],
      "text/plain": [
       "\u001b[1m1268420×4 DataFrame\u001b[0m\n",
       "\u001b[1m     Row \u001b[0m│\u001b[1m token                        \u001b[0m\u001b[1m n_regions \u001b[0m\u001b[1m idf      \u001b[0m\u001b[1m country_codes   \u001b[0m ⋯\n",
       "\u001b[1m         \u001b[0m│\u001b[90m String                       \u001b[0m\u001b[90m Int64     \u001b[0m\u001b[90m Float64  \u001b[0m\u001b[90m Any             \u001b[0m ⋯\n",
       "─────────┼──────────────────────────────────────────────────────────────────────\n",
       "       1 │ !                                    26   2.69968  AR,BO,BR,CA,CL,C ⋯\n",
       "       2 │ !!                                   26   3.19267  AR,BO,BR,CA,CL,C\n",
       "       3 │ !!\"                                  24   9.63197  AR,BO,BR,CA,CL,C\n",
       "       4 │ !!#                                  14  12.7775   AR,CA,CL,CO,ES,G\n",
       "       5 │ !!$                                  12  13.3454   AR,BR,CL,CO,EC,E ⋯\n",
       "       6 │ !!%                                   2  16.1646   AR,MX,ALL\n",
       "       7 │ !!&                                   8  14.4336   AR,CL,CO,ES,MX,U\n",
       "       8 │ !!'                                  24  11.1774   AR,BO,BR,CA,CL,C\n",
       "       9 │ !!(                                  21  11.7663   AR,BO,BR,CA,CL,C ⋯\n",
       "      10 │ !!)                                  23  10.6483   AR,BO,BR,CA,CL,C\n",
       "      11 │ !!*                                  18  12.0275   AR,BR,CL,CO,CR,D\n",
       "    ⋮    │              ⋮                    ⋮         ⋮                       ⋱\n",
       " 1268411 │ \\Ufe836\\Ufe82e\\Ufe82e                 1  16.0458   MX,ALL\n",
       " 1268412 │ \\Ufe837                               1  15.9087   AR,ALL           ⋯\n",
       " 1268413 │ \\Ufeb9d                               1  14.7465   MX,ALL\n",
       " 1268414 │ \\Ufeb9e                               1  16.6019   AR,ALL\n",
       " 1268415 │ \\Ufeb9f                               1  15.6856   AR,ALL\n",
       " 1268416 │ \\Ufeb9f\\Ufeb0f                        1  13.4187   MX,ALL           ⋯\n",
       " 1268417 │ \\Ufeba0                               1  16.8895   AR,ALL\n",
       " 1268418 │ \\Ufec1b\\Ufeb12                        1  16.8895   AR,ALL\n",
       " 1268419 │ \\U10ec51𘁨ttps                        1  14.7399   VE,ALL\n",
       " 1268420 │ \\U10f83d\\U2f03c\\U0010f864ejo          1  15.6368   AR,ALL           ⋯\n",
       "\u001b[36m                                               1 column and 1268399 rows omitted\u001b[0m"
      ]
     },
     "execution_count": 4,
     "metadata": {},
     "output_type": "execute_result"
    }
   ],
   "source": [
    "common = DataFrame(token=String[], n_regions=Int[], idf=Float64[], country_codes=[])\n",
    "\n",
    "for g in groupby(VOC, :token)\n",
    "    n_regions = length(g.token) - 1\n",
    "    idf = sum(row.idf for row in eachrow(g) if row.country_code != \"ALL\") / n_regions\n",
    "    regions = join(g.country_code, ',')\n",
    "    push!(common, (first(g.token), n_regions, idf, regions))\n",
    "end\n",
    "\n",
    "open(\"../data/SpanishLang/common-tokens-per-region.tsv.gz\", \"w\") do f\n",
    "    gz = GzipCompressorStream(f)\n",
    "    CSV.write(gz, common, delim='\\t')\n",
    "    close(gz)\n",
    "end\n",
    "\n",
    "common"
   ]
  },
  {
   "cell_type": "code",
   "execution_count": 5,
   "metadata": {},
   "outputs": [],
   "source": [
    "X = [1]\n",
    "Y = [size(common, 1)]\n",
    "\n",
    "C = common\n",
    "\n",
    "for min_count in 2:26\n",
    "    C = subset(C, :n_regions => c -> c .> min_count)\n",
    "    push!(X, min_count)\n",
    "    push!(Y, size(C, 1))\n",
    "end\n"
   ]
  },
  {
   "cell_type": "code",
   "execution_count": 6,
   "metadata": {},
   "outputs": [
    {
     "name": "stderr",
     "output_type": "stream",
     "text": [
      "┌ Info: [(1, 1268420), (2, 379143), (3, 302612), (4, 253685), (5, 218203), (6, 190432), (7, 167613), (8, 148445), (9, 131798), (10, 117963), (11, 105880), (12, 95728), (13, 86902), (14, 79079), (15, 72110), (16, 65710), (17, 59680), (18, 53992), (19, 48822), (20, 43609), (21, 38319), (22, 31882), (23, 20811), (24, 11718), (25, 1056), (26, 0)]\n",
      "└ @ Main In[6]:1\n",
      "┌ Warning: Skipped marker arg o.\n",
      "└ @ Plots /home/sadit/.julia/packages/Plots/YAlrZ/src/args.jl:1229\n"
     ]
    },
    {
     "data": {
      "image/png": "[encoded data removed]"
     },
     "execution_count": 6,
     "metadata": {},
     "output_type": "execute_result"
    }
   ],
   "source": [
    "@info collect(zip(X, Y))\n",
    "plot(X, Y, ylabel=\"common tokens\", xlabel=\"# regions\", m='o', label=\"\")\n",
    "savefig(\"../figs/fig-common-tokens-per-region.pdf\")\n",
    "savefig(\"../figs/fig-common-tokens-per-region.png\")\n",
    "plot!(fmt=:png)"
   ]
  },
  {
   "cell_type": "code",
   "execution_count": 7,
   "metadata": {},
   "outputs": [
    {
     "data": {
      "text/html": [
       "<div class=\"data-frame\"><p>10 rows × 4 columns</p><table class=\"data-frame\"><thead><tr><th></th><th>token</th><th>n_regions</th><th>idf</th><th>country_codes</th></tr><tr><th></th><th title=\"String\">String</th><th title=\"Int64\">Int64</th><th title=\"Float64\">Float64</th><th title=\"Any\">Any</th></tr></thead><tbody><tr><th>1</th><td>!</td><td>26</td><td>2.69968</td><td>AR,BO,BR,CA,CL,CO,CR,CU,DO,EC,ES,FR,GB,GQ,GT,HN,MX,NI,PA,PE,PR,PY,SV,US,UY,VE,ALL</td></tr><tr><th>2</th><td>!!</td><td>26</td><td>3.19267</td><td>AR,BO,BR,CA,CL,CO,CR,CU,DO,EC,ES,FR,GB,GQ,GT,HN,MX,NI,PA,PE,PR,PY,SV,US,UY,VE,ALL</td></tr><tr><th>3</th><td>&quot;</td><td>26</td><td>3.28405</td><td>AR,BO,BR,CA,CL,CO,CR,CU,DO,EC,ES,FR,GB,GQ,GT,HN,MX,NI,PA,PE,PR,PY,SV,US,UY,VE,ALL</td></tr><tr><th>4</th><td>&quot;,</td><td>26</td><td>6.05476</td><td>AR,BO,BR,CA,CL,CO,CR,CU,DO,EC,ES,FR,GB,GQ,GT,HN,MX,NI,PA,PE,PR,PY,SV,US,UY,VE,ALL</td></tr><tr><th>5</th><td>&quot;.</td><td>26</td><td>5.48773</td><td>AR,BO,BR,CA,CL,CO,CR,CU,DO,EC,ES,FR,GB,GQ,GT,HN,MX,NI,PA,PE,PR,PY,SV,US,UY,VE,ALL</td></tr><tr><th>6</th><td>&quot;..</td><td>26</td><td>7.0065</td><td>AR,BO,BR,CA,CL,CO,CR,CU,DO,EC,ES,FR,GB,GQ,GT,HN,MX,NI,PA,PE,PR,PY,SV,US,UY,VE,ALL</td></tr><tr><th>7</th><td>&quot;?</td><td>26</td><td>7.59475</td><td>AR,BO,BR,CA,CL,CO,CR,CU,DO,EC,ES,FR,GB,GQ,GT,HN,MX,NI,PA,PE,PR,PY,SV,US,UY,VE,ALL</td></tr><tr><th>8</th><td>%</td><td>26</td><td>5.45701</td><td>AR,BO,BR,CA,CL,CO,CR,CU,DO,EC,ES,FR,GB,GQ,GT,HN,MX,NI,PA,PE,PR,PY,SV,US,UY,VE,ALL</td></tr><tr><th>9</th><td>&amp;</td><td>26</td><td>6.37904</td><td>AR,BO,BR,CA,CL,CO,CR,CU,DO,EC,ES,FR,GB,GQ,GT,HN,MX,NI,PA,PE,PR,PY,SV,US,UY,VE,ALL</td></tr><tr><th>10</th><td>&apos;</td><td>26</td><td>4.82253</td><td>AR,BO,BR,CA,CL,CO,CR,CU,DO,EC,ES,FR,GB,GQ,GT,HN,MX,NI,PA,PE,PR,PY,SV,US,UY,VE,ALL</td></tr></tbody></table></div>"
      ],
      "text/latex": [
       "\\begin{tabular}{r|cccc}\n",
       "\t& token & n\\_regions & idf & country\\_codes\\\\\n",
       "\t\\hline\n",
       "\t& String & Int64 & Float64 & Any\\\\\n",
       "\t\\hline\n",
       "\t1 & ! & 26 & 2.69968 & AR,BO,BR,CA,CL,CO,CR,CU,DO,EC,ES,FR,GB,GQ,GT,HN,MX,NI,PA,PE,PR,PY,SV,US,UY,VE,ALL \\\\\n",
       "\t2 & !! & 26 & 3.19267 & AR,BO,BR,CA,CL,CO,CR,CU,DO,EC,ES,FR,GB,GQ,GT,HN,MX,NI,PA,PE,PR,PY,SV,US,UY,VE,ALL \\\\\n",
       "\t3 & \" & 26 & 3.28405 & AR,BO,BR,CA,CL,CO,CR,CU,DO,EC,ES,FR,GB,GQ,GT,HN,MX,NI,PA,PE,PR,PY,SV,US,UY,VE,ALL \\\\\n",
       "\t4 & \", & 26 & 6.05476 & AR,BO,BR,CA,CL,CO,CR,CU,DO,EC,ES,FR,GB,GQ,GT,HN,MX,NI,PA,PE,PR,PY,SV,US,UY,VE,ALL \\\\\n",
       "\t5 & \". & 26 & 5.48773 & AR,BO,BR,CA,CL,CO,CR,CU,DO,EC,ES,FR,GB,GQ,GT,HN,MX,NI,PA,PE,PR,PY,SV,US,UY,VE,ALL \\\\\n",
       "\t6 & \".. & 26 & 7.0065 & AR,BO,BR,CA,CL,CO,CR,CU,DO,EC,ES,FR,GB,GQ,GT,HN,MX,NI,PA,PE,PR,PY,SV,US,UY,VE,ALL \\\\\n",
       "\t7 & \"? & 26 & 7.59475 & AR,BO,BR,CA,CL,CO,CR,CU,DO,EC,ES,FR,GB,GQ,GT,HN,MX,NI,PA,PE,PR,PY,SV,US,UY,VE,ALL \\\\\n",
       "\t8 & \\% & 26 & 5.45701 & AR,BO,BR,CA,CL,CO,CR,CU,DO,EC,ES,FR,GB,GQ,GT,HN,MX,NI,PA,PE,PR,PY,SV,US,UY,VE,ALL \\\\\n",
       "\t9 & \\& & 26 & 6.37904 & AR,BO,BR,CA,CL,CO,CR,CU,DO,EC,ES,FR,GB,GQ,GT,HN,MX,NI,PA,PE,PR,PY,SV,US,UY,VE,ALL \\\\\n",
       "\t10 & ' & 26 & 4.82253 & AR,BO,BR,CA,CL,CO,CR,CU,DO,EC,ES,FR,GB,GQ,GT,HN,MX,NI,PA,PE,PR,PY,SV,US,UY,VE,ALL \\\\\n",
       "\\end{tabular}\n"
      ],
      "text/plain": [
       "\u001b[1m10×4 DataFrame\u001b[0m\n",
       "\u001b[1m Row \u001b[0m│\u001b[1m token  \u001b[0m\u001b[1m n_regions \u001b[0m\u001b[1m idf     \u001b[0m\u001b[1m country_codes                     \u001b[0m\n",
       "\u001b[1m     \u001b[0m│\u001b[90m String \u001b[0m\u001b[90m Int64     \u001b[0m\u001b[90m Float64 \u001b[0m\u001b[90m Any                               \u001b[0m\n",
       "─────┼───────────────────────────────────────────────────────────────\n",
       "   1 │ !              26  2.69968  AR,BO,BR,CA,CL,CO,CR,CU,DO,EC,ES…\n",
       "   2 │ !!             26  3.19267  AR,BO,BR,CA,CL,CO,CR,CU,DO,EC,ES…\n",
       "   3 │ \"              26  3.28405  AR,BO,BR,CA,CL,CO,CR,CU,DO,EC,ES…\n",
       "   4 │ \",             26  6.05476  AR,BO,BR,CA,CL,CO,CR,CU,DO,EC,ES…\n",
       "   5 │ \".             26  5.48773  AR,BO,BR,CA,CL,CO,CR,CU,DO,EC,ES…\n",
       "   6 │ \"..            26  7.0065   AR,BO,BR,CA,CL,CO,CR,CU,DO,EC,ES…\n",
       "   7 │ \"?             26  7.59475  AR,BO,BR,CA,CL,CO,CR,CU,DO,EC,ES…\n",
       "   8 │ %              26  5.45701  AR,BO,BR,CA,CL,CO,CR,CU,DO,EC,ES…\n",
       "   9 │ &              26  6.37904  AR,BO,BR,CA,CL,CO,CR,CU,DO,EC,ES…\n",
       "  10 │ '              26  4.82253  AR,BO,BR,CA,CL,CO,CR,CU,DO,EC,ES…"
      ]
     },
     "metadata": {},
     "output_type": "display_data"
    },
    {
     "data": {
      "text/html": [
       "<div class=\"data-frame\"><p>10 rows × 4 columns</p><table class=\"data-frame\"><thead><tr><th></th><th>token</th><th>n_regions</th><th>idf</th><th>country_codes</th></tr><tr><th></th><th title=\"String\">String</th><th title=\"Int64\">Int64</th><th title=\"Float64\">Float64</th><th title=\"Any\">Any</th></tr></thead><tbody><tr><th>1</th><td>🕋</td><td>10</td><td>13.6664</td><td>AR,CL,CO,EC,ES,HN,MX,PE,US,VE,ALL</td></tr><tr><th>2</th><td>🖨</td><td>10</td><td>13.4959</td><td>AR,CL,CO,EC,ES,GT,MX,PE,US,VE,ALL</td></tr><tr><th>3</th><td>🖲</td><td>10</td><td>14.2037</td><td>AR,CL,CO,EC,ES,MX,PE,US,UY,VE,ALL</td></tr><tr><th>4</th><td>🗄</td><td>10</td><td>14.0817</td><td>AR,CL,CO,EC,ES,HN,MX,PY,US,UY,ALL</td></tr><tr><th>5</th><td>🛅</td><td>10</td><td>13.9273</td><td>AR,BR,CL,CO,DO,EC,ES,MX,PE,US,ALL</td></tr><tr><th>6</th><td>🥠</td><td>10</td><td>13.9888</td><td>AR,CL,CO,CR,ES,MX,PA,PE,US,VE,ALL</td></tr><tr><th>7</th><td>🥼</td><td>10</td><td>13.9269</td><td>AR,CO,CR,EC,ES,HN,MX,US,UY,VE,ALL</td></tr><tr><th>8</th><td>🥾</td><td>10</td><td>13.5012</td><td>AR,BO,CL,CO,EC,ES,MX,PE,SV,US,ALL</td></tr><tr><th>9</th><td>🧕</td><td>10</td><td>13.5994</td><td>AR,CL,CO,ES,MX,PA,PE,US,UY,VE,ALL</td></tr><tr><th>10</th><td>🧮</td><td>10</td><td>14.1397</td><td>AR,CL,CO,EC,ES,MX,PA,PY,US,UY,ALL</td></tr></tbody></table></div>"
      ],
      "text/latex": [
       "\\begin{tabular}{r|cccc}\n",
       "\t& token & n\\_regions & idf & country\\_codes\\\\\n",
       "\t\\hline\n",
       "\t& String & Int64 & Float64 & Any\\\\\n",
       "\t\\hline\n",
       "\t1 & 🕋 & 10 & 13.6664 & AR,CL,CO,EC,ES,HN,MX,PE,US,VE,ALL \\\\\n",
       "\t2 & 🖨 & 10 & 13.4959 & AR,CL,CO,EC,ES,GT,MX,PE,US,VE,ALL \\\\\n",
       "\t3 & 🖲 & 10 & 14.2037 & AR,CL,CO,EC,ES,MX,PE,US,UY,VE,ALL \\\\\n",
       "\t4 & 🗄 & 10 & 14.0817 & AR,CL,CO,EC,ES,HN,MX,PY,US,UY,ALL \\\\\n",
       "\t5 & 🛅 & 10 & 13.9273 & AR,BR,CL,CO,DO,EC,ES,MX,PE,US,ALL \\\\\n",
       "\t6 & 🥠 & 10 & 13.9888 & AR,CL,CO,CR,ES,MX,PA,PE,US,VE,ALL \\\\\n",
       "\t7 & 🥼 & 10 & 13.9269 & AR,CO,CR,EC,ES,HN,MX,US,UY,VE,ALL \\\\\n",
       "\t8 & 🥾 & 10 & 13.5012 & AR,BO,CL,CO,EC,ES,MX,PE,SV,US,ALL \\\\\n",
       "\t9 & 🧕 & 10 & 13.5994 & AR,CL,CO,ES,MX,PA,PE,US,UY,VE,ALL \\\\\n",
       "\t10 & 🧮 & 10 & 14.1397 & AR,CL,CO,EC,ES,MX,PA,PY,US,UY,ALL \\\\\n",
       "\\end{tabular}\n"
      ],
      "text/plain": [
       "\u001b[1m10×4 DataFrame\u001b[0m\n",
       "\u001b[1m Row \u001b[0m│\u001b[1m token  \u001b[0m\u001b[1m n_regions \u001b[0m\u001b[1m idf     \u001b[0m\u001b[1m country_codes                     \u001b[0m\n",
       "\u001b[1m     \u001b[0m│\u001b[90m String \u001b[0m\u001b[90m Int64     \u001b[0m\u001b[90m Float64 \u001b[0m\u001b[90m Any                               \u001b[0m\n",
       "─────┼───────────────────────────────────────────────────────────────\n",
       "   1 │ 🕋             10  13.6664  AR,CL,CO,EC,ES,HN,MX,PE,US,VE,ALL\n",
       "   2 │ 🖨              10  13.4959  AR,CL,CO,EC,ES,GT,MX,PE,US,VE,ALL\n",
       "   3 │ 🖲              10  14.2037  AR,CL,CO,EC,ES,MX,PE,US,UY,VE,ALL\n",
       "   4 │ 🗄              10  14.0817  AR,CL,CO,EC,ES,HN,MX,PY,US,UY,ALL\n",
       "   5 │ 🛅             10  13.9273  AR,BR,CL,CO,DO,EC,ES,MX,PE,US,ALL\n",
       "   6 │ 🥠             10  13.9888  AR,CL,CO,CR,ES,MX,PA,PE,US,VE,ALL\n",
       "   7 │ 🥼             10  13.9269  AR,CO,CR,EC,ES,HN,MX,US,UY,VE,ALL\n",
       "   8 │ 🥾             10  13.5012  AR,BO,CL,CO,EC,ES,MX,PE,SV,US,ALL\n",
       "   9 │ 🧕             10  13.5994  AR,CL,CO,ES,MX,PA,PE,US,UY,VE,ALL\n",
       "  10 │ 🧮             10  14.1397  AR,CL,CO,EC,ES,MX,PA,PY,US,UY,ALL"
      ]
     },
     "metadata": {},
     "output_type": "display_data"
    }
   ],
   "source": [
    "C = subset(common, :n_regions => c -> c .>= 10)\n",
    "sort!(C, :n_regions, by=last, rev=true)\n",
    "first(C, 10) |> display\n",
    "last(C, 10) |> display"
   ]
  }
 ],
 "metadata": {
  "kernelspec": {
   "display_name": "Julia 1.7.0",
   "language": "julia",
   "name": "julia-1.7.0"
  },
  "language_info": {
   "file_extension": ".jl",
   "mimetype": "application/julia",
   "name": "julia",
   "version": "1.7.0"
  },
  "orig_nbformat": 4
 },
 "nbformat": 4,
 "nbformat_minor": 2
}
