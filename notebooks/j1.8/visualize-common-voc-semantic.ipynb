{
 "cells": [
  {
   "cell_type": "code",
   "execution_count": 1,
   "metadata": {},
   "outputs": [
    {
     "name": "stderr",
     "output_type": "stream",
     "text": [
      "\u001b[32m\u001b[1m  Activating\u001b[22m\u001b[39m project at `~/Research/RegionalSpanish/notebooks/j1.8`\n"
     ]
    }
   ],
   "source": [
    "using Pkg\n",
    "Pkg.activate(\".\")"
   ]
  },
  {
   "cell_type": "code",
   "execution_count": 2,
   "metadata": {},
   "outputs": [
    {
     "name": "stdout",
     "output_type": "stream",
     "text": [
      "\u001b[32m\u001b[1mStatus\u001b[22m\u001b[39m `~/Research/RegionalSpanish/notebooks/j1.8/Project.toml`\n",
      " \u001b[90m [336ed68f] \u001b[39mCSV v0.10.7\n",
      " \u001b[90m [a93c6f00] \u001b[39mDataFrames v1.4.3\n",
      " \u001b[90m [c27321d9] \u001b[39mGlob v1.3.0\n",
      " \u001b[90m [f67ccb44] \u001b[39mHDF5 v0.16.12\n",
      " \u001b[90m [b20bd276] \u001b[39mInvertedFiles v0.4.3\n",
      " \u001b[90m [033835bb] \u001b[39mJLD2 v0.4.28\n",
      " \u001b[90m [682c06a0] \u001b[39mJSON v0.21.3\n",
      "\u001b[32m⌃\u001b[39m\u001b[90m [91a5bcdd] \u001b[39mPlots v1.36.1\n",
      " \u001b[90m [ca7ab67e] \u001b[39mSimSearchManifoldLearning v0.2.6 `~/Research/SimSearchManifoldLearning.jl`\n",
      " \u001b[90m [053f045d] \u001b[39mSimilaritySearch v0.9.8\n",
      " \u001b[90m [2913bbd2] \u001b[39mStatsBase v0.33.21\n",
      " \u001b[90m [7f6f6c8a] \u001b[39mTextSearch v0.13.2\n",
      " \u001b[90m [0ae4a718] \u001b[39mVegaDatasets v2.1.1\n",
      " \u001b[90m [112f6efa] \u001b[39mVegaLite v2.6.0\n",
      "\u001b[36m\u001b[1mInfo\u001b[22m\u001b[39m Packages marked with \u001b[32m⌃\u001b[39m have new versions available\n"
     ]
    }
   ],
   "source": [
    "#=Pkg.add([\n",
    "    PackageSpec(name=\"SimilaritySearch\", version=\"0.9\"),\n",
    "    PackageSpec(name=\"SimSearchManifoldLearning\", version=\"0.2\"),\n",
    "    PackageSpec(name=\"TextSearch\", version=\"0.13\"),\n",
    "    PackageSpec(name=\"JLD2\", version=\"0.16\"),\n",
    "    PackageSpec(name=\"HDF5\", version=\"0.4\"),\n",
    "    PackageSpec(name=\"CSV\", version=\"0.10\"),\n",
    "    PackageSpec(name=\"DataFrames\", version=\"1\"),\n",
    "    PackageSpec(name=\"Glob\", version=\"1\"),\n",
    "    PackageSpec(name=\"StatsBase\", version=\"0.33\"),\n",
    "    PackageSpec(name=\"Plots\", version=\"1\"),\n",
    "    PackageSpec(name=\"JSON\", version=\"0.21\"),\n",
    "])\n",
    "=#\n",
    "Pkg.status()"
   ]
  },
  {
   "cell_type": "code",
   "execution_count": null,
   "metadata": {},
   "outputs": [],
   "source": []
  },
  {
   "cell_type": "code",
   "execution_count": 3,
   "metadata": {},
   "outputs": [],
   "source": [
    "#Pkg.develop(path=\"/home/sadit/Research/SimSearchManifoldLearning.jl\")"
   ]
  },
  {
   "cell_type": "code",
   "execution_count": 4,
   "metadata": {
    "tags": []
   },
   "outputs": [
    {
     "name": "stderr",
     "output_type": "stream",
     "text": [
      "┌ Info: Precompiling CSV [336ed68f-0bac-5ca0-87d4-7b16caf5d00b]\n",
      "└ @ Base loading.jl:1662\n",
      "┌ Info: Precompiling Plots [91a5bcdd-55d7-5caf-9e0b-520d859cae80]\n",
      "└ @ Base loading.jl:1662\n"
     ]
    }
   ],
   "source": [
    "using SimilaritySearch, SimSearchManifoldLearning, TextSearch, LinearAlgebra, HDF5, JSON, JLD2, CSV, DataFrames, Glob, StatsBase, Plots"
   ]
  },
  {
   "cell_type": "code",
   "execution_count": 5,
   "metadata": {},
   "outputs": [
    {
     "data": {
      "text/plain": [
       "\"/home/sadit/Research/RegionalSpanish/notebooks/j1.8\""
      ]
     },
     "execution_count": 5,
     "metadata": {},
     "output_type": "execute_result"
    }
   ],
   "source": [
    "pwd()"
   ]
  },
  {
   "cell_type": "code",
   "execution_count": 6,
   "metadata": {},
   "outputs": [
    {
     "name": "stderr",
     "output_type": "stream",
     "text": [
      "┌ Info: SubString{String}[\"ALL\", \"AR\", \"BO\", \"BR\", \"CA\", \"CL\", \"CO\", \"CR\", \"CU\", \"DO\", \"EC\", \"ES\", \"FR\", \"GB\", \"GT\", \"HN\", \"MX\", \"NI\", \"PA\", \"PE\", \"PR\", \"PY\", \"SV\", \"US\", \"UY\", \"VE\"]\n",
      "└ @ Main In[6]:7\n"
     ]
    }
   ],
   "source": [
    "edir = \"../../data/SpanishLang/embeddings\"\n",
    "k = 33\n",
    "common = CSV.read(\"../../data/SpanishLang/common-tokens-per-region.tsv.gz\", DataFrame, delim='\\t')\n",
    "subset!(common, :n_regions => n -> n .> 10)\n",
    "cclist = split(first(subset(common, :n_regions => n -> n .== 26).country_codes), ',')\n",
    "cclist = [cc for cc in cclist if cc != \"GQ\"]  # removing GQ since it has too few intersecting tokens\n",
    "@info sort!(cclist)"
   ]
  },
  {
   "cell_type": "code",
   "execution_count": null,
   "metadata": {},
   "outputs": [],
   "source": []
  },
  {
   "cell_type": "code",
   "execution_count": 7,
   "metadata": {},
   "outputs": [
    {
     "data": {
      "text/plain": [
       "encode_model (generic function with 1 method)"
      ]
     },
     "execution_count": 7,
     "metadata": {},
     "output_type": "execute_result"
    }
   ],
   "source": [
    "function encode_model(knns, dists, vocab)\n",
    "    #vocab = Symbol.(vocab)\n",
    "    #  ivocab = Dict(token => i for (i, token) in enumerate(vocab))\n",
    "    obj = Dict{UInt64,Float64}()\n",
    "    for (i, (idcol, distcol)) in enumerate(zip(eachcol(knns), eachcol(dists)))\n",
    "        for j in eachindex(idcol, distcol)\n",
    "            w = (vocab[i], vocab[idcol[j]])\n",
    "            s = hash(w)\n",
    "            obj[s] = 1.0 + 1 / (1 + distcol[j])\n",
    "        end\n",
    "    end\n",
    " \n",
    "    normalize!(obj)\n",
    "end"
   ]
  },
  {
   "cell_type": "code",
   "execution_count": null,
   "metadata": {},
   "outputs": [],
   "source": []
  },
  {
   "cell_type": "code",
   "execution_count": 8,
   "metadata": {},
   "outputs": [
    {
     "name": "stderr",
     "output_type": "stream",
     "text": [
      "┌ Info: ../../data/SpanishLang/embeddings/knns-common-tokens.cc=ALL-1.7m.k=33.h5\n",
      "└ @ Main In[8]:5\n",
      "┌ Info: ../../data/SpanishLang/embeddings/knns-common-tokens.cc=AR.k=33.h5\n",
      "└ @ Main In[8]:5\n",
      "┌ Info: ../../data/SpanishLang/embeddings/knns-common-tokens.cc=BO.k=33.h5\n",
      "└ @ Main In[8]:5\n",
      "┌ Info: ../../data/SpanishLang/embeddings/knns-common-tokens.cc=BR.k=33.h5\n",
      "└ @ Main In[8]:5\n",
      "┌ Info: ../../data/SpanishLang/embeddings/knns-common-tokens.cc=CA.k=33.h5\n",
      "└ @ Main In[8]:5\n",
      "┌ Info: ../../data/SpanishLang/embeddings/knns-common-tokens.cc=CL.k=33.h5\n",
      "└ @ Main In[8]:5\n",
      "┌ Info: ../../data/SpanishLang/embeddings/knns-common-tokens.cc=CO.k=33.h5\n",
      "└ @ Main In[8]:5\n",
      "┌ Info: ../../data/SpanishLang/embeddings/knns-common-tokens.cc=CR.k=33.h5\n",
      "└ @ Main In[8]:5\n",
      "┌ Info: ../../data/SpanishLang/embeddings/knns-common-tokens.cc=CU.k=33.h5\n",
      "└ @ Main In[8]:5\n",
      "┌ Info: ../../data/SpanishLang/embeddings/knns-common-tokens.cc=DO.k=33.h5\n",
      "└ @ Main In[8]:5\n",
      "┌ Info: ../../data/SpanishLang/embeddings/knns-common-tokens.cc=EC.k=33.h5\n",
      "└ @ Main In[8]:5\n",
      "┌ Info: ../../data/SpanishLang/embeddings/knns-common-tokens.cc=ES.k=33.h5\n",
      "└ @ Main In[8]:5\n",
      "┌ Info: ../../data/SpanishLang/embeddings/knns-common-tokens.cc=FR.k=33.h5\n",
      "└ @ Main In[8]:5\n",
      "┌ Info: ../../data/SpanishLang/embeddings/knns-common-tokens.cc=GB.k=33.h5\n",
      "└ @ Main In[8]:5\n",
      "┌ Info: ../../data/SpanishLang/embeddings/knns-common-tokens.cc=GT.k=33.h5\n",
      "└ @ Main In[8]:5\n",
      "┌ Info: ../../data/SpanishLang/embeddings/knns-common-tokens.cc=HN.k=33.h5\n",
      "└ @ Main In[8]:5\n",
      "┌ Info: ../../data/SpanishLang/embeddings/knns-common-tokens.cc=MX.k=33.h5\n",
      "└ @ Main In[8]:5\n",
      "┌ Info: ../../data/SpanishLang/embeddings/knns-common-tokens.cc=NI.k=33.h5\n",
      "└ @ Main In[8]:5\n",
      "┌ Info: ../../data/SpanishLang/embeddings/knns-common-tokens.cc=PA.k=33.h5\n",
      "└ @ Main In[8]:5\n",
      "┌ Info: ../../data/SpanishLang/embeddings/knns-common-tokens.cc=PE.k=33.h5\n",
      "└ @ Main In[8]:5\n",
      "┌ Info: ../../data/SpanishLang/embeddings/knns-common-tokens.cc=PR.k=33.h5\n",
      "└ @ Main In[8]:5\n",
      "┌ Info: ../../data/SpanishLang/embeddings/knns-common-tokens.cc=PY.k=33.h5\n",
      "└ @ Main In[8]:5\n",
      "┌ Info: ../../data/SpanishLang/embeddings/knns-common-tokens.cc=SV.k=33.h5\n",
      "└ @ Main In[8]:5\n",
      "┌ Info: ../../data/SpanishLang/embeddings/knns-common-tokens.cc=US.k=33.h5\n",
      "└ @ Main In[8]:5\n",
      "┌ Info: ../../data/SpanishLang/embeddings/knns-common-tokens.cc=UY.k=33.h5\n",
      "└ @ Main In[8]:5\n",
      "┌ Info: ../../data/SpanishLang/embeddings/knns-common-tokens.cc=VE.k=33.h5\n",
      "└ @ Main In[8]:5\n"
     ]
    },
    {
     "data": {
      "text/plain": [
       "26"
      ]
     },
     "execution_count": 8,
     "metadata": {},
     "output_type": "execute_result"
    }
   ],
   "source": [
    "db = []\n",
    "\n",
    "for cc in cclist\n",
    "    modelname = only(glob(joinpath(edir, \"knns-common-tokens.cc=$cc*.h5\")))\n",
    "    @info modelname\n",
    "    knns_, dists_, vocab_ = load(modelname, \"knns\", \"dists\", \"vocab\")\n",
    "    push!(db, encode_model(knns_, dists_, vocab_))\n",
    "end\n",
    "\n",
    "length(db)"
   ]
  },
  {
   "cell_type": "code",
   "execution_count": 9,
   "metadata": {},
   "outputs": [
    {
     "name": "stdout",
     "output_type": "stream",
     "text": [
      "  2.592015 seconds (29.92 k allocations: 1.529 MiB, 1.26% compilation time)\n",
      "  2.376927 seconds (49 allocations: 1.156 KiB)\n",
      "  1.342909 seconds (47 allocations: 1.109 KiB)\n",
      "  1.600180 seconds (45 allocations: 1.062 KiB)\n",
      "  1.354652 seconds (43 allocations: 1.016 KiB)\n",
      "  1.999404 seconds (42 allocations: 1024 bytes)\n",
      "  1.851218 seconds (39 allocations: 944 bytes)\n",
      "  1.516611 seconds (37 allocations: 896 bytes)\n",
      "  0.420192 seconds (35 allocations: 848 bytes)\n",
      "  1.415582 seconds (33 allocations: 800 bytes)\n",
      "  1.453412 seconds (31 allocations: 752 bytes)\n",
      "  1.378275 seconds (29 allocations: 704 bytes)\n",
      "  0.873072 seconds (27 allocations: 656 bytes)\n",
      "  0.859314 seconds (25 allocations: 608 bytes)\n",
      "  0.845933 seconds (23 allocations: 560 bytes)\n",
      "  0.631785 seconds (21 allocations: 512 bytes)\n",
      "  0.927199 seconds (19 allocations: 464 bytes)\n",
      "  0.531577 seconds (17 allocations: 416 bytes)\n",
      "  0.662624 seconds (15 allocations: 368 bytes)\n",
      "  0.605816 seconds (13 allocations: 320 bytes)\n",
      "  0.156740 seconds (11 allocations: 272 bytes)\n",
      "  0.420747 seconds (9 allocations: 224 bytes)\n",
      "  0.224945 seconds (7 allocations: 176 bytes)\n",
      "  0.258726 seconds (5 allocations: 128 bytes)\n",
      "  0.127599 seconds (3 allocations: 80 bytes)\n",
      "  0.000002 seconds (1 allocation: 32 bytes)\n"
     ]
    }
   ],
   "source": [
    "dist = NormalizedCosineDistance()\n",
    "n = length(cclist)\n",
    "A = Matrix{Float64}(undef, n, n)\n",
    "\n",
    "for (i, cc) in enumerate(cclist)\n",
    "    u = db[i]\n",
    "    A[i, i] = 0.0\n",
    "    @time for j in i+1:n\n",
    "        v = db[j]\n",
    "        A[j, i] = A[i, j] = evaluate(dist, u, v)\n",
    "    end\n",
    "end"
   ]
  },
  {
   "cell_type": "code",
   "execution_count": 37,
   "metadata": {},
   "outputs": [
    {
     "data": {
      "text/plain": [
       "1.0e-5"
      ]
     },
     "execution_count": 37,
     "metadata": {},
     "output_type": "execute_result"
    }
   ],
   "source": [
    "min_dist = 0.2\n",
    "k = 10\n",
    "neg_sample_rate = 5\n",
    "local_connectivity = 1\n",
    "n_epochs = 300\n",
    "tol = 1e-5"
   ]
  },
  {
   "cell_type": "code",
   "execution_count": 38,
   "metadata": {},
   "outputs": [
    {
     "name": "stdout",
     "output_type": "stream",
     "text": [
      "  0.000209 seconds (5 allocations: 2.719 KiB)\n"
     ]
    },
    {
     "name": "stderr",
     "output_type": "stream",
     "text": [
      "*** computing graph\n",
      "*** layout embedding SpectralLayout\n",
      "*** fit ab / embedding\n",
      "*** opt embedding\n",
      "UMAP construction time cost report:\n",
      "- fuzzy graph: 5.5835e-5\n",
      "- embedding init: 0.000395652\n",
      "- embedding opt: 0.050800567\n",
      "\n"
     ]
    },
    {
     "data": {
      "text/plain": [
       "UMAP(sparse(Int32[2, 6, 7, 12, 17, 20, 24, 25, 26, 1  …  7, 10, 11, 12, 17, 19, 20, 22, 24, 25], [1, 1, 1, 1, 1, 1, 1, 1, 1, 2  …  26, 26, 26, 26, 26, 26, 26, 26, 26, 26], Float32[1.0, 0.23422495, 0.40251982, 1.0, 1.0, 0.08036061, 0.23059306, 0.073942505, 0.21444498, 1.0  …  1.0, 0.132056, 0.51548344, 0.31792724, 0.2804309, 0.052895986, 0.6511482, 0.034596212, 1.0, 0.24668927], 26, 26), Float32[5.1880555 4.633945 … 4.405363 4.5548735; 1.1139789 1.8998613 … 1.189578 0.24636501; 1.5559908 0.7264075 … -0.3179714 1.3447616], 10, 1.2620581f0, 1.0030054f0, PrecomputedAffinityMatrix{Matrix{Float64}}([0.0 0.5141432491661109 … 0.6808083448433957 0.62942088710882; 0.5141432491661109 0.0 … 0.6202485716523354 0.6363045953112867; … ; 0.6808083448433957 0.6202485716523354 … 0.0 0.6251938922092478; 0.62942088710882 0.6363045953112867 … 0.6251938922092478 0.0]))"
      ]
     },
     "execution_count": 38,
     "metadata": {},
     "output_type": "execute_result"
    }
   ],
   "source": [
    "U2 = fit(UMAP, PrecomputedAffinityMatrix(A); maxoutdim=2, layout=SpectralLayout(),\n",
    "        k, local_connectivity, neg_sample_rate, min_dist, n_epochs, tol)\n",
    "U3 = fit(U2, 3)"
   ]
  },
  {
   "cell_type": "code",
   "execution_count": null,
   "metadata": {},
   "outputs": [],
   "source": []
  },
  {
   "cell_type": "code",
   "execution_count": 39,
   "metadata": {},
   "outputs": [
    {
     "data": {
      "image/svg+xml": [
       "<?xml version=\"1.0\" encoding=\"UTF-8\"?>\n",
       "<!DOCTYPE svg PUBLIC \"-//W3C//DTD SVG 1.1//EN\"\n",
       " \"http://www.w3.org/Graphics/SVG/1.1/DTD/svg11.dtd\">\n",
       "<svg xmlns=\"http://www.w3.org/2000/svg\" version=\"1.1\"\n",
       "     width=\"180mm\" height=\"25mm\"\n",
       "     viewBox=\"0 0 26 1\" preserveAspectRatio=\"none\"\n",
       "     shape-rendering=\"crispEdges\" stroke=\"none\">\n",
       "<rect width=\".86\" height=\".96\" x=\"0\" y=\"0\" fill=\"#FFB5FF\" />\n",
       "<rect width=\".86\" height=\".96\" x=\"1\" y=\"0\" fill=\"#FFDBCB\" />\n",
       "<rect width=\".86\" height=\".96\" x=\"2\" y=\"0\" fill=\"#9C4CD2\" />\n",
       "<rect width=\".86\" height=\".96\" x=\"3\" y=\"0\" fill=\"#BC2878\" />\n",
       "<rect width=\".86\" height=\".96\" x=\"4\" y=\"0\" fill=\"#BD24D3\" />\n",
       "<rect width=\".86\" height=\".96\" x=\"5\" y=\"0\" fill=\"#FF90E7\" />\n",
       "<rect width=\".86\" height=\".96\" x=\"6\" y=\"0\" fill=\"#FFB29F\" />\n",
       "<rect width=\".86\" height=\".96\" x=\"7\" y=\"0\" fill=\"#DD4EC2\" />\n",
       "<rect width=\".86\" height=\".96\" x=\"8\" y=\"0\" fill=\"#A006F6\" />\n",
       "<rect width=\".86\" height=\".96\" x=\"9\" y=\"0\" fill=\"#E297CF\" />\n",
       "<rect width=\".86\" height=\".96\" x=\"10\" y=\"0\" fill=\"#FF7BB2\" />\n",
       "<rect width=\".86\" height=\".96\" x=\"11\" y=\"0\" fill=\"#FFC6D1\" />\n",
       "<rect width=\".86\" height=\".96\" x=\"12\" y=\"0\" fill=\"#93517E\" />\n",
       "<rect width=\".86\" height=\".96\" x=\"13\" y=\"0\" fill=\"#852596\" />\n",
       "<rect width=\".86\" height=\".96\" x=\"14\" y=\"0\" fill=\"#BF6998\" />\n",
       "<rect width=\".86\" height=\".96\" x=\"15\" y=\"0\" fill=\"#A30972\" />\n",
       "<rect width=\".86\" height=\".96\" x=\"16\" y=\"0\" fill=\"#FFBAF7\" />\n",
       "<rect width=\".86\" height=\".96\" x=\"17\" y=\"0\" fill=\"#AD3EFF\" />\n",
       "<rect width=\".86\" height=\".96\" x=\"18\" y=\"0\" fill=\"#F66371\" />\n",
       "<rect width=\".86\" height=\".96\" x=\"19\" y=\"0\" fill=\"#FF8877\" />\n",
       "<rect width=\".86\" height=\".96\" x=\"20\" y=\"0\" fill=\"#8B21EF\" />\n",
       "<rect width=\".86\" height=\".96\" x=\"21\" y=\"0\" fill=\"#E69559\" />\n",
       "<rect width=\".86\" height=\".96\" x=\"22\" y=\"0\" fill=\"#B24E3B\" />\n",
       "<rect width=\".86\" height=\".96\" x=\"23\" y=\"0\" fill=\"#FEBAB5\" />\n",
       "<rect width=\".86\" height=\".96\" x=\"24\" y=\"0\" fill=\"#FFB95F\" />\n",
       "<rect width=\".86\" height=\".96\" x=\"25\" y=\"0\" fill=\"#FF8BFF\" />\n",
       "</svg>"
      ],
      "text/plain": [
       "26-element Array{RGB{Float32},1} with eltype RGB{Float32}:\n",
       " RGB{Float32}(1.0f0,0.70971334f0,1.0f0)\n",
       " RGB{Float32}(1.0f0,0.85766053f0,0.7949749f0)\n",
       " RGB{Float32}(0.6111453f0,0.29707736f0,0.824991f0)\n",
       " RGB{Float32}(0.73561347f0,0.15876138f0,0.46963242f0)\n",
       " RGB{Float32}(0.7422706f0,0.13968652f0,0.8289012f0)\n",
       " RGB{Float32}(1.0f0,0.56458986f0,0.9070461f0)\n",
       " RGB{Float32}(1.0f0,0.6961044f0,0.6243004f0)\n",
       " RGB{Float32}(0.8651379f0,0.30562383f0,0.7612373f0)\n",
       " RGB{Float32}(0.6255696f0,0.021666437f0,0.96340317f0)\n",
       " RGB{Float32}(0.8858235f0,0.59056175f0,0.8128333f0)\n",
       " RGB{Float32}(1.0f0,0.48106325f0,0.6990201f0)\n",
       " RGB{Float32}(1.0f0,0.7769271f0,0.81981426f0)\n",
       " RGB{Float32}(0.5778471f0,0.31595495f0,0.4936749f0)\n",
       " RGB{Float32}(0.52049714f0,0.14640537f0,0.58722126f0)\n",
       " RGB{Float32}(0.74918306f0,0.4112243f0,0.59664506f0)\n",
       " RGB{Float32}(0.6409203f0,0.034948707f0,0.44759017f0)\n",
       " RGB{Float32}(1.0f0,0.72991526f0,0.96928f0)\n",
       " RGB{Float32}(0.6794292f0,0.24137625f0,1.0f0)\n",
       " RGB{Float32}(0.9656233f0,0.3900562f0,0.4450727f0)\n",
       " RGB{Float32}(1.0f0,0.53259975f0,0.46490282f0)\n",
       " RGB{Float32}(0.54359627f0,0.12792799f0,0.93654203f0)\n",
       " RGB{Float32}(0.900777f0,0.58315897f0,0.3476956f0)\n",
       " RGB{Float32}(0.6980524f0,0.30579156f0,0.23249161f0)\n",
       " RGB{Float32}(0.99581385f0,0.73100567f0,0.71046484f0)\n",
       " RGB{Float32}(1.0f0,0.7239454f0,0.37088022f0)\n",
       " RGB{Float32}(1.0f0,0.54637975f0,1.0f0)"
      ]
     },
     "execution_count": 39,
     "metadata": {},
     "output_type": "execute_result"
    }
   ],
   "source": [
    "X = predict(U2)\n",
    "C = predict(U3)\n",
    "#C .= C .+ 5\n",
    "\n",
    "for i in (1, 2, 3)\n",
    "    v = @view C[i, :]\n",
    "    s = 4 * std(v)\n",
    "    v .= v ./ s .+ 0.5\n",
    "    \n",
    "    for j in eachindex(v)\n",
    "        v[j] = clamp(v[j],  0, 1)\n",
    "    end\n",
    "end\n",
    "\n",
    "C = [RGB(c...) for c in eachcol(C)]"
   ]
  },
  {
   "cell_type": "code",
   "execution_count": 40,
   "metadata": {},
   "outputs": [
    {
     "name": "stderr",
     "output_type": "stream",
     "text": [
      "┌ Info: (:r, :g, :b)\n",
      "└ @ Main In[40]:13\n"
     ]
    },
    {
     "data": {
      "image/png": "[encoded data removed]"
     },
     "execution_count": 40,
     "metadata": {},
     "output_type": "execute_result"
    }
   ],
   "source": [
    "\n",
    "#poslist = rand([:right, :left, :bottom, :top], length(cclist))\n",
    "poslist = rand([:bottom], length(cclist))\n",
    "\n",
    "scatter(X[1, :], X[2, :], c=C, label=\"\",\n",
    "    series_annotations=[text(cclist[i], poslist[i], 10, C[i]) for i in eachindex(cclist)], xticks=nothing, yticks=nothing, xaxis=false, yaxis=false,\n",
    "    ms=4, ma=0.7, fa=0.7, la=0.7, alpha=0.7)\n",
    "#scatter!(X[1, :], X[2, :], c=C, label=\"\",\n",
    "#    series_annotations=[text(cclist[i], poslist[i], 10, C[i]) for i in eachindex(cclist)], xticks=nothing, yticks=nothing, xaxis=false, yaxis=false,\n",
    "#    ms=5, ma=0.5, fa=0.5, la=0.5, alpha=0.5)\n",
    "savefig(\"../../figs/fig-voc-semantic-umap.pdf\")\n",
    "savefig(\"../../figs/fig-voc-semantic-umap.png\")\n",
    "@info fieldnames(typeof(C[1]))\n",
    "open(\"../../figs/colormap-common-voc-semantic-$k.csv\", \"w\") do f\n",
    "    println(f, \"country,R,G,B\")\n",
    "    for (i, (cc, c)) in enumerate(zip(cclist, C))\n",
    "        println(f, cc, \",\", c.r, \",\", c.g, \",\", c.b)\n",
    "    end\n",
    "end\n",
    "plot!(fmt=:png)"
   ]
  },
  {
   "cell_type": "code",
   "execution_count": 41,
   "metadata": {},
   "outputs": [],
   "source": [
    "#=D = Dict(zip(cclist, db))\n",
    "@show [\n",
    "evaluate(dist, D[\"MX\"], D[\"MX\"])\n",
    "evaluate(dist, D[\"MX\"], D[\"ALL\"])\n",
    "evaluate(dist, D[\"MX\"], D[\"SV\"])\n",
    "evaluate(dist, D[\"ES\"], D[\"GQ\"])\n",
    "]\n",
    "\n",
    "@info D[\"MX\"][:iglesia]\n",
    "@info D[\"US\"][:iglesia]\n",
    "=#"
   ]
  },
  {
   "cell_type": "code",
   "execution_count": 42,
   "metadata": {},
   "outputs": [
    {
     "data": {
      "image/png": "[encoded data removed]"
     },
     "execution_count": 42,
     "metadata": {},
     "output_type": "execute_result"
    }
   ],
   "source": [
    "heatmap(cclist, cclist, A, ticks = :all, xrot=90)\n",
    "savefig(\"../../figs/fig-common-words-semantic-affinity-matrix.pdf\")\n",
    "savefig(\"../../figs/fig-common-words-semantic-affinity-matrix.png\")\n",
    "plot!(fmt=:png)"
   ]
  }
 ],
 "metadata": {
  "kernelspec": {
   "display_name": "Julia 32c 1.8.0",
   "language": "julia",
   "name": "julia-32c-1.8"
  },
  "language_info": {
   "file_extension": ".jl",
   "mimetype": "application/julia",
   "name": "julia",
   "version": "1.8.0"
  }
 },
 "nbformat": 4,
 "nbformat_minor": 4
}
