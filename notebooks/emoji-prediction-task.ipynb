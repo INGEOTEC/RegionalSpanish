{
 "cells": [
  {
   "cell_type": "code",
   "execution_count": 1,
   "metadata": {},
   "outputs": [
    {
     "name": "stderr",
     "output_type": "stream",
     "text": [
      "\u001b[32m\u001b[1m  Activating\u001b[22m\u001b[39m project at `~/Research/RegionalSpanish/notebooks`\n"
     ]
    }
   ],
   "source": [
    "using Pkg\n",
    "Pkg.activate(\".\")\n",
    "\n",
    "using Plots, StatsBase, CSV, DataFrames, Formatting, Latexify"
   ]
  },
  {
   "cell_type": "code",
   "execution_count": 2,
   "metadata": {},
   "outputs": [
    {
     "data": {
      "text/html": [
       "<div class=\"data-frame\"><p>702 rows × 5 columns</p><table class=\"data-frame\"><thead><tr><th></th><th>country_code</th><th>model</th><th>n</th><th>precision</th><th>recall</th></tr><tr><th></th><th title=\"String3\">String3</th><th title=\"String3\">String3</th><th title=\"Int64\">Int64</th><th title=\"Float64\">Float64</th><th title=\"Float64\">Float64</th></tr></thead><tbody><tr><th>1</th><td>AR</td><td>ALL</td><td>92178</td><td>0.4777</td><td>0.4777</td></tr><tr><th>2</th><td>AR</td><td>AR</td><td>92178</td><td>0.4885</td><td>0.4885</td></tr><tr><th>3</th><td>AR</td><td>BO</td><td>92178</td><td>0.4846</td><td>0.4846</td></tr><tr><th>4</th><td>AR</td><td>BR</td><td>92178</td><td>0.4866</td><td>0.4866</td></tr><tr><th>5</th><td>AR</td><td>CA</td><td>92178</td><td>0.4855</td><td>0.4855</td></tr><tr><th>6</th><td>AR</td><td>CL</td><td>92178</td><td>0.4864</td><td>0.4864</td></tr><tr><th>7</th><td>AR</td><td>CO</td><td>92178</td><td>0.4879</td><td>0.4879</td></tr><tr><th>8</th><td>AR</td><td>CR</td><td>92178</td><td>0.4866</td><td>0.4866</td></tr><tr><th>9</th><td>AR</td><td>CU</td><td>92178</td><td>0.4792</td><td>0.4792</td></tr><tr><th>10</th><td>AR</td><td>DO</td><td>92178</td><td>0.4852</td><td>0.4852</td></tr><tr><th>11</th><td>AR</td><td>EC</td><td>92178</td><td>0.4878</td><td>0.4878</td></tr><tr><th>12</th><td>AR</td><td>ES</td><td>92178</td><td>0.4842</td><td>0.4842</td></tr><tr><th>13</th><td>AR</td><td>FR</td><td>92178</td><td>0.4861</td><td>0.4861</td></tr><tr><th>14</th><td>AR</td><td>GB</td><td>92178</td><td>0.4861</td><td>0.4861</td></tr><tr><th>15</th><td>AR</td><td>GQ</td><td>92178</td><td>0.468</td><td>0.468</td></tr><tr><th>16</th><td>AR</td><td>GT</td><td>92178</td><td>0.4862</td><td>0.4862</td></tr><tr><th>17</th><td>AR</td><td>HN</td><td>92178</td><td>0.4862</td><td>0.4862</td></tr><tr><th>18</th><td>AR</td><td>MX</td><td>92178</td><td>0.4869</td><td>0.4869</td></tr><tr><th>19</th><td>AR</td><td>NI</td><td>92178</td><td>0.4864</td><td>0.4864</td></tr><tr><th>20</th><td>AR</td><td>PA</td><td>92178</td><td>0.4862</td><td>0.4862</td></tr><tr><th>21</th><td>AR</td><td>PE</td><td>92178</td><td>0.488</td><td>0.488</td></tr><tr><th>22</th><td>AR</td><td>PR</td><td>92178</td><td>0.481</td><td>0.481</td></tr><tr><th>23</th><td>AR</td><td>PY</td><td>92178</td><td>0.489</td><td>0.489</td></tr><tr><th>24</th><td>AR</td><td>SV</td><td>92178</td><td>0.4863</td><td>0.4863</td></tr><tr><th>25</th><td>AR</td><td>US</td><td>92178</td><td>0.4871</td><td>0.4871</td></tr><tr><th>26</th><td>AR</td><td>UY</td><td>92178</td><td>0.49</td><td>0.49</td></tr><tr><th>27</th><td>AR</td><td>VE</td><td>92178</td><td>0.4878</td><td>0.4878</td></tr><tr><th>28</th><td>BO</td><td>ALL</td><td>748</td><td>0.4037</td><td>0.4037</td></tr><tr><th>29</th><td>BO</td><td>AR</td><td>748</td><td>0.4024</td><td>0.4024</td></tr><tr><th>30</th><td>BO</td><td>BO</td><td>748</td><td>0.389</td><td>0.389</td></tr><tr><th>&vellip;</th><td>&vellip;</td><td>&vellip;</td><td>&vellip;</td><td>&vellip;</td><td>&vellip;</td></tr></tbody></table></div>"
      ],
      "text/latex": [
       "\\begin{tabular}{r|ccccc}\n",
       "\t& country\\_code & model & n & precision & recall\\\\\n",
       "\t\\hline\n",
       "\t& String3 & String3 & Int64 & Float64 & Float64\\\\\n",
       "\t\\hline\n",
       "\t1 & AR & ALL & 92178 & 0.4777 & 0.4777 \\\\\n",
       "\t2 & AR & AR & 92178 & 0.4885 & 0.4885 \\\\\n",
       "\t3 & AR & BO & 92178 & 0.4846 & 0.4846 \\\\\n",
       "\t4 & AR & BR & 92178 & 0.4866 & 0.4866 \\\\\n",
       "\t5 & AR & CA & 92178 & 0.4855 & 0.4855 \\\\\n",
       "\t6 & AR & CL & 92178 & 0.4864 & 0.4864 \\\\\n",
       "\t7 & AR & CO & 92178 & 0.4879 & 0.4879 \\\\\n",
       "\t8 & AR & CR & 92178 & 0.4866 & 0.4866 \\\\\n",
       "\t9 & AR & CU & 92178 & 0.4792 & 0.4792 \\\\\n",
       "\t10 & AR & DO & 92178 & 0.4852 & 0.4852 \\\\\n",
       "\t11 & AR & EC & 92178 & 0.4878 & 0.4878 \\\\\n",
       "\t12 & AR & ES & 92178 & 0.4842 & 0.4842 \\\\\n",
       "\t13 & AR & FR & 92178 & 0.4861 & 0.4861 \\\\\n",
       "\t14 & AR & GB & 92178 & 0.4861 & 0.4861 \\\\\n",
       "\t15 & AR & GQ & 92178 & 0.468 & 0.468 \\\\\n",
       "\t16 & AR & GT & 92178 & 0.4862 & 0.4862 \\\\\n",
       "\t17 & AR & HN & 92178 & 0.4862 & 0.4862 \\\\\n",
       "\t18 & AR & MX & 92178 & 0.4869 & 0.4869 \\\\\n",
       "\t19 & AR & NI & 92178 & 0.4864 & 0.4864 \\\\\n",
       "\t20 & AR & PA & 92178 & 0.4862 & 0.4862 \\\\\n",
       "\t21 & AR & PE & 92178 & 0.488 & 0.488 \\\\\n",
       "\t22 & AR & PR & 92178 & 0.481 & 0.481 \\\\\n",
       "\t23 & AR & PY & 92178 & 0.489 & 0.489 \\\\\n",
       "\t24 & AR & SV & 92178 & 0.4863 & 0.4863 \\\\\n",
       "\t25 & AR & US & 92178 & 0.4871 & 0.4871 \\\\\n",
       "\t26 & AR & UY & 92178 & 0.49 & 0.49 \\\\\n",
       "\t27 & AR & VE & 92178 & 0.4878 & 0.4878 \\\\\n",
       "\t28 & BO & ALL & 748 & 0.4037 & 0.4037 \\\\\n",
       "\t29 & BO & AR & 748 & 0.4024 & 0.4024 \\\\\n",
       "\t30 & BO & BO & 748 & 0.389 & 0.389 \\\\\n",
       "\t$\\dots$ & $\\dots$ & $\\dots$ & $\\dots$ & $\\dots$ & $\\dots$ \\\\\n",
       "\\end{tabular}\n"
      ],
      "text/plain": [
       "\u001b[1m702×5 DataFrame\u001b[0m\n",
       "\u001b[1m Row \u001b[0m│\u001b[1m country_code \u001b[0m\u001b[1m model   \u001b[0m\u001b[1m n     \u001b[0m\u001b[1m precision \u001b[0m\u001b[1m recall  \u001b[0m\n",
       "\u001b[1m     \u001b[0m│\u001b[90m String3      \u001b[0m\u001b[90m String3 \u001b[0m\u001b[90m Int64 \u001b[0m\u001b[90m Float64   \u001b[0m\u001b[90m Float64 \u001b[0m\n",
       "─────┼──────────────────────────────────────────────────\n",
       "   1 │ AR            ALL      92178     0.4777   0.4777\n",
       "   2 │ AR            AR       92178     0.4885   0.4885\n",
       "   3 │ AR            BO       92178     0.4846   0.4846\n",
       "   4 │ AR            BR       92178     0.4866   0.4866\n",
       "   5 │ AR            CA       92178     0.4855   0.4855\n",
       "   6 │ AR            CL       92178     0.4864   0.4864\n",
       "   7 │ AR            CO       92178     0.4879   0.4879\n",
       "   8 │ AR            CR       92178     0.4866   0.4866\n",
       "   9 │ AR            CU       92178     0.4792   0.4792\n",
       "  10 │ AR            DO       92178     0.4852   0.4852\n",
       "  11 │ AR            EC       92178     0.4878   0.4878\n",
       "  ⋮  │      ⋮           ⋮       ⋮        ⋮         ⋮\n",
       " 693 │ VE            MX        5569     0.4338   0.4338\n",
       " 694 │ VE            NI        5569     0.3873   0.3873\n",
       " 695 │ VE            PA        5569     0.3999   0.3999\n",
       " 696 │ VE            PE        5569     0.4153   0.4153\n",
       " 697 │ VE            PR        5569     0.3581   0.3581\n",
       " 698 │ VE            PY        5569     0.3992   0.3992\n",
       " 699 │ VE            SV        5569     0.3895   0.3895\n",
       " 700 │ VE            US        5569     0.4268   0.4268\n",
       " 701 │ VE            UY        5569     0.4119   0.4119\n",
       " 702 │ VE            VE        5569     0.4281   0.4281\n",
       "\u001b[36m                                        681 rows omitted\u001b[0m"
      ]
     },
     "execution_count": 2,
     "metadata": {},
     "output_type": "execute_result"
    }
   ],
   "source": [
    "D = CSV.read(\"../data/SpanishLang/emoji-prediction.tsv.gz\", DataFrame, delim='\\t')"
   ]
  },
  {
   "cell_type": "code",
   "execution_count": 3,
   "metadata": {},
   "outputs": [
    {
     "name": "stderr",
     "output_type": "stream",
     "text": [
      "┌ Info: [\"country_code\", \"model\", \"n\", \"precision\", \"recall\"]\n",
      "└ @ Main In[3]:1\n",
      "┌ Info: [92178, 748, 5036, 1053, 22959, 40292, 4296, 319, 4443, 7501, 57915, 1015, 1174, 2, 4374, 3876, 68578, 3117, 6857, 7875, 49, 10840, 2539, 21263, 8987, 5569]\n",
      "└ @ Main In[3]:2\n"
     ]
    },
    {
     "data": {
      "text/plain": [
       "4-element Vector{String3}:\n",
       " \"BO\"\n",
       " \"CU\"\n",
       " \"GQ\"\n",
       " \"PR\""
      ]
     },
     "execution_count": 3,
     "metadata": {},
     "output_type": "execute_result"
    }
   ],
   "source": [
    "@info names(D)\n",
    "@info unique(D.n)\n",
    "E = subset(D, :n => n -> n .> 1000)\n",
    "model_list = Set(E.country_code)\n",
    "push!(model_list, \"ALL\")\n",
    "subset!(E, :model => col -> [c in model_list for c in col])\n",
    "setdiff(unique(D.country_code), unique(E.country_code))"
   ]
  },
  {
   "cell_type": "code",
   "execution_count": 4,
   "metadata": {},
   "outputs": [
    {
     "data": {
      "image/png": "[encoded data removed]"
     },
     "execution_count": 4,
     "metadata": {},
     "output_type": "execute_result"
    }
   ],
   "source": [
    "cclist = sort(String.(unique(E.country_code)))\n",
    "model_list = sort(String.(collect(model_list)))\n",
    "n = length(model_list) - 1\n",
    "\n",
    "C = zeros(Float64, n, n+1)\n",
    "for (i, cc) in enumerate(cclist)\n",
    "    CC = E[E.country_code .== cc, :]\n",
    "    sort!(CC, :model)\n",
    "    \n",
    "    for (j, row) in enumerate(eachrow(CC))\n",
    "        C[i, j] = row.recall\n",
    "    end\n",
    "end\n",
    "\n",
    "C_ = copy(C)\n",
    "for r in eachrow(C_)\n",
    "    #min_ = minimum(r)\n",
    "    #r .= (r .- min_)\n",
    "    max_ = maximum(r)\n",
    "    r .= r ./ max_\n",
    "end\n",
    "\n",
    "heatmap(model_list, cclist, C_, xrotation=90, xticks=:all, yticks=:all, xlabel=\"models\", ylabel=\"regions\")\n",
    "savefig(\"../figs/fig-heatmap-emoji15-prediction-task.pdf\")\n",
    "savefig(\"../figs/fig-heatmap-emoji15-prediction-task.png\")\n",
    "plot!(fmt=:png)\n",
    "#heatmap(model_list, cclist, C, xrotation=90, xticks=:all, yticks=:all, fmt=:png)"
   ]
  },
  {
   "cell_type": "code",
   "execution_count": 5,
   "metadata": {},
   "outputs": [
    {
     "name": "stdout",
     "output_type": "stream",
     "text": [
      "\\begin{tabular}{ccccc}\n",
      "country_code & min & max & local_rank & top5\\\\\n",
      "AR & 0.4777 & 0.49 & 3 & UY,PY,AR,PE,CO\\\\\n",
      "BR & 0.4611 & 0.4879 & 1 & BR,ALL,DO,PY,CR\\\\\n",
      "CA & 0.2934 & 0.3533 & 18 & CL,ALL,CO,MX,US\\\\\n",
      "CL & 0.4257 & 0.4494 & 1 & CL,US,MX,AR,ES\\\\\n",
      "CO & 0.4247 & 0.4365 & 2 & US,CO,VE,EC,GT\\\\\n",
      "CR & 0.3689 & 0.388 & 9 & US,VE,ALL,MX,CO\\\\\n",
      "DO & 0.3383 & 0.3813 & 13 & US,CO,VE,CL,ALL\\\\\n",
      "EC & 0.3797 & 0.4138 & 9 & MX,US,CL,ALL,CO\\\\\n",
      "ES & 0.4754 & 0.4855 & 1 & ES,AR,MX,US,VE\\\\\n",
      "FR & 0.4187 & 0.4424 & 4 & ALL,GT,EC,FR,PA\\\\\n",
      "GB & 0.3467 & 0.3756 & 23 & ALL,AR,ES,VE,MX\\\\\n",
      "GT & 0.3489 & 0.3882 & 13 & MX,US,ALL,CO,ES\\\\\n",
      "HN & 0.3354 & 0.3671 & 18 & PE,EC,BR,CR,UY\\\\\n",
      "MX & 0.4233 & 0.4335 & 1 & MX,GT,CR,US,CO\\\\\n",
      "NI & 0.3372 & 0.3718 & 18 & VE,CO,CL,MX,US\\\\\n",
      "PA & 0.3658 & 0.3927 & 10 & US,CL,VE,CO,PE\\\\\n",
      "PE & 0.3799 & 0.4196 & 9 & MX,ALL,US,AR,CO\\\\\n",
      "PY & 0.4244 & 0.4417 & 1 & PY,US,BR,PE,UY\\\\\n",
      "SV & 0.3226 & 0.3954 & 18 & US,CO,MX,CL,VE\\\\\n",
      "US & 0.4041 & 0.4244 & 1 & US,MX,CO,ES,CL\\\\\n",
      "UY & 0.4351 & 0.4572 & 1 & UY,US,CO,CL,VE\\\\\n",
      "VE & 0.3848 & 0.4338 & 4 & MX,CO,ES,VE,US\\\\\n",
      "\\end{tabular}\n",
      "\n"
     ]
    },
    {
     "data": {
      "text/plain": [
       "18-element Vector{Pair{String, Int64}}:\n",
       "  \"US\" => 17\n",
       "  \"CO\" => 15\n",
       "  \"MX\" => 13\n",
       "  \"VE\" => 10\n",
       " \"ALL\" => 9\n",
       "  \"CL\" => 9\n",
       "  \"ES\" => 6\n",
       "  \"AR\" => 5\n",
       "  \"UY\" => 4\n",
       "  \"PE\" => 4\n",
       "  \"BR\" => 3\n",
       "  \"EC\" => 3\n",
       "  \"GT\" => 3\n",
       "  \"CR\" => 3\n",
       "  \"PY\" => 3\n",
       "  \"FR\" => 1\n",
       "  \"DO\" => 1\n",
       "  \"PA\" => 1"
      ]
     },
     "execution_count": 5,
     "metadata": {},
     "output_type": "execute_result"
    }
   ],
   "source": [
    "C_ = copy(C)\n",
    "k = 5\n",
    "D = DataFrame(country_code=String[], min=Float64[], max=Float64[], local_rank=Int[], top5=String[])\n",
    "local_rank_counter = 0\n",
    "most_used = String[]\n",
    "model_rank = zeros(Float64, length(model_list))\n",
    "\n",
    "for (cc, row) in zip(cclist, eachrow(C_))\n",
    "    p = sortperm(row, rev=true)\n",
    "    model_rank .= model_rank .+ invperm(p)\n",
    "    M = model_list[p]\n",
    "    local_rank = findfirst(==(cc), M)\n",
    "    local_rank_counter += local_rank\n",
    "    #println(cclist[i] => M)\n",
    "    M = M[1:k]\n",
    "    append!(most_used, M)\n",
    "    min_, max_ = extrema(row)\n",
    "    push!(D, (cc, min_, max_, local_rank, join(M, ',')))\n",
    "end\n",
    "\n",
    "model_rank .= model_rank ./ length(cclist)\n",
    "model_rank .= round.(model_rank, digits=2)\n",
    "\n",
    "println(latexify(D, latex=false, env=:table))\n",
    "\n",
    "popular = sort(collect(countmap(most_used)), by=last, rev=true)\n"
   ]
  },
  {
   "cell_type": "code",
   "execution_count": 6,
   "metadata": {},
   "outputs": [
    {
     "name": "stdout",
     "output_type": "stream",
     "text": [
      "\\begin{tabular}{ccc}\n",
      "model & vocsize & avg_model_rank\\\\\n",
      "ALL & 1696232 & 8.45\\\\\n",
      "AR & 673424 & 9.41\\\\\n",
      "BR & 127205 & 11.27\\\\\n",
      "CA & 63161 & 19.0\\\\\n",
      "CL & 282737 & 6.91\\\\\n",
      "CO & 324635 & 6.05\\\\\n",
      "CR & 103086 & 12.5\\\\\n",
      "DO & 108655 & 14.91\\\\\n",
      "EC & 147560 & 8.95\\\\\n",
      "ES & 571196 & 10.95\\\\\n",
      "FR & 69843 & 18.91\\\\\n",
      "GB & 82418 & 18.0\\\\\n",
      "GT & 95252 & 13.64\\\\\n",
      "HN & 60580 & 20.36\\\\\n",
      "MX & 438136 & 6.27\\\\\n",
      "NI & 68605 & 18.18\\\\\n",
      "PA & 111635 & 13.36\\\\\n",
      "PE & 178113 & 8.64\\\\\n",
      "PY & 124162 & 11.14\\\\\n",
      "SV & 73833 & 19.14\\\\\n",
      "US & 292465 & 4.23\\\\\n",
      "UY & 200032 & 8.73\\\\\n",
      "VE & 271924 & 7.0\\\\\n",
      "\\end{tabular}\n",
      "\n"
     ]
    }
   ],
   "source": [
    "\n",
    "D = CSV.read(\"../data/SpanishLang/embeddings-vocsize.tsv.gz\", DataFrame)\n",
    "D = subset(D, :model => col -> [(m in model_list) for m in col])\n",
    "D = select!(D, Not(:dim))\n",
    "@assert D.model == model_list\n",
    "D[:, :avg_model_rank] = model_rank\n",
    "println(latexify(D, env=:table, latex=false))\n",
    "#D\n"
   ]
  }
 ],
 "metadata": {
  "kernelspec": {
   "display_name": "Julia 1.7.0",
   "language": "julia",
   "name": "julia-1.7.0"
  },
  "language_info": {
   "file_extension": ".jl",
   "mimetype": "application/julia",
   "name": "julia",
   "version": "1.7.0"
  },
  "orig_nbformat": 4
 },
 "nbformat": 4,
 "nbformat_minor": 2
}
