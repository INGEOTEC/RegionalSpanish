{
 "cells": [
  {
   "cell_type": "code",
   "execution_count": 1,
   "metadata": {},
   "outputs": [
    {
     "name": "stderr",
     "output_type": "stream",
     "text": [
      "\u001b[32m\u001b[1m  Activating\u001b[22m\u001b[39m project at `~/Research/RegionalSpanish/notebooks`\n",
      "┌ Info: Precompiling SimilaritySearch [053f045d-5466-53fd-b400-a066f88fe02a]\n",
      "└ @ Base loading.jl:1662\n",
      "┌ Info: Precompiling UMAP [c4f8c510-2410-5be4-91d7-4fbaeb39457e]\n",
      "└ @ Base loading.jl:1662\n",
      "┌ Info: Precompiling JLD2 [033835bb-8acc-5ee8-8aae-3f567f8a3819]\n",
      "└ @ Base loading.jl:1662\n",
      "┌ Info: Precompiling CSV [336ed68f-0bac-5ca0-87d4-7b16caf5d00b]\n",
      "└ @ Base loading.jl:1662\n",
      "\u001b[91m\u001b[1mERROR: \u001b[22m\u001b[39mLoadError: ccall method definition: argument 1 type doesn't correspond to a C type\n",
      "Stacktrace:\n",
      " [1] top-level scope\n",
      "\u001b[90m   @ \u001b[39m\u001b[90m~/.julia/packages/SentinelArrays/p1IoM/src/\u001b[39m\u001b[90m\u001b[4mSentinelArrays.jl:209\u001b[24m\u001b[39m\n",
      " [2] \u001b[0m\u001b[1minclude\u001b[22m\n",
      "\u001b[90m   @ \u001b[39m\u001b[90m./\u001b[39m\u001b[90m\u001b[4mBase.jl:419\u001b[24m\u001b[39m\u001b[90m [inlined]\u001b[39m\n",
      " [3] \u001b[0m\u001b[1minclude_package_for_output\u001b[22m\u001b[0m\u001b[1m(\u001b[22m\u001b[90mpkg\u001b[39m::\u001b[0mBase.PkgId, \u001b[90minput\u001b[39m::\u001b[0mString, \u001b[90mdepot_path\u001b[39m::\u001b[0mVector\u001b[90m{String}\u001b[39m, \u001b[90mdl_load_path\u001b[39m::\u001b[0mVector\u001b[90m{String}\u001b[39m, \u001b[90mload_path\u001b[39m::\u001b[0mVector\u001b[90m{String}\u001b[39m, \u001b[90mconcrete_deps\u001b[39m::\u001b[0mVector\u001b[90m{Pair{Base.PkgId, UInt64}}\u001b[39m, \u001b[90msource\u001b[39m::\u001b[0mString\u001b[0m\u001b[1m)\u001b[22m\n",
      "\u001b[90m   @ \u001b[39m\u001b[90mBase\u001b[39m \u001b[90m./\u001b[39m\u001b[90m\u001b[4mloading.jl:1554\u001b[24m\u001b[39m\n",
      " [4] top-level scope\n",
      "\u001b[90m   @ \u001b[39m\u001b[90m\u001b[4mstdin:1\u001b[24m\u001b[39m\n",
      "in expression starting at /home/sadit/.julia/packages/SentinelArrays/p1IoM/src/SentinelArrays.jl:1\n",
      "in expression starting at stdin:1\n",
      "\u001b[91m\u001b[1mERROR: \u001b[22m\u001b[39mLoadError: Failed to precompile SentinelArrays [91c51154-3ec4-41a3-a24f-3f23e20d615c] to /home/sadit/.julia/compiled/v1.8/SentinelArrays/jl_gIFc8b.\n",
      "Stacktrace:\n",
      "  [1] \u001b[0m\u001b[1merror\u001b[22m\u001b[0m\u001b[1m(\u001b[22m\u001b[90ms\u001b[39m::\u001b[0mString\u001b[0m\u001b[1m)\u001b[22m\n",
      "\u001b[90m    @ \u001b[39m\u001b[90mBase\u001b[39m \u001b[90m./\u001b[39m\u001b[90m\u001b[4merror.jl:35\u001b[24m\u001b[39m\n",
      "  [2] \u001b[0m\u001b[1mcompilecache\u001b[22m\u001b[0m\u001b[1m(\u001b[22m\u001b[90mpkg\u001b[39m::\u001b[0mBase.PkgId, \u001b[90mpath\u001b[39m::\u001b[0mString, \u001b[90minternal_stderr\u001b[39m::\u001b[0mIO, \u001b[90minternal_stdout\u001b[39m::\u001b[0mIO, \u001b[90mkeep_loaded_modules\u001b[39m::\u001b[0mBool\u001b[0m\u001b[1m)\u001b[22m\n",
      "\u001b[90m    @ \u001b[39m\u001b[90mBase\u001b[39m \u001b[90m./\u001b[39m\u001b[90m\u001b[4mloading.jl:1705\u001b[24m\u001b[39m\n",
      "  [3] \u001b[0m\u001b[1mcompilecache\u001b[22m\n",
      "\u001b[90m    @ \u001b[39m\u001b[90m./\u001b[39m\u001b[90m\u001b[4mloading.jl:1649\u001b[24m\u001b[39m\u001b[90m [inlined]\u001b[39m\n",
      "  [4] \u001b[0m\u001b[1m_require\u001b[22m\u001b[0m\u001b[1m(\u001b[22m\u001b[90mpkg\u001b[39m::\u001b[0mBase.PkgId\u001b[0m\u001b[1m)\u001b[22m\n",
      "\u001b[90m    @ \u001b[39m\u001b[90mBase\u001b[39m \u001b[90m./\u001b[39m\u001b[90m\u001b[4mloading.jl:1337\u001b[24m\u001b[39m\n",
      "  [5] \u001b[0m\u001b[1m_require_prelocked\u001b[22m\u001b[0m\u001b[1m(\u001b[22m\u001b[90muuidkey\u001b[39m::\u001b[0mBase.PkgId\u001b[0m\u001b[1m)\u001b[22m\n",
      "\u001b[90m    @ \u001b[39m\u001b[90mBase\u001b[39m \u001b[90m./\u001b[39m\u001b[90m\u001b[4mloading.jl:1200\u001b[24m\u001b[39m\n",
      "  [6] \u001b[0m\u001b[1mmacro expansion\u001b[22m\n",
      "\u001b[90m    @ \u001b[39m\u001b[90m./\u001b[39m\u001b[90m\u001b[4mloading.jl:1180\u001b[24m\u001b[39m\u001b[90m [inlined]\u001b[39m\n",
      "  [7] \u001b[0m\u001b[1mmacro expansion\u001b[22m\n",
      "\u001b[90m    @ \u001b[39m\u001b[90m./\u001b[39m\u001b[90m\u001b[4mlock.jl:223\u001b[24m\u001b[39m\u001b[90m [inlined]\u001b[39m\n",
      "  [8] \u001b[0m\u001b[1mrequire\u001b[22m\u001b[0m\u001b[1m(\u001b[22m\u001b[90minto\u001b[39m::\u001b[0mModule, \u001b[90mmod\u001b[39m::\u001b[0mSymbol\u001b[0m\u001b[1m)\u001b[22m\n",
      "\u001b[90m    @ \u001b[39m\u001b[90mBase\u001b[39m \u001b[90m./\u001b[39m\u001b[90m\u001b[4mloading.jl:1144\u001b[24m\u001b[39m\n",
      "  [9] \u001b[0m\u001b[1minclude\u001b[22m\n",
      "\u001b[90m    @ \u001b[39m\u001b[90m./\u001b[39m\u001b[90m\u001b[4mBase.jl:419\u001b[24m\u001b[39m\u001b[90m [inlined]\u001b[39m\n",
      " [10] \u001b[0m\u001b[1minclude_package_for_output\u001b[22m\u001b[0m\u001b[1m(\u001b[22m\u001b[90mpkg\u001b[39m::\u001b[0mBase.PkgId, \u001b[90minput\u001b[39m::\u001b[0mString, \u001b[90mdepot_path\u001b[39m::\u001b[0mVector\u001b[90m{String}\u001b[39m, \u001b[90mdl_load_path\u001b[39m::\u001b[0mVector\u001b[90m{String}\u001b[39m, \u001b[90mload_path\u001b[39m::\u001b[0mVector\u001b[90m{String}\u001b[39m, \u001b[90mconcrete_deps\u001b[39m::\u001b[0mVector\u001b[90m{Pair{Base.PkgId, UInt64}}\u001b[39m, \u001b[90msource\u001b[39m::\u001b[0mNothing\u001b[0m\u001b[1m)\u001b[22m\n",
      "\u001b[90m    @ \u001b[39m\u001b[90mBase\u001b[39m \u001b[90m./\u001b[39m\u001b[90m\u001b[4mloading.jl:1554\u001b[24m\u001b[39m\n",
      " [11] top-level scope\n",
      "\u001b[90m    @ \u001b[39m\u001b[90m\u001b[4mstdin:1\u001b[24m\u001b[39m\n",
      "in expression starting at /home/sadit/.julia/packages/CSV/0Elut/src/CSV.jl:1\n",
      "in expression starting at stdin:1\n"
     ]
    },
    {
     "ename": "LoadError",
     "evalue": "Failed to precompile CSV [336ed68f-0bac-5ca0-87d4-7b16caf5d00b] to /home/sadit/.julia/compiled/v1.8/CSV/jl_PEiwfg.",
     "output_type": "error",
     "traceback": [
      "Failed to precompile CSV [336ed68f-0bac-5ca0-87d4-7b16caf5d00b] to /home/sadit/.julia/compiled/v1.8/CSV/jl_PEiwfg.",
      "",
      "Stacktrace:",
      "  [1] error(s::String)",
      "    @ Base ./error.jl:35",
      "  [2] compilecache(pkg::Base.PkgId, path::String, internal_stderr::IO, internal_stdout::IO, keep_loaded_modules::Bool)",
      "    @ Base ./loading.jl:1705",
      "  [3] compilecache",
      "    @ ./loading.jl:1649 [inlined]",
      "  [4] _require(pkg::Base.PkgId)",
      "    @ Base ./loading.jl:1337",
      "  [5] _require_prelocked(uuidkey::Base.PkgId)",
      "    @ Base ./loading.jl:1200",
      "  [6] macro expansion",
      "    @ ./loading.jl:1180 [inlined]",
      "  [7] macro expansion",
      "    @ ./lock.jl:223 [inlined]",
      "  [8] require(into::Module, mod::Symbol)",
      "    @ Base ./loading.jl:1144",
      "  [9] eval",
      "    @ ./boot.jl:368 [inlined]",
      " [10] include_string(mapexpr::typeof(REPL.softscope), mod::Module, code::String, filename::String)",
      "    @ Base ./loading.jl:1428"
     ]
    }
   ],
   "source": [
    "using Pkg\n",
    "Pkg.activate(\".\")\n",
    "using SimilaritySearch, SimSearchManifoldLearning, LinearAlgebra, JLD2, CSV, DataFrames, TextSearch, Glob, StatsBase, Plots\n"
   ]
  },
  {
   "cell_type": "code",
   "execution_count": 2,
   "metadata": {},
   "outputs": [
    {
     "name": "stderr",
     "output_type": "stream",
     "text": [
      "┌ Info: SubString{String}[\"ALL\", \"AR\", \"BO\", \"BR\", \"CA\", \"CL\", \"CO\", \"CR\", \"CU\", \"DO\", \"EC\", \"ES\", \"FR\", \"GB\", \"GQ\", \"GT\", \"HN\", \"MX\", \"NI\", \"PA\", \"PE\", \"PR\", \"PY\", \"SV\", \"US\", \"UY\", \"VE\"]\n",
      "└ @ Main In[2]:6\n"
     ]
    }
   ],
   "source": [
    "edir = \"../data/SpanishLang/embeddings\"\n",
    "k = 33\n",
    "common = CSV.read(\"../data/SpanishLang/common-tokens-per-region.tsv.gz\", DataFrame, delim='\\t')\n",
    "subset!(common, :n_regions => n -> n .> 10)\n",
    "cclist = split(first(subset(common, :n_regions => n -> n .== 26).country_codes), ',')\n",
    "@info sort!(cclist)"
   ]
  },
  {
   "cell_type": "code",
   "execution_count": null,
   "metadata": {},
   "outputs": [],
   "source": []
  },
  {
   "cell_type": "code",
   "execution_count": 3,
   "metadata": {},
   "outputs": [
    {
     "data": {
      "text/plain": [
       "encode_model (generic function with 1 method)"
      ]
     },
     "execution_count": 3,
     "metadata": {},
     "output_type": "execute_result"
    }
   ],
   "source": [
    "#=\n",
    "function encode_model_(vocab, umapmodel)\n",
    "   #  ivocab = Dict(token => i for (i, token) in enumerate(vocab))\n",
    "    obj = Dict{Symbol,Dict{Symbol,Float64}}()\n",
    "    \n",
    "    for (i, (idcol, distcol)) in enumerate(zip(eachcol(umapmodel.knns), eachcol(umapmodel.dists)))\n",
    "        v = Dict(vocab[idcol[i]] => distcol[i] for i in eachindex(idcol, distcol))\n",
    "        normalize!(v)\n",
    "        obj[vocab[i]] = v\n",
    "    end\n",
    "\n",
    "    obj\n",
    "end\n",
    "\n",
    "function SimilaritySearch.evaluate(D::SumDist, model0, model1)\n",
    "    s = 0.0\n",
    "    if length(model1) < length(model0)\n",
    "        model0, model1 = model1, model0\n",
    "    end\n",
    "\n",
    "    for (t, m0) in model0\n",
    "        m1 = get(model1, t, nothing)\n",
    "        if m1 === nothing\n",
    "            continue\n",
    "        end\n",
    "\n",
    "        s += dot(m0, m1)\n",
    "    end\n",
    "\n",
    "    1.0 - s / length(model1) # |model1| >= |model0|\n",
    "end\n",
    "\n",
    "struct SumDist <: SemiMetric\n",
    "end\n",
    "\n",
    "function SimilaritySearch.evaluate(D::SumDist, model0, model1)\n",
    "    s = 0.0\n",
    "    for t in D.tokens\n",
    "        m0 = get(model0, t, nothing)\n",
    "        if m0 === nothing\n",
    "            s += D.missing_cost\n",
    "            continue\n",
    "        end\n",
    "\n",
    "        m1 = get(model1, t, nothing)\n",
    "        if m1 === nothing\n",
    "            s += D.missing_cost\n",
    "            continue\n",
    "        end\n",
    "\n",
    "        s += evaluate(NormalizedCosineDistance(), m0, m1)\n",
    "    end\n",
    "\n",
    "    s / (length(D.tokens) * D.missing_cost)\n",
    "end\n",
    "\n",
    "=#\n",
    "\n",
    "function encode_model(vocab, umapmodel)\n",
    "    #vocab = Symbol.(vocab)\n",
    "    #  ivocab = Dict(token => i for (i, token) in enumerate(vocab))\n",
    "    obj = Dict{UInt64,Float64}()\n",
    "    for (i, (idcol, distcol)) in enumerate(zip(eachcol(umapmodel.knns), eachcol(umapmodel.dists)))\n",
    "        for j in eachindex(idcol, distcol)\n",
    "            s = hash((vocab[i], vocab[idcol[j]]))\n",
    "            obj[s] = distcol[j]\n",
    "        end\n",
    "    end\n",
    " \n",
    "    normalize!(obj)\n",
    "    obj\n",
    "end"
   ]
  },
  {
   "cell_type": "code",
   "execution_count": 4,
   "metadata": {},
   "outputs": [],
   "source": [
    "db = []\n",
    "\n",
    "for modelname in sort(glob(joinpath(edir, \"umap+index-common-tokens-*.k=$k.jld2\")))\n",
    "    model_, vocab_ = load(modelname, \"U2\", \"vocab\")\n",
    "    push!(db, encode_model(vocab_, model_))\n",
    "end\n"
   ]
  },
  {
   "cell_type": "code",
   "execution_count": 5,
   "metadata": {},
   "outputs": [
    {
     "name": "stdout",
     "output_type": "stream",
     "text": [
      "  2.399725 seconds (32.25 k allocations: 1.730 MiB, 1.45% compilation time)\n",
      "  2.106823 seconds (51 allocations: 1.203 KiB)\n",
      "  1.204510 seconds (49 allocations: 1.156 KiB)\n",
      "  1.478776 seconds (47 allocations: 1.109 KiB)\n",
      "  1.303696 seconds (45 allocations: 1.062 KiB)\n",
      "  1.872885 seconds (43 allocations: 1.016 KiB)\n",
      "  1.734142 seconds (41 allocations: 992 bytes)\n",
      "  1.405266 seconds (39 allocations: 944 bytes)\n",
      "  0.383071 seconds (37 allocations: 896 bytes)\n",
      "  1.339409 seconds (35 allocations: 848 bytes)\n",
      "  1.301191 seconds (33 allocations: 800 bytes)\n",
      "  1.230477 seconds (31 allocations: 752 bytes)\n",
      "  0.806978 seconds (29 allocations: 704 bytes)\n",
      "  0.793417 seconds (27 allocations: 656 bytes)\n",
      "  0.036993 seconds (25 allocations: 608 bytes)\n",
      "  0.775939 seconds (23 allocations: 560 bytes)\n",
      "  0.622400 seconds (21 allocations: 512 bytes)\n",
      "  0.850169 seconds (19 allocations: 464 bytes)\n",
      "  0.486872 seconds (17 allocations: 416 bytes)\n",
      "  0.596076 seconds (15 allocations: 368 bytes)\n",
      "  0.547836 seconds (13 allocations: 320 bytes)\n",
      "  0.150440 seconds (11 allocations: 272 bytes)\n",
      "  0.373194 seconds (9 allocations: 224 bytes)\n",
      "  0.207267 seconds (7 allocations: 176 bytes)\n",
      "  0.235283 seconds (5 allocations: 128 bytes)\n",
      "  0.115564 seconds (3 allocations: 80 bytes)\n",
      "  0.000002 seconds (1 allocation: 32 bytes)\n"
     ]
    }
   ],
   "source": [
    "dist = NormalizedCosineDistance()\n",
    "n = length(cclist)\n",
    "A = Matrix{Float64}(undef, n, n)\n",
    "\n",
    "for (i, cc) in enumerate(cclist)\n",
    "    u = db[i]\n",
    "    A[i, i] = 0.0\n",
    "    @time for j in i+1:n\n",
    "        v = db[j]\n",
    "        A[j, i] = A[i, j] = evaluate(dist, u, v)        \n",
    "    end\n",
    "end"
   ]
  },
  {
   "cell_type": "code",
   "execution_count": 61,
   "metadata": {},
   "outputs": [
    {
     "name": "stdout",
     "output_type": "stream",
     "text": [
      "(n, n_neighbors, n_components) = (27, 3, 2)\n",
      "  0.030496 seconds (300 allocations: 4.688 KiB)\n",
      "  0.031525 seconds (300 allocations: 4.688 KiB)\n"
     ]
    },
    {
     "name": "stderr",
     "output_type": "stream",
     "text": [
      "*** computing allknn graph\n",
      "*** computing graph\n",
      "*** init embedding\n",
      "*** fit ab / embedding\n",
      "*** opt embedding\n"
     ]
    }
   ],
   "source": [
    "min_dist = 0.1\n",
    "n_neighbors = 3\n",
    "neg_sample_rate = 10\n",
    "local_connectivity = 1\n",
    "\n",
    "struct PreComputed <: SemiMetric\n",
    "    A::Matrix{Float64}\n",
    "end\n",
    "\n",
    "function SimilaritySearch.evaluate(p::PreComputed, i, j)\n",
    "    p.A[i, j]\n",
    "end\n",
    "\n",
    "index = ExhaustiveSearch(db=VectorDatabase(collect(1:size(A, 1))), dist=PreComputed(A))\n",
    "#index = ExhaustiveSearch(db=A, dist=L2Distance())\n",
    "U2 = UMAP_(index, 2; n_neighbors, neg_sample_rate, local_connectivity)\n",
    "U3 = UMAP_(U2, 3; neg_sample_rate)\n",
    "nothing"
   ]
  },
  {
   "cell_type": "code",
   "execution_count": 62,
   "metadata": {},
   "outputs": [
    {
     "data": {
      "image/svg+xml": [
       "<?xml version=\"1.0\" encoding=\"UTF-8\"?>\n",
       "<!DOCTYPE svg PUBLIC \"-//W3C//DTD SVG 1.1//EN\"\n",
       " \"http://www.w3.org/Graphics/SVG/1.1/DTD/svg11.dtd\">\n",
       "<svg xmlns=\"http://www.w3.org/2000/svg\" version=\"1.1\"\n",
       "     width=\"180mm\" height=\"25mm\"\n",
       "     viewBox=\"0 0 27 1\" preserveAspectRatio=\"none\"\n",
       "     shape-rendering=\"crispEdges\" stroke=\"none\">\n",
       "<rect width=\".85\" height=\".96\" x=\"0\" y=\"0\" fill=\"#CF9726\" />\n",
       "<rect width=\".85\" height=\".96\" x=\"1\" y=\"0\" fill=\"#D1913B\" />\n",
       "<rect width=\".85\" height=\".96\" x=\"2\" y=\"0\" fill=\"#38CE26\" />\n",
       "<rect width=\".85\" height=\".96\" x=\"3\" y=\"0\" fill=\"#3FD76F\" />\n",
       "<rect width=\".85\" height=\".96\" x=\"4\" y=\"0\" fill=\"#3ECD47\" />\n",
       "<rect width=\".85\" height=\".96\" x=\"5\" y=\"0\" fill=\"#CD8600\" />\n",
       "<rect width=\".85\" height=\".96\" x=\"6\" y=\"0\" fill=\"#C48503\" />\n",
       "<rect width=\".85\" height=\".96\" x=\"7\" y=\"0\" fill=\"#6D2CA2\" />\n",
       "<rect width=\".85\" height=\".96\" x=\"8\" y=\"0\" fill=\"#24CE00\" />\n",
       "<rect width=\".85\" height=\".96\" x=\"9\" y=\"0\" fill=\"#7F36C7\" />\n",
       "<rect width=\".85\" height=\".96\" x=\"10\" y=\"0\" fill=\"#C4653B\" />\n",
       "<rect width=\".85\" height=\".96\" x=\"11\" y=\"0\" fill=\"#CC9A3A\" />\n",
       "<rect width=\".85\" height=\".96\" x=\"12\" y=\"0\" fill=\"#41D54B\" />\n",
       "<rect width=\".85\" height=\".96\" x=\"13\" y=\"0\" fill=\"#41D26F\" />\n",
       "<rect width=\".85\" height=\".96\" x=\"14\" y=\"0\" fill=\"#B7644E\" />\n",
       "<rect width=\".85\" height=\".96\" x=\"15\" y=\"0\" fill=\"#682894\" />\n",
       "<rect width=\".85\" height=\".96\" x=\"16\" y=\"0\" fill=\"#5D1A85\" />\n",
       "<rect width=\".85\" height=\".96\" x=\"17\" y=\"0\" fill=\"#C89221\" />\n",
       "<rect width=\".85\" height=\".96\" x=\"18\" y=\"0\" fill=\"#5D1B9B\" />\n",
       "<rect width=\".85\" height=\".96\" x=\"19\" y=\"0\" fill=\"#7B33BC\" />\n",
       "<rect width=\".85\" height=\".96\" x=\"20\" y=\"0\" fill=\"#C76C38\" />\n",
       "<rect width=\".85\" height=\".96\" x=\"21\" y=\"0\" fill=\"#28CB00\" />\n",
       "<rect width=\".85\" height=\".96\" x=\"22\" y=\"0\" fill=\"#BD6247\" />\n",
       "<rect width=\".85\" height=\".96\" x=\"23\" y=\"0\" fill=\"#63228B\" />\n",
       "<rect width=\".85\" height=\".96\" x=\"24\" y=\"0\" fill=\"#C67712\" />\n",
       "<rect width=\".85\" height=\".96\" x=\"25\" y=\"0\" fill=\"#CA723F\" />\n",
       "<rect width=\".85\" height=\".96\" x=\"26\" y=\"0\" fill=\"#C57C00\" />\n",
       "</svg>"
      ],
      "text/plain": [
       "27-element Array{RGB{Float32},1} with eltype RGB{Float32}:\n",
       " RGB{Float32}(0.81084114f0,0.59127873f0,0.14713722f0)\n",
       " RGB{Float32}(0.82018214f0,0.5686169f0,0.23231944f0)\n",
       " RGB{Float32}(0.21894184f0,0.80872184f0,0.15063205f0)\n",
       " RGB{Float32}(0.24542955f0,0.8416132f0,0.43524256f0)\n",
       " RGB{Float32}(0.24193463f0,0.80358344f0,0.28027803f0)\n",
       " RGB{Float32}(0.80372036f0,0.52458024f0,0.0f0)\n",
       " RGB{Float32}(0.76965594f0,0.5217377f0,0.011824131f0)\n",
       " RGB{Float32}(0.42892656f0,0.17071941f0,0.6354789f0)\n",
       " RGB{Float32}(0.14224058f0,0.80900466f0,0.0f0)\n",
       " RGB{Float32}(0.49846116f0,0.21142301f0,0.7797305f0)\n",
       " RGB{Float32}(0.768933f0,0.3957649f0,0.23270419f0)\n",
       " RGB{Float32}(0.79953444f0,0.6056959f0,0.22906771f0)\n",
       " RGB{Float32}(0.25558144f0,0.8338039f0,0.29244816f0)\n",
       " ⋮\n",
       " RGB{Float32}(0.40613177f0,0.15659472f0,0.578884f0)\n",
       " RGB{Float32}(0.36459246f0,0.10240498f0,0.5226532f0)\n",
       " RGB{Float32}(0.7854899f0,0.57173145f0,0.12826744f0)\n",
       " RGB{Float32}(0.36505258f0,0.10620105f0,0.60756534f0)\n",
       " RGB{Float32}(0.48115376f0,0.19990769f0,0.73917496f0)\n",
       " RGB{Float32}(0.77889f0,0.42337584f0,0.2198151f0)\n",
       " RGB{Float32}(0.15593678f0,0.7979611f0,0.0f0)\n",
       " RGB{Float32}(0.7427028f0,0.382549f0,0.27760994f0)\n",
       " RGB{Float32}(0.38819754f0,0.13142887f0,0.5461496f0)\n",
       " RGB{Float32}(0.77598804f0,0.46745962f0,0.071107686f0)\n",
       " RGB{Float32}(0.7912767f0,0.44676962f0,0.24556586f0)\n",
       " RGB{Float32}(0.7734356f0,0.48716694f0,0.0f0)"
      ]
     },
     "execution_count": 62,
     "metadata": {},
     "output_type": "execute_result"
    }
   ],
   "source": [
    "X = U2.embedding\n",
    "C = U3.embedding\n",
    "#C .= C .+ 5\n",
    "\n",
    "for i in (1, 2, 3)\n",
    "    v = @view C[i, :]\n",
    "    s = 4 * std(v)\n",
    "    v .= v ./ s .+ 0.5\n",
    "    \n",
    "    for j in eachindex(v)\n",
    "        v[j] = clamp(v[j],  0, 1)\n",
    "    end\n",
    "end\n",
    "\n",
    "C = [RGB(c...) for c in eachcol(C)]"
   ]
  },
  {
   "cell_type": "code",
   "execution_count": 64,
   "metadata": {},
   "outputs": [
    {
     "data": {
      "image/png": "[encoded data removed]"
     },
     "execution_count": 64,
     "metadata": {},
     "output_type": "execute_result"
    }
   ],
   "source": [
    "\n",
    "poslist = rand([:right, :left, :bottom, :top], length(cclist))\n",
    "\n",
    "scatter(X[1, :], X[2, :], c=C, label=\"\",\n",
    "    series_annotations=[text(cclist[i], poslist[i], 11, C[i]) for i in eachindex(cclist)], xticks=nothing, yticks=nothing, xaxis=false, yaxis=false,\n",
    "    ms=5, ma=0.7, fa=0.7, la=0.7, alpha=0.7)\n",
    "#scatter!(X[1, :], X[2, :], c=C, label=\"\",\n",
    "#    series_annotations=[text(cclist[i], poslist[i], 10, C[i]) for i in eachindex(cclist)], xticks=nothing, yticks=nothing, xaxis=false, yaxis=false,\n",
    "#    ms=5, ma=0.5, fa=0.5, la=0.5, alpha=0.5)\n",
    "savefig(\"../figs/fig-voc-semantic-umap.pdf\")\n",
    "savefig(\"../figs/fig-voc-semantic-umap.png\")\n",
    "plot!(fmt=:png)"
   ]
  },
  {
   "cell_type": "code",
   "execution_count": 9,
   "metadata": {},
   "outputs": [],
   "source": [
    "#=D = Dict(zip(cclist, db))\n",
    "@show [\n",
    "evaluate(dist, D[\"MX\"], D[\"MX\"])\n",
    "evaluate(dist, D[\"MX\"], D[\"ALL\"])\n",
    "evaluate(dist, D[\"MX\"], D[\"SV\"])\n",
    "evaluate(dist, D[\"ES\"], D[\"GQ\"])\n",
    "]\n",
    "\n",
    "@info D[\"MX\"][:iglesia]\n",
    "@info D[\"US\"][:iglesia]\n",
    "=#"
   ]
  },
  {
   "cell_type": "code",
   "execution_count": 10,
   "metadata": {},
   "outputs": [
    {
     "data": {
      "image/png": "[encoded data removed]"
     },
     "execution_count": 10,
     "metadata": {},
     "output_type": "execute_result"
    }
   ],
   "source": [
    "heatmap(cclist, cclist, A, ticks = :all, xrot=90)\n",
    "savefig(\"../figs/fig-common-words-semantic-affinity-matrix.pdf\")\n",
    "savefig(\"../figs/fig-common-words-semantic-affinity-matrix.png\")\n",
    "plot!(fmt=:png)"
   ]
  }
 ],
 "metadata": {
  "kernelspec": {
   "display_name": "Julia 32c 1.8.0",
   "language": "julia",
   "name": "julia-32c-1.8"
  },
  "language_info": {
   "file_extension": ".jl",
   "mimetype": "application/julia",
   "name": "julia",
   "version": "1.8.0"
  }
 },
 "nbformat": 4,
 "nbformat_minor": 4
}
