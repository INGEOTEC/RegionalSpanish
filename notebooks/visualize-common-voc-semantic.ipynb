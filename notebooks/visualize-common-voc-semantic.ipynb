{
 "cells": [
  {
   "cell_type": "code",
   "execution_count": 1,
   "metadata": {},
   "outputs": [
    {
     "name": "stderr",
     "output_type": "stream",
     "text": [
      "\u001b[32m\u001b[1m  Activating\u001b[22m\u001b[39m project at `~/Research/RegionalSpanish/notebooks`\n"
     ]
    }
   ],
   "source": [
    "using Pkg\n",
    "Pkg.activate(\".\")\n",
    "using SimilaritySearch, UMAP, LinearAlgebra, JLD2, CSV, DataFrames, TextSearch, Glob, StatsBase, Plots\n"
   ]
  },
  {
   "cell_type": "code",
   "execution_count": 2,
   "metadata": {},
   "outputs": [
    {
     "name": "stderr",
     "output_type": "stream",
     "text": [
      "┌ Info: SubString{String}[\"ALL\", \"AR\", \"BO\", \"BR\", \"CA\", \"CL\", \"CO\", \"CR\", \"CU\", \"DO\", \"EC\", \"ES\", \"FR\", \"GB\", \"GQ\", \"GT\", \"HN\", \"MX\", \"NI\", \"PA\", \"PE\", \"PR\", \"PY\", \"SV\", \"US\", \"UY\", \"VE\"]\n",
      "└ @ Main In[2]:6\n"
     ]
    }
   ],
   "source": [
    "edir = \"../data/SpanishLang/embeddings\"\n",
    "k = 33\n",
    "common = CSV.read(\"../data/SpanishLang/common-tokens-per-region.tsv.gz\", DataFrame, delim='\\t')\n",
    "subset!(common, :n_regions => n -> n .> 10)\n",
    "cclist = split(first(subset(common, :n_regions => n -> n .== 26).country_codes), ',')\n",
    "@info sort!(cclist)"
   ]
  },
  {
   "cell_type": "code",
   "execution_count": null,
   "metadata": {},
   "outputs": [],
   "source": []
  },
  {
   "cell_type": "code",
   "execution_count": 3,
   "metadata": {},
   "outputs": [
    {
     "data": {
      "text/plain": [
       "encode_model (generic function with 1 method)"
      ]
     },
     "execution_count": 3,
     "metadata": {},
     "output_type": "execute_result"
    }
   ],
   "source": [
    "#=\n",
    "function encode_model_(vocab, umapmodel)\n",
    "   #  ivocab = Dict(token => i for (i, token) in enumerate(vocab))\n",
    "    obj = Dict{Symbol,Dict{Symbol,Float64}}()\n",
    "    \n",
    "    for (i, (idcol, distcol)) in enumerate(zip(eachcol(umapmodel.knns), eachcol(umapmodel.dists)))\n",
    "        v = Dict(vocab[idcol[i]] => distcol[i] for i in eachindex(idcol, distcol))\n",
    "        normalize!(v)\n",
    "        obj[vocab[i]] = v\n",
    "    end\n",
    "\n",
    "    obj\n",
    "end\n",
    "\n",
    "function SimilaritySearch.evaluate(D::SumDist, model0, model1)\n",
    "    s = 0.0\n",
    "    if length(model1) < length(model0)\n",
    "        model0, model1 = model1, model0\n",
    "    end\n",
    "\n",
    "    for (t, m0) in model0\n",
    "        m1 = get(model1, t, nothing)\n",
    "        if m1 === nothing\n",
    "            continue\n",
    "        end\n",
    "\n",
    "        s += dot(m0, m1)\n",
    "    end\n",
    "\n",
    "    1.0 - s / length(model1) # |model1| >= |model0|\n",
    "end\n",
    "\n",
    "struct SumDist <: SemiMetric\n",
    "end\n",
    "\n",
    "function SimilaritySearch.evaluate(D::SumDist, model0, model1)\n",
    "    s = 0.0\n",
    "    for t in D.tokens\n",
    "        m0 = get(model0, t, nothing)\n",
    "        if m0 === nothing\n",
    "            s += D.missing_cost\n",
    "            continue\n",
    "        end\n",
    "\n",
    "        m1 = get(model1, t, nothing)\n",
    "        if m1 === nothing\n",
    "            s += D.missing_cost\n",
    "            continue\n",
    "        end\n",
    "\n",
    "        s += evaluate(NormalizedCosineDistance(), m0, m1)\n",
    "    end\n",
    "\n",
    "    s / (length(D.tokens) * D.missing_cost)\n",
    "end\n",
    "\n",
    "=#\n",
    "\n",
    "function encode_model(vocab, umapmodel)\n",
    "    #vocab = Symbol.(vocab)\n",
    "    #  ivocab = Dict(token => i for (i, token) in enumerate(vocab))\n",
    "    obj = Dict{UInt64,Float64}()\n",
    "    for (i, (idcol, distcol)) in enumerate(zip(eachcol(umapmodel.knns), eachcol(umapmodel.dists)))\n",
    "        for j in eachindex(idcol, distcol)\n",
    "            s = hash((vocab[i], vocab[idcol[j]]))\n",
    "            obj[s] = distcol[j]\n",
    "        end\n",
    "    end\n",
    " \n",
    "    normalize!(obj)\n",
    "    obj\n",
    "end"
   ]
  },
  {
   "cell_type": "code",
   "execution_count": 4,
   "metadata": {},
   "outputs": [],
   "source": [
    "db = []\n",
    "\n",
    "for modelname in sort(glob(joinpath(edir, \"umap+index-common-tokens-*.k=$k.jld2\")))\n",
    "    model_, vocab_ = load(modelname, \"U2\", \"vocab\")\n",
    "    push!(db, encode_model(vocab_, model_))\n",
    "end\n"
   ]
  },
  {
   "cell_type": "code",
   "execution_count": 5,
   "metadata": {},
   "outputs": [
    {
     "name": "stdout",
     "output_type": "stream",
     "text": [
      "  2.632839 seconds (32.25 k allocations: 1.725 MiB, 1.31% compilation time)\n",
      "  2.111531 seconds (51 allocations: 1.203 KiB)\n",
      "  1.138744 seconds (49 allocations: 1.156 KiB)\n",
      "  1.511510 seconds (47 allocations: 1.109 KiB)\n",
      "  1.221696 seconds (45 allocations: 1.062 KiB)\n",
      "  1.814424 seconds (43 allocations: 1.016 KiB)\n",
      "  1.704704 seconds (41 allocations: 992 bytes)\n",
      "  1.410051 seconds (39 allocations: 944 bytes)\n",
      "  0.353150 seconds (37 allocations: 896 bytes)\n",
      "  1.269513 seconds (35 allocations: 848 bytes)\n",
      "  1.305484 seconds (33 allocations: 800 bytes)\n",
      "  1.238728 seconds (31 allocations: 752 bytes)\n",
      "  0.806215 seconds (29 allocations: 704 bytes)\n",
      "  0.773060 seconds (27 allocations: 656 bytes)\n",
      "  0.030722 seconds (25 allocations: 608 bytes)\n",
      "  0.750144 seconds (23 allocations: 560 bytes)\n",
      "  0.574695 seconds (21 allocations: 512 bytes)\n",
      "  0.839660 seconds (19 allocations: 464 bytes)\n",
      "  0.498678 seconds (17 allocations: 416 bytes)\n",
      "  0.642877 seconds (15 allocations: 368 bytes)\n",
      "  0.541689 seconds (13 allocations: 320 bytes)\n",
      "  0.133202 seconds (11 allocations: 272 bytes)\n",
      "  0.367314 seconds (9 allocations: 224 bytes)\n",
      "  0.215284 seconds (7 allocations: 176 bytes)\n",
      "  0.242262 seconds (5 allocations: 128 bytes)\n",
      "  0.114216 seconds (3 allocations: 80 bytes)\n",
      "  0.000001 seconds (1 allocation: 32 bytes)\n"
     ]
    }
   ],
   "source": [
    "dist = NormalizedCosineDistance()\n",
    "n = length(cclist)\n",
    "A = Matrix{Float64}(undef, n, n)\n",
    "\n",
    "for (i, cc) in enumerate(cclist)\n",
    "    u = db[i]\n",
    "    A[i, i] = 0.0\n",
    "    @time for j in i+1:n\n",
    "        v = db[j]\n",
    "        A[j, i] = A[i, j] = evaluate(dist, u, v)        \n",
    "    end\n",
    "end"
   ]
  },
  {
   "cell_type": "code",
   "execution_count": 6,
   "metadata": {},
   "outputs": [
    {
     "name": "stdout",
     "output_type": "stream",
     "text": [
      "(n, n_neighbors, n_components) = (27, 3, 2)\n",
      "  0.017497 seconds (300 allocations: 4.688 KiB)\n",
      "  0.018798 seconds (300 allocations: 4.688 KiB)\n"
     ]
    },
    {
     "name": "stderr",
     "output_type": "stream",
     "text": [
      "*** computing allknn graph\n",
      "*** computing graph\n",
      "*** init embedding\n",
      "*** fit ab / embedding\n",
      "*** opt embedding\n"
     ]
    }
   ],
   "source": [
    "min_dist = 0.03\n",
    "n_neighbors = 3\n",
    "neg_sample_rate = 5\n",
    "local_connectivity = 1\n",
    "\n",
    "struct PreComputed <: SemiMetric\n",
    "    A::Matrix{Float64}\n",
    "end\n",
    "\n",
    "function SimilaritySearch.evaluate(p::PreComputed, i, j)\n",
    "    p.A[i, j]\n",
    "end\n",
    "\n",
    "index = ExhaustiveSearch(db=VectorDatabase(collect(1:size(A, 1))), dist=PreComputed(A))\n",
    "#index = ExhaustiveSearch(db=A, dist=L2Distance())\n",
    "U2 = UMAP_(index, 2; n_neighbors, neg_sample_rate, local_connectivity)\n",
    "U3 = UMAP_(U2, 3; neg_sample_rate)\n",
    "nothing"
   ]
  },
  {
   "cell_type": "code",
   "execution_count": 7,
   "metadata": {},
   "outputs": [
    {
     "data": {
      "image/svg+xml": "<?xml version=\"1.0\" encoding=\"UTF-8\"?>\n<!DOCTYPE svg PUBLIC \"-//W3C//DTD SVG 1.1//EN\"\n \"http://www.w3.org/Graphics/SVG/1.1/DTD/svg11.dtd\">\n<svg xmlns=\"http://www.w3.org/2000/svg\" version=\"1.1\"\n     width=\"180mm\" height=\"25mm\"\n     viewBox=\"0 0 27 1\" preserveAspectRatio=\"none\"\n     shape-rendering=\"crispEdges\" stroke=\"none\">\n<rect width=\".85\" height=\".96\" x=\"0\" y=\"0\" fill=\"#B5E9B3\" />\n<rect width=\".85\" height=\".96\" x=\"1\" y=\"0\" fill=\"#B0E8AB\" />\n<rect width=\".85\" height=\".96\" x=\"2\" y=\"0\" fill=\"#2969C3\" />\n<rect width=\".85\" height=\".96\" x=\"3\" y=\"0\" fill=\"#275C9A\" />\n<rect width=\".85\" height=\".96\" x=\"4\" y=\"0\" fill=\"#2A65B4\" />\n<rect width=\".85\" height=\".96\" x=\"5\" y=\"0\" fill=\"#A4D6CD\" />\n<rect width=\".85\" height=\".96\" x=\"6\" y=\"0\" fill=\"#ACD9D3\" />\n<rect width=\".85\" height=\".96\" x=\"7\" y=\"0\" fill=\"#333FFF\" />\n<rect width=\".85\" height=\".96\" x=\"8\" y=\"0\" fill=\"#61A6FF\" />\n<rect width=\".85\" height=\".96\" x=\"9\" y=\"0\" fill=\"#3C37FF\" />\n<rect width=\".85\" height=\".96\" x=\"10\" y=\"0\" fill=\"#ADB6F6\" />\n<rect width=\".85\" height=\".96\" x=\"11\" y=\"0\" fill=\"#BBE7AA\" />\n<rect width=\".85\" height=\".96\" x=\"12\" y=\"0\" fill=\"#2360AC\" />\n<rect width=\".85\" height=\".96\" x=\"13\" y=\"0\" fill=\"#2A609F\" />\n<rect width=\".85\" height=\".96\" x=\"14\" y=\"0\" fill=\"#AFAADA\" />\n<rect width=\".85\" height=\".96\" x=\"15\" y=\"0\" fill=\"#3045FF\" />\n<rect width=\".85\" height=\".96\" x=\"16\" y=\"0\" fill=\"#2954FF\" />\n<rect width=\".85\" height=\".96\" x=\"17\" y=\"0\" fill=\"#B0E3C2\" />\n<rect width=\".85\" height=\".96\" x=\"18\" y=\"0\" fill=\"#2659FF\" />\n<rect width=\".85\" height=\".96\" x=\"19\" y=\"0\" fill=\"#3A37FF\" />\n<rect width=\".85\" height=\".96\" x=\"20\" y=\"0\" fill=\"#A8BFF0\" />\n<rect width=\".85\" height=\".96\" x=\"21\" y=\"0\" fill=\"#5DA1F9\" />\n<rect width=\".85\" height=\".96\" x=\"22\" y=\"0\" fill=\"#AEAFE6\" />\n<rect width=\".85\" height=\".96\" x=\"23\" y=\"0\" fill=\"#2B4CFF\" />\n<rect width=\".85\" height=\".96\" x=\"24\" y=\"0\" fill=\"#ADCADF\" />\n<rect width=\".85\" height=\".96\" x=\"25\" y=\"0\" fill=\"#A6C0E3\" />\n<rect width=\".85\" height=\".96\" x=\"26\" y=\"0\" fill=\"#B0CFD7\" />\n</svg>",
      "text/plain": [
       "27-element Array{RGB{Float32},1} with eltype RGB{Float32}:\n",
       " RGB{Float32}(0.7108772f0,0.9146029f0,0.7012888f0)\n",
       " RGB{Float32}(0.6886525f0,0.9090126f0,0.6691441f0)\n",
       " RGB{Float32}(0.16044801f0,0.41018116f0,0.762889f0)\n",
       " RGB{Float32}(0.15464291f0,0.36045408f0,0.6027651f0)\n",
       " RGB{Float32}(0.1636016f0,0.3947203f0,0.7077067f0)\n",
       " RGB{Float32}(0.64439f0,0.8375821f0,0.8033329f0)\n",
       " RGB{Float32}(0.67530453f0,0.8521785f0,0.8276969f0)\n",
       " RGB{Float32}(0.19832286f0,0.24837273f0,1.0f0)\n",
       " RGB{Float32}(0.38176537f0,0.65043586f0,1.0f0)\n",
       " RGB{Float32}(0.23663458f0,0.2148543f0,1.0f0)\n",
       " RGB{Float32}(0.6782989f0,0.71267635f0,0.96551645f0)\n",
       " RGB{Float32}(0.73326015f0,0.90509206f0,0.6673806f0)\n",
       " RGB{Float32}(0.13848105f0,0.37612173f0,0.67589414f0)\n",
       " ⋮\n",
       " RGB{Float32}(0.18764666f0,0.26941f0,1.0f0)\n",
       " RGB{Float32}(0.16171676f0,0.32997733f0,1.0f0)\n",
       " RGB{Float32}(0.6903183f0,0.8902428f0,0.762424f0)\n",
       " RGB{Float32}(0.1494939f0,0.34875137f0,1.0f0)\n",
       " RGB{Float32}(0.22797608f0,0.21645692f0,1.0f0)\n",
       " RGB{Float32}(0.6579109f0,0.75005937f0,0.9413124f0)\n",
       " RGB{Float32}(0.36563027f0,0.63187927f0,0.9769217f0)\n",
       " RGB{Float32}(0.68137336f0,0.6846534f0,0.9032415f0)\n",
       " RGB{Float32}(0.16966453f0,0.29964548f0,1.0f0)\n",
       " RGB{Float32}(0.6793792f0,0.79098463f0,0.87410045f0)\n",
       " RGB{Float32}(0.652746f0,0.75376767f0,0.89001566f0)\n",
       " RGB{Float32}(0.6916187f0,0.81354165f0,0.84178793f0)"
      ]
     },
     "execution_count": 7,
     "metadata": {},
     "output_type": "execute_result"
    }
   ],
   "source": [
    "X = U2.embedding\n",
    "C = U3.embedding\n",
    "#C .= C .+ 5\n",
    "\n",
    "for i in (1, 2, 3)\n",
    "    v = @view C[i, :]\n",
    "    s = 4 * std(v)\n",
    "    v .= v ./ s .+ 0.5\n",
    "    \n",
    "    for j in eachindex(v)\n",
    "        v[j] = clamp(v[j],  0, 1)\n",
    "    end\n",
    "end\n",
    "\n",
    "C = [RGB(c...) for c in eachcol(C)]"
   ]
  },
  {
   "cell_type": "code",
   "execution_count": 8,
   "metadata": {},
   "outputs": [
    {
     "data": {
      "image/png": "[encoded data removed]"
     },
     "execution_count": 8,
     "metadata": {},
     "output_type": "execute_result"
    }
   ],
   "source": [
    "\n",
    "poslist = [:bottom]\n",
    "scatter(X[1, :], X[2, :], c=C, label=\"\", series_annotations=[text(cc, rand(poslist), 8) for cc in cclist], ms=6, ma=0.5, fa=0.5, la=0.5, alpha=0.5)\n",
    "savefig(\"../figs/fig-voc-semantic-umap.pdf\")\n",
    "savefig(\"../figs/fig-voc-semantic-umap.png\")\n",
    "plot!(fmt=:png)"
   ]
  },
  {
   "cell_type": "code",
   "execution_count": 9,
   "metadata": {},
   "outputs": [],
   "source": [
    "#=D = Dict(zip(cclist, db))\n",
    "@show [\n",
    "evaluate(dist, D[\"MX\"], D[\"MX\"])\n",
    "evaluate(dist, D[\"MX\"], D[\"ALL\"])\n",
    "evaluate(dist, D[\"MX\"], D[\"SV\"])\n",
    "evaluate(dist, D[\"ES\"], D[\"GQ\"])\n",
    "]\n",
    "\n",
    "@info D[\"MX\"][:iglesia]\n",
    "@info D[\"US\"][:iglesia]\n",
    "=#"
   ]
  },
  {
   "cell_type": "code",
   "execution_count": 10,
   "metadata": {},
   "outputs": [
    {
     "data": {
      "image/png": "[encoded data removed]"
     },
     "execution_count": 10,
     "metadata": {},
     "output_type": "execute_result"
    }
   ],
   "source": [
    "heatmap(cclist, cclist, A, ticks = :all, xrot=90)\n",
    "savefig(\"../figs/fig-common-words-semantic-affinity-matrix.pdf\")\n",
    "savefig(\"../figs/fig-common-words-semantic-affinity-matrix.png\")\n",
    "plot!(fmt=:png)"
   ]
  }
 ],
 "metadata": {
  "kernelspec": {
   "display_name": "Julia 1.7.0",
   "language": "julia",
   "name": "julia-1.7.0"
  },
  "language_info": {
   "file_extension": ".jl",
   "mimetype": "application/julia",
   "name": "julia",
   "version": "1.7.0"
  },
  "orig_nbformat": 4
 },
 "nbformat": 4,
 "nbformat_minor": 2
}
