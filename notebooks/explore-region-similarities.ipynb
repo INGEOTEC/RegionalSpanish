{
 "cells": [
  {
   "cell_type": "code",
   "execution_count": 1,
   "metadata": {},
   "outputs": [
    {
     "name": "stderr",
     "output_type": "stream",
     "text": [
      "\u001b[32m\u001b[1m  Activating\u001b[22m\u001b[39m project at `~/Research/RegionalSpanish/notebooks`\n"
     ]
    }
   ],
   "source": [
    "using Pkg\n",
    "Pkg.activate(\".\")\n",
    "using JSON, CodecZlib, Glob, Latexify"
   ]
  },
  {
   "cell_type": "markdown",
   "metadata": {},
   "source": [
    "#### The following cell doesn't need to be activated unless you want to built vocabularies representation and only will work using the necessary files"
   ]
  },
  {
   "cell_type": "code",
   "execution_count": 2,
   "metadata": {},
   "outputs": [
    {
     "data": {
      "text/plain": [
       "loadjsongraph (generic function with 1 method)"
      ]
     },
     "execution_count": 2,
     "metadata": {},
     "output_type": "execute_result"
    }
   ],
   "source": [
    "function loadjsongraph(filename)\n",
    "    open(filename) do f\n",
    "        gz = GzipDecompressorStream(f)\n",
    "        D = JSON.parse(gz)\n",
    "        close(gz)\n",
    "        D\n",
    "    end\n",
    "end"
   ]
  },
  {
   "cell_type": "code",
   "execution_count": 3,
   "metadata": {},
   "outputs": [
    {
     "data": {
      "text/plain": [
       "7"
      ]
     },
     "execution_count": 3,
     "metadata": {},
     "output_type": "execute_result"
    }
   ],
   "source": [
    "MX = loadjsongraph(\"../data/SpanishLang/common-voc-semantic-knn-MX.json.gz\")\n",
    "AR = loadjsongraph(\"../data/SpanishLang/common-voc-semantic-knn-AR.json.gz\")\n",
    "US = loadjsongraph(\"../data/SpanishLang/common-voc-semantic-knn-US.json.gz\")\n",
    "ES = loadjsongraph(\"../data/SpanishLang/common-voc-semantic-knn-ES.json.gz\")\n",
    "CL = loadjsongraph(\"../data/SpanishLang/common-voc-semantic-knn-CL.json.gz\")\n",
    "CO = loadjsongraph(\"../data/SpanishLang/common-voc-semantic-knn-CO.json.gz\")\n",
    "VE = loadjsongraph(\"../data/SpanishLang/common-voc-semantic-knn-VE.json.gz\")\n",
    "R = [\"AR\" => AR, \"CL\" => CL, \"CO\" => CO, \"ES\" => ES, \"MX\" => MX, \"US\" => US, \"VE\" => VE]\n",
    "length(R)\n"
   ]
  },
  {
   "cell_type": "code",
   "execution_count": 4,
   "metadata": {},
   "outputs": [
    {
     "data": {
      "text/plain": [
       "defined_but_different (generic function with 2 methods)"
      ]
     },
     "execution_count": 4,
     "metadata": {},
     "output_type": "execute_result"
    }
   ],
   "source": [
    "function enc(A)\n",
    "    Dict(token => pos for (pos, token) in enumerate(A))\n",
    "end\n",
    "\n",
    "function distance(A, B, missingcost)\n",
    "    A = enc(A)\n",
    "    B = enc(B)\n",
    "    s = 0\n",
    "    for (token, rank) in A\n",
    "        s += abs(rank - get(B, token, missingcost))\n",
    "    end\n",
    "\n",
    "    s\n",
    "end\n",
    "\n",
    "function defined_but_different(MX, US, missingcost=100)\n",
    "    L = []\n",
    "    for (token, MX_def) in MX\n",
    "        US_def = get(US, token, nothing)\n",
    "        if US_def !== nothing\n",
    "            push!(L, distance(MX_def, US_def, missingcost) => token)\n",
    "        end\n",
    "    end\n",
    "\n",
    "    sort!(L, by=first, rev=true)\n",
    "end\n"
   ]
  },
  {
   "cell_type": "code",
   "execution_count": 5,
   "metadata": {},
   "outputs": [
    {
     "data": {
      "text/plain": [
       "117295"
      ]
     },
     "execution_count": 5,
     "metadata": {},
     "output_type": "execute_result"
    }
   ],
   "source": [
    "L = defined_but_different(MX, US)\n",
    "length(L)"
   ]
  },
  {
   "cell_type": "code",
   "execution_count": 6,
   "metadata": {},
   "outputs": [
    {
     "name": "stdout",
     "output_type": "stream",
     "text": [
      "1344 => confundiste, 1344 => globalista, 1344 => manaanaa, 1344 => visitas, 1344 => telemundo, 1344 => yujuu, 1344 => camilaa, 1344 => deroga, 1344 => traficantes, 1344 => configure, 1344 => atiendan, 1344 => masturbe, 1344 => abrazate, 1344 => trepate, 1344 => yihad, 1344 => librerias, 1344 => pentecostal, 1344 => canelon, 1344 => socioeconomico, 1344 => males, 1344 => milimetros, 1344 => vanda, 1344 => abrirles, 1344 => definirte, 1344 => film, 1344 => apretadita, 1344 => derrumben, 1344 => lavamanos, 1344 => cumpelanos, 1344 => biotecnologia, 1344 => moriir, 1343 => miley, 1343 => empuje, 1343 => estams, 1343 => fotis, 1343 => sumergi, 1343 => bastantito, 1343 => asistencial, 1343 => enloqueci, 1343 => 🐋, 1343 => dominado, 1343 => taladra, 1343 => bitch, 1343 => ^)/, 1343 => reencarnado, 1343 => senalarle, 1343 => analfabeta, 1343 => sombras, 1343 => ocuparemos, 1343 => licenciaturas, 1343 => espanolete, 1343 => agreguenle, 1343 => toma, 1343 => rasurarme, 1343 => casemonos, 1343 => alabes, 1343 => negociaban, 1343 => jalarte, 1343 => irracional, 1343 => sospeche, 1343 => colocarla, 1343 => felicitenme, 1343 => quejense, 1343 => arrodillaron, 1343 => desluce, 1343 => vuelvan, 1343 => mentirle, 1343 => fijese, 1343 => enfocarnos, 1343 => progresivos, 1343 => necesitarias, 1343 => debatamos, 1343 => maniaticas, 1343 => ganaderos, 1343 => peligrosos, 1343 => jsjs, 1343 => apegarse, 1343 => deciamos, 1343 => vocabulario, 1343 => soportoo, 1343 => observarlo, 1343 => desfalcan, 1343 => viviir, 1343 => reirnos, 1343 => apoyaran, 1343 => teas, 1343 => senalamos, 1343 => auspiciador, 1343 => medalla, 1343 => usteden, 1343 => peligrar, 1343 => vallase, 1343 => afirmaste, 1343 => apagao, 1343 => ejecutaran, 1343 => alguieen, 1343 => mengana, 1342 => informarse, 1342 => detestaba, 1342 => afirmarse, 1342 => subestimaste\n"
     ]
    }
   ],
   "source": [
    "\n",
    "println(replace(join(L[79900:80000], \", \"), r\"\\\\\\\"\" => \"\"))"
   ]
  },
  {
   "cell_type": "code",
   "execution_count": 7,
   "metadata": {},
   "outputs": [
    {
     "data": {
      "text/plain": [
       "compare_concepts_in_table (generic function with 1 method)"
      ]
     },
     "execution_count": 7,
     "metadata": {},
     "output_type": "execute_result"
    }
   ],
   "source": [
    "\n",
    "function compare_concepts_in_table(token, R)\n",
    "    H = Matrix{String}(undef, 34, length(R))\n",
    "\n",
    "    for (i, (label, region)) in enumerate(R)\n",
    "        H[1, i] = label\n",
    "        H[2:end, i] .= get(region, token, \"\")\n",
    "    end\n",
    "\n",
    "    display(\"text/markdown\", \"### $token\")\n",
    "    display(\"text/markdown\", latexify(H, env=:mdtable, latex=false))\n",
    "end\n",
    "\n"
   ]
  },
  {
   "cell_type": "code",
   "execution_count": 8,
   "metadata": {},
   "outputs": [
    {
     "data": {
      "text/markdown": [
       "# Referencias religiosas"
      ]
     },
     "metadata": {},
     "output_type": "display_data"
    },
    {
     "data": {
      "text/markdown": [
       "### religion"
      ]
     },
     "metadata": {},
     "output_type": "display_data"
    },
    {
     "data": {
      "text/markdown": [
       "|             AR |             CL |               CO |             ES |             MX |              US |               VE |\n",
       "| --------------:| --------------:| ----------------:| --------------:| --------------:| ---------------:| ----------------:|\n",
       "|     religiones |     religiones |       religiones |     religiones |     religiones |      religiones |       religiones |\n",
       "|      religiosa |   religiosidad |        religiosa |      religiosa |   religiosidad |    religiosidad |     religiosidad |\n",
       "|      religioso |      religiosa |     religiosidad |      religioso |      religioso |  judeocristiana |        religiosa |\n",
       "|       creencia |      religioso |       religiosas |   cristianismo |     religiosos |       religiosa |        religioso |\n",
       "|   cristianismo |       creencia |        religioso |   religiosidad |     religiosas |       religioso |      catolicismo |\n",
       "|   religiosidad |          credo |       religiosos |          islam |   cristianismo |      religiosas |       religiosos |\n",
       "|          credo |     religiosos |           credos |     religiosas | judeocristiana |    cristianismo |         creencia |\n",
       "|    catolicismo |     religiosas |      catolicismo |     religiosos |       creencia |      religiosos |       religiosas |\n",
       "|       judaismo |      creencias |     cristianismo |      cristiana |      creencias |        creencia |        creencias |\n",
       "|       profesar |    catolicismo |         creencia |       catolica |    catolicismo |   anticristiana |         teologia |\n",
       "|     religiosos |       profesar |            credo |       creencia |      ideologia |       creencias |   judeocristiana |\n",
       "|        profesa |       teologia |        creencias |      hinduismo |      religiosa |       cristiana |        ideologia |\n",
       "|      creencias |        profesa |   religiosamente |      creencias |       teologia |     catolicismo |         catolico |\n",
       "|     religiosas |         credos |   judeocristiana |          credo |       catolica |       ideologia |            judeo |\n",
       "|         credos |       profesas |   espiritualidad |    catolicismo |       profesar |            ateo |        masoneria |\n",
       "|      cristiana |   cristianismo |          ateismo |       islamica |     cristianos |           credo |      monoteistas |\n",
       "|      ideologia |        ateismo |         catolica | judeocristiana |       catolico |     cristiandad |           credos |\n",
       "|        profese |      catolicos |  correligionario |        ateismo |          credo |           judeo |        catolicos |\n",
       "|    cristiandad | espiritualidad |         teologia |       judaismo |      catolicos |        teologia |         profesar |\n",
       "|   agnosticismo | religiosamente |        catolicos |       teologia |      cristiana |  homosexualismo |         judaismo |\n",
       "|  anticristiana |      filosofia |           dogmas |      ideologia | espiritualidad |      cristianos |         catolica |\n",
       "|       profesas |         dogmas |        cristiana |       profesar |        profesa |  homosexualidad |     cristianismo |\n",
       "|     apostolica |   cienciologia |   homosexualismo |    monoteistas |        iglesia |           laica |  correligionario |\n",
       "|       profesan |       judaismo |     supersticion |    cristiandad |    cristiandad |         profesa |            islam |\n",
       "|        ateismo |      creyentes |        ideologia |        budismo |         dogmas |        judaismo |        hinduismo |\n",
       "|      agnostico |      ideologia |         profesar |      creyentes |        profese | fundamentalismo |          budismo |\n",
       "|          islam |          laico |          iglesia |      islamismo |       judaismo |      ideologias |        monogamia |\n",
       "|     cristianos |        profese | correligionarios |       laicismo |      creyentes |  religiosamente |            credo |\n",
       "| judeocristiana |   agnosticismo |         judaismo |       creyente |          islam |          dogmas |        musulmana |\n",
       "|       catolico |       profesan |           sectas |        profesa |      satanismo |      cristianas |         santeria |\n",
       "|       catolica |          dogma |            dogma |     cristianos |       profesan |   anticristiano | correligionarios |\n",
       "|           atea |      teologica |           laicos |   agnosticismo |         sectas |        profesas |     supersticion |\n",
       "| espiritualidad | judeocristiana |         laicismo |     cristianas |    evangelicos |       doctrinal |       ideologias |\n"
      ]
     },
     "metadata": {},
     "output_type": "display_data"
    },
    {
     "data": {
      "text/markdown": [
       "### iglesia"
      ]
     },
     "metadata": {},
     "output_type": "display_data"
    },
    {
     "data": {
      "text/markdown": [
       "|            AR |            CL |             CO |            ES |             MX |             US |             VE |\n",
       "| -------------:| -------------:| --------------:| -------------:| --------------:| --------------:| --------------:|\n",
       "|      catolica |    sacerdotes |       catolica |      catolica |       catolica |     evangelica |       catolica |\n",
       "|    evangelica |    evangelica |   congregacion |    apostolica |   congregacion |       catolica |     apostolica |\n",
       "|    apostolica |         curas |     evangelica |         clero |           misa |     evangeliza |      catolicas |\n",
       "|         curia |         curia |      catolicos |      eclesial |     apostolica |     apostolica |     feligresia |\n",
       "|     catolicos |  congregacion |       catolico |     catolicas |      religioso |    evangelicas |           misa |\n",
       "|         curas |  eclesiastica |     sacerdotes |         curia |      catolicos |           misa |      catolicos |\n",
       "|         clero |    sacerdotal |      catolicas |  eclesiastica |      catolicas |           igle |       catolico |\n",
       "|   catolicismo |          igle |       iglesias |      vaticano |       catolico |    evangelizar |     evangelica |\n",
       "|     catolicas |    feligreses |      cristiana |    sacerdotes |     eucaristia |      cristiana |        homilia |\n",
       "|   evangelicas |      diocesis |     apostolica |      vaticana |        parroco |      catolicos |     sacerdotes |\n",
       "|    sacerdotes |  eclesiastico |    catolicismo |       obispos |     sacerdotes |    pentecostal |   eclesiastica |\n",
       "|  eclesiastica |     catolicos |     evangeliza | eclesiasticos |       catedral |    pentecostes |     apostolico |\n",
       "|   apostolicos |         clero |           misa |    feligresia |          clero |     sacerdotes |    apostolicos |\n",
       "|      vaticano |   pentecostal |          clero |   apostolicos |    evangelicos |   congregacion |       feligres |\n",
       "|   evangelicos |       obispos |      parroquia |         curas |      sacerdote | judeocristiana |   congregacion |\n",
       "|      sinagoga |      vaticano |      religiosa |     catolicos |     religiosos |  evangelizando |      episcopal |\n",
       "|     religiosa | eclesiasticos |     feligresia |  eclesiastico |       congrega |      sacerdote |     feligreses |\n",
       "|    feligresia |        laicos |    evangelicas |    episcopado |              ⛪ |     sacerdotal | evangelizacion |\n",
       "|     parroquia |     sacerdote | judeocristiana |      basilica | congregaciones |      catolicas |    evangelizar |\n",
       "|      catolico | pentecostales |       pastores |      clerical |     evangelico |       pastoral |     evangeliza |\n",
       "|      basilica |      vaticana |      sacerdote |     religiosa |     cristianos |     excomunion |        parroco |\n",
       "|    apostolico |   evangelicas |    evangelicos |     episcopal |       vaticano |    apostolicos |       eclesial |\n",
       "|          misa |     pedofilos |        jerarca |    religiosos |      cristiana |    catolicismo |    catolicismo |\n",
       "|    excomulgar |      clerigos |       jerarcas |   catolicismo |    evangelicas |       pastores |       diocesis |\n",
       "|  eclesiastico |      iglesias |     feligreses |     conventos |     evangelica | evangelizacion |       pastores |\n",
       "|    feligreses |      karadima |     cristianas |    apostolico |     sacerdotal |    cristiandad |     episcopado |\n",
       "| eclesiasticos | eclesiasticas |    apostolicos |   arzobispado |    apostolicos |     evangelico |  arquidiocesis |\n",
       "|  congregacion |      eclesial |    evangelizar |  congregacion |    pentecostes |     adventista |   eclesiastico |\n",
       "|    parroquias |    apostolica |  anticristiana |      clerigos |      parroquia |    evangelicos |       congrega |\n",
       "|  cristianismo |    sacerdocio | congregaciones |        laicos |    sacramentos |     evangelios |    evangelicas |\n",
       "|    evangelico |    pederastia |    pentecostes |  religiosidad |       religion |        capilla |     sacerdotal |\n",
       "|     bergoglio | arquidiocesis |     sacerdotal |     parroquia |       congrego |  pentecostales |        obispos |\n",
       "| anticristiana |   evangelista |          curas |  aconfesional |       basilica |    evangelista |     sacerdocio |\n"
      ]
     },
     "metadata": {},
     "output_type": "display_data"
    },
    {
     "data": {
      "text/markdown": [
       "### ritual"
      ]
     },
     "metadata": {},
     "output_type": "display_data"
    },
    {
     "data": {
      "text/markdown": [
       "|           AR |              CL |             CO |           ES |           MX |              US |              VE |\n",
       "| ------------:| ---------------:| --------------:| ------------:| ------------:| ---------------:| ---------------:|\n",
       "|     rituales |        rituales |       rituales |     rituales |     rituales |        rituales |        rituales |\n",
       "|     satanico |            rito |          ritos |        ritos |         rito |      espiritual |       spiritual |\n",
       "|         rito |       spiritual |      spiritual | apareamiento |        ritos |            rito |      espiritual |\n",
       "|        ritos |      espiritual |     espiritual |     satanico |     satanico |  espiritualidad |        satanico |\n",
       "|       mantra |        satanico |       satanico |      conjuro | apareamiento |           ayuno |           ritos |\n",
       "|    satanismo |       satanismo |        budista |    ancestral |    ancestral |        satanico |        brujeria |\n",
       "|       habito |    apareamiento |           rito |     satanica |   ceremonial |        cuaresma |         santero |\n",
       "|      mantras |      ceremonial |   apareamiento |   invocacion |    satanicos |    supersticion |        santeria |\n",
       "|    spiritual |           ritos | espiritualidad |    satanicos |   iniciacion |          templo |       satanismo |\n",
       "|     liturgia |      sacramento |      religioso |         vudu |     ancestro |      meditacion |  espiritualidad |\n",
       "|    solsticio |       liturgico |      exorcismo |       pagano |    aquelarre |        incienso |       exorcismo |\n",
       "|        fogon |     sacramental |      liturgico |    spiritual |    simbolico |       satanismo |      esoterismo |\n",
       "|    satanista |        tibetano |      satanicos |   espiritual |  ancestrales |       religioso |        santeros |\n",
       "|      mistico |         budista |   recogimiento |      cortejo |       pagano |   evangelizador |        liturgia |\n",
       "|    satanicos |  espiritualidad |       brujeria |       pagana |   espiritual |           tarot |         budismo |\n",
       "|   invocacion |        satanica |          hindu |     conjuros |      mistico |        satanica |       esoterico |\n",
       "| invocaciones |     eucaristico |        mistico |    satanismo |   mitologico |         shabbat |       liturgico |\n",
       "|    liturgico |      meditacion |        budismo |   meditacion |    spiritual |   supersticioso |       brujerias |\n",
       "|       pagana |            misa |      hinduismo |      vigilia |    exorcismo |         mistico |      hechiceria |\n",
       "|  crucifixion |       exorcismo |     mitologico |    exorcismo |  sincretismo |  evangelizacion |       satanicos |\n",
       "|       cabala |    recogimiento |         pagana |    aquelarre |  eucaristico |    relajamiento |           sante |\n",
       "|     martirio |       ecumenico |    sacramental |    satanicas |    satanismo |     sacramental |         budista |\n",
       "|   pentagrama |        liturgia |         templo |         budu |    solsticio |      eucaristia |     espiritista |\n",
       "|   meditacion |      ceremonias |       satanica |     brujeria |       pagana |       exorcismo |         hechizo |\n",
       "|    aquelarre |      purgatorio |         pagano |        ouija |   simbolismo |        religion | espiritualmente |\n",
       "|   purgatorio |          templo |      teologico |      mistico |     brujeria |           ritos |        satanica |\n",
       "|     satanizo | espiritualmente |     sacerdotal | invocaciones |    milenario |      evangeliza |       religioso |\n",
       "|    tradicion |        comunion |    catolicismo |   hechiceria |     satanica |       pachamama |      mitologico |\n",
       "|      budista |         mistico |      satanismo |  canibalismo |     danzante |      ceremonial |      metafisico |\n",
       "| recogimiento |          danzar |       liturgia |      budista |   simbolizar | espiritualmente |       teologico |\n",
       "|    ancestral |           ayuno |         chaman |  sacerdotisa |     santeria |     eucaristico |    recogimiento |\n",
       "|      sagrado |         budismo |    eucaristico | sobrenatural |       chaman |         capilla |      meditacion |\n",
       "|       medito |      pandemonio |    avivamiento |      invocar |       danzar |    espirituales |            vudu |\n"
      ]
     },
     "metadata": {},
     "output_type": "display_data"
    }
   ],
   "source": [
    "display(\"text/markdown\", \"# Referencias religiosas\")\n",
    "for token in [\"religion\", \"iglesia\", \"ritual\"]\n",
    "    compare_concepts_in_table(token, R)\n",
    "end"
   ]
  },
  {
   "cell_type": "code",
   "execution_count": 9,
   "metadata": {},
   "outputs": [
    {
     "data": {
      "text/markdown": [
       "# Referencias ocio y recreación"
      ]
     },
     "metadata": {},
     "output_type": "display_data"
    },
    {
     "data": {
      "text/markdown": [
       "### cine"
      ]
     },
     "metadata": {},
     "output_type": "display_data"
    },
    {
     "data": {
      "text/markdown": [
       "|         AR |               CL |               CO |               ES |              MX |              US |               VE |\n",
       "| ----------:| ----------------:| ----------------:| ----------------:| ---------------:| ---------------:| ----------------:|\n",
       "|   anabelle |            cinee |            cines |        cinepolis |           cinee |           cinee |            cinee |\n",
       "|  annabelle |         cinefila |         cinemark |            cines |       cinepolis |           cines |            cines |\n",
       "|    conjuro |        cinepolis |          cinemas |   cinematografia |           cines |         cinemax |       peliculaza |\n",
       "|   cinemark |        peliculas |            cinee |      blockbuster |            peli |         cinemas |        peliculas |\n",
       "|       imax |         pelicula |        peliculas |        peliculas |        pelicula |      peliculaza |         cinefilo |\n",
       "|   deadpool |         cinefilo |          cinemax |             peli |       peliculas |            imax |         cinefila |\n",
       "|      cines |             peli |         cinefila |       preestreno |      peliculita |        cinefila |        cinepolis |\n",
       "|   zootopia |        cinefilos |           cinema |            pelis |         cinemas |       peliculaa |         pelicula |\n",
       "|  cinepolis |        cartelera |         pelicula |         pelicula |        cinefila |        cinefilo |        cinecanal |\n",
       "|    cinemas |       peliculaza |       cinematica |  cinematografica |       dunkerque |       peliculas |          cinemax |\n",
       "| peliculaza |          conjuro |            pelis |  cinematografico |           pelis |        deadpool |         deadpool |\n",
       "|       dory |        peliculaa |        cinecanal |       peliculaza |      cinemateca |        cinemark |       peliculero |\n",
       "|         bk |            avant |        cartelera |          cinemax |        deadpool |      cinemateca |           cinema |\n",
       "|   showcase |         premiere |         cinefilo | cinematograficas |        cinefilo |       cinefilos |            pelis |\n",
       "|     cinema |        peliculon |       peliculaza |        peliculon |      peliculaza |        pelicula |       cinemateca |\n",
       "|          🎬 |         deadpool |         deadpool |         deadpool |        anabelle |          cinema |       peliculita |\n",
       "|    village |       peliculero |        cineastas |             vose |        cinemark |           pelis |  cinematografico |\n",
       "| preestreno |            pelis |   cinematografia |         cinefilo |      preestreno |       peliculon |             peli |\n",
       "|       peli |        dunkerque |           teatro |        cartelera |       cinefilos |            peli |       cinematica |\n",
       "|   shopping |           cinema |       cinemateca |          cinemas |            imax |      peliculita |         cineasta |\n",
       "|      avant |       cinematica |             peli |        dunkerque |   trainspotting |       conjuring |          conjuro |\n",
       "|   pelicula |    trainspotting |        peliculaa | cinematograficos |               🍿 |       cinepolis |  cinematografica |\n",
       "|          🎥 |          estreno |         cineasta |         cineasta |        estrenos |      cinematica | cinematograficas |\n",
       "|   estrenos |         bohemian |  cinematografico |        tarantino |          cinema |          movies |     cortometraje |\n",
       "|         mc |          cinemax |      cinematicas |        cineastas |       premieres |         popcorn |        cineastas |\n",
       "|  peliculas |        cinecanal |                🎬 |        almodovar | cinematografica |     cinematicas |        peliculaa |\n",
       "|    dunkirk |   cinematografia |  cinematografica |         cinefila |       cinecanal | cinematografico |    cortometrajes |\n",
       "|   avengers |           teatro | cinematograficas |       taquillera |         cinemax |         estreno | cinematograficos |\n",
       "|     burger |        tarantino |        cinefilos |      taquilleras |          nachos |        zootopia |   cinematografia |\n",
       "|      pelis |         estrenos |     cortometraje |        cinefilos | cinematografico |        starwars |      cinematicas |\n",
       "|  dunkerque | cinematograficas |             imax |           filmes |        avengers |       mantecado |        cinefilos |\n",
       "| peliculita |         zootopia |       peliculita |         estrenos |  cinematografia |  cinematografia |        annabelle |\n",
       "|      purga |          dunkirk |        annabelle |          dunkirk |       annabelle |        avengers |             film |\n"
      ]
     },
     "metadata": {},
     "output_type": "display_data"
    },
    {
     "data": {
      "text/markdown": [
       "### parque"
      ]
     },
     "metadata": {},
     "output_type": "display_data"
    },
    {
     "data": {
      "text/markdown": [
       "|          AR |            CL |             CO |            ES |            MX |              US |              VE |\n",
       "| -----------:| -------------:| --------------:| -------------:| -------------:| ---------------:| ---------------:|\n",
       "|     parquee |       parqueo |     parquesito |    parquecito |       parqueo |         parquet |         parqueo |\n",
       "|  parquecito |   parqueadero |     parquecito |       parqueo |    parquecito |         parquee |         parquet |\n",
       "|     parqueo |      parquear |        parquee |       parques |       parquet |         parques |      parquecito |\n",
       "|  parquesito |       parquet |        parques |    parquesito |       parques |      parquesito |     parqueadero |\n",
       "|        parq |    parquecito |           parq |   atracciones |    parquesito |            parq |        parquear |\n",
       "|   costanera |       parques |          plaza |       parquea |       parquee |      parquecito |            parq |\n",
       "|   patricios |    parquesito |       boulevar |       parquee |       parquea |         parqueo |         parques |\n",
       "|       parke |     parqueado |        malecon |   parqueadero |      parquear |        parqueos |       parqueado |\n",
       "|      lezama |          pque |       botanico |      parquear |   parqueadero |         parquea |            pque |\n",
       "|      playon |    anfiteatro |      plazoleta |     columpios |      parquean |        parquear |      parqueados |\n",
       "|       plaza |          parq |        bulevar |       parquet |       alameda |   guardaparques |   guardaparques |\n",
       "| diversiones |     skatepark |         virrey |     skatepark |      alamedas |        acuatico | estacionamiento |\n",
       "|     parquea |         egana |        salitre |    descampado |          parq |       ciudadela |        tematico |\n",
       "|    parquear |  bicentenario |       parqueos |     plazoleta |   chapultepec |           museo |        botanico |\n",
       "| parqueadero |     costanera |       bulevard |     explanada |      jardines |            park |    recreacional |\n",
       "|     parques |       fluvial |      skatepark |         paseo |    parqueados |       skatepark |        acuatico |\n",
       "|       dique |      boulevar |      boulevard |      tematico |       malecon |     parquimetro |           plaza |\n",
       "|     placita |    teleferico |  guardaparques |          parq |        jardin |    urbanizacion |          vivero |\n",
       "|     plazita |     dominicos |       floresta |  urbanizacion |       mirador |        parquean |        campitos |\n",
       "|     camping |         plaza |  polideportivo |      acuatico |        kiosco |        acuatica |     residencial |\n",
       "|  centenario |     explanada |    diversiones |         parke |         plaza |         estadio |         campito |\n",
       "|   plazoleta |          mall |        tayrona |     toboganes |        vivero |       plazoleta |           museo |\n",
       "|       tejas |     boulevard | polideportivos |      botellon |    parquearse |       parqueado |      recreativo |\n",
       "|  parqueando |      botanico |        mirador |          urba |  bicentenario | estacionamiento |             edf |\n",
       "|        bule |     balneario |          museo |         prado |     explanada |      parqueando |        edificio |\n",
       "|      rambla |        bosque |        poblado |       alameda | metropolitano |     parqueadero |       zoologico |\n",
       "|   skatepark |      dominico |        hippies |       vallado |     skatepark |        edificio |       balneario |\n",
       "|     mirador | guardaparques |     sambodromo |      jardines | guardaparques |          bosque |         paragua |\n",
       "|       costa |       bulevar |    parqueadero |      maritimo |    bellavista |        botanico |   polideportivo |\n",
       "|      balnes |       mirador |          penon |       parking |         delta |         gardens |         central |\n",
       "|        pque |        laguna |         colina |        barrio |         paseo |           plaza |          ferial |\n",
       "|        lago |    condominio |       ciclovia |       avenida |       viveros |       acuaticos |          bosque |\n",
       "|   balneario |     santuario |       estacion | polideportivo |        bosque |       velodromo |        caminero |\n"
      ]
     },
     "metadata": {},
     "output_type": "display_data"
    },
    {
     "data": {
      "text/markdown": [
       "### playa"
      ]
     },
     "metadata": {},
     "output_type": "display_data"
    },
    {
     "data": {
      "text/markdown": [
       "|           AR |            CL |           CO |           ES |          MX |         US |           VE |\n",
       "| ------------:| -------------:| ------------:| ------------:| -----------:| ----------:| ------------:|\n",
       "|       playaa |        playaa |      playita |      playita |     playita |     playaa |       playaa |\n",
       "|      playita |       playita |            🏖 |       playaa |      playaa |    playita |      playita |\n",
       "|        praia |        playas |       playas |      piscina |       tulum |    piscina |      piscina |\n",
       "|       playas |       piscina |            🏝 |     playitas |           🏖 |   playitaa |       playas |\n",
       "|     playitaa |      playitas |   bronceando |       playas |    playitaa |          🏖 |    piscinita |\n",
       "|        costa |     balneario |      piscina |     playitaa |    playitas |   playitas |     broncear |\n",
       "|  paradisiaca |      playitaa |     playitas |        pisci |           🏝 |          🏝 |   broncearme |\n",
       "|       grutas |             🌊 |    piscinita |    piscinita |      cancun |  piscinita |      acampar |\n",
       "|      camping |    balnearios |            🌊 |      nudista |      plasha |     playas |   broncearse |\n",
       "|    balneario |     piscinita |         baru |      banarme |     riviera |          🌊 |   broncearte |\n",
       "|    costanera |    copacabana | bronceandome |            🏖 |     cozumel | broncearme |       roques |\n",
       "|     playitas |        orilla | bronceandose |  paradisiaca |     alberca |     hamaca |     playitas |\n",
       "|       pileta |       camping |     broncear |      veraneo |           🌊 |    acampar |        pisci |\n",
       "|       gesell |         dunas |     cabanita |    sombrilla |           🌴 |    nudista |      playero |\n",
       "|       rambla |          lago |   broncearse |       hamaca |     miramar |   broncear |   bronceando |\n",
       "|         pile |       costero |            🌴 |      snorkel |           ⛱ |   roadtrip |        yapla |\n",
       "|   copacabana |       acampar |      tayrona |    terracita |  broncearme | broncearte |         cata |\n",
       "|       cancun |        lancha |       cancun |     solecito |     playero |     orilla |  bronceadito |\n",
       "|            🏖 |      orillita |      broncea |       caleta |     piscina |    bronceo |        playo |\n",
       "|      pinamar |   paradisiaca |            👙 |      hamacas |      playas | bronceando |      choroni |\n",
       "|      miramar |        cabana |   broncearte |       orilla |    broncear |    surfear |  paradisiaca |\n",
       "| paradisiacas |       playero |        pisci |     veranear |  bronceando |     surfea |      broncea |\n",
       "|            🌊 |         ancha |     sabanita |      banarte |      caleta |    broncee |       lancha |\n",
       "|   bronceando |      piscinas |       islita |        banar |  broncearte |     picina |      playera |\n",
       "|       costaa |         yapla |            ⛱ |      playero |    acapulco |  longboard |      rumbear |\n",
       "|   caipirinha |       playera |  paradisiaca |      banarse |     asolear |   piscinas |      cienaga |\n",
       "|       islita |         bahia |       hamaca |      arenita |   costenita |    camping |        yaque |\n",
       "|      piscina | desembocadura |  bronceadito |    banandome |    mazatlan |       olas |      bronceo |\n",
       "|         lago |      chapuzon |         isla |     nudistas |        isla |      beach |     orillita |\n",
       "|       muelle |       litoral |       orilla | paradisiacas |      playon |       boat |      arenita |\n",
       "|  caipirinhas |       veraneo |     pisciana |      banando | paradisiaca |     paddle | bronceandome |\n",
       "| bronceandome |      cabanita |      malecon |      medusas |     malecon |  bronceada | bronceandose |\n",
       "| bronceandose |     algarrobo |      bronceo |      banador |      hawaii |  atardecer |    bronceada |\n"
      ]
     },
     "metadata": {},
     "output_type": "display_data"
    },
    {
     "data": {
      "text/markdown": [
       "### piscina"
      ]
     },
     "metadata": {},
     "output_type": "display_data"
    },
    {
     "data": {
      "text/markdown": [
       "|          AR |        CL |           CO |           ES |          MX |          US |         VE |\n",
       "| -----------:| ---------:| ------------:| ------------:| -----------:| -----------:| ----------:|\n",
       "|      pileta |  piscinas |    piscinita |        pisci |     alberca |   piscinita |  piscinita |\n",
       "|    piscinas | piscinita |     piscinas |    piscinita |    piscinas |    piscinas |   piscinas |\n",
       "|   piscinita |     playa |        pisci |        playa |   piscinita |       playa |      pisci |\n",
       "|        pile |    pileta |        playa |     piscinas |      pileta |       pisci |      playa |\n",
       "|     jacuzzi |     pisci |      playita |     chapuzon |      banera |     alberca |     playaa |\n",
       "|   piscinazo |  chapuzon |    piscinazo |        banar |    pisciana |      pileta |    playita |\n",
       "|     piletas |   playita |   bronceando |       banera |     jacuzzi |     playita |      yapla |\n",
       "|  piscinazos |         🏊 |   piscinazos |      banarme |       playa |      picina |   playitaa |\n",
       "| climatizada |   jacuzzi |      psicina |   colchoneta |     piletas |      banera | broncearme |\n",
       "|      banera |   terraza |     broncear |      playita |       nadar |     jacuzzi |  cervezita |\n",
       "| hidromasaje |    picina |     pisciana |      banarse |     playita |      playaa |     banera |\n",
       "|     terraza |      tina |    piscinero |      banador |      bucear |    playitaa |   fiestica |\n",
       "|      picina |     nadar |      alberca |       picina | hidromasaje |     camping | broncearse |\n",
       "|       playa |   quincho |    cervezita |      terraza |   balneario |    playitas |  discoteca |\n",
       "|    chapuzon | temperada |      broncea |         urba |        tina |      hamaca | cervezitas |\n",
       "|     camping |    playaa |   broncearse | urbanizacion |     terraza |           🏊 |   gimnasio |\n",
       "|     playita |     ducha |   cervezitas |            🏊 |      hamaca |       sauna |    rumbita |\n",
       "|      pecera |    pisina | bronceandome |       banito |     snorkel |      pisina |   broncear |\n",
       "| climatizado |  playitaa | bronceandose |      nudista |    regadera |      paddle |   bebedera |\n",
       "|     quincho |  reposera |      jacuzzi |        nadar |           🏊 |  bronceando |    jacuzzi |\n",
       "|      cabana |      pile |        sauna |   socorrista |    chapuzon |     piletas |        reu |\n",
       "|           🏊 |   camping |   broncearte |     gimansio |      lancha |       ducha |      curda |\n",
       "|   balneario |   piletas |      bronceo |     acuatico |    acuatica |        bano |     duchar |\n",
       "|        lago |  playitas |     cabanita |       banado |       ducha |     bronceo |    rumbear |\n",
       "|    hihilera |   banando |       picina |       banara |       buceo |     broncee |  toboganes |\n",
       "|       dique |      poza |   charquitos |    terracita |       kayak |       baner |   bebedero |\n",
       "|   palangana |  cabanita |     asoleada |      hamacas |    cabanita |  marquesina |     curdas |\n",
       "|    termales |    banara |   micheladas |      banando |      cubeta |     acampar |   gymnasio |\n",
       "|    cabanita |   duchita |  bronceadito |      banarte |    lanchita |  broncearme |    acampar |\n",
       "|     mansion |     banar |    bronceada |       playaa |    acuatico |     snorkel | parrillita |\n",
       "|     arenero |     kayak |     chapuzon |       hamaca |      termal |    acuatica | bronceando |\n",
       "|   toboganes |     yapla |    michelada |        sauna |    termales |      fogata |   discotek |\n",
       "|      termal |  manguera |    charquito |        ducha |      colada | trampolines |      banar |\n"
      ]
     },
     "metadata": {},
     "output_type": "display_data"
    }
   ],
   "source": [
    "display(\"text/markdown\", \"# Referencias ocio y recreación\")\n",
    "for token in [\"cine\", \"parque\", \"playa\", \"piscina\"]\n",
    "    compare_concepts_in_table(token, R)\n",
    "end"
   ]
  },
  {
   "cell_type": "code",
   "execution_count": 10,
   "metadata": {},
   "outputs": [
    {
     "data": {
      "text/markdown": [
       "# Referencias geográficas"
      ]
     },
     "metadata": {},
     "output_type": "display_data"
    },
    {
     "data": {
      "text/markdown": [
       "### america"
      ]
     },
     "metadata": {},
     "output_type": "display_data"
    },
    {
     "data": {
      "text/markdown": [
       "|             AR |               CL |            CO |               ES |             MX |             US |                VE |\n",
       "| --------------:| ----------------:| -------------:| ----------------:| --------------:| --------------:| -----------------:|\n",
       "|       america0 |         america0 |      america0 |       sudamerica |       america0 |     sudamerica |        suramerica |\n",
       "|         merica |       sudamerica |        merica |         americas |   americanismo |     suramerica |            merica |\n",
       "|       americas |         americaa |      americaa |     norteamerica |          atlas |     centenario |     latinoamerica |\n",
       "|     suramerica |    americalatina |    suramerica |    americalatina |         tigres |          ameri |     americalatina |\n",
       "|     sudamerica |       suramerica |       mechita |       suramerica |         chivas |         latina |        sudamerica |\n",
       "|  americalatina |         americas |    sudamerica |    centroamerica |          xolos |   americanismo |            latina |\n",
       "|     continente |           merica | americalatina |          americo |          pumas |     continente |        continente |\n",
       "|         latina |           latina |    americanos |    latinoamerica |         merica |    centenarios |          america0 |\n",
       "|  latinoamerica |    latinoamerica |         ameri |         america0 |         necaxa |   norteamerica |     centroamerica |\n",
       "|  continentales |       centenario |        latina |           latina |          piojo |      americans |    hispanoamerica |\n",
       "| hispanoamerica |       continente |    centenario |     sudamericana |   americanista |       americas |  latinoamericanos |\n",
       "|  sudamericanas |     suramericana |       americo |   hispanoamerica |       monarcas |  latinoamerica |   latinoamericana |\n",
       "|   suramericana |             copa |         mecha |       continente |  americanistas |  centroamerica |   latinoamericano |\n",
       "|    continental |  confederaciones |      cortulua |           mexico |        rayados |          conca |       continental |\n",
       "|   sudamericano |              sud |       ascenso | centroamericanos |          ameri |         chivas |      norteamerica |\n",
       "|  sudamericanos |    centroamerica |  suramericana |     iberoamerica |      marchesin | hispanoamerica |     continentales |\n",
       "|   suramericano |     sudamericano | suramericanos |     sudamericano |     suramerica |         tigres |      suramericana |\n",
       "|  suramericanos |    sudamericanos |      ascendio |  centroamericano |   libertadores |         necaxa |       continentes |\n",
       "|   sudamericana |      continentes |  suramericano |  centroamericana |       sambueza |       concacaf |            latino |\n",
       "|       concacaf |     sudamericana |  americanismo |     americanismo |              🦅 |   sudamericana |     suramericanos |\n",
       "|  centroamerica |    sudamericanas |     americano |          oceania |     sudamerica |   libertadores |        centenario |\n",
       "|   iberoamerica |  latinoamericana |      jaguares |       americanos |          oribe |           copa |  latinoamericanas |\n",
       "|         europa |     suramericano |      ascender |    sudamericanos | concachampions | concachampions |        americanos |\n",
       "|   norteamerica |    suramericanos |  cuadrangular |             asia |       concacaf |    continental |          americas |\n",
       "|      eurocopas |           recopa |           dim |             eeuu |     centenario |  sudamericanos |            region |\n",
       "|   libertadores |       americanos |      ascienda |     suramericana |        atlante |     centenaria |            europa |\n",
       "|     americanos |  latinoamericano |    descendido |          bolivia |  americalatina |          xolos |        centenaria |\n",
       "|    continentes | latinoamericanos |          cali |            chile |          tuzos |    continentes | hispanoamericanos |\n",
       "|      mundiales | latinoamericanas |     descender |    sudamericanas |      aguilucho |  americanistas |     sudamericanos |\n",
       "|        ecuador |    continentales | sudamericanos |         colombia |      equipillo |   americanista |             latam |\n",
       "|          rusia |        mundiales |    continente |    suramericanos |       saprissa |   suramericana |   centroamericana |\n",
       "| concachampions |      continental |       quindio |        americano |       tigueres |   sudamericano |           iberica |\n",
       "|         region |        bicampeon |         erica |  latinoamericano |        aguilas |  continentales |      libertadores |\n"
      ]
     },
     "metadata": {},
     "output_type": "display_data"
    },
    {
     "data": {
      "text/markdown": [
       "### latinoamerica"
      ]
     },
     "metadata": {},
     "output_type": "display_data"
    },
    {
     "data": {
      "text/markdown": [
       "|                AR |                CL |                CO |                ES |                MX |                US |                VE |\n",
       "| -----------------:| -----------------:| -----------------:| -----------------:| -----------------:| -----------------:| -----------------:|\n",
       "|  latinoamericanas |  latinoamericanos |  latinoamericanos |   latinoamericana |  latinoamericanas |   latinoamericana |  latinoamericanos |\n",
       "|   latinoamericana |   latinoamericana |   latinoamericana |   latinoamericano |  latinoamericanos |  latinoamericanos |   latinoamericano |\n",
       "|  latinoamericanos |   latinoamericano |   latinoamericano |  latinoamericanos |   latinoamericano |   latinoamericano |   latinoamericana |\n",
       "|   latinoamericano |  latinoamericanas |  latinoamericanas |  latinoamericanas |   latinoamericana |  latinoamericanas |  latinoamericanas |\n",
       "|        sudamerica |        sudamerica |    hispanoamerica |        sudamerica |        suramerica |    hispanoamerica |        suramerica |\n",
       "|    hispanoamerica |            latina |        suramerica |     centroamerica |        sudamerica |        suramerica |           america |\n",
       "|            latina |        suramerica |             latam |        suramerica |    hispanoamerica |        sudamerica |    hispanoamerica |\n",
       "|     americalatina |    hispanoamerica |            latina |    hispanoamerica |            paises |      iberoamerica |        continente |\n",
       "|        suramerica |     americalatina |     americalatina |  centroamericanos |      norteamerica |            paises |     centroamerica |\n",
       "|      norteamerica |           america | hispanoamericanos |            mexico |             latam | hispanoamericanos |     americalatina |\n",
       "| hispanoamericanos |            latino |  hispanoamericano |   centroamericana |            mexico |  hispanoamericana |            merica |\n",
       "|            paises |        continente |            paises | hispanoamericanos |           hispana |  hispanoamericano |             latam |\n",
       "|            region |     centroamerica |            latino |             latam |     americalatina |      norteamerica |        sudamerica |\n",
       "|  hispanoamericana |            paises |  hispanoamericana |  hispanoamericana | hispanoamericanos |             latam | hispanoamericanos |\n",
       "|  hispanoamericano |      norteamerica |        sudamerica |  centroamericanas |         venezuela |            latina |      iberoamerica |\n",
       "|             latam | hispanoamericanos |     centroamerica |   centroamericano |        continente |        continente |            latina |\n",
       "|     centroamerica |           latinos |           latinos |  hispanoamericano |      suramericana |     centroamerica |      norteamerica |\n",
       "|         argentina |       continentes |          colombia |           bolivia |           latinos |     americalatina |            latino |\n",
       "|        continente |      iberoamerica |        continente |      iberoamerica |     centroamerica |            region |       continentes |\n",
       "|      iberoamerica |             latam |      norteamerica |          colombia |         argentina |         venezuela |         venezuela |\n",
       "|              eeuu |          america0 |      iberoamerica |             chile |          colombia |   iberoamericanos |           latinos |\n",
       "|            mexico |           latinas |           hispana |            mejico |             paise |    iberoamericana |            paises |\n",
       "|            latino |     suramericanos |            mexico |      norteamerica |     sudamericanas |       continentes |  hispanoamericano |\n",
       "|            merica |             paise |             chile |     sudamericanos |           ecuador |    iberoamericano |  centroamericanos |\n",
       "|           america |            merica |     suramericanos |     sudamericanas |     suramericanos |  subdesarrollados |   centroamericana |\n",
       "|             paise |  hispanoamericano |            region |           america |  hispanoamericano |   subdesarrollada |  hispanoamericana |\n",
       "|              vzla |  centroamericanos |       continentes |      suramericana |        venezuelas |     suramericanos |   centroamericano |\n",
       "|           latinas |  hispanoamericana |            espana |           ecuador |  hispanoamericana |   subdesarrollado |     suramericanos |\n",
       "|           latinos |      suramericano |            merica |     suramericanos |              pais |       hemisferica |         argentina |\n",
       "|     sudamericanos |      suramericana |   iberoamericanos |           latinos |            espana |       globalizado |            region |\n",
       "|          venezuel |     sudamericanos |         argentina |      sudamericana |              eeuu |      suramericana |           iberica |\n",
       "|          argetina |   centroamericano |           ecuador |         nicaragua |           bolivia |             paise |  centroamericanas |\n",
       "|         venezuela |             chile |          europeos |            latina |          venezuel |        dictaduras |      suramericana |\n"
      ]
     },
     "metadata": {},
     "output_type": "display_data"
    },
    {
     "data": {
      "text/markdown": [
       "### mexico"
      ]
     },
     "metadata": {},
     "output_type": "display_data"
    },
    {
     "data": {
      "text/markdown": [
       "|            AR |            CL |            CO |            ES |               MX |             US |               VE |\n",
       "| -------------:| -------------:| -------------:| -------------:| ----------------:| --------------:| ----------------:|\n",
       "|       mexico0 |       mexico0 |       mexico0 |        mejico |          mexico0 |        mexico0 |          mexico0 |\n",
       "|      colombia |       mexicoo |      mexicali |       mexico0 |             pais |        mexicoo |           mexica |\n",
       "|          peru |      colombia |        mexica |      mexicali |    latinoamerica |         mexica |           mejico |\n",
       "|       ecuador |      mexicali |       mexicoo |         chile |                🇲 |         mejico |             mexi |\n",
       "|        mejico |        mexica |     mexicanos |      colombia |          mexicoo |              🇲 |         mexicali |\n",
       "|         chile |     guatemala |          mexi |       mexicoo |                🇽 |              🇽 |          mexican |\n",
       "|        mexica |       ecuador |         chile |        mexica |        venezuela |      mexicanos |        mexicanos |\n",
       "|       mexicoo |        mejico |          peru |          peru |        mexicanos |       chihipas |         mexicano |\n",
       "|     monterrey |     mexicanos |        mejico | latinoamerica |     norteamerica |         puebla |         mexicans |\n",
       "|           mex |       uruguay |      mexicano |       uruguay |           espana |    guadalajara |       mexicanito |\n",
       "|      mexicali |      mexicano |       ecuador |      paraguay |           canada |           amlo |            chile |\n",
       "|        espana |      honduras |      honduras |     mexicanos |           nacion |       mexicana |        argentina |\n",
       "|       uruguay |        brasil |             🇽 |        brasil |         colombia |       mexicali |        guatemala |\n",
       "| centroamerica |          peru |      mexicans |       ecuador |         venezuel |            mex |         honduras |\n",
       "|        brasil |       mexican |       mexican | centroamerica |            paise |       honduras |              mex |\n",
       "|      paraguay |           mex |          amlo |     argentina |         alemania |      guatemala |         mexicana |\n",
       "|       bolivia |     argentina |     argentina |       bolivia |        argentina |       mexicano |             peru |\n",
       "|       turquia |      mexicana |        brasil |          mexi |              eua |         oaxaca |      mexicanitos |\n",
       "|       mexican |    mexicanito |             🇲 |      mexicana |       venezuelas |     guanajuato |          uruguay |\n",
       "|      mexicano |      mexicans |      mexicana |     monterrey |         zelandia |     tamaulipas |    centroamerica |\n",
       "|     mexicanos |        panama |        hahati |      honduras |       suramerica |        jalisco |         colombia |\n",
       "|     filipinas |         japon |       uruguay |       mexican |              mex |      michoacan |         paraguay |\n",
       "|        canada |      paraguay |        brazil |    sudamerica |         venezula |       veracruz |           brasil |\n",
       "|          eeuu | centroamerica |     guatemala |    mexicanito |   primermundista | aguascalientes |          ecuador |\n",
       "|    sudamerica |       hondura |      chihipas |      mexicano |       venezuelan |        yucatan |           hahati |\n",
       "|        europa |       belgica |       tijuana |     nicaragua |    centroamerica |        tijuana |  centroamericana |\n",
       "|       caracas |   guadalajara |        puebla |        oaxaca |         honduras |       mexicans |         mejicana |\n",
       "|     venezuela |   bancolombia |            mx |             🇽 |             eeuu |      monterrey | centroamericanos |\n",
       "|        bogota |        espana |          cdmx |   bancolombia | latinoamericanos |      mexicanas |  centroamericano |\n",
       "| latinoamerica |          mexi |      paraguay |   mexicanitos |           brasil |            eua |        mejicanos |\n",
       "|         rusia |    inglaterra | centroamerica |     queretaro |          bolivia |      zacatecas |        nicaragua |\n",
       "|   guadalajara |     mexicanas |      alemania |             🇲 |           paises |    mexicanitos |      guadalajara |\n",
       "|     nicaragua |   mexicanitos |            df |     guatemala |       nacionales |           cdmx |          hondura |\n"
      ]
     },
     "metadata": {},
     "output_type": "display_data"
    },
    {
     "data": {
      "text/markdown": [
       "### chile"
      ]
     },
     "metadata": {},
     "output_type": "display_data"
    },
    {
     "data": {
      "text/markdown": [
       "|         AR |              CL |         CO |            ES |         MX |          US |         VE |\n",
       "| ----------:| ---------------:| ----------:| -------------:| ----------:| -----------:| ----------:|\n",
       "|    ecuador |          chiles |    uruguay |        chile0 |     chile0 |      chilen |  argentina |\n",
       "|       peru |          chilee |  argentina |     argentina |     chilee |      chilee |       peru |\n",
       "|     chile0 |         chilito |       peru |      paraguay |     piquin |    chilenos |    ecuador |\n",
       "|    uruguay |            pais |    bolivia |        mexico |    chilito |      chile0 |     chile0 |\n",
       "|     mexico |   latinoamerica |     chilen |       uruguay |  chilensis |     chileno |     chiles |\n",
       "|     chilen |          chile0 |    ecuador |          peru |   habanero |     chilena |   paraguay |\n",
       "|     brasil |            chil |   paraguay |       bolivia |     morron |      uchile |    chilena |\n",
       "|    bolivia |        america0 |     brasil |      colombia |     uchile |       shile |    bolivia |\n",
       "|   colombia |               🇨 |   chilenos |        brasil |     chiles |     chilito |    uruguay |\n",
       "|   paraguay |      suramerica |     mexico |      chilenos | verdolagas |   chilenito |     brasil |\n",
       "|     chiles |      sudamerica |     chiles |        chilen |   jalapeno |   argentina |     chilen |\n",
       "|     chilee |               🇱 |   honduras |       ecuador |   pimiento |    chilenas |   chilenos |\n",
       "|      rusia |       argentina |     chile0 |       chileno |       chil |      chiles |  chilensis |\n",
       "|   chilenos |         chileno |     uchile |        chilee |   habanera |      pinera |  guatemala |\n",
       "|     brazil |         america |     brazil |     nicaragua |    uruguay |     uruguay |     mexico |\n",
       "|     espana |        colombia | suramerica |    sudamerica |       peru |    paraguay |   honduras |\n",
       "|     chiloe |            peru |    chileno |      honduras |      tajin |           🇱 |    chileno |\n",
       "|    mexico0 |    iberoamerica |  chilensis | latinoamerica |       pica |  sudamerica |  chilenito |\n",
       "|    brasil0 |          mexico |    chilena |        uchile |    sofrito |     bolivia |     panama |\n",
       "|    chileno |        venezuel |     hahati |        chiles |    jamaica |      brazil |     pinera |\n",
       "|    polonia |        chilenos |   alemania |   bancolombia |  argentina | antofagasta |   chilenas |\n",
       "|     uchile |     antofagasta |       chil |       brasil0 |     pepino |    pinochet |  nicaragua |\n",
       "|   portugal |           shile | sudamerica |        mejico |    pepinos |        peru |   colombia |\n",
       "|   alemania | latinoamericano |    zelanda |      brasilia |   chipotle |     ecuador |    brasil0 |\n",
       "|   honduras |         ecuador |  chilenito |    suramerica |  uruguayas |   uruguasho |   pinochet |\n",
       "| sudamerica |        venezula |  boliviatv |     uruguayas |   honduras |   chilensis |       chil |\n",
       "|     canada |         nuestro |    francia |     chilenito |     brasil |      brasil |     brazil |\n",
       "|  australia |         mexico0 | montevideo |    paraguayas |    picante | carabineros | argentinaa |\n",
       "|       eeuu |         chilena |    polonia |     guatemala |   picadito |    colombia |    hondura |\n",
       "|    francia | latinoamericana |    brasil0 | centroamerica |  jalapenos |      chiloe |  paraguaya |\n",
       "| inglaterra |        mundial0 |     suecia |    montevideo |    ecuador |    alemania | paraguayos |\n",
       "|   chilenas |       venezuela |   argetina |           arg |   uruguaya |          cl |     hahati |\n",
       "|     russia |           _htag |     pinera |     boliviana |      picao |        weon | paraguayas |\n"
      ]
     },
     "metadata": {},
     "output_type": "display_data"
    }
   ],
   "source": [
    "display(\"text/markdown\", \"# Referencias geográficas\")\n",
    "for token in [\"america\", \"latinoamerica\", \"mexico\", \"chile\"]\n",
    "    compare_concepts_in_table(token, R)\n",
    "end"
   ]
  },
  {
   "cell_type": "code",
   "execution_count": 11,
   "metadata": {},
   "outputs": [
    {
     "data": {
      "text/markdown": [
       "# Vestimenta uso común"
      ]
     },
     "metadata": {},
     "output_type": "display_data"
    },
    {
     "data": {
      "text/markdown": [
       "### ropa"
      ]
     },
     "metadata": {},
     "output_type": "display_data"
    },
    {
     "data": {
      "text/markdown": [
       "|           AR |         CL |          CO |           ES |          MX |             US |         VE |\n",
       "| ------------:| ----------:| -----------:| ------------:| -----------:| --------------:| ----------:|\n",
       "|        ropas |     ropita |      ropita |       ropita |      ropita |         ropita |      ropas |\n",
       "|       ropita |      ropaa |     ropitas |        ropas |       blusa |          ropas |      ropaa |\n",
       "|          rop |    ropitas |       ropas |        ropaa |    lenceria |       secadora |     ropita |\n",
       "|      ropitas |      ropas |    lenceria |        blusa |     ropitas |        ropitas |    zapatos |\n",
       "|       pilcha |     camisa |    sudadera |    sudaderas |      blusas |          blusa |       rope |\n",
       "|   zapatillas |    camisas |     pijamas |      ropitas |     camisas |     maquillaje |        rop |\n",
       "|     calzados |        rop |     camisas |      prendas |  lavanderia |         camisa |    ropitas |\n",
       "|      calzado |     ropero |   sudaderas |       blusas |     camison |         outfit |   lenceria |\n",
       "|      zapatos |    zapatos |    camisita |      jerseys |    lavadora |       sudadera |    calzado |\n",
       "|     lenceria |     casaca |     blusita |     chaqueta | guardarropa |            rop |   calzados |\n",
       "|  maquillajes |     polera |      blusas |       camisa |      camisa |       lenceria |     pijama |\n",
       "|       jejens |    pijamas |     bershka |     sudadera |   planchada |    maquillajes |   camisita |\n",
       "|     vestidor |   lavadora |      pijama |     lenceria |       camis |         trajes | maquillaje |\n",
       "| indumentaria |     pijama |      camisa |      abrigos |     blusita |        camisas |   chaqueta |\n",
       "|      remeras |   pantalon |    lavadora |    chaquetas |  maquillaje |          camis |     vestir |\n",
       "|       camisa |    camisaa |      jejens |     lavadora |   sudaderas |        zapatos |   brassier |\n",
       "|      camisas |  planchada |    pantalon |      banador |     prendas |         blusas |    bershka |\n",
       "|       ropero |       rope |     zapatos |      camisas |    chamarra |        abrigos |     camisa |\n",
       "|        zapas |   chaqueta |       busos |      pijamas |    secadora |       pantalon |     ropero |\n",
       "|      campera |     jejens |    camisola |       abrigo |     sueters |         boxers |    camisas |\n",
       "|      tiendas |  vestidito |        zara |      bikinis |      trajes | automaquillaje |   pantalon |\n",
       "|    conjuntos |   lenceria |    sueteres |     pantalon |    sueteres |       camisita |     sweter |\n",
       "|     pantalon |  pantaleta |       blusa | calzoncillos |   gabardina |        planche |     pantys |\n",
       "|       mallas |   sostenes |   planchada |    banadores |     zapatos |      brassiere |   sueteres |\n",
       "|        malla |   camisita | pantaloneta |   maquillaje |   tendedero |          calsa |    vestire |\n",
       "|     perchero |   pijamita |      sueter |    chaqueton |  tintoreria |       chaqueta |    vestido |\n",
       "|      bikinis |    poleras |    blusitas |     vaqueros |   chamarras |      brasieres |      boxer |\n",
       "|     probarme |   secadora |    chaqueta |      perchas |        zara |        campera |   calzador |\n",
       "|       bikini |   vestidos |      jogger |   calcetines |    sudadera |     calcetines |    pijamas |\n",
       "|     vestidos | calcetines |  zapatillas |    tendedero |    pantalon |     accesorios |  pantaleta |\n",
       "|   accesorios |    camison |       licra |    sujetador |    planchar |        bikinis |  planchada |\n",
       "|     chaqueta | pantaletas |       boxer |          rop |      lavada |       empacada |     trajes |\n",
       "|   maquillaje |   planchar |      boxers |      zapatos |    blusitas |      bralettes |    sueters |\n"
      ]
     },
     "metadata": {},
     "output_type": "display_data"
    },
    {
     "data": {
      "text/markdown": [
       "### playera"
      ]
     },
     "metadata": {},
     "output_type": "display_data"
    },
    {
     "data": {
      "text/markdown": [
       "|         AR |         CL |           CO |          ES |        MX |           US |           VE |\n",
       "| ----------:| ----------:| ------------:| -----------:| ---------:| ------------:| ------------:|\n",
       "|   playeras |   playeras |     playeras |    playeras |    camisa |     playeras |      playero |\n",
       "|       bici |    playero |      playero |    playeros |  camiseta |     camiseta |       player |\n",
       "|      cleta |   playeros |     playeros |     playero |  playeras |       camisa |      players |\n",
       "|   patineta |  guayabera |        gorra |    chanclas |    jersey |     camisola |       played |\n",
       "|       bike |     player |  pantaloneta |      remera |  sudadera |    camisetas |     playeros |\n",
       "|       moto |   hawaiana |       camisa |     campera | camisetaa |     sudadera |        playa |\n",
       "|  bicicleta |     bikini |    estampada |     bermuda |     gorra |     chamarra |   cosplayers |\n",
       "|     motita |      playa |       hoodie |      polera |     camis |        gorra |      cienaga |\n",
       "|     duster | guayaberas |     camisola | pantaloneta | camisetas |        camis |      playita |\n",
       "|      hilux |    players |      gorrita |      cholas |  chamarra |     chaqueta |       tuning |\n",
       "|     motito |  veraniega |      bermuda |     gorrita |     blusa |       sueter |         yera |\n",
       "|     amarok |  piscinita |     camisita |      jogger |   gorrita |       casaca |       playaa |\n",
       "|      jejep |   sudadera |      hoodies |       playa |    remera |      jerseys |    cosplayer |\n",
       "|     llanta |      playo |    canillera |      sueter |  camisita |        blusa |        play0 |\n",
       "|  longboard |   shorcito |     sudadera |     banador |    hoodie |      gorrita |    piscinita |\n",
       "|        dax |     sunset |    zapatilla |  zapatillas |   camisas |    chamarras |       playas |\n",
       "|    gorrita |    sunsets |    superstar |      poncho |    casaca |      camisas |            👙 |\n",
       "|   manubrio |     polera |      gabanna |   veraniega | sudaderas |    sudaderas |        traje |\n",
       "|      bicis |     jockey |     chaqueta |      bambas |  camisola |     camisita |      piscina |\n",
       "|  patinetas |    bikinis |    estampado |    camisita |   camista |       gorras |   escarchada |\n",
       "|  camioneta |    croptop |       sueter |    botinera |   jerseys |       polera |  technicolor |\n",
       "|     yamaha |    blusita |      sweater |      adidas |  uniforme | autografiada |       roques |\n",
       "|  monopatin |    playita |       remera |   changuito |    tshirt |      camista |     camisita |\n",
       "|       wave |   sandalia |     panoleta |    banadita | estampada |      camison |    espartana |\n",
       "|      bikes |    faldita |     chamarra |     camista |   bermuda |    chaqueton | carnavalesca |\n",
       "|          🚲 |     playaa |        blush |    camiseta | estampado |      blusita |  bronceadito |\n",
       "|    twister |   camisita |   zapatillas |     vaquera |     licra |      casacas |        lodge |\n",
       "|       duna |      short |      blusita |        nike |   bufanda |     calcetas |    bronceada |\n",
       "|   floreada |  putishort |    chaqueton |      shorts |    gorras |       remera |    bailadora |\n",
       "| desinflada |       surf |     camiseta |    sudadera |   camison |      bufanda |   bronceador |\n",
       "|     capota |   reposera |        traje |       blusa |     pants |     franelas |    malaguena |\n",
       "|    llantas |  veraniego |      gorrito |      casaca |    adidas |     cachucha |   broncearme |\n",
       "|     tuning |   hawaiian | stradivarius |       gorra |  cachucha |    chaquetas |            🏖 |\n"
      ]
     },
     "metadata": {},
     "output_type": "display_data"
    },
    {
     "data": {
      "text/markdown": [
       "### zapatos"
      ]
     },
     "metadata": {},
     "output_type": "display_data"
    },
    {
     "data": {
      "text/markdown": [
       "|            AR |            CL |            CO |            ES |            MX |            US |            VE |\n",
       "| -------------:| -------------:| -------------:| -------------:| -------------:| -------------:| -------------:|\n",
       "|     sandalias |     zapatitos |        tennis |     zapatitos |     zapatitos |     zapatitos |        zapato |\n",
       "|    zapatillas |    zapatillas |       tacones |       botines |         tenis |        zapato |     zapatitos |\n",
       "|     zapatitos |       botines |    zapatillas |       tacones |    zapatillas |    calcetines |        jejens |\n",
       "|      calzados |    calcetines |        zapato |        zapato |         flats |    zapatillas |    zapatillas |\n",
       "|       botines |     zapatilla |        jejens |    zapatillas |    calcetines |       tacones |          nike |\n",
       "|        jejens |        jejens |      converse |     sandalias |      converse |     zapatilla |      pantalon |\n",
       "|      sandalia |      zapatito |     ferragamo |    calcetines |        tennis |    pantalones |       calzado |\n",
       "|      vestidos |        zapato |        guayos |        bambas |       tacones |     sandalias |      zapatito |\n",
       "|       calzado |       calzado |     zapatilla |      zapatito |       botines |         tenis |          ropa |\n",
       "|       botitas |       tacones |     mocasines |        suelas |     zapatilla |      zapatito |     zapatilla |\n",
       "|         zapas |        chalas |         tenis |         zapas |        zapato |        jejens |       tacones |\n",
       "|        zapato |     sandalias |         crocs |         suela |     sandalias |         botas |      calzados |\n",
       "|    vestiditos |      calzados |         suela |      vaqueros |         botas |        tennis |     sandalias |\n",
       "|         botas |      sostenes |     sandalias |        bolsos |      zapatito | pantaloncitos | pantaloncitos |\n",
       "|         crocs |     mocasines |     zapatitos |    pantalones |          vans |        trajes |         ropas |\n",
       "|       sueters |  calzoncillos |        bolsos |      sandalia |       calzado |       botines |       sueters |\n",
       "|        trajes |         tacon |    calcetines |       calzado |     mocasines |      calzones |        calzar |\n",
       "|   maquillajes |         suela |      sandalia |      cordones |        trajes |         crocs |        shorts |\n",
       "|        charol |         zapas |        aretes |     mocasines |    pantalones |       calzado |      sueteres |\n",
       "|        shorts |      vestidos |      sueteres |         botas |         crocs |         zapas |        adidas |\n",
       "|        ojotas |       camisas |       calzado |     zapatilla |         zapas |      calcetas |      corbatas |\n",
       "| pantaloncitos |       guantes |      cordones |        tangas |         papos |     zapateria |      sandalia |\n",
       "|      esmaltes | pantaloncitos |         botas |     banadores |        aretes |     sudaderas |        lentes |\n",
       "|       vestido |      sandalia |      chanclas |      leggings |         tacon |        blusas |     chaquetas |\n",
       "|    vestidores |      pitillos | pantaloncitos |      converse |        jejens |          zapa |       camisas |\n",
       "|      carteras |      cordones |          ropa |  calzoncillos |      sandalia |    chancletas |      sweaters |\n",
       "|    pantalones |         botas |         tacon |       leggins | pantaloncitos |        boxers |        trajes |\n",
       "|         tacos |      pantalon |    accesorios |       jerseys |      calcetas |         tacon |     zarcillos |\n",
       "|     mocasines |      calcetas |      vestidos |      playeras |             👟 |        lentes |         camis |\n",
       "|      engomado |        calzas |          vans |       talones |         sacos |      sandalia |    accesorios |\n",
       "|      collares |        pantys |         cucos |     louboutin |      vestidos |       zapateo |      gorritos |\n",
       "|      sueteres |    pantalones |         busos |       pijamas |     louboutin |      calcetin |        reebok |\n",
       "|      sweaters |         camis |  calzoncillos | pantaloncitos |      chanclas |    accesorios |         botas |\n"
      ]
     },
     "metadata": {},
     "output_type": "display_data"
    },
    {
     "data": {
      "text/markdown": [
       "### remera"
      ]
     },
     "metadata": {},
     "output_type": "display_data"
    },
    {
     "data": {
      "text/markdown": [
       "|           AR |         CL |           CO |          ES |         MX |        US |           VE |\n",
       "| ------------:| ----------:| ------------:| -----------:| ----------:| ---------:| ------------:|\n",
       "|      campera |    remeras |      remeras |     remeras |    remeras |   remeras |      remeras |\n",
       "|         buzo |     polera |       remero |      sueter |    playera |    remero |      franela |\n",
       "|    musculosa |    franela |       casaca |      casaca |     camisa |   campera |       camisa |\n",
       "|       chomba |      gorra |       camisa |      ojotas |     jersey |  camperas |      camista |\n",
       "|      remeras |    campera |      playera |    camiseta |   camiseta |      buzo |         reme |\n",
       "|       camisa |     casaca |     camiseta |    bombacha |     casaca |    casaca |     camisita |\n",
       "|         buso |   camiseta |     hilfiger |    camisita |   sudadera |    polera |     chaqueta |\n",
       "|        calza |    bandana |    canillera |     playera |  camisetaa |   corpino |        camis |\n",
       "|     pantalon |     adidas |    camisetaa | pantaloneta |      gorra |     camis |     zapatito |\n",
       "|      bermuda |      panti |    estampada |     gorrita |  estampada |  chaqueta |      camisaa |\n",
       "|        calsa |  estampada |      gorrita |     camista |      camis |  bombacha |      blusita |\n",
       "|      sweater |      camis |       vincha |      camisa |    gorrita |  camiseta |    zapatilla |\n",
       "|     chaqueta |   camisita |     tanguita |      chomba |   playeras |    ojotas |      faldita |\n",
       "|       sueter |       buzo |        camis |    sudadera |    camisas |  sudadera |      liguero |\n",
       "|       polera |    camisaa |     camisita |    sueteres |    camista |   pollera | pantaloncito |\n",
       "|        short |    sweater |         buzo |     corpino |      blusa |    pilcha |        gorra |\n",
       "|     floreada |     sueter |    camisetas |       piola |  camisetas |    camisa |     camiseta |\n",
       "|       casaca |   franelas |      ballack |       blusa |     hoodie |    uniqlo |        calzo |\n",
       "|      gorrita |      suete |      camista |       gorra |   camisita |     zapas |       sweter |\n",
       "|       sweter |      parca |   riverplate |      polera |   bombacha | zapatilla |        braga |\n",
       "|  pantaloneta |    camista |        gorra |     sweater |     tshirt |   camista |      campera |\n",
       "|     camisita |    poleras |  pantaloneta |    pantalon |   chamarra |   gorrita |   sombrerito |\n",
       "|        jejen |   camperas |     manchita |     franela |   camisola |  camisita |   chaquetero |\n",
       "|      bufanda |      panty | autografiada |       parka |     adidas |   poronga |    camisitas |\n",
       "|      jogging |  zapatilla |     camisola |    chaqueta |    bufanda |   casacas |    brassiere |\n",
       "|       chupin |     jejens |       garcha |     camison | equipacion |  chamarra |      bandana |\n",
       "|        boxer |       buso |     barovero |    sweaters |      shirt |    chabon |      gorrita |\n",
       "|       busito |     gorras |      gabanna |       short |  estampado |   boludes |    zapatitos |\n",
       "|     camiseta |    panties |      casacas |      jogger |   panoleta |  pelotuda |    estampado |\n",
       "|   musculosas | zapatillas |     mameluco |        buzo |    bermuda |    boluda |    chaqueton |\n",
       "| pantaloncito |       nike |         buso |      chompa |    jerseys |   sweater |       charol |\n",
       "|        malla |   sudadera |     chaqueta |      jersey |   tirantes |     posta |        blusa |\n",
       "|     pullover |   pantalon |     panoleta |     campera |   botinera |    pibita |    vestidito |\n"
      ]
     },
     "metadata": {},
     "output_type": "display_data"
    },
    {
     "data": {
      "text/markdown": [
       "### blusa"
      ]
     },
     "metadata": {},
     "output_type": "display_data"
    },
    {
     "data": {
      "text/markdown": [
       "|        AR |           CL |           CO |           ES |          MX |           US |           VE |\n",
       "| ---------:| ------------:| ------------:| ------------:| -----------:| ------------:| ------------:|\n",
       "|    blusas |       blusas |      blusita |       blusas |     blusita |       blusas |       blusas |\n",
       "|     blush |      blusita |       blusas |        falda |      camisa |      blusita |        blush |\n",
       "|   blusita |        blush |     pantalon |      blusita |      blusas |        blush |      blusita |\n",
       "|  blusitas |     camisola |     blusitas |     pantalon |    pantalon |       camisa |        falda |\n",
       "|    camisa |     blusitas |        blush |      vaquera |    sudadera |     blusitas |     pantalon |\n",
       "|  engomado |     floreada |     chaqueta |       camisa |    chamarra |     pantalon |     brassier |\n",
       "|  pantalon |       mangas |     escotada |     chaqueta |    camisita |     sudadera |      faldita |\n",
       "|  escotada |     camisita |     camisita |      vestido |       falda |       jejens |     chaqueta |\n",
       "|     calza |     pantalon |       sueter |       jersey |      sueter |       sueter |       camisa |\n",
       "|  camisola |       camisa |       camisa |     sudadera |     camison |     chaqueta |     camisita |\n",
       "|     ruana |      camison |        falda |    sujetador |        pans |     leggings |     blusitas |\n",
       "|    sueter |      vestido |  pantaloneta |      camison |    camisola |     chamarra |        panty |\n",
       "| gabardina |       jejens |      vestido |       shorts |      jejens |     camisita |    minifalda |\n",
       "|   faldita |        falda |      faldita |  pantaloneta |       camis |      leggins |       jejens |\n",
       "|    escote |         lusa |       jejens |         ropa |    blusitas |    brassiere |      camisaa |\n",
       "|      ropa |     chaqueta |     sudadera |     camisita |    tirantes |      sweater |    brassiere |\n",
       "|    jejens |      camisaa |    vestidito |     escotada |     playera |     brassier |       sweter |\n",
       "|  chaqueta |    vestidito |        short |    chaqueton |       licra |       labial |       escote |\n",
       "| vestidito |    camisitas |       shorts |    tobillera |    escotada |        licra |    pantaleta |\n",
       "| minifalda |        camis |      brasier |     leggings |       short |       shorts |      tacones |\n",
       "|   camisaa |       polera |      saquito |    vestidito |     vestido |        mahon |      brasier |\n",
       "|   vestido |        panti |     panoleta |      leggins |       pants |  pantaloneta |      pulsera |\n",
       "|  tanguita |     escotada |      camison |       sueter |     leggins |      campera |     sandalia |\n",
       "|    encaje |  pantaloneta |     bralette | pantaloncito | pantaloneta |         pant | pantaloncito |\n",
       "|     jejen |       pantis |         buso |        blush |        ropa |         ropa |        gorra |\n",
       "|   escotes |   desabroche |     camisola |       abrigo |      shorts | pantaloncito |    sandalias |\n",
       "|   convina |        parka |       chaque |     rinonera |    sandalia |      playera |    cachetero |\n",
       "|    cancan |      vestida |     sueteres |        tanga |     faldita |     lenceria |      franela |\n",
       "|    blazer |     vestidoo |      croptop |     blusitas |   brassiere |        camis |     lenceria |\n",
       "|    sweter |      camisas |       escote |  lentejuelas |     croptop |     escotada |     leggings |\n",
       "|   prendas |       tenida | pantaloncito |    sandalias |     sweater |     calcetas |   minifaldas |\n",
       "|   sweater | pantaloncito |         ropa |     vaqueros |     camisas |       sweter |        panti |\n",
       "|   corpino |       calzas |        licra |      faldita |    brassier |      brasier |      croptop |\n"
      ]
     },
     "metadata": {},
     "output_type": "display_data"
    }
   ],
   "source": [
    "display(\"text/markdown\", \"# Vestimenta uso común\")\n",
    "for token in [\"ropa\", \"playera\", \"zapatos\", \"remera\", \"blusa\"]\n",
    "    compare_concepts_in_table(token, R)\n",
    "end"
   ]
  },
  {
   "cell_type": "code",
   "execution_count": 12,
   "metadata": {},
   "outputs": [
    {
     "data": {
      "text/markdown": [
       "# inseguridad, violencia, narcotrafico"
      ]
     },
     "metadata": {},
     "output_type": "display_data"
    },
    {
     "data": {
      "text/markdown": [
       "### inseguridad"
      ]
     },
     "metadata": {},
     "output_type": "display_data"
    },
    {
     "data": {
      "text/markdown": [
       "|              AR |              CL |             CO |              ES |               MX |                US |                VE |\n",
       "| ---------------:| ---------------:| --------------:| ---------------:| ----------------:| -----------------:| -----------------:|\n",
       "|    delincuencia |   inseguridades |        atracos |   inseguridades |     delincuencia |     inseguridades |      delincuencia |\n",
       "|     delicuencia |       inseguros |   delincuencia |    desconfianza | ingobernabilidad |      bioseguridad |           escasez |\n",
       "|        segurida |        inseguro |       segurida |       inseguras |       secuestros |      delincuencia |     inseguridades |\n",
       "|         desidia |        insegura |         hurtos |       inseguros |        violencia |         seguridad |           escacez |\n",
       "|    desocupacion |   incertidumbre |      desempleo |        insegura |      delicuencia |         inseguros |           escaces |\n",
       "|     seguridades |       seguridad |      seguridad |        inseguro |    delincuencial |          segurida | desabastecimiento |\n",
       "|     inoperancia |    bioseguridad |      inseguros |       seguridad |    delincuencias |          insegura |           escases |\n",
       "|       seguridad |        segurida |   informalidad |  intranquilidad |          asaltos |       seguridades |       delicuencia |\n",
       "|    narcotrafico |    desconfianza |          robos |     seguridades |  delincuenciales |   delincuenciales |           escazes |\n",
       "| delincuenciales |  incertidumbres |      seguridas |        segurida |     feminicidios |     delincuencial |          carestia |\n",
       "|   delincuencias |  intranquilidad |   criminalidad |    insalubridad |        impunidad |      insalubridad |      insalubridad |\n",
       "|    delicuencial |   inestabilidad |    desigualdad |     indefension |         segurida |         violencia |      criminalidad |\n",
       "|   delincuencial |     seguridades |        zozobra |    delincuencia |       corrupcion |      criminalidad |         galopante |\n",
       "|    marginalidad |   insertidumbre |        sosobra |    bioseguridad |        desempleo |      desconfianza |             hampa |\n",
       "|       seguridas |     indefension |   bioseguridad |         desidia |       femicidios |    incertidumbres |         inflacion |\n",
       "|    criminalidad |    delincuencia | militarizacion |   inestabilidad |     delicuencial |     delincuencias |         inseguras |\n",
       "|     desigualdad |     incomodidad |   insalubridad |  vulnerabilidad |      desigualdad | desabastecimiento |          segurida |\n",
       "|           robos |           temor |      subempleo |     incomodidad |        seguridad |     incertidumbre |        desbordada |\n",
       "|       inflacion |    desesperanza |   hacinamiento |  conflictividad |   gobernabilidad |       desigualdad |          inseguro |\n",
       "|      indigencia |    impulsividad |   microtrafico |   incertidumbre |     criminalidad |           pobreza |     delincuencias |\n",
       "|        inaccion |        angustia |    delicuencia |     desafeccion |      marginacion |           escacez |    desabastecidos |\n",
       "|      homicidios |   desproteccion |     percepcion |         dejadez |         inseguro |           escasez |    ciberseguridad |\n",
       "|         pobreza |    permisividad |   ineficiencia |    ineficiencia |       homicidios |          carencia |     desabastecido |\n",
       "|        combatan |  vulnerabilidad |     indigencia |        ansiedad |        inpunidad |       delicuencia |           atracos |\n",
       "|      femicidios |       seguridas |   desconfianza |      fragilidad |        ineptitud |       precariedad |   delincuenciales |\n",
       "|  conflictividad |     precariedad |    inoperancia | despreocupacion |       asesinatos |        indigencia |        salubridad |\n",
       "|       violencia |        paranoia |      inequidad |    preocupacion |          indices |         inflacion |         seguridad |\n",
       "|      corrupcion |     frustracion |     homicidios |     inoperancia |            robos |     inestabilidad |    hiperinflacion |\n",
       "|    desconfianza | desmoralizacion | intranquilidad |   irritabilidad |       ineficacia |          probreza |      bioseguridad |\n",
       "|     corrupccion |      hostilidad |      galopante |    criminalidad |    incompetencia |       pobredumbre |          anarquia |\n",
       "|       ineptitud |     certidumbre |     ineficacia |        suciedad |         carestia |    hiperinflacion |          desatada |\n",
       "| estigmatizacion |     agresividad |   drogadiccion |     infelicidad |     ineficiencia |         ineptitud |          hambruna |\n",
       "|       alarmante |       polaridad |   intolerancia |      salubridad |    inseguridades |    ciberseguridad |          carencia |\n"
      ]
     },
     "metadata": {},
     "output_type": "display_data"
    },
    {
     "data": {
      "text/markdown": [
       "### violencia"
      ]
     },
     "metadata": {},
     "output_type": "display_data"
    },
    {
     "data": {
      "text/markdown": [
       "|              AR |             CL |              CO |              ES |              MX |              US |                VE |\n",
       "| ---------------:| --------------:| ---------------:| ---------------:| ---------------:| ---------------:| -----------------:|\n",
       "|      violencias |     violencias |      violencias |      violencias |      violencias |      violencias |        violencias |\n",
       "|        agresion |     vandalismo |       violentos |        violente |    feminicidios |       violenten |         violentos |\n",
       "|     denigracion |       agresion | estigmatizacion |   intrafamiliar |      femicidios |        violente |         violenten |\n",
       "|      agresiones |      represion |        violente |       represion |       violentas |       violentos |          violente |\n",
       "|          verbal |     bandalismo |   intrafamiliar |       violenten |      vandalismo |       violentas |          violenta |\n",
       "|        violecia |     agresiones |       violenten |        violecia |       femicidio |       violentar |     confrontacion |\n",
       "|  discriminacion |      violenten |      bandalismo |       violentos |        violente |       violentan |         violentas |\n",
       "|       violentos |       violente |      agresiones |       violentas |      bandalismo |    delincuencia |        terrorismo |\n",
       "|       misoginia |    vandalismos |       violentas |        violenta |     feminicidio |      violentada |      intolerancia |\n",
       "|      vandalismo |      violentos |       represion |       violentar |        agresion |        violenta |          violecia |\n",
       "| revictimizacion |       violenta |      vandalismo |      terrorismo |   intrafamiliar |    feminicidios |       vandalismos |\n",
       "| amedrentamiento |      violentas |    intolerancia | criminalizacion |      asesinatos |      violentado |         represion |\n",
       "|          genero |     incitacion |      incitacion |      violentada |      agresiones |      vandalismo |   confrontaciones |\n",
       "|    intolerancia |  intrafamiliar |    intimidacion |      agresiones |    delincuencia |     violentando |        vandalismo |\n",
       "|    intimidacion |      violentar |     vandalismos |       violentan |     desigualdad |     violentados |          violento |\n",
       "|       represion |    destruccion |        violenta |        agresion |        violecia |  discriminacion | desestabilizacion |\n",
       "|      incitacion |     reprension |  discriminacion |     violentados |     inseguridad |      agresiones |          agrecion |\n",
       "|     desigualdad |    agresividad |   confrontacion |      violentado |     feminicidas |      femicidios |        incitacion |\n",
       "|    delincuencia |    represiones |        barbarie |     violentadas |       violentos |   intrafamiliar |          agresion |\n",
       "|     provocacion |       ejercida |        agresion |        violento |       violenten |        violecia |        bandalismo |\n",
       "|       violentas |        violent |     violentados |  discriminacion |      feminicida |     feminicidio |   amedrentamiento |\n",
       "|    feminicidios | militarizacion |  descriminacion |     violentando |    criminalidad |        agresion |          golpismo |\n",
       "|  naturalizacion |       anarquia |       violentan | amedrentamiento | criminalizacion |     vandalismos |       represiones |\n",
       "|   hostigamiento |       violecia |     desigualdad |       xenofobia |     violaciones |   delincuencias |    conflictividad |\n",
       "| estigmatizacion |   polarizacion |    polarizacion |  descriminacion |       misoginia |      bandalismo |      intimidacion |\n",
       "|        machismo |      violentan |      terrorismo |          genero |       represion | delincuenciales |      criminalidad |\n",
       "|        ejercida |        saqueos |     represiones |      vandalismo |     vandalismos | criminalizacion |        agresiones |\n",
       "|     prepotencia |    violentarla |        anarquia |    criminalidad |      terrorismo |       represion |   criminalizacion |\n",
       "|       violentar |    violentando | criminalizacion |     represiones | revictimizacion |    intolerancia |          guarimba |\n",
       "|       violenten |       violento |    criminalidad |      incitacion |        barbarie |    intimidacion |       agresividad |\n",
       "|   victimizacion |       barbarie |     incitadores |     feminicidio |    polarizacion |        anarquia |      criminalizar |\n",
       "|     vandalismos |   delincuencia |         incitar |    intimidacion |        machismo |     violentadas |         violentan |\n",
       "|  descriminacion |     vandalicos |      violentada |        ejercida |  discriminacion |     violentaron |          anarquia |\n"
      ]
     },
     "metadata": {},
     "output_type": "display_data"
    },
    {
     "data": {
      "text/markdown": [
       "### narcotrafico"
      ]
     },
     "metadata": {},
     "output_type": "display_data"
    },
    {
     "data": {
      "text/markdown": [
       "|               AR |               CL |               CO |               ES |               MX |               US |               VE |\n",
       "| ----------------:| ----------------:| ----------------:| ----------------:| ----------------:| ----------------:| ----------------:|\n",
       "| narcotraficantes | narcotraficantes | narcotraficantes | narcotraficantes |            narco | narcotraficantes |  narcoterrorismo |\n",
       "|            narco |  narcotraficante |  narcoterrorismo |  narcotraficante | narcotraficantes |     microtrafico | narcotraficantes |\n",
       "|  narcotraficante |            narco |           narcos |            narco |  narcotraficante |  narcotraficante |  narcotraficante |\n",
       "|    narcopolitica |           narcos |    narcopolitica |  narcoterrorismo |  narcoterrorismo |            narco |     microtrafico |\n",
       "|           narcos |  narcoterrorismo |            narco |  narcoterrorista |    narcopolitica |      narcoestado |            narco |\n",
       "|     delincuencia |     microtrafico |         ilicitos |      narcoestado |   narcopoliticos |     narcodolares |    narcopolitica |\n",
       "|   narcopoliticos |     narcotirania |   narcopoliticos | narcoterroristas |           narcos |    delincuencias |      narcoestado |\n",
       "|  narcoterrorismo |    delincuencias |       guerrillas |    narcosobrinos |     narcodolares |  paramilitarismo |           narcos |\n",
       "|      narcoestado | narcoterroristas |     microtrafico |         narcolas |    delincuencial |           narcos |   narcopoliticos |\n",
       "|           mafias |    narcopolitica |      narcoestado |  paramilitarismo |           crimen |      extorsiones | narcoterroristas |\n",
       "|    narcogobierno |     delincuencia |  paramilitarismo |     delincuencia |  delincuenciales |  delincuenciales |       corrupcion |\n",
       "|     microtrafico |   narcopoliticos |       terrorismo |    narcogobierno | narcoterroristas |   narcopoliticos |  narcoterrorista |\n",
       "|    delincuencias |  narcoterrorista |    narcogobierno |    delincuencial |  narcoterrorista |    delincuencial |          trafica |\n",
       "|         narcolas |         narcolas | narcoterroristas |     narcodolares |    delincuencias |       criminales |           trafic |\n",
       "|    delincuencial |      traficantes |        guerrilla |    narcopolitica |      narcoestado |  narcopresidente |       narcoticos |\n",
       "|       corrupcion |       narcoticos |     criminalidad |    delincuencias |     delincuencia |        extorcion |      contrabando |\n",
       "|  narcopresidente |      narcoestado |       narcoticos |     narcotirania |         narcolas |      corrupccion |           drogas |\n",
       "|      corrupccion |    delincuencial |       ilegalizar |       narcoticos |       organizado |       terrorismo |        corrupcio |\n",
       "|          menudeo |  delincuenciales |         ilicitas |        narcotico |      delicuencia |        extorsion |         traficar |\n",
       "|  delincuenciales |          trafico |          ilicito |    paramilitares |    narcogobierno |     delincuencia |        traficado |\n",
       "|        corrupcio |      delicuencia |    delincuencias |             farc |     delicuencial |  narcoterrorismo |      traficantes |\n",
       "|     narcotirania |     narcodolares |          trafica |     narcoregimen |         trasiego |    narcosobrinos |  paramilitarismo |\n",
       "|     narcoregimen |            droga |     narcodolares |  delincuenciales |     narcoregimen |         ilicitos |         traficos |\n",
       "|   megacorrupcion |    narcogobierno |       criminales |      traficantes |     narcotirania |          ilicito |     corrupciones |\n",
       "|      delicuencia |           mafias |         traficar |     narconovelas |       criminales |       extorsiona |    delincuencial |\n",
       "|     narcodolares |        narcotico |        extorsion |         trafican |  narcopresidente |   megacorrupcion |    delincuencias |\n",
       "|         efedrina |    narcosobrinos |  narcopresidente |        traficado |       organizada |       narcoticos |     narcodolares |\n",
       "| narcoterroristas |           drogas |         mafiosos |   narcodictadura |            capos |       corrupcion |  delincuenciales |\n",
       "|  narcoterrorista |     delicuencial |  narcoterrorista |      paramilitar |       secuestros |      militarismo |  narcopresidente |\n",
       "|     corrupciones |         sicarios |       cabecillas |           bacrim |         carteles |  enriquecimiento |         trafican |\n",
       "|     lacorrupcion |       corrupcion |      delicuencia |       traficante |       asesinatos |        impunidad |     prostitucion |\n",
       "|     delicuencial |         trafican |      traficantes |      delicuencia |   narcodictadura |           crimen |        narcotico |\n",
       "|          bunkers |           trafic |          ilicita |      delincuetes |       terrorismo |   extorsionistas |       corrupsion |\n"
      ]
     },
     "metadata": {},
     "output_type": "display_data"
    }
   ],
   "source": [
    "display(\"text/markdown\", \"# inseguridad, violencia, narcotrafico\")\n",
    "for token in [\"inseguridad\", \"violencia\", \"narcotrafico\"]\n",
    "    compare_concepts_in_table(token, R)\n",
    "end"
   ]
  },
  {
   "cell_type": "code",
   "execution_count": 13,
   "metadata": {},
   "outputs": [
    {
     "data": {
      "text/markdown": [
       "# Racismo, clasismo, discriminación"
      ]
     },
     "metadata": {},
     "output_type": "display_data"
    },
    {
     "data": {
      "text/markdown": [
       "### racismo"
      ]
     },
     "metadata": {},
     "output_type": "display_data"
    },
    {
     "data": {
      "text/markdown": [
       "|               AR |                CL |               CO |             ES |               MX |               US |               VE |\n",
       "| ----------------:| -----------------:| ----------------:| --------------:| ----------------:| ----------------:| ----------------:|\n",
       "|           racism |         xenofobia |           racism |      xenofobia |         clasismo |         clasismo |     supremacismo |\n",
       "|        xenofobia |         homofobia |          racista |      homofobia |          rasismo |     supremacismo |           racial |\n",
       "|           racial |       islamofobia |     supremacismo |       clasismo |        xenofobia |          sexismo |          racista |\n",
       "|     supremacismo |      supremacismo |           racial |        racista |           racial |        xenofobia |          facismo |\n",
       "|          rasismo |        aporofobia |   discriminacion |       machismo |     supremacismo |   discriminacion |       ostracismo |\n",
       "|   discriminacion |    discriminacion |         racistas |   supremacismo |   discriminacion |          facismo |         clasismo |\n",
       "|    antisemitismo |            racial |        xenofobia |    islamofobia |          facismo |           racial |        xenofobia |\n",
       "|         clasismo |          clasismo |         machismo |  antisemitismo |         machismo |       ostracismo |         machismo |\n",
       "|      islamofobia |     antisemitismo |        homofobia |      misoginia |          racista |          racista |   discriminacion |\n",
       "|          facismo |           racista |      islamofobia |         racial |          sexismo |          rasismo |           racist |\n",
       "|          racista |           rasismo |         clasismo |        rasismo |        misoginia |      islamofobia |         racistas |\n",
       "|        homofobia |        ostracismo |        misoginia |       racistas |    antisemitismo | discriminaciones |          sexismo |\n",
       "|         racistas |           facismo |          facismo |        sexismo |         racistas |         racistas |        homofobia |\n",
       "|          sexismo |          racistas |          sexismo |     aporofobia |        homofobia |         machismo |    antisemitismo |\n",
       "|         fascismo |          machismo | discriminaciones |     transfobia | discriminaciones |   discriminativo |         raciales |\n",
       "|        misoginia |          xenofobo |          rasismo |     xenofobico |         raciales |   descriminacion |        feminismo |\n",
       "|   homosexualismo |         misoginia |       transfobia |    xenofobicos |      islamofobia |        homofobia |      islamofobia |\n",
       "|         machismo |           bifobia |         raciales |    xenofobicas |         elitismo |    discriminante |      indigenismo |\n",
       "|         raciales |        xenofobico |    antisemitismo |       xenofobo |       xenofobico |     discriminado |          rasismo |\n",
       "|          nazismo |      nacionalismo |     nacionalismo |   colonialismo |       ostracismo |     nacionalismo |   homosexualismo |\n",
       "| discriminaciones |  discriminaciones |     regionalismo | discriminacion |    eurocentrismo |      aracnofobia |         xenofoba |\n",
       "|      indigenismo |        transfobia |       clasicismo |     xenofobica |     intolerancia |         raciales | discriminaciones |\n",
       "|    igualitarismo |       heterofobia |     colonialismo |       fascismo |     colonialismo |  discriminatorio |         fascismo |\n",
       "|       aporofobia |           nazismo |     supremacista |       raciales |       transfobia |    discriminando |     supremacista |\n",
       "|     negacionismo |       xenofobicos |       ostracismo | homosexualismo |       xenofobica |       discrimina |       chovinismo |\n",
       "|        xenofobas |         xenofobas |          bifobia |    heterofobia |   homosexualismo |    discriminador |        xenofobas |\n",
       "|    eurocentrismo |         xenofobos |         fascismo |  eurocentrismo |      xenofobicas |        misoginia |       clasicismo |\n",
       "|   discriminativo |        gordofobia |   descriminacion |        nazismo |   discriminativo |       clasicismo |      feminazismo |\n",
       "|     supremacista |          xenofoba |        xenofobas |    feminazismo |        xenofobas |      discriminan |   discriminativo |\n",
       "|     nacionalismo |        xenofobica |     discriminado |        facismo |      xenofobicos |           racism |     intolerancia |\n",
       "|         xenofoba |       xenofobicas |    supremacistas |     extremismo |         clasista |       discrimine |    cortoplacismo |\n",
       "|        homofobas |         prejuicio |    micromachismo |     gordofobia |       aporofobia |       aporofobia |      chauvinismo |\n",
       "|        xenofobos | multiculturalismo |         xenofoba |      xenofobas |         xenofobo |    antisemitismo |          nazismo |\n"
      ]
     },
     "metadata": {},
     "output_type": "display_data"
    },
    {
     "data": {
      "text/markdown": [
       "### pobres"
      ]
     },
     "metadata": {},
     "output_type": "display_data"
    },
    {
     "data": {
      "text/markdown": [
       "|               AR |             CL |             CO |             ES |             MX |               US |             VE |\n",
       "| ----------------:| --------------:| --------------:| --------------:| --------------:| ----------------:| --------------:|\n",
       "|       indigentes |        pobress |          ricos |     pobrecitos |     pobrecitos |     empobrecidos |        pobress |\n",
       "|     empobrecidos |        pobresa |   empobrecidos |          ricos |        pobresa |          pobresa |        pobresa |\n",
       "|          pobress |   empobrecidos |     pobresitos |      pudientes |     pobretones |       pobrecitos |   empobrecidos |\n",
       "|         pobrezas |    vulnerables |        pobress |    pobrecillos |   empobrecidos |       adinerados |     pobretones |\n",
       "|        pudientes |     pobrecitos |     pobrecitos |     pobresitos |        jodidos |       pobretones |          ricos |\n",
       "|       hambreados |     pobretones |    necesitados |        pobresa |     marginados |         pobrezas |          pobre |\n",
       "|          pobreza |    necesitados |   empobrecidas |     pobretones |     pobresitos |        pudientes |    pobrecillos |\n",
       "|      desnutridos |      pudientes |        pobresa |   empobrecidos |        pobress |     empobrecidas |     pobrecitos |\n",
       "|          pobresa |     adinerados |      pudientes |    necesitados |    pobrecillos |       empobrecen |     pobresitos |\n",
       "|    empobrecieron |     desvalidos |     empobrecen | desfavorecidos |      pudientes |    empobrecieron |    desposeidos |\n",
       "|     empobrecidas |          ricos |    acaudalados |     pobrecitas |     adinerados |      necesitados |      pudientes |\n",
       "|   estigmatizados |     pobresitos |    asalariados |     explotados |     hambreados |       marginados |       pobrezas |\n",
       "|       indigencia |  empobrecieron |  empobrecieron |   empobrecidas |         ilusos |      ingnorantes |    hambrientos |\n",
       "|      desocupados |    pobrecillos |     adinerados |      infelices |     marginales |       indigentes |    necesitados |\n",
       "|         humildes | empobrecedores | empobrecedores |  empobrecieron |    necesitados |       ignorantes |       humildes |\n",
       "|      necesitados |         fachos |     empobrecer |     indefensos |        pobreza |      desposeidos |  empobrecieron |\n",
       "|       marginados |    desposeidos | desfavorecidos |     desvalidos |     miserables |       empobrecio |        pobreza |\n",
       "|      vulnerables |     empobrecen |       humildes |     ricachones |     ignorantes |   empobrecedores |     ricachones |\n",
       "|       pobretones |   empobrecidas |   capitalistas |      famelicos |   empobrecidas |      pobrecillos |     ignorantes |\n",
       "|      empobrecido |       humildes |  empobreciendo |       pobrezas |    pauperrimos |         humildes |     miserables |\n",
       "|         probreza |     miserables |       estratos |     empobrecen |       pobrezas |     provincianos |     adinerados |\n",
       "|    empobreciendo |     indigentes |    empobrecido |    necesitadas |     compadecen |       subhumanos |       pobreton |\n",
       "|       empobrecio |    desclasados |     ricachones | empobrecedores |  empobrecieron |            pobre |   empobrecidas |\n",
       "|      desposeidos |     pobrecitas |     empobrecio |   desahuciados |     explotados |          pobreza |     subhumanos |\n",
       "|       empobrecen |     ignorantes |     pobretones |   esclavizados |   acomplejados |    empobreciendo |     explotados |\n",
       "|     hambreadores |     explotados |    asalariadas |     indigentes |   desempleados |     capitalistas |     empobrecen |\n",
       "|   empobrecedores |     empobrecio |    vulnerables |   capitalistas |     empobrecen |      empobrecido |    vulnerables |\n",
       "|        oligarcas |     empobrecer |    pobrecillos |     adinerados | empobrecedores |        diezmados | empobrecedores |\n",
       "|      empobrecida |          pobre |     pobrecitas |        obreros |          ninis |       empobrecer |     marginados |\n",
       "|       ricachones |       endeudan |     miserables |    desnutridos |     marginadas | subdesarrollados |   enriquecidos |\n",
       "|       laburantes |  discriminados |      subsidian |   desgraciados |      enganados |          debiles | desfavorecidos |\n",
       "| multimillonarios |     endeudados |    favorecidos |     empobrecio |  desprotegidos |       pobresitos |     empobrecer |\n",
       "|       marginales |  empobreciendo |     campesinos |    hambrientos |     marginaron |      empobrecida |     empobrecio |\n"
      ]
     },
     "metadata": {},
     "output_type": "display_data"
    },
    {
     "data": {
      "text/markdown": [
       "### naco"
      ]
     },
     "metadata": {},
     "output_type": "display_data"
    },
    {
     "data": {
      "text/markdown": [
       "|          AR |          CL |            CO |            ES |           MX |         US |              VE |\n",
       "| -----------:| -----------:| -------------:| -------------:| ------------:| ----------:| ---------------:|\n",
       "|       nacos |       anaco |         nacos |         nacos |         naca |      nacos |           nacos |\n",
       "|     chilote |       nacos |          naca |       pendejo |        nacos |       naca |      traficante |\n",
       "|       anaco |      malayo |        culero |           wey |       guarro |     culero |            caco |\n",
       "| provinciano |   escuincla |         nacas |     pendejazo |        nacas |      mamon |          sidoso |\n",
       "|     guanaco |      flaite |          joto |     mamagueva |      mamador |      nacas | narcotraficante |\n",
       "|    tucumano |   escuincle |     corroncho |          vato |         nero |    mugroso |     cocainomano |\n",
       "|        weon |      guarro |         mames |        marico |        poser |      qlero |        patotero |\n",
       "|      flaite |     shileno |         guiso |     pendejete |      mugroso |  pendejete |           narco |\n",
       "|      huevon |     verraco |     asqueroso |        culiao |       freson |    chaharo |            vaco |\n",
       "|      culero |  mexicanito |     frijolero |         verga |      piojoso |        wey |         caliche |\n",
       "|     chileno |       chayo |        culera |     pendejito |         caco |       joto |        malandro |\n",
       "|     chingon |        pedo |          ario |      conchudo |         meco | mexicanito |       periquero |\n",
       "|  mexicanito |    chingado |        pinche |          weon |       buchon |     putito |        cuatrero |\n",
       "|     shileno |      culero |      chupeton |       pendeja |       vulgar |  pendejazo |        pobreton |\n",
       "|     aweonao |      pinche |          mane |     mamaguevo |      inculto |       vato |         mamerto |\n",
       "|     ediondo |        gafe |          guey |     mamaguebo |         joto |     pinche |          macaco |\n",
       "|    mexicano |        zapo |       fachero |       chingon |        mamon |    mamador |         mafioso |\n",
       "|   paraguayo |   frijolero |           feo |       pendeje |      pendejo |     culera |           geton |\n",
       "|    falopero |      gringo |     ordinario |         mmgvo |    asqueroso |   malinche |       malparido |\n",
       "|   mariguano |   caraqueno |        concho |        pendej |  corrientazo |       guey |      colombiano |\n",
       "|       hueon |      sadboy |      bodorrio |         awebo |   arrabalero |      chafa | hijuelagranputa |\n",
       "| mariguanero |       cuico |      mexicano |      mamawebo |    pendejazo |     freson |           otaco |\n",
       "|   mamahuevo |       guaro |      traqueto |        putazo |     clasista |     buchon |          paraco |\n",
       "|    descarao |   atorrante |    malhablado | conchetumadre |  reguetonero |   chilango |        chaburro |\n",
       "|     costeno |        tero | conchetumadre |     pendejada |     misogino |      chido |        barrigon |\n",
       "|     coquero |      canero |         qlero |     careverga |   regetonero |    chingon |         balurdo |\n",
       "|     parcero |  regetonero |      novelero |    chingadera |      imbecil |     mamona |          tumaco |\n",
       "|       chilo |       choro |        rapero |      gonorrea |       culero |       jote |         maricon |\n",
       "|       guero |        wero |      travesti |         webon | reggaetonero |    gangoso |      drogadicto |\n",
       "|       wevon |    chingamo |      chilango |       culiado | irrespetuoso |    pendejo |       mamaguevo |\n",
       "|         ctm |      wuacho |       chandal |       sifrino |     fantoche |      miado |           choro |\n",
       "|   frijolero |   uruguasho |          wuey |     gonorreas |  pretencioso |     mamila |         pudrete |\n",
       "|   mongolito | reguetonero |        sidoso |        guebon |      maricon |    sangron |     mariguanero |\n"
      ]
     },
     "metadata": {},
     "output_type": "display_data"
    },
    {
     "data": {
      "text/markdown": [
       "### nazi"
      ]
     },
     "metadata": {},
     "output_type": "display_data"
    },
    {
     "data": {
      "text/markdown": [
       "|               AR |               CL |                 CO |                 ES |               MX |              US |           VE |\n",
       "| ----------------:| ----------------:| ------------------:| ------------------:| ----------------:| ---------------:| ------------:|\n",
       "|          nazista |          nazista |            nazista |           fascista |          nazista |           nazis |        nazis |\n",
       "|          neonazi |            nazis |              nazis |              nazis |            nazis |         nazista |      nazista |\n",
       "|         fascista |          neonazi |            nazismo |            neonazi |           hitler |         neonazi |      nazismo |\n",
       "|            nazis |         fascista |             hitler |            nazista |          nazismo |    antifascista |       hitler |\n",
       "|            facho |          facista |         hitleriano |            nazismo |          neonazi |          hitler |   hitleriano |\n",
       "|          facista |  ultraderechista |           fascista |         hitleriano |          alemana |         nazismo |   hitleriana |\n",
       "|        comunista |          nazismo |           nazistas |              facha |         fascista |        fascista |   stalinista |\n",
       "|  ultraderechista |       hitleriano |            neonazi |       supremacista |       hitleriana |      hitleriano |     nazistas |\n",
       "|       hitleriano |     pinochetista |         stalinista |        neofascista |          facista |        nazistas |       judios |\n",
       "|       antisemita |           hitler |              adolf |           xenofobo |        islamista |        neonazis |  estalinista |\n",
       "|        leninista |         nazistas |              judio |          fascistas |       hitleriano |     neofascista |     alemania |\n",
       "|     antifascista |         fascismo |             judios |         hitleriana |       stalinista |    supremacista |      neonazi |\n",
       "|          nazismo |             kast |       supremacista |    ultraderechista |    anticomunista |      stalinista |  hitlerianas |\n",
       "|           hitler |      neofascista |        neofascista | nacionalsocialismo |         nazistas |   antifascistas | antifascista |\n",
       "|       derechista |         neonazis |        estalinista |           neonazis |     antifascista |         facista |        adolf |\n",
       "|          racista |       hitleriana |           fascismo |         franquista |      estalinista |      hitleriana |    troskista |\n",
       "|       stalinista |     ultraderecha |      antisemitismo |             hitler |  ultraderechista |      antisemita |     sionista |\n",
       "|    anticomunista |     pinochetismo |           neonazis |            racista |        comunista |        fascismo |      alemana |\n",
       "|     supremacista | ultraderechistas |          mussolini |            facista |         fascismo | ultraderechista |      maoista |\n",
       "|  castrocomunista |            facho |         hitleriana |       antifascista |       antisemita |     neofascismo |        judio |\n",
       "|     comunistoide |         genocida | nacionalsocialismo |           nazistas |         sionista |       islamista |     fascista |\n",
       "|       xenofobico |     supremacista |      anticomunista |      totalitarista |      fascistoide |       fascistas |     musolini |\n",
       "|       homofobico |    pinochetistas |       supremacismo |      antidemocrata |        islamismo |         maoista |      gestapo |\n",
       "|            adolf |     antifascista |        neofascismo |           xenofoba |  antimperialista |     estalinista |  stalingrado |\n",
       "|       hitleriana |          racista |         antisemita |         antisemita |        sovietico |     antisemitas |  neofascista |\n",
       "|         homofobo |        fascistas |       colonialista |          esvastica |   antiterrorista |     chauvinista |    mussolini |\n",
       "|         xenofobo |         sionista |       pinochetista |        hitlerianas |          maoista |       mussolini |   franquista |\n",
       "|      estalinista |     negacionista |           musolini |      supremacistas |           stalin |    supremacismo |   holocausto |\n",
       "|     negacionista |       derechista |            facista |         xenofobico | antiimperialista |   antisemitismo |      hittler |\n",
       "| ultraderechistas |            judio |            maoista |             fascio |      hitlerianas |   supremacistas |     neonazis |\n",
       "|         neonazis |       antisemita |               klux |       nacionalista |         islamica | socialdemocrata |    comunista |\n",
       "|      antisemitas |         facistas |      totalitarista |   ultraderechistas |    anticomunismo |     fascistoide |    auschwitz |\n",
       "|         musolini |          facismo |        hitlerianas |           fascismo |       terrorista |      falangista |   falangista |\n"
      ]
     },
     "metadata": {},
     "output_type": "display_data"
    },
    {
     "data": {
      "text/markdown": [
       "### homofobia"
      ]
     },
     "metadata": {},
     "output_type": "display_data"
    },
    {
     "data": {
      "text/markdown": [
       "|                 AR |                 CL |               CO |                 ES |                 MX |               US |               VE |\n",
       "| ------------------:| ------------------:| ----------------:| ------------------:| ------------------:| ----------------:| ----------------:|\n",
       "|         transfobia |         transfobia |      islamofobia |         transfobia |         transfobia |      islamofobia |         homofoba |\n",
       "|            bifobia |        islamofobia |         homofoba |            bifobia |            bifobia |      heterofobia |       homofobica |\n",
       "|        islamofobia |            bifobia |       transfobia |          misoginia |        heterofobia |         homofoba |      islamofobia |\n",
       "|           homofoba |        heterofobia |          bifobia |     homosexualidad |        islamofobia |          bifobia |      homofobicas |\n",
       "|          homofobas |           homofoba |      heterofobia |          xenofobia |     homosexualismo |       transfobia |       homofobico |\n",
       "|     homosexualismo |          xenofobia |        homofobas |        heterofobia |          misoginia |        homofobas |       transfobia |\n",
       "|        heterofobia |           homofobo |       homofobica |            racismo |     homosexualidad |       homofobica |          bifobia |\n",
       "|     homosexualidad |            racismo |   homosexualismo |     homosexualismo |         homofobica |       gordofobia |      heterofobia |\n",
       "|          misoginia |          homofobas |   homosexualidad |         homofobico |           homofoba |         homofobo |         homofobo |\n",
       "|           homofobo |         aporofobia |        xenofobia |         homofobica |     discriminacion |        xenofobia |      homofobicos |\n",
       "|          xenofobia |     homosexualismo |       gordofobia |        homofobicos |           machismo |      homofobicas |       gordofobia |\n",
       "|          homofobos |         homofobica |   discriminacion |        homofobicas |        homofobicas |      aracnofobia |   homosexualidad |\n",
       "|         homofobica |          misoginia |      homofobicas |           machismo |          homofobas |        homofobos |      aracnofobia |\n",
       "|         gordofobia |          homofobos |       homofobico |           homofobo |          xenofobia |       homofobico |   homosexualismo |\n",
       "|         homofobico |     homosexualidad |      homofobicos |          homofobas |        homofobicos |       aporofobia |     homosexuales |\n",
       "|        homofobicos |     discriminacion |        misoginia |          homofobos |         aporofobia |      homofobicos | heterosexualidad |\n",
       "|           machismo |         gordofobia |        homofobos |        islamofobia |     homosexualizar |         machismo |       aporofobia |\n",
       "|     discriminacion |         homofobico |         homofobo |           homofoba |          homofobos |   homosexualidad |        xenofobia |\n",
       "|        homofobicas |        homofobicas |          racismo |         gordofobia |         gordofobia |   homosexualismo |      transfobica |\n",
       "|     homosexualizar |        homofobicos |         machismo |   heterosexualidad |         homofobico |        misoginia |         machismo |\n",
       "|            racismo |           machismo |       aporofobia |         aporofobia |           homofobo |   discriminacion |     bisexualidad |\n",
       "|     transexualidad | heteronormatividad |      aracnofobia |     transexualidad |        transfobica |          sexismo |   homosexualizar |\n",
       "| heteronormatividad |        transfobico |            lgbti | heteronormatividad |       homosexuales |         misogina |   transexualidad |\n",
       "|         aporofobia |        transfobica |     intolerancia |       transfobicos |            sexismo |     homosexuales |    pansexualidad |\n",
       "|      pansexualidad |     homosexualizar |     transfobicos |        transfobico |       transfobicos |          racismo |   heterosexuales |\n",
       "|       transfobicos |         homosexual |             lgbt |            sexismo |            racismo |   homosexualizar |       homosexual |\n",
       "|           machista |        lesbianismo |     homosexuales |     homosexualizar |        transfobico |        machismos |      asexualidad |\n",
       "|          machismos |     transexualidad |      transfobico |       intolerancia |       intolerancia |         clasismo |        misoginia |\n",
       "|        transfobica |       homosexuales | discriminaciones |       bisexualidad |       bisexualidad |       tripofobia |             lgbt |\n",
       "|       homosexuales |       transfobicos |            lgtbi |        transfobica |     transexualidad | heterosexualidad |     heterosexual |\n",
       "|        transfobico |   discriminaciones |         misogina |          pedofilia | heteronormatividad |        misoginas |       tripofobia |\n",
       "|      micromachismo |          pedofilia |      lesbianismo |       homosexuales |          pedofilia |            lgtbq |   discriminacion |\n",
       "|       bisexualidad |   heterosexualidad |          sexismo |          misandria |           clasismo |      feminazismo |            fobia |\n"
      ]
     },
     "metadata": {},
     "output_type": "display_data"
    },
    {
     "data": {
      "text/markdown": [
       "### transfobia"
      ]
     },
     "metadata": {},
     "output_type": "display_data"
    },
    {
     "data": {
      "text/markdown": [
       "|                 AR |                 CL |                 CO |                 ES |                 MX |                 US |               VE |\n",
       "| ------------------:| ------------------:| ------------------:| ------------------:| ------------------:| ------------------:| ----------------:|\n",
       "|        transfobica |        transfobico |        transfobica |            bifobia |            bifobia |        transfobica |      transfobica |\n",
       "|        transfobico |          homofobia |        transfobico |        transfobica |        transfobica |        transfobico |      transfobico |\n",
       "|       transfobicos |        transfobica |       transfobicos |        transfobico |        transfobico |            bifobia |          bifobia |\n",
       "|            bifobia |            bifobia |            bifobia |          homofobia |          homofobia |       transfobicos |     transfobicos |\n",
       "|          homofobia |       transfobicos |          homofobia |       transfobicos |       transfobicos |          homofobia |        homofobia |\n",
       "|        heterofobia |        heterofobia |        islamofobia |        heterofobia |        heterofobia |        heterofobia |      heterofobia |\n",
       "|     transexualidad |        islamofobia |        heterofobia |          misoginia |          misoginia |        islamofobia |      islamofobia |\n",
       "|         gordofobia |         gordofobia |         gordofobia |     transexualidad |           machismo |        aracnofobia |       gordofobia |\n",
       "|          misoginia |          misoginia |          xenofobia |         gordofobia |          feminismo |         aporofobia |      aracnofobia |\n",
       "|     homosexualismo |     discriminacion |     discriminacion |      pansexualidad |        islamofobia |         gordofobia |   transexualidad |\n",
       "|      pansexualidad |     transexualidad |          misoginia |       bisexualidad |         gordofobia |          xenofobia |       aporofobia |\n",
       "|     homosexualidad | heteronormatividad |        aracnofobia |        asexualidad |     discriminacion |           machismo |   homosexualidad |\n",
       "|           machismo |         aporofobia |     transexualidad |              trans |         aporofobia |            sexismo |            fobia |\n",
       "|          cisgenero |          xenofobia |           machismo | heteronormatividad |        feminazismo |         transfondo |       homofobica |\n",
       "| heteronormatividad |     homosexualismo |         aporofobia |          misandria |          feministo |         tripofobia |       homofobico |\n",
       "|     homosexualizar |           homofoba |     homosexualidad |   heterosexualidad |     homosexualismo |          misoginia |         homofoba |\n",
       "|           homofoba |           machismo |      micromachismo |          hembrismo |         feminismos | heteronormatividad |     homosexuales |\n",
       "|             radfem |            racismo |      pansexualidad |    heteronormativa |            sexismo |           misogina |      homofobicos |\n",
       "|          feminismo |     homosexualidad |            racismo |          cisgenero |          hembrismo |           clasismo |     transexuales |\n",
       "|       bisexualidad |    heteronormativa |         homofobica |           machismo |      antifeminista |     discriminacion |      transgenero |\n",
       "|          homofobas |      pansexualidad |            sexismo |     homosexualidad |          feminista |          feminismo |   homosexualismo |\n",
       "|        islamofobia |        lesbianismo | heteronormatividad |     homosexualismo |      micromachismo |     transexualidad |    pansexualidad |\n",
       "|              trans |         feminicida |           homofoba |    heteronormativo |         feministos |         feminismos |      homofobicas |\n",
       "|    heteronormativa |       transexuales |    heteronormativa |        lesbianismo | heteronormatividad |     homosexualismo | heterosexualidad |\n",
       "|    heteronormativo |           homofobo |        feminazismo |            sexismo |          xenofobia |          misoginas |       tripofobia |\n",
       "|       transexuales |        feminazismo |              trans |            racismo |           feminism |        feminazismo |     transgeneros |\n",
       "|         aporofobia |          feminismo |       bisexualidad |      interiorizada |          machismos |              lgtbq |     bisexualidad |\n",
       "|         feminismos |          homofobos |          feminismo |         bisexuales |     homosexualidad |     homosexualidad |             lgbt |\n",
       "|          hembrismo |              trans |   discriminaciones |        pansexuales |         feministas |            racismo |   heterosexuales |\n",
       "|      micromachismo |              lesbo |     homosexualismo |       transexuales |    heteronormativa |          machismos |         homofobo |\n",
       "|                cis |      micromachismo |        lesbianismo |      intersexuales |           clasismo |         homofobica |       transexual |\n",
       "|      intersexuales |        transgenero |          homofobas |        transgenero |     transexualidad |           homofoba |      pansexuales |\n",
       "|           homofobo |            sexismo |             racial |      micromachismo |             radfem |      pansexualidad |   homosexualizar |\n"
      ]
     },
     "metadata": {},
     "output_type": "display_data"
    },
    {
     "data": {
      "text/markdown": [
       "### machismo"
      ]
     },
     "metadata": {},
     "output_type": "display_data"
    },
    {
     "data": {
      "text/markdown": [
       "|                 AR |                 CL |                 CO |                ES |                 MX |                 US |                VE |\n",
       "| ------------------:| ------------------:| ------------------:| -----------------:| ------------------:| ------------------:| -----------------:|\n",
       "|          machismos |      micromachismo |      micromachismo |           sexismo |      micromachismo |          machismos |         machismos |\n",
       "|      micromachismo |          machismos |          machismos |     micromachismo |          misoginia |      micromachismo |          machista |\n",
       "|           machista |            sexismo |            sexismo |         misoginia |          machismos |          feminismo |         feminismo |\n",
       "|          misoginia |          feminismo |        patriarcado |         machismos |            sexismo |            sexismo |         machistas |\n",
       "|          feminismo |        patriarcado |          feminismo |       patriarcado |          feminismo |           machista |           sexismo |\n",
       "|            sexismo |          misoginia |          misoginia |          machista |          hembrismo |          homofobia |    homosexualismo |\n",
       "|        patriarcado |           machista |           machista |         hembrismo |           machista |          misoginia |        feminismos |\n",
       "|         patriarcal |     micromachismos |         patriarcal |         feminismo |        feminazismo |     micromachismos |       feminazismo |\n",
       "|          hembrismo |          hembrismo |     micromachismos |       feminazismo |           clasismo |           clasismo |         homofobia |\n",
       "|        feminazismo |        feminazismo |        feminazismo | heteropatriarcado |        patriarcado |        feminazismo |           racismo |\n",
       "|  heteropatriarcado |        matriarcado |          hembrismo |         homofobia |     micromachismos |         feminismos |         hembrismo |\n",
       "|          machistas |          machistas |          machistas |    micromachismos |         patriarcal |           misogina |       matriarcado |\n",
       "|   heteropatriarcal |         feminismos |        matriarcado |           racismo |          homofobia |          machistas | heteropatriarcado |\n",
       "|     micromachismos |         patriarcal |  heteropatriarcado |        patriarcal |         transfobia |     homosexualismo |       patriarcado |\n",
       "|       patriarcales |  heteropatriarcado |   heteropatriarcal |         machistas |     homosexualismo |          hembrismo |  heteropatriarcal |\n",
       "|         feminismos |          homofobia |       patriarcales |       matriarcado |        matriarcado |  heteropatriarcado |         misoginia |\n",
       "|       cosificacion |           misogina |           clasismo |         misandria |          machistas |   heteropatriarcal |    homosexualidad |\n",
       "|         patriarcas |         feminicida |            racismo |  heteropatriarcal |            racismo |        heterofobia |          homofoba |\n",
       "|          homofobia |            racismo |         feminismos |          clasismo |  heteropatriarcado |         transfobia |       heterofobia |\n",
       "| heteronormatividad |           feminism |          homofobia |        transfobia |   heteropatriarcal |            racismo |        chovinismo |\n",
       "|     homosexualismo |           clasismo |           misogina |     igualitarismo |            rasismo |          misoginas |        homofobica |\n",
       "|         transfobia |         fetichismo |          misoginas |    homosexualismo |         feminismos |         patriarcal |        feministas |\n",
       "|            sexista |        lesbianismo |         transfobia |        feminismos |        heterofobia |        patriarcado |         misoginas |\n",
       "|           misogina | heteronormatividad |     discriminacion |           sexista |           misogina |       patriarcales |        patriarcal |\n",
       "|        matriarcado |          feministo |            sexista |          misogina |            sexista |         gordofobia |         feminidad |\n",
       "|    heteronormativo |          feminidad |     homosexualismo |      cosificacion | heteronormatividad |        islamofobia |       islamofobia |\n",
       "|           cosifica |       cosificacion |          feminidad |      patriarcales |       patriarcales |        matriarcado |      homosexuales |\n",
       "|          misoginas |   heteropatriarcal |          misoginos |         hembrista |          feminidad |         aporofobia |         feminazis |\n",
       "|          cosificar |            sexista |    heteronormativo |      paternalismo |      eurocentrismo |     discriminacion |          feminazi |\n",
       "|           clasismo |       patriarcales |      estereotipado |       lesbianismo |            bifobia |         feminicida |          clasismo |\n",
       "|         feministas |         transfobia |         patriarcas |       feminicidio |    heteronormativa |       paternalismo |  heterosexualidad |\n",
       "|    heteronormativa |          misoginas |    heteronormativa |       heterofobia |         patriarcas |            ateismo |       travestismo |\n",
       "|            racismo |          sororidad | heteronormatividad |         misoginas |          misandria | heteronormatividad |       lesbianismo |\n"
      ]
     },
     "metadata": {},
     "output_type": "display_data"
    }
   ],
   "source": [
    "display(\"text/markdown\", \"# Racismo, clasismo, discriminación\")\n",
    "for token in [\"racismo\", \"pobres\", \"naco\", \"nazi\", \"homofobia\", \"transfobia\", \"machismo\"]\n",
    "    compare_concepts_in_table(token, R)\n",
    "end"
   ]
  }
 ],
 "metadata": {
  "kernelspec": {
   "display_name": "Julia 32c 1.8.0",
   "language": "julia",
   "name": "julia-32c-1.8"
  },
  "language_info": {
   "file_extension": ".jl",
   "mimetype": "application/julia",
   "name": "julia",
   "version": "1.8.0"
  }
 },
 "nbformat": 4,
 "nbformat_minor": 4
}
