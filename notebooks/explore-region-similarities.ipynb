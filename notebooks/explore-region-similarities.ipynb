{
 "cells": [
  {
   "cell_type": "code",
   "execution_count": 14,
   "metadata": {},
   "outputs": [
    {
     "name": "stderr",
     "output_type": "stream",
     "text": [
      "\u001b[32m\u001b[1m  Activating\u001b[22m\u001b[39m project at `~/Research/RegionalSpanish/notebooks`\n"
     ]
    }
   ],
   "source": [
    "using Pkg\n",
    "Pkg.activate(\".\")\n",
    "using JSON, CodecZlib, Glob, Latexify"
   ]
  },
  {
   "cell_type": "markdown",
   "metadata": {},
   "source": [
    "#### The following cell doesn't need to be activated unless you want to built vocabularies representation and only will work using the necessary files"
   ]
  },
  {
   "cell_type": "code",
   "execution_count": 15,
   "metadata": {},
   "outputs": [
    {
     "data": {
      "text/plain": [
       "loadjsongraph (generic function with 1 method)"
      ]
     },
     "execution_count": 15,
     "metadata": {},
     "output_type": "execute_result"
    }
   ],
   "source": [
    "function loadjsongraph(filename)\n",
    "    open(filename) do f\n",
    "        gz = GzipDecompressorStream(f)\n",
    "        D = JSON.parse(gz)\n",
    "        close(gz)\n",
    "        D\n",
    "    end\n",
    "end"
   ]
  },
  {
   "cell_type": "code",
   "execution_count": 16,
   "metadata": {},
   "outputs": [
    {
     "data": {
      "text/plain": [
       "5"
      ]
     },
     "execution_count": 16,
     "metadata": {},
     "output_type": "execute_result"
    }
   ],
   "source": [
    "MX = loadjsongraph(\"../data/SpanishLang/common-voc-semantic-knn-MX.json.gz\")\n",
    "AR = loadjsongraph(\"../data/SpanishLang/common-voc-semantic-knn-AR.json.gz\")\n",
    "US = loadjsongraph(\"../data/SpanishLang/common-voc-semantic-knn-US.json.gz\")\n",
    "ES = loadjsongraph(\"../data/SpanishLang/common-voc-semantic-knn-ES.json.gz\")\n",
    "CL = loadjsongraph(\"../data/SpanishLang/common-voc-semantic-knn-CL.json.gz\")\n",
    "R = [\"AR\" => AR, \"CL\" => CL, \"ES\" => ES, \"MX\" => MX, \"US\" => US]\n",
    "length(R)\n"
   ]
  },
  {
   "cell_type": "code",
   "execution_count": 17,
   "metadata": {},
   "outputs": [
    {
     "data": {
      "text/plain": [
       "defined_but_different (generic function with 2 methods)"
      ]
     },
     "execution_count": 17,
     "metadata": {},
     "output_type": "execute_result"
    }
   ],
   "source": [
    "function enc(A)\n",
    "    Dict(token => pos for (pos, token) in enumerate(A))\n",
    "end\n",
    "\n",
    "function distance(A, B, missingcost)\n",
    "    A = enc(A)\n",
    "    B = enc(B)\n",
    "    s = 0\n",
    "    for (token, rank) in A\n",
    "        s += abs(rank - get(B, token, missingcost))\n",
    "    end\n",
    "\n",
    "    s\n",
    "end\n",
    "\n",
    "function defined_but_different(MX, US, missingcost=100)\n",
    "    L = []\n",
    "    for (token, MX_def) in MX\n",
    "        US_def = get(US, token, nothing)\n",
    "        if US_def !== nothing\n",
    "            push!(L, distance(MX_def, US_def, missingcost) => token)\n",
    "        end\n",
    "    end\n",
    "\n",
    "    sort!(L, by=first, rev=true)\n",
    "end\n"
   ]
  },
  {
   "cell_type": "code",
   "execution_count": 18,
   "metadata": {},
   "outputs": [
    {
     "data": {
      "text/plain": [
       "117295"
      ]
     },
     "execution_count": 18,
     "metadata": {},
     "output_type": "execute_result"
    }
   ],
   "source": [
    "L = defined_but_different(MX, US)\n",
    "length(L)"
   ]
  },
  {
   "cell_type": "code",
   "execution_count": 19,
   "metadata": {},
   "outputs": [
    {
     "name": "stdout",
     "output_type": "stream",
     "text": [
      "1344 => confundiste, 1344 => globalista, 1344 => manaanaa, 1344 => visitas, 1344 => telemundo, 1344 => yujuu, 1344 => camilaa, 1344 => deroga, 1344 => traficantes, 1344 => configure, 1344 => atiendan, 1344 => masturbe, 1344 => abrazate, 1344 => trepate, 1344 => yihad, 1344 => librerias, 1344 => pentecostal, 1344 => canelon, 1344 => socioeconomico, 1344 => males, 1344 => milimetros, 1344 => vanda, 1344 => abrirles, 1344 => definirte, 1344 => film, 1344 => apretadita, 1344 => derrumben, 1344 => lavamanos, 1344 => cumpelanos, 1344 => biotecnologia, 1344 => moriir, 1343 => miley, 1343 => empuje, 1343 => estams, 1343 => fotis, 1343 => sumergi, 1343 => bastantito, 1343 => asistencial, 1343 => enloqueci, 1343 => 🐋, 1343 => dominado, 1343 => taladra, 1343 => bitch, 1343 => ^)/, 1343 => reencarnado, 1343 => senalarle, 1343 => analfabeta, 1343 => sombras, 1343 => ocuparemos, 1343 => licenciaturas, 1343 => espanolete, 1343 => agreguenle, 1343 => toma, 1343 => rasurarme, 1343 => casemonos, 1343 => alabes, 1343 => negociaban, 1343 => jalarte, 1343 => irracional, 1343 => sospeche, 1343 => colocarla, 1343 => felicitenme, 1343 => quejense, 1343 => arrodillaron, 1343 => desluce, 1343 => vuelvan, 1343 => mentirle, 1343 => fijese, 1343 => enfocarnos, 1343 => progresivos, 1343 => necesitarias, 1343 => debatamos, 1343 => maniaticas, 1343 => ganaderos, 1343 => peligrosos, 1343 => jsjs, 1343 => apegarse, 1343 => deciamos, 1343 => vocabulario, 1343 => soportoo, 1343 => observarlo, 1343 => desfalcan, 1343 => viviir, 1343 => reirnos, 1343 => apoyaran, 1343 => teas, 1343 => senalamos, 1343 => auspiciador, 1343 => medalla, 1343 => usteden, 1343 => peligrar, 1343 => vallase, 1343 => afirmaste, 1343 => apagao, 1343 => ejecutaran, 1343 => alguieen, 1343 => mengana, 1342 => informarse, 1342 => detestaba, 1342 => afirmarse, 1342 => subestimaste\n"
     ]
    }
   ],
   "source": [
    "\n",
    "println(replace(join(L[79900:80000], \", \"), r\"\\\\\\\"\" => \"\"))"
   ]
  },
  {
   "cell_type": "code",
   "execution_count": 20,
   "metadata": {},
   "outputs": [
    {
     "data": {
      "text/plain": [
       "compare_concepts_in_table (generic function with 1 method)"
      ]
     },
     "execution_count": 20,
     "metadata": {},
     "output_type": "execute_result"
    }
   ],
   "source": [
    "\n",
    "function compare_concepts_in_table(token, R)\n",
    "    H = Matrix{String}(undef, 34, length(R))\n",
    "\n",
    "    for (i, (label, region)) in enumerate(R)\n",
    "        H[1, i] = label\n",
    "        H[2:end, i] .= get(region, token, \"\")\n",
    "    end\n",
    "\n",
    "    display(\"text/markdown\", \"### $token\")\n",
    "    display(\"text/markdown\", latexify(H, env=:mdtable, latex=false))\n",
    "end\n",
    "\n"
   ]
  },
  {
   "cell_type": "code",
   "execution_count": 21,
   "metadata": {},
   "outputs": [
    {
     "data": {
      "text/markdown": [
       "### religion"
      ]
     },
     "metadata": {},
     "output_type": "display_data"
    },
    {
     "data": {
      "text/markdown": [
       "|             AR |             CL |             ES |             MX |              US |\n",
       "| --------------:| --------------:| --------------:| --------------:| ---------------:|\n",
       "|     religiones |     religiones |     religiones |     religiones |      religiones |\n",
       "|      religiosa |   religiosidad |      religiosa |   religiosidad |    religiosidad |\n",
       "|      religioso |      religiosa |      religioso |      religioso |  judeocristiana |\n",
       "|       creencia |      religioso |   cristianismo |     religiosos |       religiosa |\n",
       "|   cristianismo |       creencia |   religiosidad |     religiosas |       religioso |\n",
       "|   religiosidad |          credo |          islam |   cristianismo |      religiosas |\n",
       "|          credo |     religiosos |     religiosas | judeocristiana |    cristianismo |\n",
       "|    catolicismo |     religiosas |     religiosos |       creencia |      religiosos |\n",
       "|       judaismo |      creencias |      cristiana |      creencias |        creencia |\n",
       "|       profesar |    catolicismo |       catolica |    catolicismo |   anticristiana |\n",
       "|     religiosos |       profesar |       creencia |      ideologia |       creencias |\n",
       "|        profesa |       teologia |      hinduismo |      religiosa |       cristiana |\n",
       "|      creencias |        profesa |      creencias |       teologia |     catolicismo |\n",
       "|     religiosas |         credos |          credo |       catolica |       ideologia |\n",
       "|         credos |       profesas |    catolicismo |       profesar |            ateo |\n",
       "|      cristiana |   cristianismo |       islamica |     cristianos |           credo |\n",
       "|      ideologia |        ateismo | judeocristiana |       catolico |     cristiandad |\n",
       "|        profese |      catolicos |        ateismo |          credo |           judeo |\n",
       "|    cristiandad | espiritualidad |       judaismo |      catolicos |        teologia |\n",
       "|   agnosticismo | religiosamente |       teologia |      cristiana |  homosexualismo |\n",
       "|  anticristiana |      filosofia |      ideologia | espiritualidad |      cristianos |\n",
       "|       profesas |         dogmas |       profesar |        profesa |  homosexualidad |\n",
       "|     apostolica |   cienciologia |    monoteistas |        iglesia |           laica |\n",
       "|       profesan |       judaismo |    cristiandad |    cristiandad |         profesa |\n",
       "|        ateismo |      creyentes |        budismo |         dogmas |        judaismo |\n",
       "|      agnostico |      ideologia |      creyentes |        profese | fundamentalismo |\n",
       "|          islam |          laico |      islamismo |       judaismo |      ideologias |\n",
       "|     cristianos |        profese |       laicismo |      creyentes |  religiosamente |\n",
       "| judeocristiana |   agnosticismo |       creyente |          islam |          dogmas |\n",
       "|       catolico |       profesan |        profesa |      satanismo |      cristianas |\n",
       "|       catolica |          dogma |     cristianos |       profesan |   anticristiano |\n",
       "|           atea |      teologica |   agnosticismo |         sectas |        profesas |\n",
       "| espiritualidad | judeocristiana |     cristianas |    evangelicos |       doctrinal |\n"
      ]
     },
     "metadata": {},
     "output_type": "display_data"
    }
   ],
   "source": [
    "compare_concepts_in_table(\"religion\", R)"
   ]
  },
  {
   "cell_type": "code",
   "execution_count": 22,
   "metadata": {},
   "outputs": [
    {
     "data": {
      "text/markdown": [
       "### iglesia"
      ]
     },
     "metadata": {},
     "output_type": "display_data"
    },
    {
     "data": {
      "text/markdown": [
       "|            AR |            CL |            ES |             MX |             US |\n",
       "| -------------:| -------------:| -------------:| --------------:| --------------:|\n",
       "|      catolica |    sacerdotes |      catolica |       catolica |     evangelica |\n",
       "|    evangelica |    evangelica |    apostolica |   congregacion |       catolica |\n",
       "|    apostolica |         curas |         clero |           misa |     evangeliza |\n",
       "|         curia |         curia |      eclesial |     apostolica |     apostolica |\n",
       "|     catolicos |  congregacion |     catolicas |      religioso |    evangelicas |\n",
       "|         curas |  eclesiastica |         curia |      catolicos |           misa |\n",
       "|         clero |    sacerdotal |  eclesiastica |      catolicas |           igle |\n",
       "|   catolicismo |          igle |      vaticano |       catolico |    evangelizar |\n",
       "|     catolicas |    feligreses |    sacerdotes |     eucaristia |      cristiana |\n",
       "|   evangelicas |      diocesis |      vaticana |        parroco |      catolicos |\n",
       "|    sacerdotes |  eclesiastico |       obispos |     sacerdotes |    pentecostal |\n",
       "|  eclesiastica |     catolicos | eclesiasticos |       catedral |    pentecostes |\n",
       "|   apostolicos |         clero |    feligresia |          clero |     sacerdotes |\n",
       "|      vaticano |   pentecostal |   apostolicos |    evangelicos |   congregacion |\n",
       "|   evangelicos |       obispos |         curas |      sacerdote | judeocristiana |\n",
       "|      sinagoga |      vaticano |     catolicos |     religiosos |  evangelizando |\n",
       "|     religiosa | eclesiasticos |  eclesiastico |       congrega |      sacerdote |\n",
       "|    feligresia |        laicos |    episcopado |              ⛪ |     sacerdotal |\n",
       "|     parroquia |     sacerdote |      basilica | congregaciones |      catolicas |\n",
       "|      catolico | pentecostales |      clerical |     evangelico |       pastoral |\n",
       "|      basilica |      vaticana |     religiosa |     cristianos |     excomunion |\n",
       "|    apostolico |   evangelicas |     episcopal |       vaticano |    apostolicos |\n",
       "|          misa |     pedofilos |    religiosos |      cristiana |    catolicismo |\n",
       "|    excomulgar |      clerigos |   catolicismo |    evangelicas |       pastores |\n",
       "|  eclesiastico |      iglesias |     conventos |     evangelica | evangelizacion |\n",
       "|    feligreses |      karadima |    apostolico |     sacerdotal |    cristiandad |\n",
       "| eclesiasticos | eclesiasticas |   arzobispado |    apostolicos |     evangelico |\n",
       "|  congregacion |      eclesial |  congregacion |    pentecostes |     adventista |\n",
       "|    parroquias |    apostolica |      clerigos |      parroquia |    evangelicos |\n",
       "|  cristianismo |    sacerdocio |        laicos |    sacramentos |     evangelios |\n",
       "|    evangelico |    pederastia |  religiosidad |       religion |        capilla |\n",
       "|     bergoglio | arquidiocesis |     parroquia |       congrego |  pentecostales |\n",
       "| anticristiana |   evangelista |  aconfesional |       basilica |    evangelista |\n"
      ]
     },
     "metadata": {},
     "output_type": "display_data"
    }
   ],
   "source": [
    "compare_concepts_in_table(\"iglesia\", R)"
   ]
  },
  {
   "cell_type": "code",
   "execution_count": 23,
   "metadata": {},
   "outputs": [
    {
     "data": {
      "text/markdown": [
       "# Referencias geográficas"
      ]
     },
     "metadata": {},
     "output_type": "display_data"
    },
    {
     "data": {
      "text/markdown": [
       "### america"
      ]
     },
     "metadata": {},
     "output_type": "display_data"
    },
    {
     "data": {
      "text/markdown": [
       "|             AR |               CL |               ES |             MX |             US |\n",
       "| --------------:| ----------------:| ----------------:| --------------:| --------------:|\n",
       "|       america0 |         america0 |       sudamerica |       america0 |     sudamerica |\n",
       "|         merica |       sudamerica |         americas |   americanismo |     suramerica |\n",
       "|       americas |         americaa |     norteamerica |          atlas |     centenario |\n",
       "|     suramerica |    americalatina |    americalatina |         tigres |          ameri |\n",
       "|     sudamerica |       suramerica |       suramerica |         chivas |         latina |\n",
       "|  americalatina |         americas |    centroamerica |          xolos |   americanismo |\n",
       "|     continente |           merica |          americo |          pumas |     continente |\n",
       "|         latina |           latina |    latinoamerica |         merica |    centenarios |\n",
       "|  latinoamerica |    latinoamerica |         america0 |         necaxa |   norteamerica |\n",
       "|  continentales |       centenario |           latina |          piojo |      americans |\n",
       "| hispanoamerica |       continente |     sudamericana |   americanista |       americas |\n",
       "|  sudamericanas |     suramericana |   hispanoamerica |       monarcas |  latinoamerica |\n",
       "|   suramericana |             copa |       continente |  americanistas |  centroamerica |\n",
       "|    continental |  confederaciones |           mexico |        rayados |          conca |\n",
       "|   sudamericano |              sud | centroamericanos |          ameri |         chivas |\n",
       "|  sudamericanos |    centroamerica |     iberoamerica |      marchesin | hispanoamerica |\n",
       "|   suramericano |     sudamericano |     sudamericano |     suramerica |         tigres |\n",
       "|  suramericanos |    sudamericanos |  centroamericano |   libertadores |         necaxa |\n",
       "|   sudamericana |      continentes |  centroamericana |       sambueza |       concacaf |\n",
       "|       concacaf |     sudamericana |     americanismo |              🦅 |   sudamericana |\n",
       "|  centroamerica |    sudamericanas |          oceania |     sudamerica |   libertadores |\n",
       "|   iberoamerica |  latinoamericana |       americanos |          oribe |           copa |\n",
       "|         europa |     suramericano |    sudamericanos | concachampions | concachampions |\n",
       "|   norteamerica |    suramericanos |             asia |       concacaf |    continental |\n",
       "|      eurocopas |           recopa |             eeuu |     centenario |  sudamericanos |\n",
       "|   libertadores |       americanos |     suramericana |        atlante |     centenaria |\n",
       "|     americanos |  latinoamericano |          bolivia |  americalatina |          xolos |\n",
       "|    continentes | latinoamericanos |            chile |          tuzos |    continentes |\n",
       "|      mundiales | latinoamericanas |    sudamericanas |      aguilucho |  americanistas |\n",
       "|        ecuador |    continentales |         colombia |      equipillo |   americanista |\n",
       "|          rusia |        mundiales |    suramericanos |       saprissa |   suramericana |\n",
       "| concachampions |      continental |        americano |       tigueres |   sudamericano |\n",
       "|         region |        bicampeon |  latinoamericano |        aguilas |  continentales |\n"
      ]
     },
     "metadata": {},
     "output_type": "display_data"
    },
    {
     "data": {
      "text/markdown": [
       "### latinoamerica"
      ]
     },
     "metadata": {},
     "output_type": "display_data"
    },
    {
     "data": {
      "text/markdown": [
       "|                AR |                CL |                ES |                MX |                US |\n",
       "| -----------------:| -----------------:| -----------------:| -----------------:| -----------------:|\n",
       "|  latinoamericanas |  latinoamericanos |   latinoamericana |  latinoamericanas |   latinoamericana |\n",
       "|   latinoamericana |   latinoamericana |   latinoamericano |  latinoamericanos |  latinoamericanos |\n",
       "|  latinoamericanos |   latinoamericano |  latinoamericanos |   latinoamericano |   latinoamericano |\n",
       "|   latinoamericano |  latinoamericanas |  latinoamericanas |   latinoamericana |  latinoamericanas |\n",
       "|        sudamerica |        sudamerica |        sudamerica |        suramerica |    hispanoamerica |\n",
       "|    hispanoamerica |            latina |     centroamerica |        sudamerica |        suramerica |\n",
       "|            latina |        suramerica |        suramerica |    hispanoamerica |        sudamerica |\n",
       "|     americalatina |    hispanoamerica |    hispanoamerica |            paises |      iberoamerica |\n",
       "|        suramerica |     americalatina |  centroamericanos |      norteamerica |            paises |\n",
       "|      norteamerica |           america |            mexico |             latam | hispanoamericanos |\n",
       "| hispanoamericanos |            latino |   centroamericana |            mexico |  hispanoamericana |\n",
       "|            paises |        continente | hispanoamericanos |           hispana |  hispanoamericano |\n",
       "|            region |     centroamerica |             latam |     americalatina |      norteamerica |\n",
       "|  hispanoamericana |            paises |  hispanoamericana | hispanoamericanos |             latam |\n",
       "|  hispanoamericano |      norteamerica |  centroamericanas |         venezuela |            latina |\n",
       "|             latam | hispanoamericanos |   centroamericano |        continente |        continente |\n",
       "|     centroamerica |           latinos |  hispanoamericano |      suramericana |     centroamerica |\n",
       "|         argentina |       continentes |           bolivia |           latinos |     americalatina |\n",
       "|        continente |      iberoamerica |      iberoamerica |     centroamerica |            region |\n",
       "|      iberoamerica |             latam |          colombia |         argentina |         venezuela |\n",
       "|              eeuu |          america0 |             chile |          colombia |   iberoamericanos |\n",
       "|            mexico |           latinas |            mejico |             paise |    iberoamericana |\n",
       "|            latino |     suramericanos |      norteamerica |     sudamericanas |       continentes |\n",
       "|            merica |             paise |     sudamericanos |           ecuador |    iberoamericano |\n",
       "|           america |            merica |     sudamericanas |     suramericanos |  subdesarrollados |\n",
       "|             paise |  hispanoamericano |           america |  hispanoamericano |   subdesarrollada |\n",
       "|              vzla |  centroamericanos |      suramericana |        venezuelas |     suramericanos |\n",
       "|           latinas |  hispanoamericana |           ecuador |  hispanoamericana |   subdesarrollado |\n",
       "|           latinos |      suramericano |     suramericanos |              pais |       hemisferica |\n",
       "|     sudamericanos |      suramericana |           latinos |            espana |       globalizado |\n",
       "|          venezuel |     sudamericanos |      sudamericana |              eeuu |      suramericana |\n",
       "|          argetina |   centroamericano |         nicaragua |           bolivia |             paise |\n",
       "|         venezuela |             chile |            latina |          venezuel |        dictaduras |\n"
      ]
     },
     "metadata": {},
     "output_type": "display_data"
    },
    {
     "data": {
      "text/markdown": [
       "### mexico"
      ]
     },
     "metadata": {},
     "output_type": "display_data"
    },
    {
     "data": {
      "text/markdown": [
       "|            AR |            CL |            ES |               MX |             US |\n",
       "| -------------:| -------------:| -------------:| ----------------:| --------------:|\n",
       "|       mexico0 |       mexico0 |        mejico |          mexico0 |        mexico0 |\n",
       "|      colombia |       mexicoo |       mexico0 |             pais |        mexicoo |\n",
       "|          peru |      colombia |      mexicali |    latinoamerica |         mexica |\n",
       "|       ecuador |      mexicali |         chile |                🇲 |         mejico |\n",
       "|        mejico |        mexica |      colombia |          mexicoo |              🇲 |\n",
       "|         chile |     guatemala |       mexicoo |                🇽 |              🇽 |\n",
       "|        mexica |       ecuador |        mexica |        venezuela |      mexicanos |\n",
       "|       mexicoo |        mejico |          peru |        mexicanos |       chihipas |\n",
       "|     monterrey |     mexicanos | latinoamerica |     norteamerica |         puebla |\n",
       "|           mex |       uruguay |       uruguay |           espana |    guadalajara |\n",
       "|      mexicali |      mexicano |      paraguay |           canada |           amlo |\n",
       "|        espana |      honduras |     mexicanos |           nacion |       mexicana |\n",
       "|       uruguay |        brasil |        brasil |         colombia |       mexicali |\n",
       "| centroamerica |          peru |       ecuador |         venezuel |            mex |\n",
       "|        brasil |       mexican | centroamerica |            paise |       honduras |\n",
       "|      paraguay |           mex |     argentina |         alemania |      guatemala |\n",
       "|       bolivia |     argentina |       bolivia |        argentina |       mexicano |\n",
       "|       turquia |      mexicana |          mexi |              eua |         oaxaca |\n",
       "|       mexican |    mexicanito |      mexicana |       venezuelas |     guanajuato |\n",
       "|      mexicano |      mexicans |     monterrey |         zelandia |     tamaulipas |\n",
       "|     mexicanos |        panama |      honduras |       suramerica |        jalisco |\n",
       "|     filipinas |         japon |       mexican |              mex |      michoacan |\n",
       "|        canada |      paraguay |    sudamerica |         venezula |       veracruz |\n",
       "|          eeuu | centroamerica |    mexicanito |   primermundista | aguascalientes |\n",
       "|    sudamerica |       hondura |      mexicano |       venezuelan |        yucatan |\n",
       "|        europa |       belgica |     nicaragua |    centroamerica |        tijuana |\n",
       "|       caracas |   guadalajara |        oaxaca |         honduras |       mexicans |\n",
       "|     venezuela |   bancolombia |             🇽 |             eeuu |      monterrey |\n",
       "|        bogota |        espana |   bancolombia | latinoamericanos |      mexicanas |\n",
       "| latinoamerica |          mexi |   mexicanitos |           brasil |            eua |\n",
       "|         rusia |    inglaterra |     queretaro |          bolivia |      zacatecas |\n",
       "|   guadalajara |     mexicanas |             🇲 |           paises |    mexicanitos |\n",
       "|     nicaragua |   mexicanitos |     guatemala |       nacionales |           cdmx |\n"
      ]
     },
     "metadata": {},
     "output_type": "display_data"
    },
    {
     "data": {
      "text/markdown": [
       "### chile"
      ]
     },
     "metadata": {},
     "output_type": "display_data"
    },
    {
     "data": {
      "text/markdown": [
       "|         AR |              CL |            ES |         MX |          US |\n",
       "| ----------:| ---------------:| -------------:| ----------:| -----------:|\n",
       "|    ecuador |          chiles |        chile0 |     chile0 |      chilen |\n",
       "|       peru |          chilee |     argentina |     chilee |      chilee |\n",
       "|     chile0 |         chilito |      paraguay |     piquin |    chilenos |\n",
       "|    uruguay |            pais |        mexico |    chilito |      chile0 |\n",
       "|     mexico |   latinoamerica |       uruguay |  chilensis |     chileno |\n",
       "|     chilen |          chile0 |          peru |   habanero |     chilena |\n",
       "|     brasil |            chil |       bolivia |     morron |      uchile |\n",
       "|    bolivia |        america0 |      colombia |     uchile |       shile |\n",
       "|   colombia |               🇨 |        brasil |     chiles |     chilito |\n",
       "|   paraguay |      suramerica |      chilenos | verdolagas |   chilenito |\n",
       "|     chiles |      sudamerica |        chilen |   jalapeno |   argentina |\n",
       "|     chilee |               🇱 |       ecuador |   pimiento |    chilenas |\n",
       "|      rusia |       argentina |       chileno |       chil |      chiles |\n",
       "|   chilenos |         chileno |        chilee |   habanera |      pinera |\n",
       "|     brazil |         america |     nicaragua |    uruguay |     uruguay |\n",
       "|     espana |        colombia |    sudamerica |       peru |    paraguay |\n",
       "|     chiloe |            peru |      honduras |      tajin |           🇱 |\n",
       "|    mexico0 |    iberoamerica | latinoamerica |       pica |  sudamerica |\n",
       "|    brasil0 |          mexico |        uchile |    sofrito |     bolivia |\n",
       "|    chileno |        venezuel |        chiles |    jamaica |      brazil |\n",
       "|    polonia |        chilenos |   bancolombia |  argentina | antofagasta |\n",
       "|     uchile |     antofagasta |       brasil0 |     pepino |    pinochet |\n",
       "|   portugal |           shile |        mejico |    pepinos |        peru |\n",
       "|   alemania | latinoamericano |      brasilia |   chipotle |     ecuador |\n",
       "|   honduras |         ecuador |    suramerica |  uruguayas |   uruguasho |\n",
       "| sudamerica |        venezula |     uruguayas |   honduras |   chilensis |\n",
       "|     canada |         nuestro |     chilenito |     brasil |      brasil |\n",
       "|  australia |         mexico0 |    paraguayas |    picante | carabineros |\n",
       "|       eeuu |         chilena |     guatemala |   picadito |    colombia |\n",
       "|    francia | latinoamericana | centroamerica |  jalapenos |      chiloe |\n",
       "| inglaterra |        mundial0 |    montevideo |    ecuador |    alemania |\n",
       "|   chilenas |       venezuela |           arg |   uruguaya |          cl |\n",
       "|     russia |           _htag |     boliviana |      picao |        weon |\n"
      ]
     },
     "metadata": {},
     "output_type": "display_data"
    }
   ],
   "source": [
    "display(\"text/markdown\", \"# Referencias geográficas\")\n",
    "for token in [\"america\", \"latinoamerica\", \"mexico\", \"chile\"]\n",
    "    compare_concepts_in_table(token, R)\n",
    "end"
   ]
  },
  {
   "cell_type": "code",
   "execution_count": 24,
   "metadata": {},
   "outputs": [
    {
     "data": {
      "text/markdown": [
       "# Vestimenta uso común"
      ]
     },
     "metadata": {},
     "output_type": "display_data"
    },
    {
     "data": {
      "text/markdown": [
       "### ropa"
      ]
     },
     "metadata": {},
     "output_type": "display_data"
    },
    {
     "data": {
      "text/markdown": [
       "|           AR |         CL |           ES |          MX |             US |\n",
       "| ------------:| ----------:| ------------:| -----------:| --------------:|\n",
       "|        ropas |     ropita |       ropita |      ropita |         ropita |\n",
       "|       ropita |      ropaa |        ropas |       blusa |          ropas |\n",
       "|          rop |    ropitas |        ropaa |    lenceria |       secadora |\n",
       "|      ropitas |      ropas |        blusa |     ropitas |        ropitas |\n",
       "|       pilcha |     camisa |    sudaderas |      blusas |          blusa |\n",
       "|   zapatillas |    camisas |      ropitas |     camisas |     maquillaje |\n",
       "|     calzados |        rop |      prendas |  lavanderia |         camisa |\n",
       "|      calzado |     ropero |       blusas |     camison |         outfit |\n",
       "|      zapatos |    zapatos |      jerseys |    lavadora |       sudadera |\n",
       "|     lenceria |     casaca |     chaqueta | guardarropa |            rop |\n",
       "|  maquillajes |     polera |       camisa |      camisa |       lenceria |\n",
       "|       jejens |    pijamas |     sudadera |   planchada |    maquillajes |\n",
       "|     vestidor |   lavadora |     lenceria |       camis |         trajes |\n",
       "| indumentaria |     pijama |      abrigos |     blusita |        camisas |\n",
       "|      remeras |   pantalon |    chaquetas |  maquillaje |          camis |\n",
       "|       camisa |    camisaa |     lavadora |   sudaderas |        zapatos |\n",
       "|      camisas |  planchada |      banador |     prendas |         blusas |\n",
       "|       ropero |       rope |      camisas |    chamarra |        abrigos |\n",
       "|        zapas |   chaqueta |      pijamas |    secadora |       pantalon |\n",
       "|      campera |     jejens |       abrigo |     sueters |         boxers |\n",
       "|      tiendas |  vestidito |      bikinis |      trajes | automaquillaje |\n",
       "|    conjuntos |   lenceria |     pantalon |    sueteres |       camisita |\n",
       "|     pantalon |  pantaleta | calzoncillos |   gabardina |        planche |\n",
       "|       mallas |   sostenes |    banadores |     zapatos |      brassiere |\n",
       "|        malla |   camisita |   maquillaje |   tendedero |          calsa |\n",
       "|     perchero |   pijamita |    chaqueton |  tintoreria |       chaqueta |\n",
       "|      bikinis |    poleras |     vaqueros |   chamarras |      brasieres |\n",
       "|     probarme |   secadora |      perchas |        zara |        campera |\n",
       "|       bikini |   vestidos |   calcetines |    sudadera |     calcetines |\n",
       "|     vestidos | calcetines |    tendedero |    pantalon |     accesorios |\n",
       "|   accesorios |    camison |    sujetador |    planchar |        bikinis |\n",
       "|     chaqueta | pantaletas |          rop |      lavada |       empacada |\n",
       "|   maquillaje |   planchar |      zapatos |    blusitas |      bralettes |\n"
      ]
     },
     "metadata": {},
     "output_type": "display_data"
    },
    {
     "data": {
      "text/markdown": [
       "### playera"
      ]
     },
     "metadata": {},
     "output_type": "display_data"
    },
    {
     "data": {
      "text/markdown": [
       "|         AR |         CL |          ES |        MX |           US |\n",
       "| ----------:| ----------:| -----------:| ---------:| ------------:|\n",
       "|   playeras |   playeras |    playeras |    camisa |     playeras |\n",
       "|       bici |    playero |    playeros |  camiseta |     camiseta |\n",
       "|      cleta |   playeros |     playero |  playeras |       camisa |\n",
       "|   patineta |  guayabera |    chanclas |    jersey |     camisola |\n",
       "|       bike |     player |      remera |  sudadera |    camisetas |\n",
       "|       moto |   hawaiana |     campera | camisetaa |     sudadera |\n",
       "|  bicicleta |     bikini |     bermuda |     gorra |     chamarra |\n",
       "|     motita |      playa |      polera |     camis |        gorra |\n",
       "|     duster | guayaberas | pantaloneta | camisetas |        camis |\n",
       "|      hilux |    players |      cholas |  chamarra |     chaqueta |\n",
       "|     motito |  veraniega |     gorrita |     blusa |       sueter |\n",
       "|     amarok |  piscinita |      jogger |   gorrita |       casaca |\n",
       "|      jejep |   sudadera |       playa |    remera |      jerseys |\n",
       "|     llanta |      playo |      sueter |  camisita |        blusa |\n",
       "|  longboard |   shorcito |     banador |    hoodie |      gorrita |\n",
       "|        dax |     sunset |  zapatillas |   camisas |    chamarras |\n",
       "|    gorrita |    sunsets |      poncho |    casaca |      camisas |\n",
       "|   manubrio |     polera |   veraniega | sudaderas |    sudaderas |\n",
       "|      bicis |     jockey |      bambas |  camisola |     camisita |\n",
       "|  patinetas |    bikinis |    camisita |   camista |       gorras |\n",
       "|  camioneta |    croptop |    botinera |   jerseys |       polera |\n",
       "|     yamaha |    blusita |      adidas |  uniforme | autografiada |\n",
       "|  monopatin |    playita |   changuito |    tshirt |      camista |\n",
       "|       wave |   sandalia |    banadita | estampada |      camison |\n",
       "|      bikes |    faldita |     camista |   bermuda |    chaqueton |\n",
       "|          🚲 |     playaa |    camiseta | estampado |      blusita |\n",
       "|    twister |   camisita |     vaquera |     licra |      casacas |\n",
       "|       duna |      short |        nike |   bufanda |     calcetas |\n",
       "|   floreada |  putishort |      shorts |    gorras |       remera |\n",
       "| desinflada |       surf |    sudadera |   camison |      bufanda |\n",
       "|     capota |   reposera |       blusa |     pants |     franelas |\n",
       "|    llantas |  veraniego |      casaca |    adidas |     cachucha |\n",
       "|     tuning |   hawaiian |       gorra |  cachucha |    chaquetas |\n"
      ]
     },
     "metadata": {},
     "output_type": "display_data"
    },
    {
     "data": {
      "text/markdown": [
       "### zapatos"
      ]
     },
     "metadata": {},
     "output_type": "display_data"
    },
    {
     "data": {
      "text/markdown": [
       "|            AR |            CL |            ES |            MX |            US |\n",
       "| -------------:| -------------:| -------------:| -------------:| -------------:|\n",
       "|     sandalias |     zapatitos |     zapatitos |     zapatitos |     zapatitos |\n",
       "|    zapatillas |    zapatillas |       botines |         tenis |        zapato |\n",
       "|     zapatitos |       botines |       tacones |    zapatillas |    calcetines |\n",
       "|      calzados |    calcetines |        zapato |         flats |    zapatillas |\n",
       "|       botines |     zapatilla |    zapatillas |    calcetines |       tacones |\n",
       "|        jejens |        jejens |     sandalias |      converse |     zapatilla |\n",
       "|      sandalia |      zapatito |    calcetines |        tennis |    pantalones |\n",
       "|      vestidos |        zapato |        bambas |       tacones |     sandalias |\n",
       "|       calzado |       calzado |      zapatito |       botines |         tenis |\n",
       "|       botitas |       tacones |        suelas |     zapatilla |      zapatito |\n",
       "|         zapas |        chalas |         zapas |        zapato |        jejens |\n",
       "|        zapato |     sandalias |         suela |     sandalias |         botas |\n",
       "|    vestiditos |      calzados |      vaqueros |         botas |        tennis |\n",
       "|         botas |      sostenes |        bolsos |      zapatito | pantaloncitos |\n",
       "|         crocs |     mocasines |    pantalones |          vans |        trajes |\n",
       "|       sueters |  calzoncillos |      sandalia |       calzado |       botines |\n",
       "|        trajes |         tacon |       calzado |     mocasines |      calzones |\n",
       "|   maquillajes |         suela |      cordones |        trajes |         crocs |\n",
       "|        charol |         zapas |     mocasines |    pantalones |       calzado |\n",
       "|        shorts |      vestidos |         botas |         crocs |         zapas |\n",
       "|        ojotas |       camisas |     zapatilla |         zapas |      calcetas |\n",
       "| pantaloncitos |       guantes |        tangas |         papos |     zapateria |\n",
       "|      esmaltes | pantaloncitos |     banadores |        aretes |     sudaderas |\n",
       "|       vestido |      sandalia |      leggings |         tacon |        blusas |\n",
       "|    vestidores |      pitillos |      converse |        jejens |          zapa |\n",
       "|      carteras |      cordones |  calzoncillos |      sandalia |    chancletas |\n",
       "|    pantalones |         botas |       leggins | pantaloncitos |        boxers |\n",
       "|         tacos |      pantalon |       jerseys |      calcetas |         tacon |\n",
       "|     mocasines |      calcetas |      playeras |             👟 |        lentes |\n",
       "|      engomado |        calzas |       talones |         sacos |      sandalia |\n",
       "|      collares |        pantys |     louboutin |      vestidos |       zapateo |\n",
       "|      sueteres |    pantalones |       pijamas |     louboutin |      calcetin |\n",
       "|      sweaters |         camis | pantaloncitos |      chanclas |    accesorios |\n"
      ]
     },
     "metadata": {},
     "output_type": "display_data"
    },
    {
     "data": {
      "text/markdown": [
       "### remera"
      ]
     },
     "metadata": {},
     "output_type": "display_data"
    },
    {
     "data": {
      "text/markdown": [
       "|           AR |         CL |          ES |         MX |        US |\n",
       "| ------------:| ----------:| -----------:| ----------:| ---------:|\n",
       "|      campera |    remeras |     remeras |    remeras |   remeras |\n",
       "|         buzo |     polera |      sueter |    playera |    remero |\n",
       "|    musculosa |    franela |      casaca |     camisa |   campera |\n",
       "|       chomba |      gorra |      ojotas |     jersey |  camperas |\n",
       "|      remeras |    campera |    camiseta |   camiseta |      buzo |\n",
       "|       camisa |     casaca |    bombacha |     casaca |    casaca |\n",
       "|         buso |   camiseta |    camisita |   sudadera |    polera |\n",
       "|        calza |    bandana |     playera |  camisetaa |   corpino |\n",
       "|     pantalon |     adidas | pantaloneta |      gorra |     camis |\n",
       "|      bermuda |      panti |     gorrita |  estampada |  chaqueta |\n",
       "|        calsa |  estampada |     camista |      camis |  bombacha |\n",
       "|      sweater |      camis |      camisa |    gorrita |  camiseta |\n",
       "|     chaqueta |   camisita |      chomba |   playeras |    ojotas |\n",
       "|       sueter |       buzo |    sudadera |    camisas |  sudadera |\n",
       "|       polera |    camisaa |    sueteres |    camista |   pollera |\n",
       "|        short |    sweater |     corpino |      blusa |    pilcha |\n",
       "|     floreada |     sueter |       piola |  camisetas |    camisa |\n",
       "|       casaca |   franelas |       blusa |     hoodie |    uniqlo |\n",
       "|      gorrita |      suete |       gorra |   camisita |     zapas |\n",
       "|       sweter |      parca |      polera |   bombacha | zapatilla |\n",
       "|  pantaloneta |    camista |     sweater |     tshirt |   camista |\n",
       "|     camisita |    poleras |    pantalon |   chamarra |   gorrita |\n",
       "|        jejen |   camperas |     franela |   camisola |  camisita |\n",
       "|      bufanda |      panty |       parka |     adidas |   poronga |\n",
       "|      jogging |  zapatilla |    chaqueta |    bufanda |   casacas |\n",
       "|       chupin |     jejens |     camison | equipacion |  chamarra |\n",
       "|        boxer |       buso |    sweaters |      shirt |    chabon |\n",
       "|       busito |     gorras |       short |  estampado |   boludes |\n",
       "|     camiseta |    panties |      jogger |   panoleta |  pelotuda |\n",
       "|   musculosas | zapatillas |        buzo |    bermuda |    boluda |\n",
       "| pantaloncito |       nike |      chompa |    jerseys |   sweater |\n",
       "|        malla |   sudadera |      jersey |   tirantes |     posta |\n",
       "|     pullover |   pantalon |     campera |   botinera |    pibita |\n"
      ]
     },
     "metadata": {},
     "output_type": "display_data"
    },
    {
     "data": {
      "text/markdown": [
       "### blusa"
      ]
     },
     "metadata": {},
     "output_type": "display_data"
    },
    {
     "data": {
      "text/markdown": [
       "|        AR |           CL |           ES |          MX |           US |\n",
       "| ---------:| ------------:| ------------:| -----------:| ------------:|\n",
       "|    blusas |       blusas |       blusas |     blusita |       blusas |\n",
       "|     blush |      blusita |        falda |      camisa |      blusita |\n",
       "|   blusita |        blush |      blusita |      blusas |        blush |\n",
       "|  blusitas |     camisola |     pantalon |    pantalon |       camisa |\n",
       "|    camisa |     blusitas |      vaquera |    sudadera |     blusitas |\n",
       "|  engomado |     floreada |       camisa |    chamarra |     pantalon |\n",
       "|  pantalon |       mangas |     chaqueta |    camisita |     sudadera |\n",
       "|  escotada |     camisita |      vestido |       falda |       jejens |\n",
       "|     calza |     pantalon |       jersey |      sueter |       sueter |\n",
       "|  camisola |       camisa |     sudadera |     camison |     chaqueta |\n",
       "|     ruana |      camison |    sujetador |        pans |     leggings |\n",
       "|    sueter |      vestido |      camison |    camisola |     chamarra |\n",
       "| gabardina |       jejens |       shorts |      jejens |     camisita |\n",
       "|   faldita |        falda |  pantaloneta |       camis |      leggins |\n",
       "|    escote |         lusa |         ropa |    blusitas |    brassiere |\n",
       "|      ropa |     chaqueta |     camisita |    tirantes |      sweater |\n",
       "|    jejens |      camisaa |     escotada |     playera |     brassier |\n",
       "|  chaqueta |    vestidito |    chaqueton |       licra |       labial |\n",
       "| vestidito |    camisitas |    tobillera |    escotada |        licra |\n",
       "| minifalda |        camis |     leggings |       short |       shorts |\n",
       "|   camisaa |       polera |    vestidito |     vestido |        mahon |\n",
       "|   vestido |        panti |      leggins |       pants |  pantaloneta |\n",
       "|  tanguita |     escotada |       sueter |     leggins |      campera |\n",
       "|    encaje |  pantaloneta | pantaloncito | pantaloneta |         pant |\n",
       "|     jejen |       pantis |        blush |        ropa |         ropa |\n",
       "|   escotes |   desabroche |       abrigo |      shorts | pantaloncito |\n",
       "|   convina |        parka |     rinonera |    sandalia |      playera |\n",
       "|    cancan |      vestida |        tanga |     faldita |     lenceria |\n",
       "|    blazer |     vestidoo |     blusitas |   brassiere |        camis |\n",
       "|    sweter |      camisas |  lentejuelas |     croptop |     escotada |\n",
       "|   prendas |       tenida |    sandalias |     sweater |     calcetas |\n",
       "|   sweater | pantaloncito |     vaqueros |     camisas |       sweter |\n",
       "|   corpino |       calzas |      faldita |    brassier |      brasier |\n"
      ]
     },
     "metadata": {},
     "output_type": "display_data"
    }
   ],
   "source": [
    "display(\"text/markdown\", \"# Vestimenta uso común\")\n",
    "for token in [\"ropa\", \"playera\", \"zapatos\", \"remera\", \"blusa\"]\n",
    "    compare_concepts_in_table(token, R)\n",
    "end"
   ]
  },
  {
   "cell_type": "code",
   "execution_count": 25,
   "metadata": {},
   "outputs": [
    {
     "data": {
      "text/markdown": [
       "# inseguridad, violencia, narcotrafico"
      ]
     },
     "metadata": {},
     "output_type": "display_data"
    },
    {
     "data": {
      "text/markdown": [
       "### inseguridad"
      ]
     },
     "metadata": {},
     "output_type": "display_data"
    },
    {
     "data": {
      "text/markdown": [
       "|              AR |              CL |              ES |               MX |                US |\n",
       "| ---------------:| ---------------:| ---------------:| ----------------:| -----------------:|\n",
       "|    delincuencia |   inseguridades |   inseguridades |     delincuencia |     inseguridades |\n",
       "|     delicuencia |       inseguros |    desconfianza | ingobernabilidad |      bioseguridad |\n",
       "|        segurida |        inseguro |       inseguras |       secuestros |      delincuencia |\n",
       "|         desidia |        insegura |       inseguros |        violencia |         seguridad |\n",
       "|    desocupacion |   incertidumbre |        insegura |      delicuencia |         inseguros |\n",
       "|     seguridades |       seguridad |        inseguro |    delincuencial |          segurida |\n",
       "|     inoperancia |    bioseguridad |       seguridad |    delincuencias |          insegura |\n",
       "|       seguridad |        segurida |  intranquilidad |          asaltos |       seguridades |\n",
       "|    narcotrafico |    desconfianza |     seguridades |  delincuenciales |   delincuenciales |\n",
       "| delincuenciales |  incertidumbres |        segurida |     feminicidios |     delincuencial |\n",
       "|   delincuencias |  intranquilidad |    insalubridad |        impunidad |      insalubridad |\n",
       "|    delicuencial |   inestabilidad |     indefension |         segurida |         violencia |\n",
       "|   delincuencial |     seguridades |    delincuencia |       corrupcion |      criminalidad |\n",
       "|    marginalidad |   insertidumbre |    bioseguridad |        desempleo |      desconfianza |\n",
       "|       seguridas |     indefension |         desidia |       femicidios |    incertidumbres |\n",
       "|    criminalidad |    delincuencia |   inestabilidad |     delicuencial |     delincuencias |\n",
       "|     desigualdad |     incomodidad |  vulnerabilidad |      desigualdad | desabastecimiento |\n",
       "|           robos |           temor |     incomodidad |        seguridad |     incertidumbre |\n",
       "|       inflacion |    desesperanza |  conflictividad |   gobernabilidad |       desigualdad |\n",
       "|      indigencia |    impulsividad |   incertidumbre |     criminalidad |           pobreza |\n",
       "|        inaccion |        angustia |     desafeccion |      marginacion |           escacez |\n",
       "|      homicidios |   desproteccion |         dejadez |         inseguro |           escasez |\n",
       "|         pobreza |    permisividad |    ineficiencia |       homicidios |          carencia |\n",
       "|        combatan |  vulnerabilidad |        ansiedad |        inpunidad |       delicuencia |\n",
       "|      femicidios |       seguridas |      fragilidad |        ineptitud |       precariedad |\n",
       "|  conflictividad |     precariedad | despreocupacion |       asesinatos |        indigencia |\n",
       "|       violencia |        paranoia |    preocupacion |          indices |         inflacion |\n",
       "|      corrupcion |     frustracion |     inoperancia |            robos |     inestabilidad |\n",
       "|    desconfianza | desmoralizacion |   irritabilidad |       ineficacia |          probreza |\n",
       "|     corrupccion |      hostilidad |    criminalidad |    incompetencia |       pobredumbre |\n",
       "|       ineptitud |     certidumbre |        suciedad |         carestia |    hiperinflacion |\n",
       "| estigmatizacion |     agresividad |     infelicidad |     ineficiencia |         ineptitud |\n",
       "|       alarmante |       polaridad |      salubridad |    inseguridades |    ciberseguridad |\n"
      ]
     },
     "metadata": {},
     "output_type": "display_data"
    },
    {
     "data": {
      "text/markdown": [
       "### violencia"
      ]
     },
     "metadata": {},
     "output_type": "display_data"
    },
    {
     "data": {
      "text/markdown": [
       "|              AR |             CL |              ES |              MX |              US |\n",
       "| ---------------:| --------------:| ---------------:| ---------------:| ---------------:|\n",
       "|      violencias |     violencias |      violencias |      violencias |      violencias |\n",
       "|        agresion |     vandalismo |        violente |    feminicidios |       violenten |\n",
       "|     denigracion |       agresion |   intrafamiliar |      femicidios |        violente |\n",
       "|      agresiones |      represion |       represion |       violentas |       violentos |\n",
       "|          verbal |     bandalismo |       violenten |      vandalismo |       violentas |\n",
       "|        violecia |     agresiones |        violecia |       femicidio |       violentar |\n",
       "|  discriminacion |      violenten |       violentos |        violente |       violentan |\n",
       "|       violentos |       violente |       violentas |      bandalismo |    delincuencia |\n",
       "|       misoginia |    vandalismos |        violenta |     feminicidio |      violentada |\n",
       "|      vandalismo |      violentos |       violentar |        agresion |        violenta |\n",
       "| revictimizacion |       violenta |      terrorismo |   intrafamiliar |    feminicidios |\n",
       "| amedrentamiento |      violentas | criminalizacion |      asesinatos |      violentado |\n",
       "|          genero |     incitacion |      violentada |      agresiones |      vandalismo |\n",
       "|    intolerancia |  intrafamiliar |      agresiones |    delincuencia |     violentando |\n",
       "|    intimidacion |      violentar |       violentan |     desigualdad |     violentados |\n",
       "|       represion |    destruccion |        agresion |        violecia |  discriminacion |\n",
       "|      incitacion |     reprension |     violentados |     inseguridad |      agresiones |\n",
       "|     desigualdad |    agresividad |      violentado |     feminicidas |      femicidios |\n",
       "|    delincuencia |    represiones |     violentadas |       violentos |   intrafamiliar |\n",
       "|     provocacion |       ejercida |        violento |       violenten |        violecia |\n",
       "|       violentas |        violent |  discriminacion |      feminicida |     feminicidio |\n",
       "|    feminicidios | militarizacion |     violentando |    criminalidad |        agresion |\n",
       "|  naturalizacion |       anarquia | amedrentamiento | criminalizacion |     vandalismos |\n",
       "|   hostigamiento |       violecia |       xenofobia |     violaciones |   delincuencias |\n",
       "| estigmatizacion |   polarizacion |  descriminacion |       misoginia |      bandalismo |\n",
       "|        machismo |      violentan |          genero |       represion | delincuenciales |\n",
       "|        ejercida |        saqueos |      vandalismo |     vandalismos | criminalizacion |\n",
       "|     prepotencia |    violentarla |    criminalidad |      terrorismo |       represion |\n",
       "|       violentar |    violentando |     represiones | revictimizacion |    intolerancia |\n",
       "|       violenten |       violento |      incitacion |        barbarie |    intimidacion |\n",
       "|   victimizacion |       barbarie |     feminicidio |    polarizacion |        anarquia |\n",
       "|     vandalismos |   delincuencia |    intimidacion |        machismo |     violentadas |\n",
       "|  descriminacion |     vandalicos |        ejercida |  discriminacion |     violentaron |\n"
      ]
     },
     "metadata": {},
     "output_type": "display_data"
    },
    {
     "data": {
      "text/markdown": [
       "### narcotrafico"
      ]
     },
     "metadata": {},
     "output_type": "display_data"
    },
    {
     "data": {
      "text/markdown": [
       "|               AR |               CL |               ES |               MX |               US |\n",
       "| ----------------:| ----------------:| ----------------:| ----------------:| ----------------:|\n",
       "| narcotraficantes | narcotraficantes | narcotraficantes |            narco | narcotraficantes |\n",
       "|            narco |  narcotraficante |  narcotraficante | narcotraficantes |     microtrafico |\n",
       "|  narcotraficante |            narco |            narco |  narcotraficante |  narcotraficante |\n",
       "|    narcopolitica |           narcos |  narcoterrorismo |  narcoterrorismo |            narco |\n",
       "|           narcos |  narcoterrorismo |  narcoterrorista |    narcopolitica |      narcoestado |\n",
       "|     delincuencia |     microtrafico |      narcoestado |   narcopoliticos |     narcodolares |\n",
       "|   narcopoliticos |     narcotirania | narcoterroristas |           narcos |    delincuencias |\n",
       "|  narcoterrorismo |    delincuencias |    narcosobrinos |     narcodolares |  paramilitarismo |\n",
       "|      narcoestado | narcoterroristas |         narcolas |    delincuencial |           narcos |\n",
       "|           mafias |    narcopolitica |  paramilitarismo |           crimen |      extorsiones |\n",
       "|    narcogobierno |     delincuencia |     delincuencia |  delincuenciales |  delincuenciales |\n",
       "|     microtrafico |   narcopoliticos |    narcogobierno | narcoterroristas |   narcopoliticos |\n",
       "|    delincuencias |  narcoterrorista |    delincuencial |  narcoterrorista |    delincuencial |\n",
       "|         narcolas |         narcolas |     narcodolares |    delincuencias |       criminales |\n",
       "|    delincuencial |      traficantes |    narcopolitica |      narcoestado |  narcopresidente |\n",
       "|       corrupcion |       narcoticos |    delincuencias |     delincuencia |        extorcion |\n",
       "|  narcopresidente |      narcoestado |     narcotirania |         narcolas |      corrupccion |\n",
       "|      corrupccion |    delincuencial |       narcoticos |       organizado |       terrorismo |\n",
       "|          menudeo |  delincuenciales |        narcotico |      delicuencia |        extorsion |\n",
       "|  delincuenciales |          trafico |    paramilitares |    narcogobierno |     delincuencia |\n",
       "|        corrupcio |      delicuencia |             farc |     delicuencial |  narcoterrorismo |\n",
       "|     narcotirania |     narcodolares |     narcoregimen |         trasiego |    narcosobrinos |\n",
       "|     narcoregimen |            droga |  delincuenciales |     narcoregimen |         ilicitos |\n",
       "|   megacorrupcion |    narcogobierno |      traficantes |     narcotirania |          ilicito |\n",
       "|      delicuencia |           mafias |     narconovelas |       criminales |       extorsiona |\n",
       "|     narcodolares |        narcotico |         trafican |  narcopresidente |   megacorrupcion |\n",
       "|         efedrina |    narcosobrinos |        traficado |       organizada |       narcoticos |\n",
       "| narcoterroristas |           drogas |   narcodictadura |            capos |       corrupcion |\n",
       "|  narcoterrorista |     delicuencial |      paramilitar |       secuestros |      militarismo |\n",
       "|     corrupciones |         sicarios |           bacrim |         carteles |  enriquecimiento |\n",
       "|     lacorrupcion |       corrupcion |       traficante |       asesinatos |        impunidad |\n",
       "|     delicuencial |         trafican |      delicuencia |   narcodictadura |           crimen |\n",
       "|          bunkers |           trafic |      delincuetes |       terrorismo |   extorsionistas |\n"
      ]
     },
     "metadata": {},
     "output_type": "display_data"
    }
   ],
   "source": [
    "display(\"text/markdown\", \"# inseguridad, violencia, narcotrafico\")\n",
    "for token in [\"inseguridad\", \"violencia\", \"narcotrafico\"]\n",
    "    compare_concepts_in_table(token, R)\n",
    "end"
   ]
  },
  {
   "cell_type": "code",
   "execution_count": 26,
   "metadata": {},
   "outputs": [
    {
     "data": {
      "text/markdown": [
       "# Racismo, clasismo, discriminación"
      ]
     },
     "metadata": {},
     "output_type": "display_data"
    },
    {
     "data": {
      "text/markdown": [
       "### racismo"
      ]
     },
     "metadata": {},
     "output_type": "display_data"
    },
    {
     "data": {
      "text/markdown": [
       "|               AR |                CL |             ES |               MX |               US |\n",
       "| ----------------:| -----------------:| --------------:| ----------------:| ----------------:|\n",
       "|           racism |         xenofobia |      xenofobia |         clasismo |         clasismo |\n",
       "|        xenofobia |         homofobia |      homofobia |          rasismo |     supremacismo |\n",
       "|           racial |       islamofobia |       clasismo |        xenofobia |          sexismo |\n",
       "|     supremacismo |      supremacismo |        racista |           racial |        xenofobia |\n",
       "|          rasismo |        aporofobia |       machismo |     supremacismo |   discriminacion |\n",
       "|   discriminacion |    discriminacion |   supremacismo |   discriminacion |          facismo |\n",
       "|    antisemitismo |            racial |    islamofobia |          facismo |           racial |\n",
       "|         clasismo |          clasismo |  antisemitismo |         machismo |       ostracismo |\n",
       "|      islamofobia |     antisemitismo |      misoginia |          racista |          racista |\n",
       "|          facismo |           racista |         racial |          sexismo |          rasismo |\n",
       "|          racista |           rasismo |        rasismo |        misoginia |      islamofobia |\n",
       "|        homofobia |        ostracismo |       racistas |    antisemitismo | discriminaciones |\n",
       "|         racistas |           facismo |        sexismo |         racistas |         racistas |\n",
       "|          sexismo |          racistas |     aporofobia |        homofobia |         machismo |\n",
       "|         fascismo |          machismo |     transfobia | discriminaciones |   discriminativo |\n",
       "|        misoginia |          xenofobo |     xenofobico |         raciales |   descriminacion |\n",
       "|   homosexualismo |         misoginia |    xenofobicos |      islamofobia |        homofobia |\n",
       "|         machismo |           bifobia |    xenofobicas |         elitismo |    discriminante |\n",
       "|         raciales |        xenofobico |       xenofobo |       xenofobico |     discriminado |\n",
       "|          nazismo |      nacionalismo |   colonialismo |       ostracismo |     nacionalismo |\n",
       "| discriminaciones |  discriminaciones | discriminacion |    eurocentrismo |      aracnofobia |\n",
       "|      indigenismo |        transfobia |     xenofobica |     intolerancia |         raciales |\n",
       "|    igualitarismo |       heterofobia |       fascismo |     colonialismo |  discriminatorio |\n",
       "|       aporofobia |           nazismo |       raciales |       transfobia |    discriminando |\n",
       "|     negacionismo |       xenofobicos | homosexualismo |       xenofobica |       discrimina |\n",
       "|        xenofobas |         xenofobas |    heterofobia |   homosexualismo |    discriminador |\n",
       "|    eurocentrismo |         xenofobos |  eurocentrismo |      xenofobicas |        misoginia |\n",
       "|   discriminativo |        gordofobia |        nazismo |   discriminativo |       clasicismo |\n",
       "|     supremacista |          xenofoba |    feminazismo |        xenofobas |      discriminan |\n",
       "|     nacionalismo |        xenofobica |        facismo |      xenofobicos |           racism |\n",
       "|         xenofoba |       xenofobicas |     extremismo |         clasista |       discrimine |\n",
       "|        homofobas |         prejuicio |     gordofobia |       aporofobia |       aporofobia |\n",
       "|        xenofobos | multiculturalismo |      xenofobas |         xenofobo |    antisemitismo |\n"
      ]
     },
     "metadata": {},
     "output_type": "display_data"
    },
    {
     "data": {
      "text/markdown": [
       "### pobres"
      ]
     },
     "metadata": {},
     "output_type": "display_data"
    },
    {
     "data": {
      "text/markdown": [
       "|               AR |             CL |             ES |             MX |               US |\n",
       "| ----------------:| --------------:| --------------:| --------------:| ----------------:|\n",
       "|       indigentes |        pobress |     pobrecitos |     pobrecitos |     empobrecidos |\n",
       "|     empobrecidos |        pobresa |          ricos |        pobresa |          pobresa |\n",
       "|          pobress |   empobrecidos |      pudientes |     pobretones |       pobrecitos |\n",
       "|         pobrezas |    vulnerables |    pobrecillos |   empobrecidos |       adinerados |\n",
       "|        pudientes |     pobrecitos |     pobresitos |        jodidos |       pobretones |\n",
       "|       hambreados |     pobretones |        pobresa |     marginados |         pobrezas |\n",
       "|          pobreza |    necesitados |     pobretones |     pobresitos |        pudientes |\n",
       "|      desnutridos |      pudientes |   empobrecidos |        pobress |     empobrecidas |\n",
       "|          pobresa |     adinerados |    necesitados |    pobrecillos |       empobrecen |\n",
       "|    empobrecieron |     desvalidos | desfavorecidos |      pudientes |    empobrecieron |\n",
       "|     empobrecidas |          ricos |     pobrecitas |     adinerados |      necesitados |\n",
       "|   estigmatizados |     pobresitos |     explotados |     hambreados |       marginados |\n",
       "|       indigencia |  empobrecieron |   empobrecidas |         ilusos |      ingnorantes |\n",
       "|      desocupados |    pobrecillos |      infelices |     marginales |       indigentes |\n",
       "|         humildes | empobrecedores |  empobrecieron |    necesitados |       ignorantes |\n",
       "|      necesitados |         fachos |     indefensos |        pobreza |      desposeidos |\n",
       "|       marginados |    desposeidos |     desvalidos |     miserables |       empobrecio |\n",
       "|      vulnerables |     empobrecen |     ricachones |     ignorantes |   empobrecedores |\n",
       "|       pobretones |   empobrecidas |      famelicos |   empobrecidas |      pobrecillos |\n",
       "|      empobrecido |       humildes |       pobrezas |    pauperrimos |         humildes |\n",
       "|         probreza |     miserables |     empobrecen |       pobrezas |     provincianos |\n",
       "|    empobreciendo |     indigentes |    necesitadas |     compadecen |       subhumanos |\n",
       "|       empobrecio |    desclasados | empobrecedores |  empobrecieron |            pobre |\n",
       "|      desposeidos |     pobrecitas |   desahuciados |     explotados |          pobreza |\n",
       "|       empobrecen |     ignorantes |   esclavizados |   acomplejados |    empobreciendo |\n",
       "|     hambreadores |     explotados |     indigentes |   desempleados |     capitalistas |\n",
       "|   empobrecedores |     empobrecio |   capitalistas |     empobrecen |      empobrecido |\n",
       "|        oligarcas |     empobrecer |     adinerados | empobrecedores |        diezmados |\n",
       "|      empobrecida |          pobre |        obreros |          ninis |       empobrecer |\n",
       "|       ricachones |       endeudan |    desnutridos |     marginadas | subdesarrollados |\n",
       "|       laburantes |  discriminados |   desgraciados |      enganados |          debiles |\n",
       "| multimillonarios |     endeudados |     empobrecio |  desprotegidos |       pobresitos |\n",
       "|       marginales |  empobreciendo |    hambrientos |     marginaron |      empobrecida |\n"
      ]
     },
     "metadata": {},
     "output_type": "display_data"
    },
    {
     "data": {
      "text/markdown": [
       "### naco"
      ]
     },
     "metadata": {},
     "output_type": "display_data"
    },
    {
     "data": {
      "text/markdown": [
       "|          AR |          CL |            ES |           MX |         US |\n",
       "| -----------:| -----------:| -------------:| ------------:| ----------:|\n",
       "|       nacos |       anaco |         nacos |         naca |      nacos |\n",
       "|     chilote |       nacos |       pendejo |        nacos |       naca |\n",
       "|       anaco |      malayo |           wey |       guarro |     culero |\n",
       "| provinciano |   escuincla |     pendejazo |        nacas |      mamon |\n",
       "|     guanaco |      flaite |     mamagueva |      mamador |      nacas |\n",
       "|    tucumano |   escuincle |          vato |         nero |    mugroso |\n",
       "|        weon |      guarro |        marico |        poser |      qlero |\n",
       "|      flaite |     shileno |     pendejete |      mugroso |  pendejete |\n",
       "|      huevon |     verraco |        culiao |       freson |    chaharo |\n",
       "|      culero |  mexicanito |         verga |      piojoso |        wey |\n",
       "|     chileno |       chayo |     pendejito |         caco |       joto |\n",
       "|     chingon |        pedo |      conchudo |         meco | mexicanito |\n",
       "|  mexicanito |    chingado |          weon |       buchon |     putito |\n",
       "|     shileno |      culero |       pendeja |       vulgar |  pendejazo |\n",
       "|     aweonao |      pinche |     mamaguevo |      inculto |       vato |\n",
       "|     ediondo |        gafe |     mamaguebo |         joto |     pinche |\n",
       "|    mexicano |        zapo |       chingon |        mamon |    mamador |\n",
       "|   paraguayo |   frijolero |       pendeje |      pendejo |     culera |\n",
       "|    falopero |      gringo |         mmgvo |    asqueroso |   malinche |\n",
       "|   mariguano |   caraqueno |        pendej |  corrientazo |       guey |\n",
       "|       hueon |      sadboy |         awebo |   arrabalero |      chafa |\n",
       "| mariguanero |       cuico |      mamawebo |    pendejazo |     freson |\n",
       "|   mamahuevo |       guaro |        putazo |     clasista |     buchon |\n",
       "|    descarao |   atorrante | conchetumadre |  reguetonero |   chilango |\n",
       "|     costeno |        tero |     pendejada |     misogino |      chido |\n",
       "|     coquero |      canero |     careverga |   regetonero |    chingon |\n",
       "|     parcero |  regetonero |    chingadera |      imbecil |     mamona |\n",
       "|       chilo |       choro |      gonorrea |       culero |       jote |\n",
       "|       guero |        wero |         webon | reggaetonero |    gangoso |\n",
       "|       wevon |    chingamo |       culiado | irrespetuoso |    pendejo |\n",
       "|         ctm |      wuacho |       sifrino |     fantoche |      miado |\n",
       "|   frijolero |   uruguasho |     gonorreas |  pretencioso |     mamila |\n",
       "|   mongolito | reguetonero |        guebon |      maricon |    sangron |\n"
      ]
     },
     "metadata": {},
     "output_type": "display_data"
    },
    {
     "data": {
      "text/markdown": [
       "### nazi"
      ]
     },
     "metadata": {},
     "output_type": "display_data"
    },
    {
     "data": {
      "text/markdown": [
       "|               AR |               CL |                 ES |               MX |              US |\n",
       "| ----------------:| ----------------:| ------------------:| ----------------:| ---------------:|\n",
       "|          nazista |          nazista |           fascista |          nazista |           nazis |\n",
       "|          neonazi |            nazis |              nazis |            nazis |         nazista |\n",
       "|         fascista |          neonazi |            neonazi |           hitler |         neonazi |\n",
       "|            nazis |         fascista |            nazista |          nazismo |    antifascista |\n",
       "|            facho |          facista |            nazismo |          neonazi |          hitler |\n",
       "|          facista |  ultraderechista |         hitleriano |          alemana |         nazismo |\n",
       "|        comunista |          nazismo |              facha |         fascista |        fascista |\n",
       "|  ultraderechista |       hitleriano |       supremacista |       hitleriana |      hitleriano |\n",
       "|       hitleriano |     pinochetista |        neofascista |          facista |        nazistas |\n",
       "|       antisemita |           hitler |           xenofobo |        islamista |        neonazis |\n",
       "|        leninista |         nazistas |          fascistas |       hitleriano |     neofascista |\n",
       "|     antifascista |         fascismo |         hitleriana |       stalinista |    supremacista |\n",
       "|          nazismo |             kast |    ultraderechista |    anticomunista |      stalinista |\n",
       "|           hitler |      neofascista | nacionalsocialismo |         nazistas |   antifascistas |\n",
       "|       derechista |         neonazis |           neonazis |     antifascista |         facista |\n",
       "|          racista |       hitleriana |         franquista |      estalinista |      hitleriana |\n",
       "|       stalinista |     ultraderecha |             hitler |  ultraderechista |      antisemita |\n",
       "|    anticomunista |     pinochetismo |            racista |        comunista |        fascismo |\n",
       "|     supremacista | ultraderechistas |            facista |         fascismo | ultraderechista |\n",
       "|  castrocomunista |            facho |       antifascista |       antisemita |     neofascismo |\n",
       "|     comunistoide |         genocida |           nazistas |         sionista |       islamista |\n",
       "|       xenofobico |     supremacista |      totalitarista |      fascistoide |       fascistas |\n",
       "|       homofobico |    pinochetistas |      antidemocrata |        islamismo |         maoista |\n",
       "|            adolf |     antifascista |           xenofoba |  antimperialista |     estalinista |\n",
       "|       hitleriana |          racista |         antisemita |        sovietico |     antisemitas |\n",
       "|         homofobo |        fascistas |          esvastica |   antiterrorista |     chauvinista |\n",
       "|         xenofobo |         sionista |        hitlerianas |          maoista |       mussolini |\n",
       "|      estalinista |     negacionista |      supremacistas |           stalin |    supremacismo |\n",
       "|     negacionista |       derechista |         xenofobico | antiimperialista |   antisemitismo |\n",
       "| ultraderechistas |            judio |             fascio |      hitlerianas |   supremacistas |\n",
       "|         neonazis |       antisemita |       nacionalista |         islamica | socialdemocrata |\n",
       "|      antisemitas |         facistas |   ultraderechistas |    anticomunismo |     fascistoide |\n",
       "|         musolini |          facismo |           fascismo |       terrorista |      falangista |\n"
      ]
     },
     "metadata": {},
     "output_type": "display_data"
    },
    {
     "data": {
      "text/markdown": [
       "### homofobia"
      ]
     },
     "metadata": {},
     "output_type": "display_data"
    },
    {
     "data": {
      "text/markdown": [
       "|                 AR |                 CL |                 ES |                 MX |               US |\n",
       "| ------------------:| ------------------:| ------------------:| ------------------:| ----------------:|\n",
       "|         transfobia |         transfobia |         transfobia |         transfobia |      islamofobia |\n",
       "|            bifobia |        islamofobia |            bifobia |            bifobia |      heterofobia |\n",
       "|        islamofobia |            bifobia |          misoginia |        heterofobia |         homofoba |\n",
       "|           homofoba |        heterofobia |     homosexualidad |        islamofobia |          bifobia |\n",
       "|          homofobas |           homofoba |          xenofobia |     homosexualismo |       transfobia |\n",
       "|     homosexualismo |          xenofobia |        heterofobia |          misoginia |        homofobas |\n",
       "|        heterofobia |           homofobo |            racismo |     homosexualidad |       homofobica |\n",
       "|     homosexualidad |            racismo |     homosexualismo |         homofobica |       gordofobia |\n",
       "|          misoginia |          homofobas |         homofobico |           homofoba |         homofobo |\n",
       "|           homofobo |         aporofobia |         homofobica |     discriminacion |        xenofobia |\n",
       "|          xenofobia |     homosexualismo |        homofobicos |           machismo |      homofobicas |\n",
       "|          homofobos |         homofobica |        homofobicas |        homofobicas |      aracnofobia |\n",
       "|         homofobica |          misoginia |           machismo |          homofobas |        homofobos |\n",
       "|         gordofobia |          homofobos |           homofobo |          xenofobia |       homofobico |\n",
       "|         homofobico |     homosexualidad |          homofobas |        homofobicos |       aporofobia |\n",
       "|        homofobicos |     discriminacion |          homofobos |         aporofobia |      homofobicos |\n",
       "|           machismo |         gordofobia |        islamofobia |     homosexualizar |         machismo |\n",
       "|     discriminacion |         homofobico |           homofoba |          homofobos |   homosexualidad |\n",
       "|        homofobicas |        homofobicas |         gordofobia |         gordofobia |   homosexualismo |\n",
       "|     homosexualizar |        homofobicos |   heterosexualidad |         homofobico |        misoginia |\n",
       "|            racismo |           machismo |         aporofobia |           homofobo |   discriminacion |\n",
       "|     transexualidad | heteronormatividad |     transexualidad |        transfobica |          sexismo |\n",
       "| heteronormatividad |        transfobico | heteronormatividad |       homosexuales |         misogina |\n",
       "|         aporofobia |        transfobica |       transfobicos |            sexismo |     homosexuales |\n",
       "|      pansexualidad |     homosexualizar |        transfobico |       transfobicos |          racismo |\n",
       "|       transfobicos |         homosexual |            sexismo |            racismo |   homosexualizar |\n",
       "|           machista |        lesbianismo |     homosexualizar |        transfobico |        machismos |\n",
       "|          machismos |     transexualidad |       intolerancia |       intolerancia |         clasismo |\n",
       "|        transfobica |       homosexuales |       bisexualidad |       bisexualidad |       tripofobia |\n",
       "|       homosexuales |       transfobicos |        transfobica |     transexualidad | heterosexualidad |\n",
       "|        transfobico |   discriminaciones |          pedofilia | heteronormatividad |        misoginas |\n",
       "|      micromachismo |          pedofilia |       homosexuales |          pedofilia |            lgtbq |\n",
       "|       bisexualidad |   heterosexualidad |          misandria |           clasismo |      feminazismo |\n"
      ]
     },
     "metadata": {},
     "output_type": "display_data"
    },
    {
     "data": {
      "text/markdown": [
       "### transfobia"
      ]
     },
     "metadata": {},
     "output_type": "display_data"
    },
    {
     "data": {
      "text/markdown": [
       "|                 AR |                 CL |                 ES |                 MX |                 US |\n",
       "| ------------------:| ------------------:| ------------------:| ------------------:| ------------------:|\n",
       "|        transfobica |        transfobico |            bifobia |            bifobia |        transfobica |\n",
       "|        transfobico |          homofobia |        transfobica |        transfobica |        transfobico |\n",
       "|       transfobicos |        transfobica |        transfobico |        transfobico |            bifobia |\n",
       "|            bifobia |            bifobia |          homofobia |          homofobia |       transfobicos |\n",
       "|          homofobia |       transfobicos |       transfobicos |       transfobicos |          homofobia |\n",
       "|        heterofobia |        heterofobia |        heterofobia |        heterofobia |        heterofobia |\n",
       "|     transexualidad |        islamofobia |          misoginia |          misoginia |        islamofobia |\n",
       "|         gordofobia |         gordofobia |     transexualidad |           machismo |        aracnofobia |\n",
       "|          misoginia |          misoginia |         gordofobia |          feminismo |         aporofobia |\n",
       "|     homosexualismo |     discriminacion |      pansexualidad |        islamofobia |         gordofobia |\n",
       "|      pansexualidad |     transexualidad |       bisexualidad |         gordofobia |          xenofobia |\n",
       "|     homosexualidad | heteronormatividad |        asexualidad |     discriminacion |           machismo |\n",
       "|           machismo |         aporofobia |              trans |         aporofobia |            sexismo |\n",
       "|          cisgenero |          xenofobia | heteronormatividad |        feminazismo |         transfondo |\n",
       "| heteronormatividad |     homosexualismo |          misandria |          feministo |         tripofobia |\n",
       "|     homosexualizar |           homofoba |   heterosexualidad |     homosexualismo |          misoginia |\n",
       "|           homofoba |           machismo |          hembrismo |         feminismos | heteronormatividad |\n",
       "|             radfem |            racismo |    heteronormativa |            sexismo |           misogina |\n",
       "|          feminismo |     homosexualidad |          cisgenero |          hembrismo |           clasismo |\n",
       "|       bisexualidad |    heteronormativa |           machismo |      antifeminista |     discriminacion |\n",
       "|          homofobas |      pansexualidad |     homosexualidad |          feminista |          feminismo |\n",
       "|        islamofobia |        lesbianismo |     homosexualismo |      micromachismo |     transexualidad |\n",
       "|              trans |         feminicida |    heteronormativo |         feministos |         feminismos |\n",
       "|    heteronormativa |       transexuales |        lesbianismo | heteronormatividad |     homosexualismo |\n",
       "|    heteronormativo |           homofobo |            sexismo |          xenofobia |          misoginas |\n",
       "|       transexuales |        feminazismo |            racismo |           feminism |        feminazismo |\n",
       "|         aporofobia |          feminismo |      interiorizada |          machismos |              lgtbq |\n",
       "|         feminismos |          homofobos |         bisexuales |     homosexualidad |     homosexualidad |\n",
       "|          hembrismo |              trans |        pansexuales |         feministas |            racismo |\n",
       "|      micromachismo |              lesbo |       transexuales |    heteronormativa |          machismos |\n",
       "|                cis |      micromachismo |      intersexuales |           clasismo |         homofobica |\n",
       "|      intersexuales |        transgenero |        transgenero |     transexualidad |           homofoba |\n",
       "|           homofobo |            sexismo |      micromachismo |             radfem |      pansexualidad |\n"
      ]
     },
     "metadata": {},
     "output_type": "display_data"
    },
    {
     "data": {
      "text/markdown": [
       "### machismo"
      ]
     },
     "metadata": {},
     "output_type": "display_data"
    },
    {
     "data": {
      "text/markdown": [
       "|                 AR |                 CL |                ES |                 MX |                 US |\n",
       "| ------------------:| ------------------:| -----------------:| ------------------:| ------------------:|\n",
       "|          machismos |      micromachismo |           sexismo |      micromachismo |          machismos |\n",
       "|      micromachismo |          machismos |     micromachismo |          misoginia |      micromachismo |\n",
       "|           machista |            sexismo |         misoginia |          machismos |          feminismo |\n",
       "|          misoginia |          feminismo |         machismos |            sexismo |            sexismo |\n",
       "|          feminismo |        patriarcado |       patriarcado |          feminismo |           machista |\n",
       "|            sexismo |          misoginia |          machista |          hembrismo |          homofobia |\n",
       "|        patriarcado |           machista |         hembrismo |           machista |          misoginia |\n",
       "|         patriarcal |     micromachismos |         feminismo |        feminazismo |     micromachismos |\n",
       "|          hembrismo |          hembrismo |       feminazismo |           clasismo |           clasismo |\n",
       "|        feminazismo |        feminazismo | heteropatriarcado |        patriarcado |        feminazismo |\n",
       "|  heteropatriarcado |        matriarcado |         homofobia |     micromachismos |         feminismos |\n",
       "|          machistas |          machistas |    micromachismos |         patriarcal |           misogina |\n",
       "|   heteropatriarcal |         feminismos |           racismo |          homofobia |          machistas |\n",
       "|     micromachismos |         patriarcal |        patriarcal |         transfobia |     homosexualismo |\n",
       "|       patriarcales |  heteropatriarcado |         machistas |     homosexualismo |          hembrismo |\n",
       "|         feminismos |          homofobia |       matriarcado |        matriarcado |  heteropatriarcado |\n",
       "|       cosificacion |           misogina |         misandria |          machistas |   heteropatriarcal |\n",
       "|         patriarcas |         feminicida |  heteropatriarcal |            racismo |        heterofobia |\n",
       "|          homofobia |            racismo |          clasismo |  heteropatriarcado |         transfobia |\n",
       "| heteronormatividad |           feminism |        transfobia |   heteropatriarcal |            racismo |\n",
       "|     homosexualismo |           clasismo |     igualitarismo |            rasismo |          misoginas |\n",
       "|         transfobia |         fetichismo |    homosexualismo |         feminismos |         patriarcal |\n",
       "|            sexista |        lesbianismo |        feminismos |        heterofobia |        patriarcado |\n",
       "|           misogina | heteronormatividad |           sexista |           misogina |       patriarcales |\n",
       "|        matriarcado |          feministo |          misogina |            sexista |         gordofobia |\n",
       "|    heteronormativo |          feminidad |      cosificacion | heteronormatividad |        islamofobia |\n",
       "|           cosifica |       cosificacion |      patriarcales |       patriarcales |        matriarcado |\n",
       "|          misoginas |   heteropatriarcal |         hembrista |          feminidad |         aporofobia |\n",
       "|          cosificar |            sexista |      paternalismo |      eurocentrismo |     discriminacion |\n",
       "|           clasismo |       patriarcales |       lesbianismo |            bifobia |         feminicida |\n",
       "|         feministas |         transfobia |       feminicidio |    heteronormativa |       paternalismo |\n",
       "|    heteronormativa |          misoginas |       heterofobia |         patriarcas |            ateismo |\n",
       "|            racismo |          sororidad |         misoginas |          misandria | heteronormatividad |\n"
      ]
     },
     "metadata": {},
     "output_type": "display_data"
    }
   ],
   "source": [
    "display(\"text/markdown\", \"# Racismo, clasismo, discriminación\")\n",
    "for token in [\"racismo\", \"pobres\", \"naco\", \"nazi\", \"homofobia\", \"transfobia\", \"machismo\"]\n",
    "    compare_concepts_in_table(token, R)\n",
    "end"
   ]
  }
 ],
 "metadata": {
  "kernelspec": {
   "display_name": "Julia 1.7.0",
   "language": "julia",
   "name": "julia-1.7.0"
  },
  "language_info": {
   "file_extension": ".jl",
   "mimetype": "application/julia",
   "name": "julia",
   "version": "1.7.0"
  },
  "orig_nbformat": 4
 },
 "nbformat": 4,
 "nbformat_minor": 2
}
