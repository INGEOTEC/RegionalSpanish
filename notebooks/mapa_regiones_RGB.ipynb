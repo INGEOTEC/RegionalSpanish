{
 "cells": [
  {
   "cell_type": "markdown",
   "metadata": {},
   "source": [
    "# Mapa por regiones RGB"
   ]
  },
  {
   "cell_type": "code",
   "execution_count": 1,
   "metadata": {},
   "outputs": [
    {
     "ename": "TabError",
     "evalue": "inconsistent use of tabs and spaces in indentation (1809284290.py, line 26)",
     "output_type": "error",
     "traceback": [
      "\u001b[0;36m  Input \u001b[0;32mIn [1]\u001b[0;36m\u001b[0m\n\u001b[0;31m    for cc  in regDF.index:\u001b[0m\n\u001b[0m    ^\u001b[0m\n\u001b[0;31mTabError\u001b[0m\u001b[0;31m:\u001b[0m inconsistent use of tabs and spaces in indentation\n"
     ]
    }
   ],
   "source": [
    "import pandas as pd\n",
    "#import json\n",
    "import pycountry\n",
    "import geopandas as gpd\n",
    "import numpy as np\n",
    "import math\n",
    "import matplotlib as mpl\n",
    "import matplotlib.pyplot as plt\n",
    "from matplotlib.colors import LinearSegmentedColormap\n",
    "from mpl_toolkits.axes_grid1 import make_axes_locatable\n",
    "\n",
    "def get_color(color_rgb):\n",
    "\t(r,g,b) = color_rgb\n",
    "\tif not math.isnan(r):\n",
    "\t\treturn mpl.colors.rgb2hex(color_rgb)\n",
    "\telse:\n",
    "\t\treturn np.nan\n",
    "\n",
    "def create_map_RGB(fname, map_fname, img_title=''):\t\n",
    "\t#f = json.load(open(fname, \"r\", encoding=\"utf8\"))\n",
    "\t#regDF = pd.DataFrame.from_dict(f, orient=\"index\", columns=[\"R\", \"G\", \"B\"])\n",
    "    regDF = pd.DataFrame.from_csv(f)\n",
    "\t\n",
    "\t# Iguala el country code de Twitter con el Country Code (iso_a2)del mapa de geopandas (iso_a3)\n",
    "    countries = {}\n",
    "\tfor cc  in regDF.index:\n",
    "\t\tif cc is None:\n",
    "\t\t\tcontinue\n",
    "\t\tif cc.lower() == \"none\":\n",
    "\t\t\tcontinue\n",
    "\t\tiso_a3 = pycountry.countries.get(alpha_2=cc)\n",
    "\t\tif  iso_a3 is None:\n",
    "\t\t\tcontinue\n",
    "\t\t\t#print(iso_a3)\n",
    "\t\tcountries[cc] = iso_a3.alpha_3\n",
    "\n",
    "\tregDF = regDF.rename(index=countries)\n",
    "    print(regDF)\n",
    "\tregDF['iso_a3'] = regDF.index\n",
    "\n",
    "\t# definir el mapa con geopandas\n",
    "\tworld = gpd.read_file(gpd.datasets.get_path('naturalearth_lowres'))\n",
    "\tworld = world[(world.pop_est>0) & (world.name!=\"Antarctica\")]\n",
    "\tworld['R'] = np.nan\n",
    "\tworld['G'] = np.nan\n",
    "\tworld['B'] = np.nan\n",
    "\tworld['RGB'] = np.nan\n",
    "\tworld['color'] = np.nan\n",
    "\n",
    "\t#ajustar el nombre de los paises con error en los datos de GEOPANDAS\n",
    "\tworld.loc[world['name'] == 'France', ['iso_a3']] = 'FRA'\n",
    "\tworld.loc[world['name'] == 'Norway', ['iso_a3']] = 'NOR'\n",
    "\n",
    "\t# actualiza los datos del mapa con los conteos por país\n",
    "\tprint(\"Updating CC in Map...\")\n",
    "\tfor cc in regDF.index:\n",
    "\t\t#print(df.loc[cc].tweets)\n",
    "\t\tfor cc2 in world.index:\n",
    "\t\t\tif world.loc[cc2].iso_a3 == cc:\n",
    "\t\t\t\tworld.at[cc2, ['R', 'G', 'B']] = regDF.loc[cc, ['R', 'G', 'B']]\n",
    "\t\t\t\t\n",
    "\tworld[\"RGB\"] = world[['R','G','B' ]].apply(tuple, axis=1)\n",
    "\tworld['color'] = world[\"RGB\"].apply(get_color)\n",
    "\tworld.loc[world['color'].isnull(), \"RGB\"]=np.nan\n",
    "\n",
    "\tprint(\"Building image...\")\n",
    "\n",
    "\tc_df = pd.DataFrame(world[world[\"color\"].notnull()][\"RGB\"])\n",
    "\tcolors_1 = c_df.sort_values(by=[\"RGB\"])[\"RGB\"].to_list()\n",
    "\tcmap_name = 'colors_RGB'\n",
    "\tn_bin=20\n",
    "\t#cmap = LinearSegmentedColormap.from_list(cmap_name, colors_1, N=n_bin)\n",
    "\tcmap= LinearSegmentedColormap.from_list(cmap_name, colors_1)\n",
    "\tplt.register_cmap(cmap=cmap)\n",
    "\tworld =  world[(world.name!=\"Antarctica\")]\n",
    "\tfig, ax = plt.subplots(figsize=(15, 10))\n",
    "\tax.set_axis_off()\n",
    "\tax.set(title=img_title)\n",
    "\tfig.set_facecolor(\"w\")\n",
    "\tworld.plot( column=\"RGB\",  ax=ax,  alpha=0.8, legend=False, edgecolor='k', linewidth=0.2,  cmap=\"colors_RGB\",\n",
    "\t\t\tmissing_kwds={\n",
    "\t\t\t\t\"color\": \"lightgrey\",\n",
    "\t\t\t\t#\"edgecolor\": \"red\",\n",
    "\t\t\t\t#\"hatch\": \"///\",\n",
    "\t\t\t\t#\"label\": \"Missing values\",\n",
    "\t\t\t},\n",
    "\t)\n",
    "\tfig.savefig(map_fname, bbox_inches = 'tight', dpi=300)\n",
    "\tprint(\"figure created: \", map_fname )"
   ]
  },
  {
   "cell_type": "markdown",
   "metadata": {},
   "source": [
    "# crear mapa RGB"
   ]
  },
  {
   "cell_type": "code",
   "execution_count": null,
   "metadata": {},
   "outputs": [],
   "source": [
    "img_title = 'Regional Embeddings'\n",
    "fname = \"../figs/colormap-common-voc-semantic-4.csv\"\n",
    "#fname = \"region-emo-colors-clustering-umap-12.json\"\n",
    "map_fname = \"../figs/fig-\" + fname[:-4] + \"png\"\n",
    "create_map_RGB(fname, map_fname, img_title)"
   ]
  },
  {
   "cell_type": "code",
   "execution_count": null,
   "metadata": {},
   "outputs": [],
   "source": [
    "# crear mapas RGB\n",
    "import glob\n",
    "#img_title = 'Regional Embeddings'\n",
    "img_title = ''\n",
    "#for f in  glob.glob(\"region-emo*.json\") + glob.glob(\"region-lex*.json\") : \n",
    "for f in  glob.glob(\"region-lex*.json\"): \n",
    "\tmap_fname = \"fig-\" + f[:-4] + \"png\"\n",
    "\tprint(f, map_fname, img_title)\n",
    "\tcreate_map_RGB(f, map_fname, img_title)"
   ]
  }
 ],
 "metadata": {
  "interpreter": {
   "hash": "949aef8412332e726fa9b29306ed5c3b8107e7262c3381a72e2cc27506472a52"
  },
  "kernelspec": {
   "display_name": "Python 3 (ipykernel)",
   "language": "python",
   "name": "python3"
  },
  "language_info": {
   "codemirror_mode": {
    "name": "ipython",
    "version": 3
   },
   "file_extension": ".py",
   "mimetype": "text/x-python",
   "name": "python",
   "nbconvert_exporter": "python",
   "pygments_lexer": "ipython3",
   "version": "3.9.12"
  }
 },
 "nbformat": 4,
 "nbformat_minor": 4
}
